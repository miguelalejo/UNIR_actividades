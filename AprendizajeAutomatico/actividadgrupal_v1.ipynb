{
  "nbformat": 4,
  "nbformat_minor": 0,
  "metadata": {
    "colab": {
      "name": "RSC_Umia05_t11_actgrupal .ipynb",
      "provenance": [],
      "collapsed_sections": []
    },
    "kernelspec": {
      "name": "python3",
      "display_name": "Python 3"
    }
  },
  "cells": [
    {
      "cell_type": "code",
      "metadata": {
        "id": "QZah-myamEYr",
        "colab_type": "code",
        "colab": {
          "base_uri": "https://localhost:8080/",
          "height": 71
        },
        "outputId": "f5039af4-a2c5-4f1b-effb-f6ff3505f7ba"
      },
      "source": [
        "import pandas as pd\n",
        "import numpy as np\n",
        "import matplotlib.pyplot as plt\n",
        "import seaborn as sns\n",
        "from sklearn import metrics\n",
        "import matplotlib.gridspec as gridspec"
      ],
      "execution_count": 1,
      "outputs": [
        {
          "output_type": "stream",
          "text": [
            "/usr/local/lib/python3.6/dist-packages/statsmodels/tools/_testing.py:19: FutureWarning: pandas.util.testing is deprecated. Use the functions in the public API at pandas.testing instead.\n",
            "  import pandas.util.testing as tm\n"
          ],
          "name": "stderr"
        }
      ]
    },
    {
      "cell_type": "markdown",
      "metadata": {
        "id": "82D0lOj9mIl9",
        "colab_type": "text"
      },
      "source": [
        "## Introducción \n",
        "<p align=\"justify\">\n",
        "Las técnicas de clustering son algoritmos no supervisados, dado que proporcionan una estructura de datos a un conjunto de datos sin etiquetar, es decir realizan agrupaciones de manera coherente dentro de un conjunto de datos sin etiquetar en subconjuntos o clusters.\n",
        "Esta agrupación de datos se la realiza mediante el concepto de proximidad entres ellos. \n",
        "\n",
        "</p>"
      ]
    },
    {
      "cell_type": "markdown",
      "metadata": {
        "id": "WobSCo_S6zA9",
        "colab_type": "text"
      },
      "source": [
        "## Funciones auxiliares"
      ]
    },
    {
      "cell_type": "code",
      "metadata": {
        "id": "Svy0fnzD606-",
        "colab_type": "code",
        "colab": {}
      },
      "source": [
        "# Original code: https://bit.ly/2TNHBZ5\n",
        "def plot_data(X, y):\n",
        "    plt.plot(X[:, 0][y==0], X[:, 1][y==0], 'k.', markersize=2)\n",
        "    plt.plot(X[:, 0][y==1], X[:, 1][y==1], 'r.', markersize=2)\n",
        "\n",
        "def plot_centroids(centroids, weights=None, circle_color='w', cross_color='k'):\n",
        "    if weights is not None:\n",
        "        centroids = centroids[weights > weights.max() / 10]\n",
        "    plt.scatter(centroids[:, 0], centroids[:, 1],\n",
        "                marker='o', s=30, linewidths=8,\n",
        "                color=circle_color, zorder=10, alpha=0.9)\n",
        "    plt.scatter(centroids[:, 0], centroids[:, 1],\n",
        "                marker='x', s=50, linewidths=50,\n",
        "                color=cross_color, zorder=11, alpha=1)\n",
        "\n",
        "def plot_decision_boundaries(clusterer, X, y, resolution=1000, show_centroids=True):\n",
        "    mins = X.min(axis=0) - 0.1\n",
        "    maxs = X.max(axis=0) + 0.1\n",
        "    xx, yy = np.meshgrid(np.linspace(mins[0], maxs[0], resolution),\n",
        "                         np.linspace(mins[1], maxs[1], resolution))\n",
        "    Z = clusterer.predict(np.c_[xx.ravel(), yy.ravel()])\n",
        "    Z = Z.reshape(xx.shape)\n",
        "\n",
        "    plt.contourf(Z, extent=(mins[0], maxs[0], mins[1], maxs[1]),\n",
        "                cmap=\"Pastel2\")\n",
        "    plt.contour(Z, extent=(mins[0], maxs[0], mins[1], maxs[1]),\n",
        "                linewidths=1, colors='k')\n",
        "    plot_data(X, y)\n",
        "    if show_centroids:\n",
        "        plot_centroids(clusterer.cluster_centers_)"
      ],
      "execution_count": 2,
      "outputs": []
    },
    {
      "cell_type": "markdown",
      "metadata": {
        "id": "4SDPWoKAmh4D",
        "colab_type": "text"
      },
      "source": [
        "# Análisis descriptivo de los datos:"
      ]
    },
    {
      "cell_type": "code",
      "metadata": {
        "id": "C7SYTFOV65d0",
        "colab_type": "code",
        "colab": {}
      },
      "source": [
        "def purity_score(y_true, y_pred):\n",
        "    # compute contingency matrix (also called confusion matrix)\n",
        "    contingency_matrix = metrics.cluster.contingency_matrix(y_true, y_pred)\n",
        "    # return purity\n",
        "    return np.sum(np.amax(contingency_matrix, axis=0)) / np.sum(contingency_matrix)"
      ],
      "execution_count": 3,
      "outputs": []
    },
    {
      "cell_type": "markdown",
      "metadata": {
        "id": "ka_IAuvZm-wa",
        "colab_type": "text"
      },
      "source": [
        "## Evaluación de datos faltantes"
      ]
    },
    {
      "cell_type": "code",
      "metadata": {
        "id": "Khc1kguYmaRE",
        "colab_type": "code",
        "colab": {}
      },
      "source": [
        "df = pd.read_csv(\"creditcardcsvpresent.csv\")"
      ],
      "execution_count": 4,
      "outputs": []
    },
    {
      "cell_type": "code",
      "metadata": {
        "id": "5xY4xYPwmy0H",
        "colab_type": "code",
        "colab": {
          "base_uri": "https://localhost:8080/",
          "height": 473
        },
        "outputId": "12ddca97-8000-4fda-fe65-3528a6c2cc5a"
      },
      "source": [
        "df"
      ],
      "execution_count": 5,
      "outputs": [
        {
          "output_type": "execute_result",
          "data": {
            "text/html": [
              "<div>\n",
              "<style scoped>\n",
              "    .dataframe tbody tr th:only-of-type {\n",
              "        vertical-align: middle;\n",
              "    }\n",
              "\n",
              "    .dataframe tbody tr th {\n",
              "        vertical-align: top;\n",
              "    }\n",
              "\n",
              "    .dataframe thead th {\n",
              "        text-align: right;\n",
              "    }\n",
              "</style>\n",
              "<table border=\"1\" class=\"dataframe\">\n",
              "  <thead>\n",
              "    <tr style=\"text-align: right;\">\n",
              "      <th></th>\n",
              "      <th>Merchant_id</th>\n",
              "      <th>Transaction date</th>\n",
              "      <th>Average Amount/transaction/day</th>\n",
              "      <th>Transaction_amount</th>\n",
              "      <th>Is declined</th>\n",
              "      <th>Total Number of declines/day</th>\n",
              "      <th>isForeignTransaction</th>\n",
              "      <th>isHighRiskCountry</th>\n",
              "      <th>Daily_chargeback_avg_amt</th>\n",
              "      <th>6_month_avg_chbk_amt</th>\n",
              "      <th>6-month_chbk_freq</th>\n",
              "      <th>isFradulent</th>\n",
              "    </tr>\n",
              "  </thead>\n",
              "  <tbody>\n",
              "    <tr>\n",
              "      <th>0</th>\n",
              "      <td>3160040998</td>\n",
              "      <td>NaN</td>\n",
              "      <td>100.0</td>\n",
              "      <td>3000.0</td>\n",
              "      <td>N</td>\n",
              "      <td>5</td>\n",
              "      <td>Y</td>\n",
              "      <td>Y</td>\n",
              "      <td>0</td>\n",
              "      <td>0.0</td>\n",
              "      <td>0</td>\n",
              "      <td>Y</td>\n",
              "    </tr>\n",
              "    <tr>\n",
              "      <th>1</th>\n",
              "      <td>3160040998</td>\n",
              "      <td>NaN</td>\n",
              "      <td>100.0</td>\n",
              "      <td>4300.0</td>\n",
              "      <td>N</td>\n",
              "      <td>5</td>\n",
              "      <td>Y</td>\n",
              "      <td>Y</td>\n",
              "      <td>0</td>\n",
              "      <td>0.0</td>\n",
              "      <td>0</td>\n",
              "      <td>Y</td>\n",
              "    </tr>\n",
              "    <tr>\n",
              "      <th>2</th>\n",
              "      <td>3160041896</td>\n",
              "      <td>NaN</td>\n",
              "      <td>185.5</td>\n",
              "      <td>4823.0</td>\n",
              "      <td>Y</td>\n",
              "      <td>5</td>\n",
              "      <td>N</td>\n",
              "      <td>N</td>\n",
              "      <td>0</td>\n",
              "      <td>0.0</td>\n",
              "      <td>0</td>\n",
              "      <td>Y</td>\n",
              "    </tr>\n",
              "    <tr>\n",
              "      <th>3</th>\n",
              "      <td>3160141996</td>\n",
              "      <td>NaN</td>\n",
              "      <td>185.5</td>\n",
              "      <td>5008.5</td>\n",
              "      <td>Y</td>\n",
              "      <td>8</td>\n",
              "      <td>N</td>\n",
              "      <td>N</td>\n",
              "      <td>0</td>\n",
              "      <td>0.0</td>\n",
              "      <td>0</td>\n",
              "      <td>Y</td>\n",
              "    </tr>\n",
              "    <tr>\n",
              "      <th>4</th>\n",
              "      <td>3160241992</td>\n",
              "      <td>NaN</td>\n",
              "      <td>500.0</td>\n",
              "      <td>26000.0</td>\n",
              "      <td>N</td>\n",
              "      <td>0</td>\n",
              "      <td>Y</td>\n",
              "      <td>Y</td>\n",
              "      <td>800</td>\n",
              "      <td>677.2</td>\n",
              "      <td>6</td>\n",
              "      <td>Y</td>\n",
              "    </tr>\n",
              "    <tr>\n",
              "      <th>...</th>\n",
              "      <td>...</td>\n",
              "      <td>...</td>\n",
              "      <td>...</td>\n",
              "      <td>...</td>\n",
              "      <td>...</td>\n",
              "      <td>...</td>\n",
              "      <td>...</td>\n",
              "      <td>...</td>\n",
              "      <td>...</td>\n",
              "      <td>...</td>\n",
              "      <td>...</td>\n",
              "      <td>...</td>\n",
              "    </tr>\n",
              "    <tr>\n",
              "      <th>3070</th>\n",
              "      <td>6661273532</td>\n",
              "      <td>NaN</td>\n",
              "      <td>500.0</td>\n",
              "      <td>11000.0</td>\n",
              "      <td>Y</td>\n",
              "      <td>0</td>\n",
              "      <td>N</td>\n",
              "      <td>N</td>\n",
              "      <td>754</td>\n",
              "      <td>585.0</td>\n",
              "      <td>7</td>\n",
              "      <td>N</td>\n",
              "    </tr>\n",
              "    <tr>\n",
              "      <th>3071</th>\n",
              "      <td>6661273532</td>\n",
              "      <td>NaN</td>\n",
              "      <td>800.0</td>\n",
              "      <td>0.0</td>\n",
              "      <td>Y</td>\n",
              "      <td>0</td>\n",
              "      <td>N</td>\n",
              "      <td>N</td>\n",
              "      <td>754</td>\n",
              "      <td>585.0</td>\n",
              "      <td>7</td>\n",
              "      <td>N</td>\n",
              "    </tr>\n",
              "    <tr>\n",
              "      <th>3072</th>\n",
              "      <td>6661273533</td>\n",
              "      <td>NaN</td>\n",
              "      <td>800.0</td>\n",
              "      <td>20800.0</td>\n",
              "      <td>Y</td>\n",
              "      <td>0</td>\n",
              "      <td>N</td>\n",
              "      <td>N</td>\n",
              "      <td>754</td>\n",
              "      <td>585.0</td>\n",
              "      <td>7</td>\n",
              "      <td>N</td>\n",
              "    </tr>\n",
              "    <tr>\n",
              "      <th>3073</th>\n",
              "      <td>6661273532</td>\n",
              "      <td>NaN</td>\n",
              "      <td>1500.0</td>\n",
              "      <td>12000.0</td>\n",
              "      <td>Y</td>\n",
              "      <td>0</td>\n",
              "      <td>Y</td>\n",
              "      <td>Y</td>\n",
              "      <td>754</td>\n",
              "      <td>585.0</td>\n",
              "      <td>7</td>\n",
              "      <td>N</td>\n",
              "    </tr>\n",
              "    <tr>\n",
              "      <th>3074</th>\n",
              "      <td>6661273533</td>\n",
              "      <td>NaN</td>\n",
              "      <td>1500.0</td>\n",
              "      <td>36000.0</td>\n",
              "      <td>Y</td>\n",
              "      <td>0</td>\n",
              "      <td>Y</td>\n",
              "      <td>Y</td>\n",
              "      <td>754</td>\n",
              "      <td>585.0</td>\n",
              "      <td>7</td>\n",
              "      <td>N</td>\n",
              "    </tr>\n",
              "  </tbody>\n",
              "</table>\n",
              "<p>3075 rows × 12 columns</p>\n",
              "</div>"
            ],
            "text/plain": [
              "      Merchant_id  Transaction date  ...  6-month_chbk_freq  isFradulent\n",
              "0      3160040998               NaN  ...                  0            Y\n",
              "1      3160040998               NaN  ...                  0            Y\n",
              "2      3160041896               NaN  ...                  0            Y\n",
              "3      3160141996               NaN  ...                  0            Y\n",
              "4      3160241992               NaN  ...                  6            Y\n",
              "...           ...               ...  ...                ...          ...\n",
              "3070   6661273532               NaN  ...                  7            N\n",
              "3071   6661273532               NaN  ...                  7            N\n",
              "3072   6661273533               NaN  ...                  7            N\n",
              "3073   6661273532               NaN  ...                  7            N\n",
              "3074   6661273533               NaN  ...                  7            N\n",
              "\n",
              "[3075 rows x 12 columns]"
            ]
          },
          "metadata": {
            "tags": []
          },
          "execution_count": 5
        }
      ]
    },
    {
      "cell_type": "code",
      "metadata": {
        "id": "WKktl-i_nF-S",
        "colab_type": "code",
        "colab": {}
      },
      "source": [
        "missing_data = df.isnull()"
      ],
      "execution_count": 6,
      "outputs": []
    },
    {
      "cell_type": "code",
      "metadata": {
        "id": "hIzaFdC-nI2q",
        "colab_type": "code",
        "colab": {
          "base_uri": "https://localhost:8080/",
          "height": 258
        },
        "outputId": "66fc22f2-2b40-4f66-9ee6-e8df2ec6ccae"
      },
      "source": [
        "missing_data.head()"
      ],
      "execution_count": 7,
      "outputs": [
        {
          "output_type": "execute_result",
          "data": {
            "text/html": [
              "<div>\n",
              "<style scoped>\n",
              "    .dataframe tbody tr th:only-of-type {\n",
              "        vertical-align: middle;\n",
              "    }\n",
              "\n",
              "    .dataframe tbody tr th {\n",
              "        vertical-align: top;\n",
              "    }\n",
              "\n",
              "    .dataframe thead th {\n",
              "        text-align: right;\n",
              "    }\n",
              "</style>\n",
              "<table border=\"1\" class=\"dataframe\">\n",
              "  <thead>\n",
              "    <tr style=\"text-align: right;\">\n",
              "      <th></th>\n",
              "      <th>Merchant_id</th>\n",
              "      <th>Transaction date</th>\n",
              "      <th>Average Amount/transaction/day</th>\n",
              "      <th>Transaction_amount</th>\n",
              "      <th>Is declined</th>\n",
              "      <th>Total Number of declines/day</th>\n",
              "      <th>isForeignTransaction</th>\n",
              "      <th>isHighRiskCountry</th>\n",
              "      <th>Daily_chargeback_avg_amt</th>\n",
              "      <th>6_month_avg_chbk_amt</th>\n",
              "      <th>6-month_chbk_freq</th>\n",
              "      <th>isFradulent</th>\n",
              "    </tr>\n",
              "  </thead>\n",
              "  <tbody>\n",
              "    <tr>\n",
              "      <th>0</th>\n",
              "      <td>False</td>\n",
              "      <td>True</td>\n",
              "      <td>False</td>\n",
              "      <td>False</td>\n",
              "      <td>False</td>\n",
              "      <td>False</td>\n",
              "      <td>False</td>\n",
              "      <td>False</td>\n",
              "      <td>False</td>\n",
              "      <td>False</td>\n",
              "      <td>False</td>\n",
              "      <td>False</td>\n",
              "    </tr>\n",
              "    <tr>\n",
              "      <th>1</th>\n",
              "      <td>False</td>\n",
              "      <td>True</td>\n",
              "      <td>False</td>\n",
              "      <td>False</td>\n",
              "      <td>False</td>\n",
              "      <td>False</td>\n",
              "      <td>False</td>\n",
              "      <td>False</td>\n",
              "      <td>False</td>\n",
              "      <td>False</td>\n",
              "      <td>False</td>\n",
              "      <td>False</td>\n",
              "    </tr>\n",
              "    <tr>\n",
              "      <th>2</th>\n",
              "      <td>False</td>\n",
              "      <td>True</td>\n",
              "      <td>False</td>\n",
              "      <td>False</td>\n",
              "      <td>False</td>\n",
              "      <td>False</td>\n",
              "      <td>False</td>\n",
              "      <td>False</td>\n",
              "      <td>False</td>\n",
              "      <td>False</td>\n",
              "      <td>False</td>\n",
              "      <td>False</td>\n",
              "    </tr>\n",
              "    <tr>\n",
              "      <th>3</th>\n",
              "      <td>False</td>\n",
              "      <td>True</td>\n",
              "      <td>False</td>\n",
              "      <td>False</td>\n",
              "      <td>False</td>\n",
              "      <td>False</td>\n",
              "      <td>False</td>\n",
              "      <td>False</td>\n",
              "      <td>False</td>\n",
              "      <td>False</td>\n",
              "      <td>False</td>\n",
              "      <td>False</td>\n",
              "    </tr>\n",
              "    <tr>\n",
              "      <th>4</th>\n",
              "      <td>False</td>\n",
              "      <td>True</td>\n",
              "      <td>False</td>\n",
              "      <td>False</td>\n",
              "      <td>False</td>\n",
              "      <td>False</td>\n",
              "      <td>False</td>\n",
              "      <td>False</td>\n",
              "      <td>False</td>\n",
              "      <td>False</td>\n",
              "      <td>False</td>\n",
              "      <td>False</td>\n",
              "    </tr>\n",
              "  </tbody>\n",
              "</table>\n",
              "</div>"
            ],
            "text/plain": [
              "   Merchant_id  Transaction date  ...  6-month_chbk_freq  isFradulent\n",
              "0        False              True  ...              False        False\n",
              "1        False              True  ...              False        False\n",
              "2        False              True  ...              False        False\n",
              "3        False              True  ...              False        False\n",
              "4        False              True  ...              False        False\n",
              "\n",
              "[5 rows x 12 columns]"
            ]
          },
          "metadata": {
            "tags": []
          },
          "execution_count": 7
        }
      ]
    },
    {
      "cell_type": "code",
      "metadata": {
        "id": "IPoNqr13nbHq",
        "colab_type": "code",
        "colab": {
          "base_uri": "https://localhost:8080/",
          "height": 833
        },
        "outputId": "e0b6f5c2-3bd5-4981-8b59-1ddd6c7058a3"
      },
      "source": [
        "for column in missing_data.columns.values.tolist():\n",
        "    print(column)\n",
        "    print (missing_data[column].value_counts())\n",
        "    print(\"\")  "
      ],
      "execution_count": 8,
      "outputs": [
        {
          "output_type": "stream",
          "text": [
            "Merchant_id\n",
            "False    3075\n",
            "Name: Merchant_id, dtype: int64\n",
            "\n",
            "Transaction date\n",
            "True    3075\n",
            "Name: Transaction date, dtype: int64\n",
            "\n",
            "Average Amount/transaction/day\n",
            "False    3075\n",
            "Name: Average Amount/transaction/day, dtype: int64\n",
            "\n",
            "Transaction_amount\n",
            "False    3075\n",
            "Name: Transaction_amount, dtype: int64\n",
            "\n",
            "Is declined\n",
            "False    3075\n",
            "Name: Is declined, dtype: int64\n",
            "\n",
            "Total Number of declines/day\n",
            "False    3075\n",
            "Name: Total Number of declines/day, dtype: int64\n",
            "\n",
            "isForeignTransaction\n",
            "False    3075\n",
            "Name: isForeignTransaction, dtype: int64\n",
            "\n",
            "isHighRiskCountry\n",
            "False    3075\n",
            "Name: isHighRiskCountry, dtype: int64\n",
            "\n",
            "Daily_chargeback_avg_amt\n",
            "False    3075\n",
            "Name: Daily_chargeback_avg_amt, dtype: int64\n",
            "\n",
            "6_month_avg_chbk_amt\n",
            "False    3075\n",
            "Name: 6_month_avg_chbk_amt, dtype: int64\n",
            "\n",
            "6-month_chbk_freq\n",
            "False    3075\n",
            "Name: 6-month_chbk_freq, dtype: int64\n",
            "\n",
            "isFradulent\n",
            "False    3075\n",
            "Name: isFradulent, dtype: int64\n",
            "\n"
          ],
          "name": "stdout"
        }
      ]
    },
    {
      "cell_type": "markdown",
      "metadata": {
        "id": "4I9u5ogpmoTq",
        "colab_type": "text"
      },
      "source": [
        "<p align=\"justify\">\n",
        "Nuestro dataset contiene 3075 y 12 columnas se procederá a eliminar la columna Transaction date ya que no contiene información, todos sus valores son NULOS\n",
        "</p>"
      ]
    },
    {
      "cell_type": "code",
      "metadata": {
        "id": "zp81T2vimzfF",
        "colab_type": "code",
        "colab": {}
      },
      "source": [
        "df = df.drop(['Transaction date'], axis=1)"
      ],
      "execution_count": 9,
      "outputs": []
    },
    {
      "cell_type": "markdown",
      "metadata": {
        "id": "9cODdRV9p9FS",
        "colab_type": "text"
      },
      "source": [
        "## De las variables numéricas hallar el valor mínimo, el máximo, la mediana y la media."
      ]
    },
    {
      "cell_type": "code",
      "metadata": {
        "id": "ZC3d8xHJp_LM",
        "colab_type": "code",
        "colab": {
          "base_uri": "https://localhost:8080/",
          "height": 351
        },
        "outputId": "4a5cc99f-2ba4-49fb-b30f-d0f2cec5bfac"
      },
      "source": [
        "df.describe()"
      ],
      "execution_count": 10,
      "outputs": [
        {
          "output_type": "execute_result",
          "data": {
            "text/html": [
              "<div>\n",
              "<style scoped>\n",
              "    .dataframe tbody tr th:only-of-type {\n",
              "        vertical-align: middle;\n",
              "    }\n",
              "\n",
              "    .dataframe tbody tr th {\n",
              "        vertical-align: top;\n",
              "    }\n",
              "\n",
              "    .dataframe thead th {\n",
              "        text-align: right;\n",
              "    }\n",
              "</style>\n",
              "<table border=\"1\" class=\"dataframe\">\n",
              "  <thead>\n",
              "    <tr style=\"text-align: right;\">\n",
              "      <th></th>\n",
              "      <th>Merchant_id</th>\n",
              "      <th>Average Amount/transaction/day</th>\n",
              "      <th>Transaction_amount</th>\n",
              "      <th>Total Number of declines/day</th>\n",
              "      <th>Daily_chargeback_avg_amt</th>\n",
              "      <th>6_month_avg_chbk_amt</th>\n",
              "      <th>6-month_chbk_freq</th>\n",
              "    </tr>\n",
              "  </thead>\n",
              "  <tbody>\n",
              "    <tr>\n",
              "      <th>count</th>\n",
              "      <td>3.075000e+03</td>\n",
              "      <td>3075.000000</td>\n",
              "      <td>3075.000000</td>\n",
              "      <td>3075.000000</td>\n",
              "      <td>3075.000000</td>\n",
              "      <td>3075.000000</td>\n",
              "      <td>3075.000000</td>\n",
              "    </tr>\n",
              "    <tr>\n",
              "      <th>mean</th>\n",
              "      <td>5.026634e+09</td>\n",
              "      <td>515.026556</td>\n",
              "      <td>9876.399210</td>\n",
              "      <td>0.957398</td>\n",
              "      <td>55.737561</td>\n",
              "      <td>40.022407</td>\n",
              "      <td>0.391870</td>\n",
              "    </tr>\n",
              "    <tr>\n",
              "      <th>std</th>\n",
              "      <td>9.870778e+08</td>\n",
              "      <td>291.906978</td>\n",
              "      <td>10135.331016</td>\n",
              "      <td>2.192391</td>\n",
              "      <td>206.634779</td>\n",
              "      <td>155.968840</td>\n",
              "      <td>1.548479</td>\n",
              "    </tr>\n",
              "    <tr>\n",
              "      <th>min</th>\n",
              "      <td>3.160041e+09</td>\n",
              "      <td>4.011527</td>\n",
              "      <td>0.000000</td>\n",
              "      <td>0.000000</td>\n",
              "      <td>0.000000</td>\n",
              "      <td>0.000000</td>\n",
              "      <td>0.000000</td>\n",
              "    </tr>\n",
              "    <tr>\n",
              "      <th>25%</th>\n",
              "      <td>4.170814e+09</td>\n",
              "      <td>269.788047</td>\n",
              "      <td>2408.781147</td>\n",
              "      <td>0.000000</td>\n",
              "      <td>0.000000</td>\n",
              "      <td>0.000000</td>\n",
              "      <td>0.000000</td>\n",
              "    </tr>\n",
              "    <tr>\n",
              "      <th>50%</th>\n",
              "      <td>5.025578e+09</td>\n",
              "      <td>502.549575</td>\n",
              "      <td>6698.891856</td>\n",
              "      <td>0.000000</td>\n",
              "      <td>0.000000</td>\n",
              "      <td>0.000000</td>\n",
              "      <td>0.000000</td>\n",
              "    </tr>\n",
              "    <tr>\n",
              "      <th>75%</th>\n",
              "      <td>5.889625e+09</td>\n",
              "      <td>765.272803</td>\n",
              "      <td>14422.568935</td>\n",
              "      <td>0.000000</td>\n",
              "      <td>0.000000</td>\n",
              "      <td>0.000000</td>\n",
              "      <td>0.000000</td>\n",
              "    </tr>\n",
              "    <tr>\n",
              "      <th>max</th>\n",
              "      <td>6.665906e+09</td>\n",
              "      <td>2000.000000</td>\n",
              "      <td>108000.000000</td>\n",
              "      <td>20.000000</td>\n",
              "      <td>998.000000</td>\n",
              "      <td>998.000000</td>\n",
              "      <td>9.000000</td>\n",
              "    </tr>\n",
              "  </tbody>\n",
              "</table>\n",
              "</div>"
            ],
            "text/plain": [
              "        Merchant_id  ...  6-month_chbk_freq\n",
              "count  3.075000e+03  ...        3075.000000\n",
              "mean   5.026634e+09  ...           0.391870\n",
              "std    9.870778e+08  ...           1.548479\n",
              "min    3.160041e+09  ...           0.000000\n",
              "25%    4.170814e+09  ...           0.000000\n",
              "50%    5.025578e+09  ...           0.000000\n",
              "75%    5.889625e+09  ...           0.000000\n",
              "max    6.665906e+09  ...           9.000000\n",
              "\n",
              "[8 rows x 7 columns]"
            ]
          },
          "metadata": {
            "tags": []
          },
          "execution_count": 10
        }
      ]
    },
    {
      "cell_type": "markdown",
      "metadata": {
        "id": "0ddt-W53qpQ6",
        "colab_type": "text"
      },
      "source": [
        "## De las variables categóricas, listar las diferentes categorías y hallar la frecuencia de cada una de ellas"
      ]
    },
    {
      "cell_type": "code",
      "metadata": {
        "id": "2iLGK5weqJgn",
        "colab_type": "code",
        "colab": {}
      },
      "source": [
        "var_num = df._get_numeric_data().columns.values.tolist()"
      ],
      "execution_count": 11,
      "outputs": []
    },
    {
      "cell_type": "code",
      "metadata": {
        "id": "tuIsb3y2qvUL",
        "colab_type": "code",
        "colab": {}
      },
      "source": [
        "data_vars = df.columns.values.tolist()"
      ],
      "execution_count": 12,
      "outputs": []
    },
    {
      "cell_type": "code",
      "metadata": {
        "id": "cotjfmZgqxbg",
        "colab_type": "code",
        "colab": {}
      },
      "source": [
        "to_keep = [v for v in data_vars if v not in var_num]"
      ],
      "execution_count": 13,
      "outputs": []
    },
    {
      "cell_type": "code",
      "metadata": {
        "id": "Je0krGBTq00w",
        "colab_type": "code",
        "colab": {
          "base_uri": "https://localhost:8080/",
          "height": 357
        },
        "outputId": "4a6908a0-96cd-491e-be06-1d4539cf320d"
      },
      "source": [
        "for v in to_keep:\n",
        "    print(v)\n",
        "    print(df[v].value_counts())\n",
        "    print(\"__________________________________\")"
      ],
      "execution_count": 14,
      "outputs": [
        {
          "output_type": "stream",
          "text": [
            "Is declined\n",
            "N    3018\n",
            "Y      57\n",
            "Name: Is declined, dtype: int64\n",
            "__________________________________\n",
            "isForeignTransaction\n",
            "N    2369\n",
            "Y     706\n",
            "Name: isForeignTransaction, dtype: int64\n",
            "__________________________________\n",
            "isHighRiskCountry\n",
            "N    2870\n",
            "Y     205\n",
            "Name: isHighRiskCountry, dtype: int64\n",
            "__________________________________\n",
            "isFradulent\n",
            "N    2627\n",
            "Y     448\n",
            "Name: isFradulent, dtype: int64\n",
            "__________________________________\n"
          ],
          "name": "stdout"
        }
      ]
    },
    {
      "cell_type": "markdown",
      "metadata": {
        "id": "mZHKdaEPrSRS",
        "colab_type": "text"
      },
      "source": [
        "## Hallar todas las correlaciones existentes entre las variables numéricas del conjunto de datos"
      ]
    },
    {
      "cell_type": "code",
      "metadata": {
        "id": "-b2VbwMlq3Ja",
        "colab_type": "code",
        "colab": {}
      },
      "source": [
        "var_num = df._get_numeric_data().columns.values.tolist()"
      ],
      "execution_count": 15,
      "outputs": []
    },
    {
      "cell_type": "code",
      "metadata": {
        "id": "bdGpjGwtrXgU",
        "colab_type": "code",
        "colab": {
          "base_uri": "https://localhost:8080/",
          "height": 618
        },
        "outputId": "4ecf0749-9e81-4bf8-937c-443c222295e1"
      },
      "source": [
        "plt.figure(figsize = (20, 10))\n",
        "sns.heatmap(df[var_num].corr().abs(), annot = True)"
      ],
      "execution_count": 16,
      "outputs": [
        {
          "output_type": "execute_result",
          "data": {
            "text/plain": [
              "<matplotlib.axes._subplots.AxesSubplot at 0x7f8a212b44e0>"
            ]
          },
          "metadata": {
            "tags": []
          },
          "execution_count": 16
        },
        {
          "output_type": "display_data",
          "data": {
            "image/png": "[encoded data removed]",
            "text/plain": [
              "<Figure size 1440x720 with 2 Axes>"
            ]
          },
          "metadata": {
            "tags": [],
            "needs_background": "light"
          }
        }
      ]
    },
    {
      "cell_type": "markdown",
      "metadata": {
        "id": "WWH9-zItxqV6",
        "colab_type": "text"
      },
      "source": [
        "## Conversión de las variables categóricas a dummies (variables ficticias)"
      ]
    },
    {
      "cell_type": "code",
      "metadata": {
        "id": "jlNS8DZFwP8n",
        "colab_type": "code",
        "colab": {}
      },
      "source": [
        "var_num = df._get_numeric_data().columns.values.tolist()\n",
        "data_vars = df.columns.values.tolist()\n",
        "categories  = [v for v in data_vars if v not in var_num]"
      ],
      "execution_count": 17,
      "outputs": []
    },
    {
      "cell_type": "code",
      "metadata": {
        "id": "Nd9rhuT_wX_H",
        "colab_type": "code",
        "colab": {}
      },
      "source": [
        "for category in categories:\n",
        "    cat_dummies = pd.get_dummies(df[category], prefix=category)\n",
        "    data_new = df.join(cat_dummies)\n",
        "    df = data_new "
      ],
      "execution_count": 18,
      "outputs": []
    },
    {
      "cell_type": "code",
      "metadata": {
        "id": "1V5QAJHPyQFY",
        "colab_type": "code",
        "colab": {
          "base_uri": "https://localhost:8080/",
          "height": 258
        },
        "outputId": "15b07f1b-46b0-47c4-bbc8-b88c38e70cf5"
      },
      "source": [
        "df.head(5)"
      ],
      "execution_count": 19,
      "outputs": [
        {
          "output_type": "execute_result",
          "data": {
            "text/html": [
              "<div>\n",
              "<style scoped>\n",
              "    .dataframe tbody tr th:only-of-type {\n",
              "        vertical-align: middle;\n",
              "    }\n",
              "\n",
              "    .dataframe tbody tr th {\n",
              "        vertical-align: top;\n",
              "    }\n",
              "\n",
              "    .dataframe thead th {\n",
              "        text-align: right;\n",
              "    }\n",
              "</style>\n",
              "<table border=\"1\" class=\"dataframe\">\n",
              "  <thead>\n",
              "    <tr style=\"text-align: right;\">\n",
              "      <th></th>\n",
              "      <th>Merchant_id</th>\n",
              "      <th>Average Amount/transaction/day</th>\n",
              "      <th>Transaction_amount</th>\n",
              "      <th>Is declined</th>\n",
              "      <th>Total Number of declines/day</th>\n",
              "      <th>isForeignTransaction</th>\n",
              "      <th>isHighRiskCountry</th>\n",
              "      <th>Daily_chargeback_avg_amt</th>\n",
              "      <th>6_month_avg_chbk_amt</th>\n",
              "      <th>6-month_chbk_freq</th>\n",
              "      <th>isFradulent</th>\n",
              "      <th>Is declined_N</th>\n",
              "      <th>Is declined_Y</th>\n",
              "      <th>isForeignTransaction_N</th>\n",
              "      <th>isForeignTransaction_Y</th>\n",
              "      <th>isHighRiskCountry_N</th>\n",
              "      <th>isHighRiskCountry_Y</th>\n",
              "      <th>isFradulent_N</th>\n",
              "      <th>isFradulent_Y</th>\n",
              "    </tr>\n",
              "  </thead>\n",
              "  <tbody>\n",
              "    <tr>\n",
              "      <th>0</th>\n",
              "      <td>3160040998</td>\n",
              "      <td>100.0</td>\n",
              "      <td>3000.0</td>\n",
              "      <td>N</td>\n",
              "      <td>5</td>\n",
              "      <td>Y</td>\n",
              "      <td>Y</td>\n",
              "      <td>0</td>\n",
              "      <td>0.0</td>\n",
              "      <td>0</td>\n",
              "      <td>Y</td>\n",
              "      <td>1</td>\n",
              "      <td>0</td>\n",
              "      <td>0</td>\n",
              "      <td>1</td>\n",
              "      <td>0</td>\n",
              "      <td>1</td>\n",
              "      <td>0</td>\n",
              "      <td>1</td>\n",
              "    </tr>\n",
              "    <tr>\n",
              "      <th>1</th>\n",
              "      <td>3160040998</td>\n",
              "      <td>100.0</td>\n",
              "      <td>4300.0</td>\n",
              "      <td>N</td>\n",
              "      <td>5</td>\n",
              "      <td>Y</td>\n",
              "      <td>Y</td>\n",
              "      <td>0</td>\n",
              "      <td>0.0</td>\n",
              "      <td>0</td>\n",
              "      <td>Y</td>\n",
              "      <td>1</td>\n",
              "      <td>0</td>\n",
              "      <td>0</td>\n",
              "      <td>1</td>\n",
              "      <td>0</td>\n",
              "      <td>1</td>\n",
              "      <td>0</td>\n",
              "      <td>1</td>\n",
              "    </tr>\n",
              "    <tr>\n",
              "      <th>2</th>\n",
              "      <td>3160041896</td>\n",
              "      <td>185.5</td>\n",
              "      <td>4823.0</td>\n",
              "      <td>Y</td>\n",
              "      <td>5</td>\n",
              "      <td>N</td>\n",
              "      <td>N</td>\n",
              "      <td>0</td>\n",
              "      <td>0.0</td>\n",
              "      <td>0</td>\n",
              "      <td>Y</td>\n",
              "      <td>0</td>\n",
              "      <td>1</td>\n",
              "      <td>1</td>\n",
              "      <td>0</td>\n",
              "      <td>1</td>\n",
              "      <td>0</td>\n",
              "      <td>0</td>\n",
              "      <td>1</td>\n",
              "    </tr>\n",
              "    <tr>\n",
              "      <th>3</th>\n",
              "      <td>3160141996</td>\n",
              "      <td>185.5</td>\n",
              "      <td>5008.5</td>\n",
              "      <td>Y</td>\n",
              "      <td>8</td>\n",
              "      <td>N</td>\n",
              "      <td>N</td>\n",
              "      <td>0</td>\n",
              "      <td>0.0</td>\n",
              "      <td>0</td>\n",
              "      <td>Y</td>\n",
              "      <td>0</td>\n",
              "      <td>1</td>\n",
              "      <td>1</td>\n",
              "      <td>0</td>\n",
              "      <td>1</td>\n",
              "      <td>0</td>\n",
              "      <td>0</td>\n",
              "      <td>1</td>\n",
              "    </tr>\n",
              "    <tr>\n",
              "      <th>4</th>\n",
              "      <td>3160241992</td>\n",
              "      <td>500.0</td>\n",
              "      <td>26000.0</td>\n",
              "      <td>N</td>\n",
              "      <td>0</td>\n",
              "      <td>Y</td>\n",
              "      <td>Y</td>\n",
              "      <td>800</td>\n",
              "      <td>677.2</td>\n",
              "      <td>6</td>\n",
              "      <td>Y</td>\n",
              "      <td>1</td>\n",
              "      <td>0</td>\n",
              "      <td>0</td>\n",
              "      <td>1</td>\n",
              "      <td>0</td>\n",
              "      <td>1</td>\n",
              "      <td>0</td>\n",
              "      <td>1</td>\n",
              "    </tr>\n",
              "  </tbody>\n",
              "</table>\n",
              "</div>"
            ],
            "text/plain": [
              "   Merchant_id  Average Amount/transaction/day  ...  isFradulent_N isFradulent_Y\n",
              "0   3160040998                           100.0  ...              0             1\n",
              "1   3160040998                           100.0  ...              0             1\n",
              "2   3160041896                           185.5  ...              0             1\n",
              "3   3160141996                           185.5  ...              0             1\n",
              "4   3160241992                           500.0  ...              0             1\n",
              "\n",
              "[5 rows x 19 columns]"
            ]
          },
          "metadata": {
            "tags": []
          },
          "execution_count": 19
        }
      ]
    },
    {
      "cell_type": "markdown",
      "metadata": {
        "id": "vRZ98ZQYxzno",
        "colab_type": "text"
      },
      "source": [
        "## Se eliminan las columnas de las variables categóricas, elaboramos el modelo con las columnas dummies creadas"
      ]
    },
    {
      "cell_type": "code",
      "metadata": {
        "id": "uhqNQPHRxPaV",
        "colab_type": "code",
        "colab": {}
      },
      "source": [
        "data_vars = df.columns.values.tolist()  \n",
        "new_categories  = [v for v in data_vars if v not in categories]\n",
        "df = df[new_categories]"
      ],
      "execution_count": 20,
      "outputs": []
    },
    {
      "cell_type": "code",
      "metadata": {
        "id": "tFP7fbcnx9Xp",
        "colab_type": "code",
        "colab": {
          "base_uri": "https://localhost:8080/",
          "height": 258
        },
        "outputId": "3d128a0f-632f-439d-97d9-1382646118c3"
      },
      "source": [
        "df.head()"
      ],
      "execution_count": 21,
      "outputs": [
        {
          "output_type": "execute_result",
          "data": {
            "text/html": [
              "<div>\n",
              "<style scoped>\n",
              "    .dataframe tbody tr th:only-of-type {\n",
              "        vertical-align: middle;\n",
              "    }\n",
              "\n",
              "    .dataframe tbody tr th {\n",
              "        vertical-align: top;\n",
              "    }\n",
              "\n",
              "    .dataframe thead th {\n",
              "        text-align: right;\n",
              "    }\n",
              "</style>\n",
              "<table border=\"1\" class=\"dataframe\">\n",
              "  <thead>\n",
              "    <tr style=\"text-align: right;\">\n",
              "      <th></th>\n",
              "      <th>Merchant_id</th>\n",
              "      <th>Average Amount/transaction/day</th>\n",
              "      <th>Transaction_amount</th>\n",
              "      <th>Total Number of declines/day</th>\n",
              "      <th>Daily_chargeback_avg_amt</th>\n",
              "      <th>6_month_avg_chbk_amt</th>\n",
              "      <th>6-month_chbk_freq</th>\n",
              "      <th>Is declined_N</th>\n",
              "      <th>Is declined_Y</th>\n",
              "      <th>isForeignTransaction_N</th>\n",
              "      <th>isForeignTransaction_Y</th>\n",
              "      <th>isHighRiskCountry_N</th>\n",
              "      <th>isHighRiskCountry_Y</th>\n",
              "      <th>isFradulent_N</th>\n",
              "      <th>isFradulent_Y</th>\n",
              "    </tr>\n",
              "  </thead>\n",
              "  <tbody>\n",
              "    <tr>\n",
              "      <th>0</th>\n",
              "      <td>3160040998</td>\n",
              "      <td>100.0</td>\n",
              "      <td>3000.0</td>\n",
              "      <td>5</td>\n",
              "      <td>0</td>\n",
              "      <td>0.0</td>\n",
              "      <td>0</td>\n",
              "      <td>1</td>\n",
              "      <td>0</td>\n",
              "      <td>0</td>\n",
              "      <td>1</td>\n",
              "      <td>0</td>\n",
              "      <td>1</td>\n",
              "      <td>0</td>\n",
              "      <td>1</td>\n",
              "    </tr>\n",
              "    <tr>\n",
              "      <th>1</th>\n",
              "      <td>3160040998</td>\n",
              "      <td>100.0</td>\n",
              "      <td>4300.0</td>\n",
              "      <td>5</td>\n",
              "      <td>0</td>\n",
              "      <td>0.0</td>\n",
              "      <td>0</td>\n",
              "      <td>1</td>\n",
              "      <td>0</td>\n",
              "      <td>0</td>\n",
              "      <td>1</td>\n",
              "      <td>0</td>\n",
              "      <td>1</td>\n",
              "      <td>0</td>\n",
              "      <td>1</td>\n",
              "    </tr>\n",
              "    <tr>\n",
              "      <th>2</th>\n",
              "      <td>3160041896</td>\n",
              "      <td>185.5</td>\n",
              "      <td>4823.0</td>\n",
              "      <td>5</td>\n",
              "      <td>0</td>\n",
              "      <td>0.0</td>\n",
              "      <td>0</td>\n",
              "      <td>0</td>\n",
              "      <td>1</td>\n",
              "      <td>1</td>\n",
              "      <td>0</td>\n",
              "      <td>1</td>\n",
              "      <td>0</td>\n",
              "      <td>0</td>\n",
              "      <td>1</td>\n",
              "    </tr>\n",
              "    <tr>\n",
              "      <th>3</th>\n",
              "      <td>3160141996</td>\n",
              "      <td>185.5</td>\n",
              "      <td>5008.5</td>\n",
              "      <td>8</td>\n",
              "      <td>0</td>\n",
              "      <td>0.0</td>\n",
              "      <td>0</td>\n",
              "      <td>0</td>\n",
              "      <td>1</td>\n",
              "      <td>1</td>\n",
              "      <td>0</td>\n",
              "      <td>1</td>\n",
              "      <td>0</td>\n",
              "      <td>0</td>\n",
              "      <td>1</td>\n",
              "    </tr>\n",
              "    <tr>\n",
              "      <th>4</th>\n",
              "      <td>3160241992</td>\n",
              "      <td>500.0</td>\n",
              "      <td>26000.0</td>\n",
              "      <td>0</td>\n",
              "      <td>800</td>\n",
              "      <td>677.2</td>\n",
              "      <td>6</td>\n",
              "      <td>1</td>\n",
              "      <td>0</td>\n",
              "      <td>0</td>\n",
              "      <td>1</td>\n",
              "      <td>0</td>\n",
              "      <td>1</td>\n",
              "      <td>0</td>\n",
              "      <td>1</td>\n",
              "    </tr>\n",
              "  </tbody>\n",
              "</table>\n",
              "</div>"
            ],
            "text/plain": [
              "   Merchant_id  Average Amount/transaction/day  ...  isFradulent_N  isFradulent_Y\n",
              "0   3160040998                           100.0  ...              0              1\n",
              "1   3160040998                           100.0  ...              0              1\n",
              "2   3160041896                           185.5  ...              0              1\n",
              "3   3160141996                           185.5  ...              0              1\n",
              "4   3160241992                           500.0  ...              0              1\n",
              "\n",
              "[5 rows x 15 columns]"
            ]
          },
          "metadata": {
            "tags": []
          },
          "execution_count": 21
        }
      ]
    },
    {
      "cell_type": "markdown",
      "metadata": {
        "id": "rdKmws89yn-Z",
        "colab_type": "text"
      },
      "source": [
        "## Se elimina una columna por cada variable ficticia correspondiente a las variables categóricas. Para evitar los problemas de multicolinealidad y la columna Merchant_id ya que no proporciona información útil para el análisis "
      ]
    },
    {
      "cell_type": "code",
      "metadata": {
        "id": "TwEDhdV3x-Dq",
        "colab_type": "code",
        "colab": {}
      },
      "source": [
        "new_categories = ['Average Amount/transaction/day',\n",
        " 'Transaction_amount',\n",
        " 'Is declined_Y',\n",
        " 'Total Number of declines/day',\n",
        " 'isForeignTransaction_Y',\n",
        " 'isHighRiskCountry_Y',\n",
        " 'Daily_chargeback_avg_amt',\n",
        " '6_month_avg_chbk_amt',\n",
        " '6-month_chbk_freq',\n",
        " 'isFradulent_Y']"
      ],
      "execution_count": 22,
      "outputs": []
    },
    {
      "cell_type": "code",
      "metadata": {
        "id": "NOykVas8yvKw",
        "colab_type": "code",
        "colab": {}
      },
      "source": [
        "df = df[new_categories]"
      ],
      "execution_count": 23,
      "outputs": []
    },
    {
      "cell_type": "code",
      "metadata": {
        "id": "S08wm5S2zkDF",
        "colab_type": "code",
        "colab": {
          "base_uri": "https://localhost:8080/",
          "height": 258
        },
        "outputId": "55121680-d622-4bdf-ecc4-cc2871e50db2"
      },
      "source": [
        "df.head()"
      ],
      "execution_count": 24,
      "outputs": [
        {
          "output_type": "execute_result",
          "data": {
            "text/html": [
              "<div>\n",
              "<style scoped>\n",
              "    .dataframe tbody tr th:only-of-type {\n",
              "        vertical-align: middle;\n",
              "    }\n",
              "\n",
              "    .dataframe tbody tr th {\n",
              "        vertical-align: top;\n",
              "    }\n",
              "\n",
              "    .dataframe thead th {\n",
              "        text-align: right;\n",
              "    }\n",
              "</style>\n",
              "<table border=\"1\" class=\"dataframe\">\n",
              "  <thead>\n",
              "    <tr style=\"text-align: right;\">\n",
              "      <th></th>\n",
              "      <th>Average Amount/transaction/day</th>\n",
              "      <th>Transaction_amount</th>\n",
              "      <th>Is declined_Y</th>\n",
              "      <th>Total Number of declines/day</th>\n",
              "      <th>isForeignTransaction_Y</th>\n",
              "      <th>isHighRiskCountry_Y</th>\n",
              "      <th>Daily_chargeback_avg_amt</th>\n",
              "      <th>6_month_avg_chbk_amt</th>\n",
              "      <th>6-month_chbk_freq</th>\n",
              "      <th>isFradulent_Y</th>\n",
              "    </tr>\n",
              "  </thead>\n",
              "  <tbody>\n",
              "    <tr>\n",
              "      <th>0</th>\n",
              "      <td>100.0</td>\n",
              "      <td>3000.0</td>\n",
              "      <td>0</td>\n",
              "      <td>5</td>\n",
              "      <td>1</td>\n",
              "      <td>1</td>\n",
              "      <td>0</td>\n",
              "      <td>0.0</td>\n",
              "      <td>0</td>\n",
              "      <td>1</td>\n",
              "    </tr>\n",
              "    <tr>\n",
              "      <th>1</th>\n",
              "      <td>100.0</td>\n",
              "      <td>4300.0</td>\n",
              "      <td>0</td>\n",
              "      <td>5</td>\n",
              "      <td>1</td>\n",
              "      <td>1</td>\n",
              "      <td>0</td>\n",
              "      <td>0.0</td>\n",
              "      <td>0</td>\n",
              "      <td>1</td>\n",
              "    </tr>\n",
              "    <tr>\n",
              "      <th>2</th>\n",
              "      <td>185.5</td>\n",
              "      <td>4823.0</td>\n",
              "      <td>1</td>\n",
              "      <td>5</td>\n",
              "      <td>0</td>\n",
              "      <td>0</td>\n",
              "      <td>0</td>\n",
              "      <td>0.0</td>\n",
              "      <td>0</td>\n",
              "      <td>1</td>\n",
              "    </tr>\n",
              "    <tr>\n",
              "      <th>3</th>\n",
              "      <td>185.5</td>\n",
              "      <td>5008.5</td>\n",
              "      <td>1</td>\n",
              "      <td>8</td>\n",
              "      <td>0</td>\n",
              "      <td>0</td>\n",
              "      <td>0</td>\n",
              "      <td>0.0</td>\n",
              "      <td>0</td>\n",
              "      <td>1</td>\n",
              "    </tr>\n",
              "    <tr>\n",
              "      <th>4</th>\n",
              "      <td>500.0</td>\n",
              "      <td>26000.0</td>\n",
              "      <td>0</td>\n",
              "      <td>0</td>\n",
              "      <td>1</td>\n",
              "      <td>1</td>\n",
              "      <td>800</td>\n",
              "      <td>677.2</td>\n",
              "      <td>6</td>\n",
              "      <td>1</td>\n",
              "    </tr>\n",
              "  </tbody>\n",
              "</table>\n",
              "</div>"
            ],
            "text/plain": [
              "   Average Amount/transaction/day  ...  isFradulent_Y\n",
              "0                           100.0  ...              1\n",
              "1                           100.0  ...              1\n",
              "2                           185.5  ...              1\n",
              "3                           185.5  ...              1\n",
              "4                           500.0  ...              1\n",
              "\n",
              "[5 rows x 10 columns]"
            ]
          },
          "metadata": {
            "tags": []
          },
          "execution_count": 24
        }
      ]
    },
    {
      "cell_type": "markdown",
      "metadata": {
        "id": "QYDlZ2syeoAg",
        "colab_type": "text"
      },
      "source": [
        "## Normalización de los datos "
      ]
    },
    {
      "cell_type": "code",
      "metadata": {
        "id": "rLsiA76Y1naA",
        "colab_type": "code",
        "colab": {
          "base_uri": "https://localhost:8080/",
          "height": 473
        },
        "outputId": "d3543f47-d5aa-4d95-be02-363b647dbafd"
      },
      "source": [
        "df_norm = (df-df.min())/(df.max()-df.min())\n",
        "df_norm"
      ],
      "execution_count": 25,
      "outputs": [
        {
          "output_type": "execute_result",
          "data": {
            "text/html": [
              "<div>\n",
              "<style scoped>\n",
              "    .dataframe tbody tr th:only-of-type {\n",
              "        vertical-align: middle;\n",
              "    }\n",
              "\n",
              "    .dataframe tbody tr th {\n",
              "        vertical-align: top;\n",
              "    }\n",
              "\n",
              "    .dataframe thead th {\n",
              "        text-align: right;\n",
              "    }\n",
              "</style>\n",
              "<table border=\"1\" class=\"dataframe\">\n",
              "  <thead>\n",
              "    <tr style=\"text-align: right;\">\n",
              "      <th></th>\n",
              "      <th>Average Amount/transaction/day</th>\n",
              "      <th>Transaction_amount</th>\n",
              "      <th>Is declined_Y</th>\n",
              "      <th>Total Number of declines/day</th>\n",
              "      <th>isForeignTransaction_Y</th>\n",
              "      <th>isHighRiskCountry_Y</th>\n",
              "      <th>Daily_chargeback_avg_amt</th>\n",
              "      <th>6_month_avg_chbk_amt</th>\n",
              "      <th>6-month_chbk_freq</th>\n",
              "      <th>isFradulent_Y</th>\n",
              "    </tr>\n",
              "  </thead>\n",
              "  <tbody>\n",
              "    <tr>\n",
              "      <th>0</th>\n",
              "      <td>0.048091</td>\n",
              "      <td>0.027778</td>\n",
              "      <td>0.0</td>\n",
              "      <td>0.25</td>\n",
              "      <td>1.0</td>\n",
              "      <td>1.0</td>\n",
              "      <td>0.000000</td>\n",
              "      <td>0.000000</td>\n",
              "      <td>0.000000</td>\n",
              "      <td>1.0</td>\n",
              "    </tr>\n",
              "    <tr>\n",
              "      <th>1</th>\n",
              "      <td>0.048091</td>\n",
              "      <td>0.039815</td>\n",
              "      <td>0.0</td>\n",
              "      <td>0.25</td>\n",
              "      <td>1.0</td>\n",
              "      <td>1.0</td>\n",
              "      <td>0.000000</td>\n",
              "      <td>0.000000</td>\n",
              "      <td>0.000000</td>\n",
              "      <td>1.0</td>\n",
              "    </tr>\n",
              "    <tr>\n",
              "      <th>2</th>\n",
              "      <td>0.090927</td>\n",
              "      <td>0.044657</td>\n",
              "      <td>1.0</td>\n",
              "      <td>0.25</td>\n",
              "      <td>0.0</td>\n",
              "      <td>0.0</td>\n",
              "      <td>0.000000</td>\n",
              "      <td>0.000000</td>\n",
              "      <td>0.000000</td>\n",
              "      <td>1.0</td>\n",
              "    </tr>\n",
              "    <tr>\n",
              "      <th>3</th>\n",
              "      <td>0.090927</td>\n",
              "      <td>0.046375</td>\n",
              "      <td>1.0</td>\n",
              "      <td>0.40</td>\n",
              "      <td>0.0</td>\n",
              "      <td>0.0</td>\n",
              "      <td>0.000000</td>\n",
              "      <td>0.000000</td>\n",
              "      <td>0.000000</td>\n",
              "      <td>1.0</td>\n",
              "    </tr>\n",
              "    <tr>\n",
              "      <th>4</th>\n",
              "      <td>0.248493</td>\n",
              "      <td>0.240741</td>\n",
              "      <td>0.0</td>\n",
              "      <td>0.00</td>\n",
              "      <td>1.0</td>\n",
              "      <td>1.0</td>\n",
              "      <td>0.801603</td>\n",
              "      <td>0.678557</td>\n",
              "      <td>0.666667</td>\n",
              "      <td>1.0</td>\n",
              "    </tr>\n",
              "    <tr>\n",
              "      <th>...</th>\n",
              "      <td>...</td>\n",
              "      <td>...</td>\n",
              "      <td>...</td>\n",
              "      <td>...</td>\n",
              "      <td>...</td>\n",
              "      <td>...</td>\n",
              "      <td>...</td>\n",
              "      <td>...</td>\n",
              "      <td>...</td>\n",
              "      <td>...</td>\n",
              "    </tr>\n",
              "    <tr>\n",
              "      <th>3070</th>\n",
              "      <td>0.248493</td>\n",
              "      <td>0.101852</td>\n",
              "      <td>1.0</td>\n",
              "      <td>0.00</td>\n",
              "      <td>0.0</td>\n",
              "      <td>0.0</td>\n",
              "      <td>0.755511</td>\n",
              "      <td>0.586172</td>\n",
              "      <td>0.777778</td>\n",
              "      <td>0.0</td>\n",
              "    </tr>\n",
              "    <tr>\n",
              "      <th>3071</th>\n",
              "      <td>0.398794</td>\n",
              "      <td>0.000000</td>\n",
              "      <td>1.0</td>\n",
              "      <td>0.00</td>\n",
              "      <td>0.0</td>\n",
              "      <td>0.0</td>\n",
              "      <td>0.755511</td>\n",
              "      <td>0.586172</td>\n",
              "      <td>0.777778</td>\n",
              "      <td>0.0</td>\n",
              "    </tr>\n",
              "    <tr>\n",
              "      <th>3072</th>\n",
              "      <td>0.398794</td>\n",
              "      <td>0.192593</td>\n",
              "      <td>1.0</td>\n",
              "      <td>0.00</td>\n",
              "      <td>0.0</td>\n",
              "      <td>0.0</td>\n",
              "      <td>0.755511</td>\n",
              "      <td>0.586172</td>\n",
              "      <td>0.777778</td>\n",
              "      <td>0.0</td>\n",
              "    </tr>\n",
              "    <tr>\n",
              "      <th>3073</th>\n",
              "      <td>0.749498</td>\n",
              "      <td>0.111111</td>\n",
              "      <td>1.0</td>\n",
              "      <td>0.00</td>\n",
              "      <td>1.0</td>\n",
              "      <td>1.0</td>\n",
              "      <td>0.755511</td>\n",
              "      <td>0.586172</td>\n",
              "      <td>0.777778</td>\n",
              "      <td>0.0</td>\n",
              "    </tr>\n",
              "    <tr>\n",
              "      <th>3074</th>\n",
              "      <td>0.749498</td>\n",
              "      <td>0.333333</td>\n",
              "      <td>1.0</td>\n",
              "      <td>0.00</td>\n",
              "      <td>1.0</td>\n",
              "      <td>1.0</td>\n",
              "      <td>0.755511</td>\n",
              "      <td>0.586172</td>\n",
              "      <td>0.777778</td>\n",
              "      <td>0.0</td>\n",
              "    </tr>\n",
              "  </tbody>\n",
              "</table>\n",
              "<p>3075 rows × 10 columns</p>\n",
              "</div>"
            ],
            "text/plain": [
              "      Average Amount/transaction/day  ...  isFradulent_Y\n",
              "0                           0.048091  ...            1.0\n",
              "1                           0.048091  ...            1.0\n",
              "2                           0.090927  ...            1.0\n",
              "3                           0.090927  ...            1.0\n",
              "4                           0.248493  ...            1.0\n",
              "...                              ...  ...            ...\n",
              "3070                        0.248493  ...            0.0\n",
              "3071                        0.398794  ...            0.0\n",
              "3072                        0.398794  ...            0.0\n",
              "3073                        0.749498  ...            0.0\n",
              "3074                        0.749498  ...            0.0\n",
              "\n",
              "[3075 rows x 10 columns]"
            ]
          },
          "metadata": {
            "tags": []
          },
          "execution_count": 25
        }
      ]
    },
    {
      "cell_type": "markdown",
      "metadata": {
        "id": "4lLM08ydh1Hr",
        "colab_type": "text"
      },
      "source": [
        "## Análisis de la información "
      ]
    },
    {
      "cell_type": "code",
      "metadata": {
        "id": "NO7yM8nrdj8-",
        "colab_type": "code",
        "colab": {
          "base_uri": "https://localhost:8080/",
          "height": 265
        },
        "outputId": "acfe2c0f-f73f-4b9c-a11e-3db1a511e07c"
      },
      "source": [
        "plt.hist(df_norm['isFradulent_Y'])\n",
        "plt.show()"
      ],
      "execution_count": 26,
      "outputs": [
        {
          "output_type": "display_data",
          "data": {
            "image/png": "[encoded data removed]",
            "text/plain": [
              "<Figure size 432x288 with 1 Axes>"
            ]
          },
          "metadata": {
            "tags": [],
            "needs_background": "light"
          }
        }
      ]
    },
    {
      "cell_type": "code",
      "metadata": {
        "id": "3mr3tfvahiGJ",
        "colab_type": "code",
        "colab": {
          "base_uri": "https://localhost:8080/",
          "height": 68
        },
        "outputId": "66d66572-d339-44c4-9538-b5373cb6e8d5"
      },
      "source": [
        "# 448 transacciones fraudulentas, 2627 transacciones legitimas\n",
        "# El conjunto de datos se encuntra desequilabrado\n",
        "df_norm[\"isFradulent_Y\"].value_counts()"
      ],
      "execution_count": 27,
      "outputs": [
        {
          "output_type": "execute_result",
          "data": {
            "text/plain": [
              "0.0    2627\n",
              "1.0     448\n",
              "Name: isFradulent_Y, dtype: int64"
            ]
          },
          "metadata": {
            "tags": []
          },
          "execution_count": 27
        }
      ]
    },
    {
      "cell_type": "code",
      "metadata": {
        "id": "Ne1lbrkfm2Uk",
        "colab_type": "code",
        "colab": {
          "base_uri": "https://localhost:8080/",
          "height": 351
        },
        "outputId": "9f32ab4c-b677-45d7-f414-292860b000ef"
      },
      "source": [
        "df_norm.describe()"
      ],
      "execution_count": 28,
      "outputs": [
        {
          "output_type": "execute_result",
          "data": {
            "text/html": [
              "<div>\n",
              "<style scoped>\n",
              "    .dataframe tbody tr th:only-of-type {\n",
              "        vertical-align: middle;\n",
              "    }\n",
              "\n",
              "    .dataframe tbody tr th {\n",
              "        vertical-align: top;\n",
              "    }\n",
              "\n",
              "    .dataframe thead th {\n",
              "        text-align: right;\n",
              "    }\n",
              "</style>\n",
              "<table border=\"1\" class=\"dataframe\">\n",
              "  <thead>\n",
              "    <tr style=\"text-align: right;\">\n",
              "      <th></th>\n",
              "      <th>Average Amount/transaction/day</th>\n",
              "      <th>Transaction_amount</th>\n",
              "      <th>Is declined_Y</th>\n",
              "      <th>Total Number of declines/day</th>\n",
              "      <th>isForeignTransaction_Y</th>\n",
              "      <th>isHighRiskCountry_Y</th>\n",
              "      <th>Daily_chargeback_avg_amt</th>\n",
              "      <th>6_month_avg_chbk_amt</th>\n",
              "      <th>6-month_chbk_freq</th>\n",
              "      <th>isFradulent_Y</th>\n",
              "    </tr>\n",
              "  </thead>\n",
              "  <tbody>\n",
              "    <tr>\n",
              "      <th>count</th>\n",
              "      <td>3075.000000</td>\n",
              "      <td>3075.000000</td>\n",
              "      <td>3075.000000</td>\n",
              "      <td>3075.00000</td>\n",
              "      <td>3075.000000</td>\n",
              "      <td>3075.000000</td>\n",
              "      <td>3075.000000</td>\n",
              "      <td>3075.000000</td>\n",
              "      <td>3075.000000</td>\n",
              "      <td>3075.000000</td>\n",
              "    </tr>\n",
              "    <tr>\n",
              "      <th>mean</th>\n",
              "      <td>0.256021</td>\n",
              "      <td>0.091448</td>\n",
              "      <td>0.018537</td>\n",
              "      <td>0.04787</td>\n",
              "      <td>0.229593</td>\n",
              "      <td>0.066667</td>\n",
              "      <td>0.055849</td>\n",
              "      <td>0.040103</td>\n",
              "      <td>0.043541</td>\n",
              "      <td>0.145691</td>\n",
              "    </tr>\n",
              "    <tr>\n",
              "      <th>std</th>\n",
              "      <td>0.146247</td>\n",
              "      <td>0.093846</td>\n",
              "      <td>0.134903</td>\n",
              "      <td>0.10962</td>\n",
              "      <td>0.420640</td>\n",
              "      <td>0.249484</td>\n",
              "      <td>0.207049</td>\n",
              "      <td>0.156281</td>\n",
              "      <td>0.172053</td>\n",
              "      <td>0.352854</td>\n",
              "    </tr>\n",
              "    <tr>\n",
              "      <th>min</th>\n",
              "      <td>0.000000</td>\n",
              "      <td>0.000000</td>\n",
              "      <td>0.000000</td>\n",
              "      <td>0.00000</td>\n",
              "      <td>0.000000</td>\n",
              "      <td>0.000000</td>\n",
              "      <td>0.000000</td>\n",
              "      <td>0.000000</td>\n",
              "      <td>0.000000</td>\n",
              "      <td>0.000000</td>\n",
              "    </tr>\n",
              "    <tr>\n",
              "      <th>25%</th>\n",
              "      <td>0.133155</td>\n",
              "      <td>0.022304</td>\n",
              "      <td>0.000000</td>\n",
              "      <td>0.00000</td>\n",
              "      <td>0.000000</td>\n",
              "      <td>0.000000</td>\n",
              "      <td>0.000000</td>\n",
              "      <td>0.000000</td>\n",
              "      <td>0.000000</td>\n",
              "      <td>0.000000</td>\n",
              "    </tr>\n",
              "    <tr>\n",
              "      <th>50%</th>\n",
              "      <td>0.249770</td>\n",
              "      <td>0.062027</td>\n",
              "      <td>0.000000</td>\n",
              "      <td>0.00000</td>\n",
              "      <td>0.000000</td>\n",
              "      <td>0.000000</td>\n",
              "      <td>0.000000</td>\n",
              "      <td>0.000000</td>\n",
              "      <td>0.000000</td>\n",
              "      <td>0.000000</td>\n",
              "    </tr>\n",
              "    <tr>\n",
              "      <th>75%</th>\n",
              "      <td>0.381396</td>\n",
              "      <td>0.133542</td>\n",
              "      <td>0.000000</td>\n",
              "      <td>0.00000</td>\n",
              "      <td>0.000000</td>\n",
              "      <td>0.000000</td>\n",
              "      <td>0.000000</td>\n",
              "      <td>0.000000</td>\n",
              "      <td>0.000000</td>\n",
              "      <td>0.000000</td>\n",
              "    </tr>\n",
              "    <tr>\n",
              "      <th>max</th>\n",
              "      <td>1.000000</td>\n",
              "      <td>1.000000</td>\n",
              "      <td>1.000000</td>\n",
              "      <td>1.00000</td>\n",
              "      <td>1.000000</td>\n",
              "      <td>1.000000</td>\n",
              "      <td>1.000000</td>\n",
              "      <td>1.000000</td>\n",
              "      <td>1.000000</td>\n",
              "      <td>1.000000</td>\n",
              "    </tr>\n",
              "  </tbody>\n",
              "</table>\n",
              "</div>"
            ],
            "text/plain": [
              "       Average Amount/transaction/day  ...  isFradulent_Y\n",
              "count                     3075.000000  ...    3075.000000\n",
              "mean                         0.256021  ...       0.145691\n",
              "std                          0.146247  ...       0.352854\n",
              "min                          0.000000  ...       0.000000\n",
              "25%                          0.133155  ...       0.000000\n",
              "50%                          0.249770  ...       0.000000\n",
              "75%                          0.381396  ...       0.000000\n",
              "max                          1.000000  ...       1.000000\n",
              "\n",
              "[8 rows x 10 columns]"
            ]
          },
          "metadata": {
            "tags": []
          },
          "execution_count": 28
        }
      ]
    },
    {
      "cell_type": "code",
      "metadata": {
        "id": "HQsWen9CnkoW",
        "colab_type": "code",
        "colab": {
          "base_uri": "https://localhost:8080/",
          "height": 1000
        },
        "outputId": "77fa479c-feb1-44a0-cf79-d4d6563015ab"
      },
      "source": [
        "# Representamos gráficamente las características\n",
        "features = df_norm.drop(\"isFradulent_Y\", axis=1)\n",
        "\n",
        "plt.figure(figsize=(12,32))\n",
        "gs = gridspec.GridSpec(8, 2)\n",
        "gs.update(hspace=0.8)\n",
        "\n",
        "for i, f in enumerate(features):\n",
        "    ax = plt.subplot(gs[i])\n",
        "    sns.distplot(df[f][df[\"isFradulent_Y\"] == 1])\n",
        "    sns.distplot(df[f][df[\"isFradulent_Y\"] == 0])\n",
        "    ax.set_xlabel('')\n",
        "    ax.set_title('feature: ' + str(f))\n",
        "\n",
        "plt.show()"
      ],
      "execution_count": 29,
      "outputs": [
        {
          "output_type": "display_data",
          "data": {
            "image/png": "[encoded data removed]",
            "text/plain": [
              "<Figure size 864x2304 with 9 Axes>"
            ]
          },
          "metadata": {
            "tags": [],
            "needs_background": "light"
          }
        }
      ]
    },
    {
      "cell_type": "code",
      "metadata": {
        "id": "v5fzscR3n3jN",
        "colab_type": "code",
        "colab": {
          "base_uri": "https://localhost:8080/",
          "height": 392
        },
        "outputId": "443f1b21-a2f2-434d-a994-d46535536ae6"
      },
      "source": [
        "# Representación gráfica de dos características\n",
        "plt.figure(figsize=(12, 6))\n",
        "plt.scatter(df_norm[\"Transaction_amount\"][df_norm['isFradulent_Y'] == 0], df_norm[\"Average Amount/transaction/day\"][df_norm['isFradulent_Y'] == 0], c=\"g\", marker=\".\")\n",
        "plt.scatter(df_norm[\"Transaction_amount\"][df_norm['isFradulent_Y'] == 1], df_norm[\"Average Amount/transaction/day\"][df_norm['isFradulent_Y'] == 1], c=\"r\", marker=\".\")\n",
        "plt.xlabel(\"Transaction_amount\", fontsize=14)\n",
        "plt.ylabel(\"Average Amount/transaction/day\", fontsize=14)\n",
        "plt.show()"
      ],
      "execution_count": 30,
      "outputs": [
        {
          "output_type": "display_data",
          "data": {
            "image/png": "[encoded data removed]",
            "text/plain": [
              "<Figure size 864x432 with 1 Axes>"
            ]
          },
          "metadata": {
            "tags": [],
            "needs_background": "light"
          }
        }
      ]
    },
    {
      "cell_type": "markdown",
      "metadata": {
        "id": "rcS56LW0mq9Z",
        "colab_type": "text"
      },
      "source": [
        "### KMEANS\n",
        "<p align=\"justify\">\n",
        "Es uno de los algoritmos mas populares dentro del mundo del aprendizaje automático.  KMEANS utiliza como métrica para calcular la distancia entre los puntos la distancia euclídea, es un algoritmo sencillo que escala muy bien a grandes conjuntos de datos.\n",
        "</p>"
      ]
    },
    {
      "cell_type": "markdown",
      "metadata": {
        "id": "-V2NM889m1zu",
        "colab_type": "text"
      },
      "source": [
        "#### Limitaciones de algoritmos KMEANS.\n",
        "<ul>\n",
        "  <li> \n",
        "      <p align=\"justify\">\n",
        "Se debe intuir el número de clusters que genera el algoritmo, si son datos etiquetados, elegir el numero de clusters como un valor entre uno y tres el número de etiquetas existentes.\n",
        "       </p>\n",
        "  </li>\n",
        "  <li> \n",
        "      <p align=\"justify\">\n",
        "Hay que aplicar normalización al conjunto de datos.\n",
        "       </p>\n",
        "  </li>\n",
        "  <li> \n",
        "      <p align=\"justify\">\n",
        "No se debe utilizar KMEANS con datos categóricos a los que se aplican ONE-HOT ENCODING. Por el contrario, deben de tratar de codificarse estas características como múltiples.\n",
        "       </p>\n",
        "  </li>\n",
        "  <li> \n",
        "      <p align=\"justify\">\n",
        "Pierde eficiencia con un conjunto de datos con muchas dimensiones. Una practica frecuente es reducir su dimensionalidad. \n",
        "       </p>\n",
        "  </li>\n",
        "  <li> \n",
        "      <p align=\"justify\">\n",
        "Funciona mejor si sus centroides iniciales se eligen aleatoriamente.\n",
        "       </p>\n",
        "  </li>\n",
        "  <li> \n",
        "      <p align=\"justify\">\n",
        "Asume que los clustering son esféricos. No funcionan correctamente en distribuciones de datos no esféricas.\n",
        "       </p>\n",
        "  </li>\n",
        "</ul>"
      ]
    },
    {
      "cell_type": "markdown",
      "metadata": {
        "id": "mmPbxa1J5eQ9",
        "colab_type": "text"
      },
      "source": [
        "## Kmeans con un conjunto de datos de dos dimensiones"
      ]
    },
    {
      "cell_type": "markdown",
      "metadata": {
        "id": "kql2PwiX5wt7",
        "colab_type": "text"
      },
      "source": [
        "<p align=\"justify\">\n",
        "Antes de comenzar con el entrenamiento de KMEANS para todos los atributos del conjunto de datos, se realiza una prueba para dos atributos con el objetivo de comprender como construye el límite de decisión.\n",
        "</p>"
      ]
    },
    {
      "cell_type": "code",
      "metadata": {
        "id": "qXU8ohS6ePHf",
        "colab_type": "code",
        "colab": {
          "base_uri": "https://localhost:8080/",
          "height": 419
        },
        "outputId": "36d96376-f400-4966-f671-5e9ecc350710"
      },
      "source": [
        "X = df_norm[[\"Transaction_amount\", \"Average Amount/transaction/day\"]].copy()\n",
        "X"
      ],
      "execution_count": 31,
      "outputs": [
        {
          "output_type": "execute_result",
          "data": {
            "text/html": [
              "<div>\n",
              "<style scoped>\n",
              "    .dataframe tbody tr th:only-of-type {\n",
              "        vertical-align: middle;\n",
              "    }\n",
              "\n",
              "    .dataframe tbody tr th {\n",
              "        vertical-align: top;\n",
              "    }\n",
              "\n",
              "    .dataframe thead th {\n",
              "        text-align: right;\n",
              "    }\n",
              "</style>\n",
              "<table border=\"1\" class=\"dataframe\">\n",
              "  <thead>\n",
              "    <tr style=\"text-align: right;\">\n",
              "      <th></th>\n",
              "      <th>Transaction_amount</th>\n",
              "      <th>Average Amount/transaction/day</th>\n",
              "    </tr>\n",
              "  </thead>\n",
              "  <tbody>\n",
              "    <tr>\n",
              "      <th>0</th>\n",
              "      <td>0.027778</td>\n",
              "      <td>0.048091</td>\n",
              "    </tr>\n",
              "    <tr>\n",
              "      <th>1</th>\n",
              "      <td>0.039815</td>\n",
              "      <td>0.048091</td>\n",
              "    </tr>\n",
              "    <tr>\n",
              "      <th>2</th>\n",
              "      <td>0.044657</td>\n",
              "      <td>0.090927</td>\n",
              "    </tr>\n",
              "    <tr>\n",
              "      <th>3</th>\n",
              "      <td>0.046375</td>\n",
              "      <td>0.090927</td>\n",
              "    </tr>\n",
              "    <tr>\n",
              "      <th>4</th>\n",
              "      <td>0.240741</td>\n",
              "      <td>0.248493</td>\n",
              "    </tr>\n",
              "    <tr>\n",
              "      <th>...</th>\n",
              "      <td>...</td>\n",
              "      <td>...</td>\n",
              "    </tr>\n",
              "    <tr>\n",
              "      <th>3070</th>\n",
              "      <td>0.101852</td>\n",
              "      <td>0.248493</td>\n",
              "    </tr>\n",
              "    <tr>\n",
              "      <th>3071</th>\n",
              "      <td>0.000000</td>\n",
              "      <td>0.398794</td>\n",
              "    </tr>\n",
              "    <tr>\n",
              "      <th>3072</th>\n",
              "      <td>0.192593</td>\n",
              "      <td>0.398794</td>\n",
              "    </tr>\n",
              "    <tr>\n",
              "      <th>3073</th>\n",
              "      <td>0.111111</td>\n",
              "      <td>0.749498</td>\n",
              "    </tr>\n",
              "    <tr>\n",
              "      <th>3074</th>\n",
              "      <td>0.333333</td>\n",
              "      <td>0.749498</td>\n",
              "    </tr>\n",
              "  </tbody>\n",
              "</table>\n",
              "<p>3075 rows × 2 columns</p>\n",
              "</div>"
            ],
            "text/plain": [
              "      Transaction_amount  Average Amount/transaction/day\n",
              "0               0.027778                        0.048091\n",
              "1               0.039815                        0.048091\n",
              "2               0.044657                        0.090927\n",
              "3               0.046375                        0.090927\n",
              "4               0.240741                        0.248493\n",
              "...                  ...                             ...\n",
              "3070            0.101852                        0.248493\n",
              "3071            0.000000                        0.398794\n",
              "3072            0.192593                        0.398794\n",
              "3073            0.111111                        0.749498\n",
              "3074            0.333333                        0.749498\n",
              "\n",
              "[3075 rows x 2 columns]"
            ]
          },
          "metadata": {
            "tags": []
          },
          "execution_count": 31
        }
      ]
    },
    {
      "cell_type": "code",
      "metadata": {
        "id": "O3E3YAMN6IEl",
        "colab_type": "code",
        "colab": {}
      },
      "source": [
        "# Generamos los clusters para nuestro conjunto de datos sin etiquetar\n",
        "from sklearn.cluster import KMeans\n",
        "\n",
        "kmeans = KMeans(n_clusters=2, random_state=42)\n",
        "clusters = kmeans.fit_predict(X)"
      ],
      "execution_count": 32,
      "outputs": []
    },
    {
      "cell_type": "code",
      "metadata": {
        "id": "dJhnEd5K6PiI",
        "colab_type": "code",
        "colab": {
          "base_uri": "https://localhost:8080/",
          "height": 392
        },
        "outputId": "c500340a-4e6d-42b0-9d18-8b03d1f8a62a"
      },
      "source": [
        "plt.figure(figsize=(12, 6))\n",
        "plot_decision_boundaries(kmeans, X.values, df_norm[\"isFradulent_Y\"].values)\n",
        "plt.xlabel(\"Transaction_amount\", fontsize=14)\n",
        "plt.ylabel(\"Average Amount/transaction/day\", fontsize=14)\n",
        "plt.show()"
      ],
      "execution_count": 33,
      "outputs": [
        {
          "output_type": "display_data",
          "data": {
            "image/png": "[encoded data removed]",
            "text/plain": [
              "<Figure size 864x432 with 1 Axes>"
            ]
          },
          "metadata": {
            "tags": [],
            "needs_background": "light"
          }
        }
      ]
    },
    {
      "cell_type": "code",
      "metadata": {
        "id": "vLNAARvT_B17",
        "colab_type": "code",
        "colab": {}
      },
      "source": [
        "from collections import Counter"
      ],
      "execution_count": 34,
      "outputs": []
    },
    {
      "cell_type": "code",
      "metadata": {
        "id": "UvifM7Dp6nqk",
        "colab_type": "code",
        "colab": {
          "base_uri": "https://localhost:8080/",
          "height": 51
        },
        "outputId": "8bebd33d-cec4-4636-d3fd-c27d0082e5e9"
      },
      "source": [
        "counter = Counter(clusters.tolist())\n",
        "bad_counter = Counter(clusters[df_norm['isFradulent_Y'] == 1].tolist())\n",
        "\n",
        "for key in sorted(counter.keys()):\n",
        "    print(\"Label {0} has {1} samples - {2} are malicious samples\".format(\n",
        "        key, counter[key], bad_counter[key]))"
      ],
      "execution_count": 35,
      "outputs": [
        {
          "output_type": "stream",
          "text": [
            "Label 0 has 1593 samples - 189 are malicious samples\n",
            "Label 1 has 1482 samples - 259 are malicious samples\n"
          ],
          "name": "stdout"
        }
      ]
    },
    {
      "cell_type": "markdown",
      "metadata": {
        "id": "LFfdgfZ3BK1f",
        "colab_type": "text"
      },
      "source": [
        "## Kmeans con un conjunto de datos multidimensional"
      ]
    },
    {
      "cell_type": "markdown",
      "metadata": {
        "id": "HqF2ez8MBM22",
        "colab_type": "text"
      },
      "source": [
        "<p align=\"justify\">\n",
        "Al tratarse de un algoritmo basado en aprendizaje no supervisado, no se requieren las etiquetas para entrenar o predir. Hay que tener en cuenta que en este tipo de problemas se presupone que no se dispone de las etiquetas.\n",
        "</p>"
      ]
    },
    {
      "cell_type": "code",
      "metadata": {
        "id": "cA0LzSUh_Kxe",
        "colab_type": "code",
        "colab": {}
      },
      "source": [
        "X = df_norm.drop(\"isFradulent_Y\", axis=1)\n",
        "y = df_norm[\"isFradulent_Y\"].copy()"
      ],
      "execution_count": 36,
      "outputs": []
    },
    {
      "cell_type": "code",
      "metadata": {
        "id": "RRMecxf0BmRE",
        "colab_type": "code",
        "colab": {}
      },
      "source": [
        "from sklearn.cluster import KMeans\n",
        "\n",
        "kmeans = KMeans(n_clusters=2, random_state=42)\n",
        "clusters = kmeans.fit_predict(X)"
      ],
      "execution_count": 37,
      "outputs": []
    },
    {
      "cell_type": "code",
      "metadata": {
        "id": "ygT3VlzpBz-O",
        "colab_type": "code",
        "colab": {
          "base_uri": "https://localhost:8080/",
          "height": 51
        },
        "outputId": "8acc259b-c58b-437f-f4f0-a46f257dd939"
      },
      "source": [
        "# Evaluamos los clusters y el contenido que se han formado\n",
        "counter = Counter(clusters.tolist())\n",
        "bad_counter = Counter(clusters[y == 1].tolist())\n",
        "\n",
        "for key in sorted(counter.keys()):\n",
        "    print(\"Label {0} has {1} samples - {2} are malicious samples\".format(\n",
        "        key, counter[key], bad_counter[key]))"
      ],
      "execution_count": 38,
      "outputs": [
        {
          "output_type": "stream",
          "text": [
            "Label 0 has 2369 samples - 127 are malicious samples\n",
            "Label 1 has 706 samples - 321 are malicious samples\n"
          ],
          "name": "stdout"
        }
      ]
    },
    {
      "cell_type": "markdown",
      "metadata": {
        "id": "uyi-m-bPC6n3",
        "colab_type": "text"
      },
      "source": [
        "## Reducción del número de características"
      ]
    },
    {
      "cell_type": "markdown",
      "metadata": {
        "id": "cRVvWvhVC-hM",
        "colab_type": "text"
      },
      "source": [
        "En muchas ocasiones Kmeans funciona mejor con un número de características bajo."
      ]
    },
    {
      "cell_type": "markdown",
      "metadata": {
        "id": "o9_YkzWrDDiO",
        "colab_type": "text"
      },
      "source": [
        "## Aplicamos selección de características con Random Forest"
      ]
    },
    {
      "cell_type": "code",
      "metadata": {
        "id": "ivc3HO3uCQgg",
        "colab_type": "code",
        "colab": {
          "base_uri": "https://localhost:8080/",
          "height": 153
        },
        "outputId": "29797ae8-20a7-4e81-9aaf-ecab650d28c9"
      },
      "source": [
        "# Utilizamos Random Forest para realizar selección de características\n",
        "from sklearn.ensemble import RandomForestClassifier\n",
        "\n",
        "clf_rnd = RandomForestClassifier(n_estimators=50, random_state=42, n_jobs=-1)\n",
        "clf_rnd.fit(X, y)"
      ],
      "execution_count": 39,
      "outputs": [
        {
          "output_type": "execute_result",
          "data": {
            "text/plain": [
              "RandomForestClassifier(bootstrap=True, ccp_alpha=0.0, class_weight=None,\n",
              "                       criterion='gini', max_depth=None, max_features='auto',\n",
              "                       max_leaf_nodes=None, max_samples=None,\n",
              "                       min_impurity_decrease=0.0, min_impurity_split=None,\n",
              "                       min_samples_leaf=1, min_samples_split=2,\n",
              "                       min_weight_fraction_leaf=0.0, n_estimators=50, n_jobs=-1,\n",
              "                       oob_score=False, random_state=42, verbose=0,\n",
              "                       warm_start=False)"
            ]
          },
          "metadata": {
            "tags": []
          },
          "execution_count": 39
        }
      ]
    },
    {
      "cell_type": "code",
      "metadata": {
        "id": "NlHOYO62DPl6",
        "colab_type": "code",
        "colab": {}
      },
      "source": [
        "# Seleccionamos las características más importantes\n",
        "feature_importances = {name: score for name, score in zip(list(df), clf_rnd.feature_importances_)}\n",
        "feature_importances_sorted = pd.Series(feature_importances).sort_values(ascending=False)"
      ],
      "execution_count": 40,
      "outputs": []
    },
    {
      "cell_type": "code",
      "metadata": {
        "id": "sjlMpuxcDVtr",
        "colab_type": "code",
        "colab": {}
      },
      "source": [
        "# Reducimos el conjunto de datos a las 4 características más importantes\n",
        "X_reduced = X[list(feature_importances_sorted.head(4).index)].copy()"
      ],
      "execution_count": 41,
      "outputs": []
    },
    {
      "cell_type": "code",
      "metadata": {
        "id": "caRHStx-Dm-O",
        "colab_type": "code",
        "colab": {
          "base_uri": "https://localhost:8080/",
          "height": 419
        },
        "outputId": "2b197a16-64ba-4de7-e489-81d74dc6c0ff"
      },
      "source": [
        "X_reduced"
      ],
      "execution_count": 42,
      "outputs": [
        {
          "output_type": "execute_result",
          "data": {
            "text/html": [
              "<div>\n",
              "<style scoped>\n",
              "    .dataframe tbody tr th:only-of-type {\n",
              "        vertical-align: middle;\n",
              "    }\n",
              "\n",
              "    .dataframe tbody tr th {\n",
              "        vertical-align: top;\n",
              "    }\n",
              "\n",
              "    .dataframe thead th {\n",
              "        text-align: right;\n",
              "    }\n",
              "</style>\n",
              "<table border=\"1\" class=\"dataframe\">\n",
              "  <thead>\n",
              "    <tr style=\"text-align: right;\">\n",
              "      <th></th>\n",
              "      <th>isHighRiskCountry_Y</th>\n",
              "      <th>Transaction_amount</th>\n",
              "      <th>Total Number of declines/day</th>\n",
              "      <th>6-month_chbk_freq</th>\n",
              "    </tr>\n",
              "  </thead>\n",
              "  <tbody>\n",
              "    <tr>\n",
              "      <th>0</th>\n",
              "      <td>1.0</td>\n",
              "      <td>0.027778</td>\n",
              "      <td>0.25</td>\n",
              "      <td>0.000000</td>\n",
              "    </tr>\n",
              "    <tr>\n",
              "      <th>1</th>\n",
              "      <td>1.0</td>\n",
              "      <td>0.039815</td>\n",
              "      <td>0.25</td>\n",
              "      <td>0.000000</td>\n",
              "    </tr>\n",
              "    <tr>\n",
              "      <th>2</th>\n",
              "      <td>0.0</td>\n",
              "      <td>0.044657</td>\n",
              "      <td>0.25</td>\n",
              "      <td>0.000000</td>\n",
              "    </tr>\n",
              "    <tr>\n",
              "      <th>3</th>\n",
              "      <td>0.0</td>\n",
              "      <td>0.046375</td>\n",
              "      <td>0.40</td>\n",
              "      <td>0.000000</td>\n",
              "    </tr>\n",
              "    <tr>\n",
              "      <th>4</th>\n",
              "      <td>1.0</td>\n",
              "      <td>0.240741</td>\n",
              "      <td>0.00</td>\n",
              "      <td>0.666667</td>\n",
              "    </tr>\n",
              "    <tr>\n",
              "      <th>...</th>\n",
              "      <td>...</td>\n",
              "      <td>...</td>\n",
              "      <td>...</td>\n",
              "      <td>...</td>\n",
              "    </tr>\n",
              "    <tr>\n",
              "      <th>3070</th>\n",
              "      <td>0.0</td>\n",
              "      <td>0.101852</td>\n",
              "      <td>0.00</td>\n",
              "      <td>0.777778</td>\n",
              "    </tr>\n",
              "    <tr>\n",
              "      <th>3071</th>\n",
              "      <td>0.0</td>\n",
              "      <td>0.000000</td>\n",
              "      <td>0.00</td>\n",
              "      <td>0.777778</td>\n",
              "    </tr>\n",
              "    <tr>\n",
              "      <th>3072</th>\n",
              "      <td>0.0</td>\n",
              "      <td>0.192593</td>\n",
              "      <td>0.00</td>\n",
              "      <td>0.777778</td>\n",
              "    </tr>\n",
              "    <tr>\n",
              "      <th>3073</th>\n",
              "      <td>1.0</td>\n",
              "      <td>0.111111</td>\n",
              "      <td>0.00</td>\n",
              "      <td>0.777778</td>\n",
              "    </tr>\n",
              "    <tr>\n",
              "      <th>3074</th>\n",
              "      <td>1.0</td>\n",
              "      <td>0.333333</td>\n",
              "      <td>0.00</td>\n",
              "      <td>0.777778</td>\n",
              "    </tr>\n",
              "  </tbody>\n",
              "</table>\n",
              "<p>3075 rows × 4 columns</p>\n",
              "</div>"
            ],
            "text/plain": [
              "      isHighRiskCountry_Y  ...  6-month_chbk_freq\n",
              "0                     1.0  ...           0.000000\n",
              "1                     1.0  ...           0.000000\n",
              "2                     0.0  ...           0.000000\n",
              "3                     0.0  ...           0.000000\n",
              "4                     1.0  ...           0.666667\n",
              "...                   ...  ...                ...\n",
              "3070                  0.0  ...           0.777778\n",
              "3071                  0.0  ...           0.777778\n",
              "3072                  0.0  ...           0.777778\n",
              "3073                  1.0  ...           0.777778\n",
              "3074                  1.0  ...           0.777778\n",
              "\n",
              "[3075 rows x 4 columns]"
            ]
          },
          "metadata": {
            "tags": []
          },
          "execution_count": 42
        }
      ]
    },
    {
      "cell_type": "markdown",
      "metadata": {
        "id": "_r1ebaLNEZqU",
        "colab_type": "text"
      },
      "source": [
        "## Entrenamiento de KMEANS con el conjunto de datos reducido"
      ]
    },
    {
      "cell_type": "code",
      "metadata": {
        "id": "u4MkTm8aDoaX",
        "colab_type": "code",
        "colab": {}
      },
      "source": [
        "from sklearn.cluster import KMeans\n",
        "\n",
        "kmeans = KMeans(n_clusters=2, random_state=42)\n",
        "clusters = kmeans.fit_predict(X_reduced)"
      ],
      "execution_count": 43,
      "outputs": []
    },
    {
      "cell_type": "code",
      "metadata": {
        "id": "bcm9Y1LFEgmt",
        "colab_type": "code",
        "colab": {
          "base_uri": "https://localhost:8080/",
          "height": 51
        },
        "outputId": "b7cefbe0-c9e7-45c0-b16a-a06bb0fdb16c"
      },
      "source": [
        "# Evaluamos los clusters y el contenido que se han formado\n",
        "counter = Counter(clusters.tolist())\n",
        "bad_counter = Counter(clusters[y == 1].tolist())\n",
        "\n",
        "for key in sorted(counter.keys()):\n",
        "    print(\"Label {0} has {1} samples - {2} are malicious samples\".format(\n",
        "        key, counter[key], bad_counter[key]))"
      ],
      "execution_count": 44,
      "outputs": [
        {
          "output_type": "stream",
          "text": [
            "Label 0 has 205 samples - 203 are malicious samples\n",
            "Label 1 has 2870 samples - 245 are malicious samples\n"
          ],
          "name": "stdout"
        }
      ]
    },
    {
      "cell_type": "markdown",
      "metadata": {
        "id": "lAjv2Db1IrtP",
        "colab_type": "text"
      },
      "source": [
        "# Evaluación de los resultados"
      ]
    },
    {
      "cell_type": "markdown",
      "metadata": {
        "id": "sGNAxIk9IwUl",
        "colab_type": "text"
      },
      "source": [
        "<p align=\"justify\">\n",
        "Hay que tener cuidado con los conjuntos de datos desequilibrados cuando se utilizan métricas para medir la pureza de los clusters. Una posible solución es utilizar técnicas de equilibrado del conjunto de datos, como la generación de más ejemplos de transacciones fraudulentas o la disminución de ejemplos de transacciones legítimas.\n",
        "</p>"
      ]
    },
    {
      "cell_type": "code",
      "metadata": {
        "id": "mnrzaPDbEmyq",
        "colab_type": "code",
        "colab": {
          "base_uri": "https://localhost:8080/",
          "height": 34
        },
        "outputId": "b98f02c8-1243-4971-ce9a-70184df9b0d7"
      },
      "source": [
        "# Calculamos el purity score, es importante darse cuenta de que recibe las etiquetas\n",
        "print(\"Purity Score:\", purity_score(y, clusters))"
      ],
      "execution_count": 45,
      "outputs": [
        {
          "output_type": "stream",
          "text": [
            "Purity Score: 0.9196747967479675\n"
          ],
          "name": "stdout"
        }
      ]
    },
    {
      "cell_type": "code",
      "metadata": {
        "id": "ysNTX8WgI3sg",
        "colab_type": "code",
        "colab": {
          "base_uri": "https://localhost:8080/",
          "height": 34
        },
        "outputId": "a7e0b37a-1618-4088-8cea-6244ff046599"
      },
      "source": [
        "# Calculamos el coeficiente de Shiloutte, es importante darse cuenta de que no le pasamos las etiquetas\n",
        "print(\"Shiloutte: \", metrics.silhouette_score(X_reduced, clusters, sample_size=3075))"
      ],
      "execution_count": 46,
      "outputs": [
        {
          "output_type": "stream",
          "text": [
            "Shiloutte:  0.8177993646362611\n"
          ],
          "name": "stdout"
        }
      ]
    },
    {
      "cell_type": "code",
      "metadata": {
        "id": "72clOqjVJMGR",
        "colab_type": "code",
        "colab": {
          "base_uri": "https://localhost:8080/",
          "height": 34
        },
        "outputId": "7106f563-da57-4ec6-e687-1d5fffd201c9"
      },
      "source": [
        "# Calculamos el Calinski harabasz score, es importante darse cuenta de que no le pasamos las etiquetas\n",
        "print(\"Calinski harabasz: \", metrics.calinski_harabasz_score(X_reduced, clusters))"
      ],
      "execution_count": 47,
      "outputs": [
        {
          "output_type": "stream",
          "text": [
            "Calinski harabasz:  4113.2026082175325\n"
          ],
          "name": "stdout"
        }
      ]
    },
    {
      "cell_type": "markdown",
      "metadata": {
        "id": "hI-BtZ49nBig",
        "colab_type": "text"
      },
      "source": [
        "### DBSCAN.\n",
        "<p align=\"justify\">\n",
        "Es un algoritmo de clustering basado en densidad no en distancia, infiere automáticamente el numero de clusters a partir del conjunto dado y funciona correctamente en distribuciones no esféricas. DBSCAN define un radio alrededor del conjunto de datos a partir del cual buscar ejemplos vecinos, a esto lo denomina EPSILON, siendo este el primer parámetro que recibe el algoritmo. Y un segundo parámetro llamado MINPOINTS que definen el numero de vecinos necesarios para formar un clúster. \n",
        "</p>"
      ]
    },
    {
      "cell_type": "markdown",
      "metadata": {
        "id": "9mWia8kDnJcn",
        "colab_type": "text"
      },
      "source": [
        "#### Limitaciones de algoritmos DBSCAN.\n",
        "<ul>\n",
        "  <li> \n",
        "      <p align=\"justify\">\n",
        "No funciona correctamente cuando los clusters del conjunto de datos tienen diferentes densidades.\n",
        "       </p>\n",
        "  </li>\n",
        "  <li> \n",
        "      <p align=\"justify\">\n",
        "La selección de parámetros EPSILON y MINPOINTS es muy importante para el correcto funcionamiento del algoritmo.\n",
        "       </p>\n",
        "  </li>\n",
        "  <li> \n",
        "      <p align=\"justify\">\n",
        "No se comporta adecuadamente para consunto de datos de muchas dimensiones.\n",
        "       </p>\n",
        "  </li>\n",
        "</ul>"
      ]
    },
    {
      "cell_type": "markdown",
      "metadata": {
        "id": "QQ8z4aCSIWIK",
        "colab_type": "text"
      },
      "source": [
        "## DBSCAN con un conjunto de datos de dos dimensiones"
      ]
    },
    {
      "cell_type": "code",
      "metadata": {
        "id": "BbjOn6cEJRNH",
        "colab_type": "code",
        "colab": {}
      },
      "source": [
        "X = df_norm[[\"Transaction_amount\", \"Average Amount/transaction/day\"]].copy()\n",
        "y = df_norm[\"isFradulent_Y\"].copy()"
      ],
      "execution_count": 48,
      "outputs": []
    },
    {
      "cell_type": "code",
      "metadata": {
        "id": "vzTKzuGzJPWS",
        "colab_type": "code",
        "colab": {
          "base_uri": "https://localhost:8080/",
          "height": 51
        },
        "outputId": "95324786-884d-419d-c1a2-d3c35bd1ba84"
      },
      "source": [
        "from sklearn.cluster import DBSCAN\n",
        "\n",
        "dbscan = DBSCAN(eps=0.15, min_samples=13)\n",
        "dbscan.fit(X)"
      ],
      "execution_count": 49,
      "outputs": [
        {
          "output_type": "execute_result",
          "data": {
            "text/plain": [
              "DBSCAN(algorithm='auto', eps=0.15, leaf_size=30, metric='euclidean',\n",
              "       metric_params=None, min_samples=13, n_jobs=None, p=None)"
            ]
          },
          "metadata": {
            "tags": []
          },
          "execution_count": 49
        }
      ]
    },
    {
      "cell_type": "code",
      "metadata": {
        "id": "mrnH4u-1JSVm",
        "colab_type": "code",
        "colab": {}
      },
      "source": [
        "def plot_dbscan(dbscan, X, size):\n",
        "    core_mask = np.zeros_like(dbscan.labels_, dtype=bool)\n",
        "    core_mask[dbscan.core_sample_indices_] = True\n",
        "    anomalies_mask = dbscan.labels_ == -1\n",
        "    non_core_mask = ~(core_mask | anomalies_mask)\n",
        "\n",
        "    cores = dbscan.components_\n",
        "    anomalies = X[anomalies_mask]\n",
        "    non_cores = X[non_core_mask]\n",
        "    \n",
        "    plt.scatter(cores[:, 0], cores[:, 1],\n",
        "                c=dbscan.labels_[core_mask], marker='o', s=size, cmap=\"Paired\")\n",
        "    plt.scatter(cores[:, 0], cores[:, 1], marker='*', s=20, c=dbscan.labels_[core_mask])\n",
        "    plt.scatter(anomalies[:, 0], anomalies[:, 1],\n",
        "                c=\"r\", marker=\".\", s=100)\n",
        "    plt.scatter(non_cores[:, 0], non_cores[:, 1], c=dbscan.labels_[non_core_mask], marker=\".\")\n",
        "    plt.title(\"eps={:.2f}, min_samples={}\".format(dbscan.eps, dbscan.min_samples), fontsize=14)"
      ],
      "execution_count": 50,
      "outputs": []
    },
    {
      "cell_type": "code",
      "metadata": {
        "id": "f7OS7LD9JVV1",
        "colab_type": "code",
        "colab": {
          "base_uri": "https://localhost:8080/",
          "height": 409
        },
        "outputId": "082204b0-020f-4aae-b7a0-da885fdd7d22"
      },
      "source": [
        "plt.figure(figsize=(12, 6))\n",
        "plot_dbscan(dbscan, X.values, size=100)\n",
        "plt.xlabel(\"Transaction_amount\", fontsize=14)\n",
        "plt.ylabel(\"Average Amount/transaction/day\", fontsize=14)\n",
        "plt.show()"
      ],
      "execution_count": 51,
      "outputs": [
        {
          "output_type": "display_data",
          "data": {
            "image/png": "[encoded data removed]",
            "text/plain": [
              "<Figure size 864x432 with 1 Axes>"
            ]
          },
          "metadata": {
            "tags": [],
            "needs_background": "light"
          }
        }
      ]
    },
    {
      "cell_type": "code",
      "metadata": {
        "id": "kbYBUzz2JX5_",
        "colab_type": "code",
        "colab": {
          "base_uri": "https://localhost:8080/",
          "height": 51
        },
        "outputId": "8dfd583e-74a4-4e52-e1ce-2b6145919a66"
      },
      "source": [
        "counter = Counter(dbscan.labels_.tolist())\n",
        "bad_counter = Counter(dbscan.labels_[y == 1].tolist())\n",
        "\n",
        "for key in sorted(counter.keys()):\n",
        "    print(\"Label {0} has {1} samples - {2} are malicious samples\".format(\n",
        "        key, counter[key], bad_counter[key]))"
      ],
      "execution_count": 52,
      "outputs": [
        {
          "output_type": "stream",
          "text": [
            "Label -1 has 6 samples - 4 are malicious samples\n",
            "Label 0 has 3069 samples - 444 are malicious samples\n"
          ],
          "name": "stdout"
        }
      ]
    },
    {
      "cell_type": "markdown",
      "metadata": {
        "id": "WfkjE7hT3Yl1",
        "colab_type": "text"
      },
      "source": [
        "### DBSCAN con un conjunto de datos multidimensional"
      ]
    },
    {
      "cell_type": "code",
      "metadata": {
        "id": "FaLkiBIpJlVx",
        "colab_type": "code",
        "colab": {}
      },
      "source": [
        "X = df_norm.drop(\"isFradulent_Y\", axis=1)\n",
        "y = df_norm[\"isFradulent_Y\"].copy()"
      ],
      "execution_count": 53,
      "outputs": []
    },
    {
      "cell_type": "code",
      "metadata": {
        "id": "R8jcL0bD3i5R",
        "colab_type": "code",
        "colab": {
          "base_uri": "https://localhost:8080/",
          "height": 51
        },
        "outputId": "33e728c4-7dea-4460-f407-6791b99b569f"
      },
      "source": [
        "dbscan = DBSCAN(eps=0.15, min_samples=13)\n",
        "dbscan.fit(X)"
      ],
      "execution_count": 54,
      "outputs": [
        {
          "output_type": "execute_result",
          "data": {
            "text/plain": [
              "DBSCAN(algorithm='auto', eps=0.15, leaf_size=30, metric='euclidean',\n",
              "       metric_params=None, min_samples=13, n_jobs=None, p=None)"
            ]
          },
          "metadata": {
            "tags": []
          },
          "execution_count": 54
        }
      ]
    },
    {
      "cell_type": "code",
      "metadata": {
        "id": "1Tt7w0oV4BGS",
        "colab_type": "code",
        "colab": {
          "base_uri": "https://localhost:8080/",
          "height": 102
        },
        "outputId": "ff70ebc8-3845-4218-f1fc-7a55d1a2cb2d"
      },
      "source": [
        "counter = Counter(dbscan.labels_.tolist())\n",
        "bad_counter = Counter(dbscan.labels_[y == 1].tolist())\n",
        "\n",
        "for key in sorted(counter.keys()):\n",
        "    print(\"Label {0} has {1} samples - {2} are malicious samples\".format(\n",
        "        key, counter[key], bad_counter[key]))"
      ],
      "execution_count": 55,
      "outputs": [
        {
          "output_type": "stream",
          "text": [
            "Label -1 has 217 samples - 138 are malicious samples\n",
            "Label 0 has 175 samples - 175 are malicious samples\n",
            "Label 1 has 461 samples - 88 are malicious samples\n",
            "Label 2 has 2209 samples - 35 are malicious samples\n",
            "Label 3 has 13 samples - 12 are malicious samples\n"
          ],
          "name": "stdout"
        }
      ]
    },
    {
      "cell_type": "markdown",
      "metadata": {
        "id": "401eTsg3J6Ej",
        "colab_type": "text"
      },
      "source": [
        "## Reducción del número de características"
      ]
    },
    {
      "cell_type": "markdown",
      "metadata": {
        "id": "0yvtzG9lJ-ZG",
        "colab_type": "text"
      },
      "source": [
        "## Aplicamos selección de características con Random Forest"
      ]
    },
    {
      "cell_type": "code",
      "metadata": {
        "id": "mWNxClKRJ034",
        "colab_type": "code",
        "colab": {
          "base_uri": "https://localhost:8080/",
          "height": 153
        },
        "outputId": "bfde8e89-7e04-419b-bd99-3b82f98bb498"
      },
      "source": [
        "# Utilizamos Random Forest para realizar selección de características\n",
        "from sklearn.ensemble import RandomForestClassifier\n",
        "\n",
        "clf_rnd = RandomForestClassifier(n_estimators=50, random_state=42, n_jobs=-1)\n",
        "clf_rnd.fit(X, y)"
      ],
      "execution_count": 56,
      "outputs": [
        {
          "output_type": "execute_result",
          "data": {
            "text/plain": [
              "RandomForestClassifier(bootstrap=True, ccp_alpha=0.0, class_weight=None,\n",
              "                       criterion='gini', max_depth=None, max_features='auto',\n",
              "                       max_leaf_nodes=None, max_samples=None,\n",
              "                       min_impurity_decrease=0.0, min_impurity_split=None,\n",
              "                       min_samples_leaf=1, min_samples_split=2,\n",
              "                       min_weight_fraction_leaf=0.0, n_estimators=50, n_jobs=-1,\n",
              "                       oob_score=False, random_state=42, verbose=0,\n",
              "                       warm_start=False)"
            ]
          },
          "metadata": {
            "tags": []
          },
          "execution_count": 56
        }
      ]
    },
    {
      "cell_type": "code",
      "metadata": {
        "id": "9RwhOeoZJ2M7",
        "colab_type": "code",
        "colab": {}
      },
      "source": [
        "# Seleccionamos las características más importantes\n",
        "feature_importances = {name: score for name, score in zip(list(df), clf_rnd.feature_importances_)}\n",
        "feature_importances_sorted = pd.Series(feature_importances).sort_values(ascending=False)"
      ],
      "execution_count": 57,
      "outputs": []
    },
    {
      "cell_type": "code",
      "metadata": {
        "id": "SHu5VbKwKJT5",
        "colab_type": "code",
        "colab": {}
      },
      "source": [
        "# Reducimos el conjunto de datos a las 7 características más importantes\n",
        "X_reduced = X[list(feature_importances_sorted.head(4).index)].copy()"
      ],
      "execution_count": 58,
      "outputs": []
    },
    {
      "cell_type": "code",
      "metadata": {
        "id": "nwee-3o-KMH1",
        "colab_type": "code",
        "colab": {
          "base_uri": "https://localhost:8080/",
          "height": 419
        },
        "outputId": "c33179ac-07f0-4f9a-8d01-a7c9bc371b96"
      },
      "source": [
        "X_reduced"
      ],
      "execution_count": 59,
      "outputs": [
        {
          "output_type": "execute_result",
          "data": {
            "text/html": [
              "<div>\n",
              "<style scoped>\n",
              "    .dataframe tbody tr th:only-of-type {\n",
              "        vertical-align: middle;\n",
              "    }\n",
              "\n",
              "    .dataframe tbody tr th {\n",
              "        vertical-align: top;\n",
              "    }\n",
              "\n",
              "    .dataframe thead th {\n",
              "        text-align: right;\n",
              "    }\n",
              "</style>\n",
              "<table border=\"1\" class=\"dataframe\">\n",
              "  <thead>\n",
              "    <tr style=\"text-align: right;\">\n",
              "      <th></th>\n",
              "      <th>isHighRiskCountry_Y</th>\n",
              "      <th>Transaction_amount</th>\n",
              "      <th>Total Number of declines/day</th>\n",
              "      <th>6-month_chbk_freq</th>\n",
              "    </tr>\n",
              "  </thead>\n",
              "  <tbody>\n",
              "    <tr>\n",
              "      <th>0</th>\n",
              "      <td>1.0</td>\n",
              "      <td>0.027778</td>\n",
              "      <td>0.25</td>\n",
              "      <td>0.000000</td>\n",
              "    </tr>\n",
              "    <tr>\n",
              "      <th>1</th>\n",
              "      <td>1.0</td>\n",
              "      <td>0.039815</td>\n",
              "      <td>0.25</td>\n",
              "      <td>0.000000</td>\n",
              "    </tr>\n",
              "    <tr>\n",
              "      <th>2</th>\n",
              "      <td>0.0</td>\n",
              "      <td>0.044657</td>\n",
              "      <td>0.25</td>\n",
              "      <td>0.000000</td>\n",
              "    </tr>\n",
              "    <tr>\n",
              "      <th>3</th>\n",
              "      <td>0.0</td>\n",
              "      <td>0.046375</td>\n",
              "      <td>0.40</td>\n",
              "      <td>0.000000</td>\n",
              "    </tr>\n",
              "    <tr>\n",
              "      <th>4</th>\n",
              "      <td>1.0</td>\n",
              "      <td>0.240741</td>\n",
              "      <td>0.00</td>\n",
              "      <td>0.666667</td>\n",
              "    </tr>\n",
              "    <tr>\n",
              "      <th>...</th>\n",
              "      <td>...</td>\n",
              "      <td>...</td>\n",
              "      <td>...</td>\n",
              "      <td>...</td>\n",
              "    </tr>\n",
              "    <tr>\n",
              "      <th>3070</th>\n",
              "      <td>0.0</td>\n",
              "      <td>0.101852</td>\n",
              "      <td>0.00</td>\n",
              "      <td>0.777778</td>\n",
              "    </tr>\n",
              "    <tr>\n",
              "      <th>3071</th>\n",
              "      <td>0.0</td>\n",
              "      <td>0.000000</td>\n",
              "      <td>0.00</td>\n",
              "      <td>0.777778</td>\n",
              "    </tr>\n",
              "    <tr>\n",
              "      <th>3072</th>\n",
              "      <td>0.0</td>\n",
              "      <td>0.192593</td>\n",
              "      <td>0.00</td>\n",
              "      <td>0.777778</td>\n",
              "    </tr>\n",
              "    <tr>\n",
              "      <th>3073</th>\n",
              "      <td>1.0</td>\n",
              "      <td>0.111111</td>\n",
              "      <td>0.00</td>\n",
              "      <td>0.777778</td>\n",
              "    </tr>\n",
              "    <tr>\n",
              "      <th>3074</th>\n",
              "      <td>1.0</td>\n",
              "      <td>0.333333</td>\n",
              "      <td>0.00</td>\n",
              "      <td>0.777778</td>\n",
              "    </tr>\n",
              "  </tbody>\n",
              "</table>\n",
              "<p>3075 rows × 4 columns</p>\n",
              "</div>"
            ],
            "text/plain": [
              "      isHighRiskCountry_Y  ...  6-month_chbk_freq\n",
              "0                     1.0  ...           0.000000\n",
              "1                     1.0  ...           0.000000\n",
              "2                     0.0  ...           0.000000\n",
              "3                     0.0  ...           0.000000\n",
              "4                     1.0  ...           0.666667\n",
              "...                   ...  ...                ...\n",
              "3070                  0.0  ...           0.777778\n",
              "3071                  0.0  ...           0.777778\n",
              "3072                  0.0  ...           0.777778\n",
              "3073                  1.0  ...           0.777778\n",
              "3074                  1.0  ...           0.777778\n",
              "\n",
              "[3075 rows x 4 columns]"
            ]
          },
          "metadata": {
            "tags": []
          },
          "execution_count": 59
        }
      ]
    },
    {
      "cell_type": "markdown",
      "metadata": {
        "id": "HeFVhheVKSfl",
        "colab_type": "text"
      },
      "source": [
        "## Entrenamiento de DBSCAN con el conjunto de datos reducido"
      ]
    },
    {
      "cell_type": "code",
      "metadata": {
        "id": "npj3vSGgKPI9",
        "colab_type": "code",
        "colab": {
          "base_uri": "https://localhost:8080/",
          "height": 51
        },
        "outputId": "0c8af10b-3974-4b0d-a474-a04e048dedfd"
      },
      "source": [
        "from sklearn.cluster import DBSCAN\n",
        "\n",
        "dbscan = DBSCAN(eps=0.70, min_samples=25)\n",
        "dbscan.fit(X_reduced)"
      ],
      "execution_count": 60,
      "outputs": [
        {
          "output_type": "execute_result",
          "data": {
            "text/plain": [
              "DBSCAN(algorithm='auto', eps=0.7, leaf_size=30, metric='euclidean',\n",
              "       metric_params=None, min_samples=25, n_jobs=None, p=None)"
            ]
          },
          "metadata": {
            "tags": []
          },
          "execution_count": 60
        }
      ]
    },
    {
      "cell_type": "code",
      "metadata": {
        "id": "Uyl-zhpoKWA_",
        "colab_type": "code",
        "colab": {
          "base_uri": "https://localhost:8080/",
          "height": 51
        },
        "outputId": "43e0f6f5-1e79-4b68-8809-b11c74e48e2d"
      },
      "source": [
        "counter = Counter(dbscan.labels_.tolist())\n",
        "bad_counter = Counter(dbscan.labels_[y == 1].tolist())\n",
        "\n",
        "for key in sorted(counter.keys()):\n",
        "    print(\"Label {0} has {1} samples - {2} are malicious samples\".format(\n",
        "        key, counter[key], bad_counter[key]))"
      ],
      "execution_count": 61,
      "outputs": [
        {
          "output_type": "stream",
          "text": [
            "Label 0 has 205 samples - 203 are malicious samples\n",
            "Label 1 has 2870 samples - 245 are malicious samples\n"
          ],
          "name": "stdout"
        }
      ]
    },
    {
      "cell_type": "markdown",
      "metadata": {
        "id": "xb9mEeVFKu3D",
        "colab_type": "text"
      },
      "source": [
        "## Evaluación de los resultados"
      ]
    },
    {
      "cell_type": "markdown",
      "metadata": {
        "id": "Gkfg4njtK1Q0",
        "colab_type": "text"
      },
      "source": [
        "<p align=\"justify\">\n",
        "Hay que tener cuidado con los conjuntos de datos desequilibrados cuando se utilizan métricas para medir la pureza de los clusters. Una posible solución es utilizar técnicas de equilibrado del conjunto de datos, como la generación de más ejemplos de transacciones fraudulentas o la disminución de ejemplos de transacciones legítimas.\n",
        "</p>"
      ]
    },
    {
      "cell_type": "code",
      "metadata": {
        "id": "LAmazYGtKgs3",
        "colab_type": "code",
        "colab": {}
      },
      "source": [
        "# Obtenemos los clusters del objeto dbscan\n",
        "clusters = dbscan.labels_"
      ],
      "execution_count": 62,
      "outputs": []
    },
    {
      "cell_type": "code",
      "metadata": {
        "id": "YJ0RxHd-K-Y8",
        "colab_type": "code",
        "colab": {
          "base_uri": "https://localhost:8080/",
          "height": 34
        },
        "outputId": "59cfd8b3-2689-41a7-872f-13a1b6235a23"
      },
      "source": [
        "# Calculamos el purity score, es importante darse cuenta de que recibe las etiquetas\n",
        "print(\"Purity Score:\", purity_score(y, clusters))"
      ],
      "execution_count": 63,
      "outputs": [
        {
          "output_type": "stream",
          "text": [
            "Purity Score: 0.9196747967479675\n"
          ],
          "name": "stdout"
        }
      ]
    },
    {
      "cell_type": "code",
      "metadata": {
        "id": "vQP1tkqyLAw8",
        "colab_type": "code",
        "colab": {
          "base_uri": "https://localhost:8080/",
          "height": 34
        },
        "outputId": "9df46c33-195b-4a28-e1ec-6ab383fb11e0"
      },
      "source": [
        "# Calculamos el coeficiente de Shiloutte, es importante darse cuenta de que no le pasamos las etiquetas\n",
        "print(\"Shiloutte: \", metrics.silhouette_score(X_reduced, clusters, sample_size=3075))"
      ],
      "execution_count": 64,
      "outputs": [
        {
          "output_type": "stream",
          "text": [
            "Shiloutte:  0.8177993646362612\n"
          ],
          "name": "stdout"
        }
      ]
    },
    {
      "cell_type": "code",
      "metadata": {
        "id": "CAB7woS5LFRW",
        "colab_type": "code",
        "colab": {
          "base_uri": "https://localhost:8080/",
          "height": 34
        },
        "outputId": "6c28393f-c57d-4848-a302-6cfab0efc4ff"
      },
      "source": [
        "# Calculamos el Calinski harabasz score, es importante darse cuenta de que no le pasamos las etiquetas\n",
        "print(\"Calinski harabasz: \", metrics.calinski_harabasz_score(X_reduced, clusters))"
      ],
      "execution_count": 65,
      "outputs": [
        {
          "output_type": "stream",
          "text": [
            "Calinski harabasz:  4113.2026082175325\n"
          ],
          "name": "stdout"
        }
      ]
    },
    {
      "cell_type": "markdown",
      "metadata": {
        "id": "rU4qUemnDEbu",
        "colab_type": "text"
      },
      "source": [
        "### Clustering jerárquico\n",
        "<p align=\"justify\">\n",
        "Es una aproximación de abajo hacia arriba (bottom-up) donde se dividen los clusters en sub clusters y así sucesivamente. Iniciando asignando cada muestra simple a un clúster y en cada iteración sucesiva va aglomerando (mezclando) el par de clusters más cercanos satisfaciendo algún criterio de similaridad, hasta que todos los elementos pertenecen a un solo clúster. Los clusters generados en los primeros pasos son anidados con los clusters generados en los siguientes pasos.\n",
        "</p>"
      ]
    },
    {
      "cell_type": "markdown",
      "metadata": {
        "id": "wDDfLRLpMce4",
        "colab_type": "text"
      },
      "source": [
        "## Clustering jerárquico con un conjunto de datos de dos dimensiones"
      ]
    },
    {
      "cell_type": "code",
      "metadata": {
        "id": "vB6WwVtOLIPP",
        "colab_type": "code",
        "colab": {}
      },
      "source": [
        "from sklearn.cluster import AgglomerativeClustering"
      ],
      "execution_count": 66,
      "outputs": []
    },
    {
      "cell_type": "code",
      "metadata": {
        "id": "50O3sMxyDMVS",
        "colab_type": "code",
        "colab": {}
      },
      "source": [
        "X = df_norm[[\"Transaction_amount\", \"Average Amount/transaction/day\"]].copy()\n",
        "y = df_norm[\"isFradulent_Y\"].copy()"
      ],
      "execution_count": 67,
      "outputs": []
    },
    {
      "cell_type": "code",
      "metadata": {
        "id": "yIefWsd4DcIs",
        "colab_type": "code",
        "colab": {}
      },
      "source": [
        "clus= AgglomerativeClustering(n_clusters=2, linkage=\"ward\").fit(X)"
      ],
      "execution_count": 68,
      "outputs": []
    },
    {
      "cell_type": "code",
      "metadata": {
        "id": "xs9ieQ0HDgsz",
        "colab_type": "code",
        "colab": {
          "base_uri": "https://localhost:8080/",
          "height": 51
        },
        "outputId": "fa50f203-a62a-4782-88fd-b2897c67250d"
      },
      "source": [
        "counter = Counter(clus.labels_.tolist())\n",
        "bad_counter = Counter(clus.labels_[y == 1].tolist())\n",
        "\n",
        "for key in sorted(counter.keys()):\n",
        "    print(\"Label {0} has {1} samples - {2} are malicious samples\".format(\n",
        "        key, counter[key], bad_counter[key]))"
      ],
      "execution_count": 69,
      "outputs": [
        {
          "output_type": "stream",
          "text": [
            "Label 0 has 1460 samples - 263 are malicious samples\n",
            "Label 1 has 1615 samples - 185 are malicious samples\n"
          ],
          "name": "stdout"
        }
      ]
    },
    {
      "cell_type": "code",
      "metadata": {
        "id": "2SvfeQRvGTxW",
        "colab_type": "code",
        "colab": {
          "base_uri": "https://localhost:8080/",
          "height": 312
        },
        "outputId": "47f8e8ae-08a4-4f85-bce9-5dbd7d8f660e"
      },
      "source": [
        "isFradulent_Y = pd.Series(clus.labels_)\n",
        "plt.hist(isFradulent_Y)\n",
        "plt.title(\"Histograma de los clusters\")\n",
        "plt.xlabel(\"Cluster\")\n",
        "plt.ylabel(\"isFradulent_Y\")"
      ],
      "execution_count": 70,
      "outputs": [
        {
          "output_type": "execute_result",
          "data": {
            "text/plain": [
              "Text(0, 0.5, 'isFradulent_Y')"
            ]
          },
          "metadata": {
            "tags": []
          },
          "execution_count": 70
        },
        {
          "output_type": "display_data",
          "data": {
            "image/png": "[encoded data removed]",
            "text/plain": [
              "<Figure size 432x288 with 1 Axes>"
            ]
          },
          "metadata": {
            "tags": [],
            "needs_background": "light"
          }
        }
      ]
    },
    {
      "cell_type": "markdown",
      "metadata": {
        "id": "gL4GIyIcGq8e",
        "colab_type": "text"
      },
      "source": [
        "##  Dendograma de un clustering jerárquico con un conjunto de datos de dos dimensiones"
      ]
    },
    {
      "cell_type": "markdown",
      "metadata": {
        "id": "y4iUvCJYGwUy",
        "colab_type": "text"
      },
      "source": [
        "Un dendograma es una visualización grafica en forma de árbol que muestra el orden y las distancias de las uniones que ocurren en un clustering jerárquico"
      ]
    },
    {
      "cell_type": "code",
      "metadata": {
        "id": "WcIjrl5MG47y",
        "colab_type": "code",
        "colab": {}
      },
      "source": [
        "from scipy.cluster.hierarchy import dendrogram, linkage"
      ],
      "execution_count": 71,
      "outputs": []
    },
    {
      "cell_type": "code",
      "metadata": {
        "id": "3DwkijXaG91m",
        "colab_type": "code",
        "colab": {}
      },
      "source": [
        "Z = linkage(X, \"ward\")"
      ],
      "execution_count": 72,
      "outputs": []
    },
    {
      "cell_type": "code",
      "metadata": {
        "id": "Y73cpb8tHHOH",
        "colab_type": "code",
        "colab": {
          "base_uri": "https://localhost:8080/",
          "height": 427
        },
        "outputId": "5bd3a83a-b6c1-49a8-cf78-867811e6b652"
      },
      "source": [
        "plt.figure(figsize=(25,10))\n",
        "plt.title(\"Dendrograma de transacciones fraudulentas\")\n",
        "plt.xlabel(\"Índices de la Muestra\")\n",
        "plt.ylabel(\"Distancia\")\n",
        "#dendrogram(Z, leaf_rotation=90., leaf_font_size=4.)\n",
        "dendrogram(Z, leaf_rotation=90., leaf_font_size=12.0,\n",
        "           truncate_mode=\"lastp\", p=12, show_leaf_counts=True, show_contracted=True,)\n",
        "plt.show()"
      ],
      "execution_count": 73,
      "outputs": [
        {
          "output_type": "display_data",
          "data": {
            "image/png": "[encoded data removed]",
            "text/plain": [
              "<Figure size 1800x720 with 1 Axes>"
            ]
          },
          "metadata": {
            "tags": [],
            "needs_background": "light"
          }
        }
      ]
    },
    {
      "cell_type": "markdown",
      "metadata": {
        "id": "gdVPRk7tDUzC",
        "colab_type": "text"
      },
      "source": [
        "## Clustering jerárquico con un conjunto de datos multidimensional"
      ]
    },
    {
      "cell_type": "code",
      "metadata": {
        "id": "XtwiktSoNkeF",
        "colab_type": "code",
        "colab": {}
      },
      "source": [
        "X = df_norm.drop(\"isFradulent_Y\", axis=1)\n",
        "y = df_norm[\"isFradulent_Y\"].copy()"
      ],
      "execution_count": 74,
      "outputs": []
    },
    {
      "cell_type": "code",
      "metadata": {
        "id": "qK0jO92hMsHz",
        "colab_type": "code",
        "colab": {}
      },
      "source": [
        "clus= AgglomerativeClustering(n_clusters=2, linkage=\"ward\").fit(X)"
      ],
      "execution_count": 75,
      "outputs": []
    },
    {
      "cell_type": "code",
      "metadata": {
        "id": "nIDSe_HC7Err",
        "colab_type": "code",
        "colab": {
          "base_uri": "https://localhost:8080/",
          "height": 51
        },
        "outputId": "5c898ff4-f4b6-441c-9b27-fd16749fb56a"
      },
      "source": [
        "counter = Counter(clus.labels_.tolist())\n",
        "bad_counter = Counter(clus.labels_[y == 1].tolist())\n",
        "\n",
        "for key in sorted(counter.keys()):\n",
        "    print(\"Label {0} has {1} samples - {2} are malicious samples\".format(\n",
        "        key, counter[key], bad_counter[key]))"
      ],
      "execution_count": 76,
      "outputs": [
        {
          "output_type": "stream",
          "text": [
            "Label 0 has 2438 samples - 184 are malicious samples\n",
            "Label 1 has 637 samples - 264 are malicious samples\n"
          ],
          "name": "stdout"
        }
      ]
    },
    {
      "cell_type": "code",
      "metadata": {
        "id": "OEThLuZ5MxdE",
        "colab_type": "code",
        "colab": {
          "base_uri": "https://localhost:8080/",
          "height": 312
        },
        "outputId": "0d37a31d-d252-4d71-b3f1-ddd44487b39b"
      },
      "source": [
        "isFradulent_Y = pd.Series(clus.labels_)\n",
        "plt.hist(isFradulent_Y)\n",
        "plt.title(\"Histograma de los clusters\")\n",
        "plt.xlabel(\"Cluster\")\n",
        "plt.ylabel(\"isFradulent_Y\")"
      ],
      "execution_count": 77,
      "outputs": [
        {
          "output_type": "execute_result",
          "data": {
            "text/plain": [
              "Text(0, 0.5, 'isFradulent_Y')"
            ]
          },
          "metadata": {
            "tags": []
          },
          "execution_count": 77
        },
        {
          "output_type": "display_data",
          "data": {
            "image/png": "[encoded data removed]",
            "text/plain": [
              "<Figure size 432x288 with 1 Axes>"
            ]
          },
          "metadata": {
            "tags": [],
            "needs_background": "light"
          }
        }
      ]
    },
    {
      "cell_type": "markdown",
      "metadata": {
        "id": "mqADNF2uFP2W",
        "colab_type": "text"
      },
      "source": [
        "## Dendograma de un clustering jerárquico con un conjunto de datos multidimensional"
      ]
    },
    {
      "cell_type": "code",
      "metadata": {
        "id": "WRw6UlBOOVje",
        "colab_type": "code",
        "colab": {}
      },
      "source": [
        "Z = linkage(X, \"ward\")"
      ],
      "execution_count": 78,
      "outputs": []
    },
    {
      "cell_type": "code",
      "metadata": {
        "id": "6m_9n7Y6OYnU",
        "colab_type": "code",
        "colab": {
          "base_uri": "https://localhost:8080/",
          "height": 431
        },
        "outputId": "8fd3ffe3-a05f-4344-e9d9-394af6c0d84d"
      },
      "source": [
        "plt.figure(figsize=(25,10))\n",
        "plt.title(\"Dendrograma de transacciones fraudulentas\")\n",
        "plt.xlabel(\"Índices de la Muestra\")\n",
        "plt.ylabel(\"Distancia\")\n",
        "#dendrogram(Z, leaf_rotation=90., leaf_font_size=4.)\n",
        "dendrogram(Z, leaf_rotation=90., leaf_font_size=12.0,\n",
        "           truncate_mode=\"lastp\", p=12, show_leaf_counts=True, show_contracted=True,)\n",
        "plt.show()"
      ],
      "execution_count": 79,
      "outputs": [
        {
          "output_type": "display_data",
          "data": {
            "image/png": "[encoded data removed]",
            "text/plain": [
              "<Figure size 1800x720 with 1 Axes>"
            ]
          },
          "metadata": {
            "tags": [],
            "needs_background": "light"
          }
        }
      ]
    },
    {
      "cell_type": "markdown",
      "metadata": {
        "id": "94NQWf_Z6RXU",
        "colab_type": "text"
      },
      "source": [
        "## Entrenamiento del Clustering jerárquico con el conjunto de datos reducido"
      ]
    },
    {
      "cell_type": "code",
      "metadata": {
        "id": "-s3mJcttH0Ui",
        "colab_type": "code",
        "colab": {}
      },
      "source": [
        "clus= AgglomerativeClustering(n_clusters=2, linkage=\"ward\").fit(X_reduced)"
      ],
      "execution_count": 80,
      "outputs": []
    },
    {
      "cell_type": "code",
      "metadata": {
        "id": "gcDnvkMZJEbY",
        "colab_type": "code",
        "colab": {
          "base_uri": "https://localhost:8080/",
          "height": 51
        },
        "outputId": "baa0ebcf-e77e-4e2b-fca1-0750d24ed224"
      },
      "source": [
        "counter = Counter(clus.labels_.tolist())\n",
        "bad_counter = Counter(clus.labels_[y == 1].tolist())\n",
        "\n",
        "for key in sorted(counter.keys()):\n",
        "    print(\"Label {0} has {1} samples - {2} are malicious samples\".format(\n",
        "        key, counter[key], bad_counter[key]))"
      ],
      "execution_count": 81,
      "outputs": [
        {
          "output_type": "stream",
          "text": [
            "Label 0 has 2870 samples - 245 are malicious samples\n",
            "Label 1 has 205 samples - 203 are malicious samples\n"
          ],
          "name": "stdout"
        }
      ]
    },
    {
      "cell_type": "markdown",
      "metadata": {
        "id": "o6BTrSJ7JZJe",
        "colab_type": "text"
      },
      "source": [
        "## Dendograma de un clustering jerárquico con un conjunto de datos reducido"
      ]
    },
    {
      "cell_type": "code",
      "metadata": {
        "id": "H_0fKJPVJG2b",
        "colab_type": "code",
        "colab": {}
      },
      "source": [
        "Z = linkage(X_reduced, \"ward\")"
      ],
      "execution_count": 82,
      "outputs": []
    },
    {
      "cell_type": "code",
      "metadata": {
        "id": "KewxHdHnJh4J",
        "colab_type": "code",
        "colab": {
          "base_uri": "https://localhost:8080/",
          "height": 429
        },
        "outputId": "d306b81f-730b-4bee-8687-c128dd7a0a3d"
      },
      "source": [
        "plt.figure(figsize=(25,10))\n",
        "plt.title(\"Dendrograma de transacciones fraudulentas\")\n",
        "plt.xlabel(\"Índices de la Muestra\")\n",
        "plt.ylabel(\"Distancia\")\n",
        "#dendrogram(Z, leaf_rotation=90., leaf_font_size=4.)\n",
        "dendrogram(Z, leaf_rotation=90., leaf_font_size=12.0,\n",
        "           truncate_mode=\"lastp\", p=12, show_leaf_counts=True, show_contracted=True,)\n",
        "plt.show()"
      ],
      "execution_count": 83,
      "outputs": [
        {
          "output_type": "display_data",
          "data": {
            "image/png": "[encoded data removed]",
            "text/plain": [
              "<Figure size 1800x720 with 1 Axes>"
            ]
          },
          "metadata": {
            "tags": [],
            "needs_background": "light"
          }
        }
      ]
    },
    {
      "cell_type": "markdown",
      "metadata": {
        "id": "89ekDKoVKNhd",
        "colab_type": "text"
      },
      "source": [
        "## Evaluación de los resultados"
      ]
    },
    {
      "cell_type": "markdown",
      "metadata": {
        "id": "ocOUlZLAKQ3d",
        "colab_type": "text"
      },
      "source": [
        "<p align=\"justify\">\n",
        "Hay que tener cuidado con los conjuntos de datos desequilibrados cuando se utilizan métricas para medir la pureza de los clusters. Una posible solución es utilizar técnicas de equilibrado del conjunto de datos, como la generación de más ejemplos de transacciones fraudulentas o la disminución de ejemplos de transacciones legítimas.\n",
        "</p>"
      ]
    },
    {
      "cell_type": "code",
      "metadata": {
        "id": "KwY-vuP4Jk0H",
        "colab_type": "code",
        "colab": {}
      },
      "source": [
        "# Obtenemos los clusters del objeto dbscan\n",
        "clusters = clus.labels_"
      ],
      "execution_count": null,
      "outputs": []
    },
    {
      "cell_type": "code",
      "metadata": {
        "id": "q0n7toC-KYpX",
        "colab_type": "code",
        "colab": {
          "base_uri": "https://localhost:8080/",
          "height": 34
        },
        "outputId": "19a803cd-6bf0-441d-a6f0-8ff8ad89e3da"
      },
      "source": [
        "# Calculamos el purity score, es importante darse cuenta de que recibe las etiquetas\n",
        "print(\"Purity Score:\", purity_score(y, clusters))\n"
      ],
      "execution_count": null,
      "outputs": [
        {
          "output_type": "stream",
          "text": [
            "Purity Score: 0.9196747967479675\n"
          ],
          "name": "stdout"
        }
      ]
    },
    {
      "cell_type": "code",
      "metadata": {
        "id": "NyJme08uKco3",
        "colab_type": "code",
        "colab": {
          "base_uri": "https://localhost:8080/",
          "height": 34
        },
        "outputId": "49383cd6-d8c2-44c1-ae55-6826f879dda0"
      },
      "source": [
        "# Calculamos el coeficiente de Shiloutte, es importante darse cuenta de que no le pasamos las etiquetas\n",
        "print(\"Shiloutte: \", metrics.silhouette_score(X_reduced, clusters, sample_size=3075))"
      ],
      "execution_count": null,
      "outputs": [
        {
          "output_type": "stream",
          "text": [
            "Shiloutte:  0.8177993646362612\n"
          ],
          "name": "stdout"
        }
      ]
    },
    {
      "cell_type": "code",
      "metadata": {
        "id": "Oai7D13VKfcS",
        "colab_type": "code",
        "colab": {
          "base_uri": "https://localhost:8080/",
          "height": 34
        },
        "outputId": "7bb5d654-02bd-4afe-e67a-dd8ff4491b1c"
      },
      "source": [
        "# Calculamos el Calinski harabasz score, es importante darse cuenta de que no le pasamos las etiquetas\n",
        "print(\"Calinski harabasz: \", metrics.calinski_harabasz_score(X_reduced, clusters))"
      ],
      "execution_count": null,
      "outputs": [
        {
          "output_type": "stream",
          "text": [
            "Calinski harabasz:  4113.2026082175325\n"
          ],
          "name": "stdout"
        }
      ]
    },
    {
      "cell_type": "markdown",
      "metadata": {
        "id": "fJQR5F3OjFHX",
        "colab_type": "text"
      },
      "source": [
        "## Conclusiones\n",
        "<p align=\"justify\">\n",
        "\n",
        "\n",
        "</p>"
      ]
    },
    {
      "cell_type": "markdown",
      "metadata": {
        "id": "cAMpG34914pJ",
        "colab_type": "text"
      },
      "source": [
        "<p align=\"justify\">\n",
        "Después de a ver realizado diferentes experimentos, reduciendo el número de características atreves de bosques aleatorios seleccionando los cuatros variables más significativas dado que las técnicas de clustering funcionan mejor cuando se reducen su dimensionalidad obtuvimos los siguientes resultados.\n",
        "</p>"
      ]
    },
    {
      "cell_type": "markdown",
      "metadata": {
        "id": "vy0Y5a392WxZ",
        "colab_type": "text"
      },
      "source": [
        "KMEANS\n",
        "<ul>\n",
        "  <li>Label 0 has 205 samples - 203 are malicious samples\n",
        "  </li>\n",
        "  <li>Label 1 has 2870 samples - 245 are malicious samples\n",
        "  </li>\n",
        "</ul>"
      ]
    },
    {
      "cell_type": "markdown",
      "metadata": {
        "id": "Jaf1QNiD2oiZ",
        "colab_type": "text"
      },
      "source": [
        "DBSCAN\n",
        "<ul>\n",
        "  <li>Label 0 has 205 samples - 203 are malicious samples\n",
        "  </li>\n",
        "  <li>Label 1 has 2870 samples - 245 are malicious samples\n",
        "  </li>\n",
        "</ul>"
      ]
    },
    {
      "cell_type": "markdown",
      "metadata": {
        "id": "Q4gNI64Z24yb",
        "colab_type": "text"
      },
      "source": [
        "CLUSTERING JERÁRQUICO\n",
        "<ul>\n",
        "  <li>Label 0 has 2870 samples - 245 are malicious samples\n",
        "  </li>\n",
        "  <li>Label 1 has 205 samples - 203 are malicious samples\n",
        "  </li>\n",
        "</ul>"
      ]
    },
    {
      "cell_type": "markdown",
      "metadata": {
        "id": "XTM9uA4P3Dlx",
        "colab_type": "text"
      },
      "source": [
        "<p align=\"justify\">\n",
        "Se puede observar que en cada una de las técnicas tenesmos un clúster con 205 ejemplos teniendo 203 transacciones fraudulentas. Y un segundo clúster de 2870 ejemplos con 245 transacciones fraudulentas, es decir tenemos un clúster casi puro de transacciones fraudulentas casi un 40% del total de las transacciones ilegitimas. \n",
        "AL calcular su pureza (Técnica de evaluación de resultado en un algoritmo no supervisado cuando en el data set lo tenemos etiquetado) nos da un resultado de 0.92 un resultado muy cercano a 1 al parecer seria muy bueno, pero me queda la duda ya que el conjunto de datos esta muy desequilibrado, tenemos 448 transacciones fraudulentas y 2627 que no lo están, por su lado el índice de SHILOUTTE (no da un numero entre -1 y 1 indicando si nuestros ejemplos están bien agrupados entres clusters, cuando el índice es muy cercano a 1 nos indica que es una buena agrupación y los clusters están muy bien separados) nos da un 0.81.\n",
        "Para finalizar el índice de CALINSKI HARABASZ (técnica que permite evaluar que algoritmo funciona mejor) en los tres casos nos da el mismo resulta 4113.202\n",
        "</p>"
      ]
    },
    {
      "cell_type": "markdown",
      "metadata": {
        "id": "d5EV7tHl3i9h",
        "colab_type": "text"
      },
      "source": [
        "#Detección De Anomalías"
      ]
    },
    {
      "cell_type": "markdown",
      "metadata": {
        "id": "A52K0097mEJr",
        "colab_type": "text"
      },
      "source": [
        "## Isolation Forest\n",
        "<p align=\"justify\">\n",
        "Es un algoritmo de detención de anomalías basados en el aprendizaje no supervisado, no perfila los datos normales (datos distribuidos en forma de campana de GAUSS), se basa en mediadas de distancias o densidad para identificar anomalías y funciona adecuadamente para conjunto de datos grandes. \n",
        "</p>\n",
        "<p align=\"justify\">\n",
        "ISOLATION FOREST es un algoritmo robusto en relaciona los parámetros que recibe.\n",
        "</p>\n",
        "Parámetros relevantes:"
      ]
    },
    {
      "cell_type": "markdown",
      "metadata": {
        "id": "yYewInbMqRbI",
        "colab_type": "text"
      },
      "source": [
        "<ul>\n",
        "  <li>\n",
        "  <p align=\"justify\">\n",
        "  N_ESTOMATORS: Son el número de estimadores bases en el conjunto. Es decir, el número de árboles que se construye.\n",
        "  </p>\n",
        "  </li>\n",
        "   <li>\n",
        "   <p align=\"justify\">\n",
        " MAX_SAMPLES: El subconjunto de muestras que se extrae de X para entrenar cada estimador base. Es decir, el subconjunto de ejemplos dentro de datos que se utilizan para construir cada árbol.\n",
        " </p>\n",
        "  </li>\n",
        "  <li>\n",
        "   <p align=\"justify\">\n",
        " CONTAMINATION: Controla el THRESHOLD si un ejemplo es anómalo o normal. No influye en la construcción del modelo. Debe encontrarse dentro del rango [0, 0.5]\n",
        " </p>\n",
        "  </li>\n",
        "</ul>"
      ]
    },
    {
      "cell_type": "markdown",
      "metadata": {
        "id": "KeBd46oYjBow",
        "colab_type": "text"
      },
      "source": [
        "## Isolation Forest con un conjunto de datos multidimensional"
      ]
    },
    {
      "cell_type": "code",
      "metadata": {
        "id": "dVLMFho8jOqg",
        "colab_type": "code",
        "colab": {}
      },
      "source": [
        "from sklearn.ensemble import IsolationForest"
      ],
      "execution_count": 86,
      "outputs": []
    },
    {
      "cell_type": "code",
      "metadata": {
        "id": "LUNn-bGPjuzT",
        "colab_type": "code",
        "colab": {}
      },
      "source": [
        "X = df_norm.drop(\"isFradulent_Y\", axis=1)\n",
        "y = df_norm[\"isFradulent_Y\"].copy()"
      ],
      "execution_count": 84,
      "outputs": []
    },
    {
      "cell_type": "code",
      "metadata": {
        "id": "bwiYQKjNi1tD",
        "colab_type": "code",
        "colab": {
          "base_uri": "https://localhost:8080/",
          "height": 68
        },
        "outputId": "2f8685fd-5bbe-4b75-ee2c-3a34f7148533"
      },
      "source": [
        "# Entrenamiento del modelo\n",
        "ift_clf = IsolationForest(max_samples=300, contamination=0.1)\n",
        "ift_clf.fit(X)"
      ],
      "execution_count": 99,
      "outputs": [
        {
          "output_type": "execute_result",
          "data": {
            "text/plain": [
              "IsolationForest(behaviour='deprecated', bootstrap=False, contamination=0.1,\n",
              "                max_features=1.0, max_samples=300, n_estimators=100,\n",
              "                n_jobs=None, random_state=None, verbose=0, warm_start=False)"
            ]
          },
          "metadata": {
            "tags": []
          },
          "execution_count": 99
        }
      ]
    },
    {
      "cell_type": "code",
      "metadata": {
        "id": "244wzXunjIXr",
        "colab_type": "code",
        "colab": {}
      },
      "source": [
        "# Identificación de anomalías\n",
        "anomalies = ift_clf.predict(X)"
      ],
      "execution_count": 100,
      "outputs": []
    },
    {
      "cell_type": "code",
      "metadata": {
        "id": "r4k4-NH8jYBb",
        "colab_type": "code",
        "colab": {
          "base_uri": "https://localhost:8080/",
          "height": 34
        },
        "outputId": "f1dd2775-8495-4fe9-90b2-a7500ece0414"
      },
      "source": [
        "print(\"Total de anomalías identificadas:\", len(y[anomalies==-1]))"
      ],
      "execution_count": 101,
      "outputs": [
        {
          "output_type": "stream",
          "text": [
            "Total de anomalías identificadas: 308\n"
          ],
          "name": "stdout"
        }
      ]
    },
    {
      "cell_type": "code",
      "metadata": {
        "id": "kQVp53OmjaZe",
        "colab_type": "code",
        "colab": {
          "base_uri": "https://localhost:8080/",
          "height": 68
        },
        "outputId": "60a205ff-ad92-4e19-bbcd-29c441287871"
      },
      "source": [
        "# Verdaderos y falsos positivos de casos fraudulentos\n",
        "y[anomalies==-1].value_counts()"
      ],
      "execution_count": 102,
      "outputs": [
        {
          "output_type": "execute_result",
          "data": {
            "text/plain": [
              "1.0    239\n",
              "0.0     69\n",
              "Name: isFradulent_Y, dtype: int64"
            ]
          },
          "metadata": {
            "tags": []
          },
          "execution_count": 102
        }
      ]
    },
    {
      "cell_type": "markdown",
      "metadata": {
        "id": "Zqw2rxasjzo0",
        "colab_type": "text"
      },
      "source": [
        "## Isolation Forest con un conjunto de datos reducidos"
      ]
    },
    {
      "cell_type": "code",
      "metadata": {
        "id": "-Yc0IM86jesJ",
        "colab_type": "code",
        "colab": {
          "base_uri": "https://localhost:8080/",
          "height": 68
        },
        "outputId": "35122313-e430-4c3a-e277-d03410b2b4a5"
      },
      "source": [
        "# Entrenamiento del modelo\n",
        "ift_clf = IsolationForest(max_samples=300, contamination=0.1)\n",
        "ift_clf.fit(X_reduced)"
      ],
      "execution_count": 103,
      "outputs": [
        {
          "output_type": "execute_result",
          "data": {
            "text/plain": [
              "IsolationForest(behaviour='deprecated', bootstrap=False, contamination=0.1,\n",
              "                max_features=1.0, max_samples=300, n_estimators=100,\n",
              "                n_jobs=None, random_state=None, verbose=0, warm_start=False)"
            ]
          },
          "metadata": {
            "tags": []
          },
          "execution_count": 103
        }
      ]
    },
    {
      "cell_type": "code",
      "metadata": {
        "id": "4eT6QwmWkBCk",
        "colab_type": "code",
        "colab": {
          "base_uri": "https://localhost:8080/",
          "height": 34
        },
        "outputId": "0cf51d72-5963-4fdb-8b40-76cc5f457599"
      },
      "source": [
        "print(\"Total de anomalías identificadas:\", len(y[anomalies==-1]))"
      ],
      "execution_count": 104,
      "outputs": [
        {
          "output_type": "stream",
          "text": [
            "Total de anomalías identificadas: 308\n"
          ],
          "name": "stdout"
        }
      ]
    },
    {
      "cell_type": "code",
      "metadata": {
        "id": "mJDnszbXrJ8C",
        "colab_type": "code",
        "colab": {
          "base_uri": "https://localhost:8080/",
          "height": 68
        },
        "outputId": "fda646e1-3789-4717-af5c-020232abe5a4"
      },
      "source": [
        "y.value_counts()"
      ],
      "execution_count": 106,
      "outputs": [
        {
          "output_type": "execute_result",
          "data": {
            "text/plain": [
              "0.0    2627\n",
              "1.0     448\n",
              "Name: isFradulent_Y, dtype: int64"
            ]
          },
          "metadata": {
            "tags": []
          },
          "execution_count": 106
        }
      ]
    },
    {
      "cell_type": "code",
      "metadata": {
        "id": "NGeN-mnIkD0q",
        "colab_type": "code",
        "colab": {
          "base_uri": "https://localhost:8080/",
          "height": 68
        },
        "outputId": "c1a08e48-6a5f-433d-b47d-9a366a6d3575"
      },
      "source": [
        "# Verdaderos y falsos positivos de casos fraudulentos\n",
        "y[anomalies==-1].value_counts()"
      ],
      "execution_count": 105,
      "outputs": [
        {
          "output_type": "execute_result",
          "data": {
            "text/plain": [
              "1.0    239\n",
              "0.0     69\n",
              "Name: isFradulent_Y, dtype: int64"
            ]
          },
          "metadata": {
            "tags": []
          },
          "execution_count": 105
        }
      ]
    },
    {
      "cell_type": "markdown",
      "metadata": {
        "id": "UHqP_syTkTqk",
        "colab_type": "text"
      },
      "source": [
        "## Búsqueda del mejor parámetro contaminación\n",
        "<p align=\"justify\">\n",
        "Para utilizar de manera sencilla las técnicas estándar de búsqueda de hiperparámteros de sklearn, el estimador debe devolver un valor entre 0 y 1, sin embargo, la predicción de IsolationForest se encuentra comprendida entre -1 (ejemplo anómalo) y 1 (ejemplo normal). Construimos un estimador personalizado para que devuelva este resultado.\n",
        "</p>"
      ]
    },
    {
      "cell_type": "code",
      "metadata": {
        "id": "xpaJt2RbkWMD",
        "colab_type": "code",
        "colab": {}
      },
      "source": [
        "# Creamos nuestro propio estimador para que la salida del algoritmo este comprendida entre 0 y 1\n",
        "from sklearn.base import BaseEstimator\n",
        "\n",
        "class IsolationForestCustom(BaseEstimator):\n",
        "    def __init__(self, max_samples=100, contamination=0.1):\n",
        "        self.contamination = contamination\n",
        "        self.max_samples = max_samples\n",
        "        self._ift_clf = None\n",
        "        \n",
        "    def fit(self, X, y=None):\n",
        "        self._ift_clf = IsolationForest(max_samples=self.max_samples, \n",
        "                                        contamination=self.contamination)\n",
        "        self._ift_clf.fit(X) \n",
        "        return self\n",
        "    \n",
        "    def predict(self, X, y=None):\n",
        "        preds = self._ift_clf.predict(X)\n",
        "        preds[preds==1] = 0\n",
        "        preds[preds==-1] = 1\n",
        "        return preds\n",
        "    \n",
        "    def get_params(self, deep=True):\n",
        "        return {\"contamination\": self.contamination,\n",
        "               \"max_samples\": self.max_samples}\n",
        "\n",
        "    def set_params(self, **parameters):\n",
        "        for parameter, value in parameters.items():\n",
        "            setattr(self, parameter, value)\n",
        "        return self"
      ],
      "execution_count": 94,
      "outputs": []
    },
    {
      "cell_type": "code",
      "metadata": {
        "id": "Qo-TSRyEkHB8",
        "colab_type": "code",
        "colab": {
          "base_uri": "https://localhost:8080/",
          "height": 377
        },
        "outputId": "d37ad882-dc00-467e-a460-4ae291e15cdd"
      },
      "source": [
        "from sklearn.model_selection import GridSearchCV\n",
        "\n",
        "param_grid = {'max_samples': [100, 200, 300], 'contamination': [0.001, 0.01, 0.1]}\n",
        "\n",
        "ift_clf = IsolationForestCustom()\n",
        "\n",
        "# train across 5 folds, that's a total of 6*2=12 rounds of training \n",
        "grid_search = GridSearchCV(ift_clf, param_grid, cv=2,\n",
        "                           scoring='f1', return_train_score=True)\n",
        "\n",
        "grid_search.fit(X_reduced, y)"
      ],
      "execution_count": 95,
      "outputs": [
        {
          "output_type": "stream",
          "text": [
            "/usr/local/lib/python3.6/dist-packages/sklearn/metrics/_classification.py:1515: UndefinedMetricWarning: F-score is ill-defined and being set to 0.0 due to no true nor predicted samples. Use `zero_division` parameter to control this behavior.\n",
            "  average, \"true nor predicted\", 'F-score is', len(true_sum)\n",
            "/usr/local/lib/python3.6/dist-packages/sklearn/metrics/_classification.py:1515: UndefinedMetricWarning: F-score is ill-defined and being set to 0.0 due to no true nor predicted samples. Use `zero_division` parameter to control this behavior.\n",
            "  average, \"true nor predicted\", 'F-score is', len(true_sum)\n",
            "/usr/local/lib/python3.6/dist-packages/sklearn/metrics/_classification.py:1515: UndefinedMetricWarning: F-score is ill-defined and being set to 0.0 due to no true nor predicted samples. Use `zero_division` parameter to control this behavior.\n",
            "  average, \"true nor predicted\", 'F-score is', len(true_sum)\n",
            "/usr/local/lib/python3.6/dist-packages/sklearn/metrics/_classification.py:1515: UndefinedMetricWarning: F-score is ill-defined and being set to 0.0 due to no true nor predicted samples. Use `zero_division` parameter to control this behavior.\n",
            "  average, \"true nor predicted\", 'F-score is', len(true_sum)\n",
            "/usr/local/lib/python3.6/dist-packages/sklearn/metrics/_classification.py:1515: UndefinedMetricWarning: F-score is ill-defined and being set to 0.0 due to no true nor predicted samples. Use `zero_division` parameter to control this behavior.\n",
            "  average, \"true nor predicted\", 'F-score is', len(true_sum)\n",
            "/usr/local/lib/python3.6/dist-packages/sklearn/metrics/_classification.py:1515: UndefinedMetricWarning: F-score is ill-defined and being set to 0.0 due to no true nor predicted samples. Use `zero_division` parameter to control this behavior.\n",
            "  average, \"true nor predicted\", 'F-score is', len(true_sum)\n"
          ],
          "name": "stderr"
        },
        {
          "output_type": "execute_result",
          "data": {
            "text/plain": [
              "GridSearchCV(cv=2, error_score=nan,\n",
              "             estimator=IsolationForestCustom(contamination=0.1,\n",
              "                                             max_samples=100),\n",
              "             iid='deprecated', n_jobs=None,\n",
              "             param_grid={'contamination': [0.001, 0.01, 0.1],\n",
              "                         'max_samples': [100, 200, 300]},\n",
              "             pre_dispatch='2*n_jobs', refit=True, return_train_score=True,\n",
              "             scoring='f1', verbose=0)"
            ]
          },
          "metadata": {
            "tags": []
          },
          "execution_count": 95
        }
      ]
    },
    {
      "cell_type": "code",
      "metadata": {
        "id": "MB5x0T9Uk2nI",
        "colab_type": "code",
        "colab": {
          "base_uri": "https://localhost:8080/",
          "height": 170
        },
        "outputId": "68604a44-daef-4ff1-a3e3-a290a187684e"
      },
      "source": [
        "cvres = grid_search.cv_results_\n",
        "for mean_score, params in zip(cvres[\"mean_test_score\"], cvres[\"params\"]):\n",
        "    print(mean_score, params)"
      ],
      "execution_count": 96,
      "outputs": [
        {
          "output_type": "stream",
          "text": [
            "0.13653846153846153 {'contamination': 0.001, 'max_samples': 100}\n",
            "0.12156862745098039 {'contamination': 0.001, 'max_samples': 200}\n",
            "0.17037037037037037 {'contamination': 0.001, 'max_samples': 300}\n",
            "0.339568345323741 {'contamination': 0.01, 'max_samples': 100}\n",
            "0.32989690721649484 {'contamination': 0.01, 'max_samples': 200}\n",
            "0.34714285714285714 {'contamination': 0.01, 'max_samples': 300}\n",
            "0.4008394543546695 {'contamination': 0.1, 'max_samples': 100}\n",
            "0.40488841657810837 {'contamination': 0.1, 'max_samples': 200}\n",
            "0.40756302521008403 {'contamination': 0.1, 'max_samples': 300}\n"
          ],
          "name": "stdout"
        }
      ]
    },
    {
      "cell_type": "code",
      "metadata": {
        "id": "YhnDv0UHk9_i",
        "colab_type": "code",
        "colab": {
          "base_uri": "https://localhost:8080/",
          "height": 34
        },
        "outputId": "10e314c1-7995-4e88-891c-f8fbd4450292"
      },
      "source": [
        "grid_search.best_estimator_"
      ],
      "execution_count": 98,
      "outputs": [
        {
          "output_type": "execute_result",
          "data": {
            "text/plain": [
              "IsolationForestCustom(contamination=0.1, max_samples=300)"
            ]
          },
          "metadata": {
            "tags": []
          },
          "execution_count": 98
        }
      ]
    },
    {
      "cell_type": "markdown",
      "metadata": {
        "id": "V7O9BuEEq17d",
        "colab_type": "text"
      },
      "source": [
        "## Conclusiones\n",
        "<p align=\"justify\">\n",
        "Nuestro set de datos contiene 3.075 files, de las cuales 448 corresponden a transacciones fraudulentas y 267 corresponden a las que no lo son. En un algoritmo de detección de anomalías (ISOLATION FOREST) entre más anomalías correspondan con ejemplos fraudulentos será mejor para la detección de anomalías. Para este caso ISOLATION FOREST nos predice un total de 308 de transacciones anómalas. De las cuales 239 corresponden a transacciones fraudulentas y 69 que no lo son.\n",
        "</p>"
      ]
    },
    {
      "cell_type": "markdown",
      "metadata": {
        "id": "He5ugFnfuLXS",
        "colab_type": "text"
      },
      "source": [
        "<p align=\"justify\">\n",
        "</p>"
      ]
    }
  ]
}