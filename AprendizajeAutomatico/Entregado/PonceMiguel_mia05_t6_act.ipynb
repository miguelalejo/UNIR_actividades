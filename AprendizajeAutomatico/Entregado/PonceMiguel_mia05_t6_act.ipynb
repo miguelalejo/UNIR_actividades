{
 "cells": [
  {
   "cell_type": "markdown",
   "metadata": {},
   "source": [
    "## Laboratorio. Árboles y random forest para regresión y clasificación\n",
    "### **Nombres:**  Ponce Proaño Miguel Alejandro \n",
    "### **Asignatura:**  Aprendizaje Automático\n",
    "### **Actividad:** Nro. 1 - mia05_t6_act"
   ]
  },
  {
   "cell_type": "markdown",
   "metadata": {},
   "source": [
    "## Librerías utilizadas"
   ]
  },
  {
   "cell_type": "code",
   "execution_count": 1,
   "metadata": {},
   "outputs": [],
   "source": [
    "import pandas as pd\n",
    "import numpy as np\n",
    "import matplotlib.pyplot as plt\n",
    "from sklearn.tree import plot_tree\n",
    "from sklearn import preprocessing\n",
    "from sklearn.model_selection import train_test_split\n",
    "from sklearn.metrics import mean_squared_error\n",
    "from sklearn.metrics import mean_absolute_error\n",
    "from sklearn.metrics import r2_score\n",
    "from sklearn.tree import DecisionTreeRegressor,DecisionTreeClassifier\n",
    "from sklearn.ensemble import RandomForestRegressor,RandomForestClassifier\n",
    "from sklearn.model_selection import learning_curve\n",
    "from sklearn.model_selection import ShuffleSplit\n",
    "from sklearn.model_selection import cross_val_score\n",
    "from sklearn.metrics import classification_report\n",
    "from sklearn.metrics import confusion_matrix\n",
    "from sklearn.model_selection import KFold"
   ]
  },
  {
   "cell_type": "markdown",
   "metadata": {},
   "source": [
    "* Se crean las constantes que serán utilizadas para el desarrollo del ejercicio. Por ejemplo, el valor de la semilla aleatoria y otras variables.\n",
    "* Para mostar toda la lista de frecuencias max_mostrar_frecuencias = 0"
   ]
  },
  {
   "cell_type": "code",
   "execution_count": 2,
   "metadata": {},
   "outputs": [],
   "source": [
    "semilla_aleatoria = 1234\n",
    "cons_no_asignado=\"NoAsignado\"\n",
    "factor_datos_faltantes = 0.8\n",
    "max_mostrar_frecuencias = 0"
   ]
  },
  {
   "cell_type": "markdown",
   "metadata": {},
   "source": [
    "## 1.- Leer los datos del archivo housing_train.csv"
   ]
  },
  {
   "cell_type": "code",
   "execution_count": 3,
   "metadata": {},
   "outputs": [
    {
     "data": {
      "text/html": [
       "<div>\n",
       "<style scoped>\n",
       "    .dataframe tbody tr th:only-of-type {\n",
       "        vertical-align: middle;\n",
       "    }\n",
       "\n",
       "    .dataframe tbody tr th {\n",
       "        vertical-align: top;\n",
       "    }\n",
       "\n",
       "    .dataframe thead th {\n",
       "        text-align: right;\n",
       "    }\n",
       "</style>\n",
       "<table border=\"1\" class=\"dataframe\">\n",
       "  <thead>\n",
       "    <tr style=\"text-align: right;\">\n",
       "      <th></th>\n",
       "      <th>Id</th>\n",
       "      <th>MSSubClass</th>\n",
       "      <th>MSZoning</th>\n",
       "      <th>LotFrontage</th>\n",
       "      <th>LotArea</th>\n",
       "      <th>Street</th>\n",
       "      <th>Alley</th>\n",
       "      <th>LotShape</th>\n",
       "      <th>LandContour</th>\n",
       "      <th>Utilities</th>\n",
       "      <th>...</th>\n",
       "      <th>PoolArea</th>\n",
       "      <th>PoolQC</th>\n",
       "      <th>Fence</th>\n",
       "      <th>MiscFeature</th>\n",
       "      <th>MiscVal</th>\n",
       "      <th>MoSold</th>\n",
       "      <th>YrSold</th>\n",
       "      <th>SaleType</th>\n",
       "      <th>SaleCondition</th>\n",
       "      <th>SalePrice</th>\n",
       "    </tr>\n",
       "  </thead>\n",
       "  <tbody>\n",
       "    <tr>\n",
       "      <th>0</th>\n",
       "      <td>1</td>\n",
       "      <td>60</td>\n",
       "      <td>RL</td>\n",
       "      <td>65.0</td>\n",
       "      <td>8450</td>\n",
       "      <td>Pave</td>\n",
       "      <td>NaN</td>\n",
       "      <td>Reg</td>\n",
       "      <td>Lvl</td>\n",
       "      <td>AllPub</td>\n",
       "      <td>...</td>\n",
       "      <td>0</td>\n",
       "      <td>NaN</td>\n",
       "      <td>NaN</td>\n",
       "      <td>NaN</td>\n",
       "      <td>0</td>\n",
       "      <td>2</td>\n",
       "      <td>2008</td>\n",
       "      <td>WD</td>\n",
       "      <td>Normal</td>\n",
       "      <td>208500</td>\n",
       "    </tr>\n",
       "    <tr>\n",
       "      <th>1</th>\n",
       "      <td>2</td>\n",
       "      <td>20</td>\n",
       "      <td>RL</td>\n",
       "      <td>80.0</td>\n",
       "      <td>9600</td>\n",
       "      <td>Pave</td>\n",
       "      <td>NaN</td>\n",
       "      <td>Reg</td>\n",
       "      <td>Lvl</td>\n",
       "      <td>AllPub</td>\n",
       "      <td>...</td>\n",
       "      <td>0</td>\n",
       "      <td>NaN</td>\n",
       "      <td>NaN</td>\n",
       "      <td>NaN</td>\n",
       "      <td>0</td>\n",
       "      <td>5</td>\n",
       "      <td>2007</td>\n",
       "      <td>WD</td>\n",
       "      <td>Normal</td>\n",
       "      <td>181500</td>\n",
       "    </tr>\n",
       "    <tr>\n",
       "      <th>2</th>\n",
       "      <td>3</td>\n",
       "      <td>60</td>\n",
       "      <td>RL</td>\n",
       "      <td>68.0</td>\n",
       "      <td>11250</td>\n",
       "      <td>Pave</td>\n",
       "      <td>NaN</td>\n",
       "      <td>IR1</td>\n",
       "      <td>Lvl</td>\n",
       "      <td>AllPub</td>\n",
       "      <td>...</td>\n",
       "      <td>0</td>\n",
       "      <td>NaN</td>\n",
       "      <td>NaN</td>\n",
       "      <td>NaN</td>\n",
       "      <td>0</td>\n",
       "      <td>9</td>\n",
       "      <td>2008</td>\n",
       "      <td>WD</td>\n",
       "      <td>Normal</td>\n",
       "      <td>223500</td>\n",
       "    </tr>\n",
       "    <tr>\n",
       "      <th>3</th>\n",
       "      <td>4</td>\n",
       "      <td>70</td>\n",
       "      <td>RL</td>\n",
       "      <td>60.0</td>\n",
       "      <td>9550</td>\n",
       "      <td>Pave</td>\n",
       "      <td>NaN</td>\n",
       "      <td>IR1</td>\n",
       "      <td>Lvl</td>\n",
       "      <td>AllPub</td>\n",
       "      <td>...</td>\n",
       "      <td>0</td>\n",
       "      <td>NaN</td>\n",
       "      <td>NaN</td>\n",
       "      <td>NaN</td>\n",
       "      <td>0</td>\n",
       "      <td>2</td>\n",
       "      <td>2006</td>\n",
       "      <td>WD</td>\n",
       "      <td>Abnorml</td>\n",
       "      <td>140000</td>\n",
       "    </tr>\n",
       "    <tr>\n",
       "      <th>4</th>\n",
       "      <td>5</td>\n",
       "      <td>60</td>\n",
       "      <td>RL</td>\n",
       "      <td>84.0</td>\n",
       "      <td>14260</td>\n",
       "      <td>Pave</td>\n",
       "      <td>NaN</td>\n",
       "      <td>IR1</td>\n",
       "      <td>Lvl</td>\n",
       "      <td>AllPub</td>\n",
       "      <td>...</td>\n",
       "      <td>0</td>\n",
       "      <td>NaN</td>\n",
       "      <td>NaN</td>\n",
       "      <td>NaN</td>\n",
       "      <td>0</td>\n",
       "      <td>12</td>\n",
       "      <td>2008</td>\n",
       "      <td>WD</td>\n",
       "      <td>Normal</td>\n",
       "      <td>250000</td>\n",
       "    </tr>\n",
       "  </tbody>\n",
       "</table>\n",
       "<p>5 rows × 81 columns</p>\n",
       "</div>"
      ],
      "text/plain": [
       "   Id  MSSubClass MSZoning  LotFrontage  LotArea Street Alley LotShape  \\\n",
       "0   1          60       RL         65.0     8450   Pave   NaN      Reg   \n",
       "1   2          20       RL         80.0     9600   Pave   NaN      Reg   \n",
       "2   3          60       RL         68.0    11250   Pave   NaN      IR1   \n",
       "3   4          70       RL         60.0     9550   Pave   NaN      IR1   \n",
       "4   5          60       RL         84.0    14260   Pave   NaN      IR1   \n",
       "\n",
       "  LandContour Utilities  ... PoolArea PoolQC Fence MiscFeature MiscVal MoSold  \\\n",
       "0         Lvl    AllPub  ...        0    NaN   NaN         NaN       0      2   \n",
       "1         Lvl    AllPub  ...        0    NaN   NaN         NaN       0      5   \n",
       "2         Lvl    AllPub  ...        0    NaN   NaN         NaN       0      9   \n",
       "3         Lvl    AllPub  ...        0    NaN   NaN         NaN       0      2   \n",
       "4         Lvl    AllPub  ...        0    NaN   NaN         NaN       0     12   \n",
       "\n",
       "  YrSold  SaleType  SaleCondition  SalePrice  \n",
       "0   2008        WD         Normal     208500  \n",
       "1   2007        WD         Normal     181500  \n",
       "2   2008        WD         Normal     223500  \n",
       "3   2006        WD        Abnorml     140000  \n",
       "4   2008        WD         Normal     250000  \n",
       "\n",
       "[5 rows x 81 columns]"
      ]
     },
     "metadata": {},
     "output_type": "display_data"
    }
   ],
   "source": [
    "df_base=pd.read_csv(\"housing_train.csv\")\n",
    "display(df_base.head(5))"
   ]
  },
  {
   "cell_type": "markdown",
   "metadata": {},
   "source": [
    "## 2.- Tratamiento de missing. Si existen valores faltantes, decidir si eliminar los registros, llenarlos con valores como la media, la mediana o la moda y justifique su respuesta. "
   ]
  },
  {
   "cell_type": "markdown",
   "metadata": {},
   "source": [
    "Antes de realizar cualquier evaluación sobre los datos es importante siempre realizar un tratamiento previo a fin de abordar que hacer con la información faltante. Se citan algunos ejemplos: \n",
    "* Si la cantidad de datos faltantes es muy grande se recomienda borrar estas variables.\n",
    "* Si existe una cantidad pequeña de filas con datos faltantes en sus variables se puede optar por borrarlas.\n",
    "* Para variables categóricas se puede agregar un estado adicional que describa este factor.\n",
    "* Se puede llenar los datos faltantes con la media, mediana o moda de esa variable tanto para variables numéricas o categóricas.\n",
    "* Para variables categóricas, se puede optar por una asignación aleatoria de categorías escogido aquellas que se encuentren presentes en esa variable, tratado de buscar que se encuentren uniformemente distribuidas.\n"
   ]
  },
  {
   "cell_type": "markdown",
   "metadata": {},
   "source": [
    "### Tratamiento missing variables numéricas.\n",
    "* Se selecciona las variables de tipo numérico mediante un filtrado tipos de datos en el csv."
   ]
  },
  {
   "cell_type": "code",
   "execution_count": 4,
   "metadata": {},
   "outputs": [],
   "source": [
    "datos_numericos = ['int16', 'int32', 'int64', 'float16', 'float32', 'float64']\n",
    "df_var_numericas = df_base.select_dtypes(include=datos_numericos).copy()"
   ]
  },
  {
   "cell_type": "markdown",
   "metadata": {},
   "source": [
    "### Se obtiene las columnas que tienen datos faltantes."
   ]
  },
  {
   "cell_type": "code",
   "execution_count": 5,
   "metadata": {},
   "outputs": [
    {
     "data": {
      "text/plain": [
       "LotFrontage    259\n",
       "MasVnrArea       8\n",
       "GarageYrBlt     81\n",
       "dtype: int64"
      ]
     },
     "metadata": {},
     "output_type": "display_data"
    }
   ],
   "source": [
    "col_total_nulos = df_var_numericas.isnull().sum()\n",
    "serie_col_nombres = col_total_nulos[col_total_nulos > 0]\n",
    "display(serie_col_nombres)"
   ]
  },
  {
   "cell_type": "markdown",
   "metadata": {},
   "source": [
    "### Se actualiza por la media de los datos.\n",
    "* Debido a que la cantidad de datos es muy pequeña se optó por llenar los datos faltantes con la media para buscar su distribución uniforme."
   ]
  },
  {
   "cell_type": "code",
   "execution_count": 6,
   "metadata": {},
   "outputs": [
    {
     "data": {
      "text/plain": [
       "'Verificación de datos faltantes : 0'"
      ]
     },
     "metadata": {},
     "output_type": "display_data"
    }
   ],
   "source": [
    "for columna in serie_col_nombres.keys():\n",
    "        mean_col=np.mean(df_var_numericas[columna])\n",
    "        df_var_numericas[columna].replace(np.nan, mean_col, inplace=True)   \n",
    "display('Verificación de datos faltantes : {0}'.format(df_var_numericas.isnull().sum().max()))"
   ]
  },
  {
   "cell_type": "markdown",
   "metadata": {},
   "source": [
    "### Tratamiento missing variables no numéricas.\n",
    "* Se selecciona las variables de tipo no numérico mediante un filtrado tipos de datos en el csv."
   ]
  },
  {
   "cell_type": "code",
   "execution_count": 7,
   "metadata": {},
   "outputs": [],
   "source": [
    "df_var_no_numericas = df_base[df_base.columns.difference(df_var_numericas.columns)].copy()"
   ]
  },
  {
   "cell_type": "markdown",
   "metadata": {},
   "source": [
    "### Se estima el factor de datos faltantes."
   ]
  },
  {
   "cell_type": "code",
   "execution_count": 8,
   "metadata": {},
   "outputs": [
    {
     "data": {
      "text/plain": [
       "'Máximo fator de datos faltantes : 1168.0'"
      ]
     },
     "metadata": {},
     "output_type": "display_data"
    }
   ],
   "source": [
    "max_factor_moda = len(df_var_no_numericas)*factor_datos_faltantes\n",
    "display('Máximo fator de datos faltantes : {0}'.format(max_factor_moda))"
   ]
  },
  {
   "cell_type": "markdown",
   "metadata": {},
   "source": [
    "### Se obtiene las columnas que tienen datos faltantes."
   ]
  },
  {
   "cell_type": "code",
   "execution_count": 9,
   "metadata": {},
   "outputs": [
    {
     "data": {
      "text/plain": [
       "Alley           1369\n",
       "BsmtCond          37\n",
       "BsmtExposure      38\n",
       "BsmtFinType1      37\n",
       "BsmtFinType2      38\n",
       "BsmtQual          37\n",
       "Electrical         1\n",
       "Fence           1179\n",
       "FireplaceQu      690\n",
       "GarageCond        81\n",
       "GarageFinish      81\n",
       "GarageQual        81\n",
       "GarageType        81\n",
       "MasVnrType         8\n",
       "MiscFeature     1406\n",
       "PoolQC          1453\n",
       "dtype: int64"
      ]
     },
     "metadata": {},
     "output_type": "display_data"
    }
   ],
   "source": [
    "total_no_numericas = df_var_no_numericas.isna().sum()\n",
    "serie_col_nombres = total_no_numericas[total_no_numericas > 0]\n",
    "display(serie_col_nombres)"
   ]
  },
  {
   "cell_type": "markdown",
   "metadata": {},
   "source": [
    "### Eliminar columnas que superan factor máximo datos faltantes.\n",
    "* Debido a que existe una gran cantidad de datos faltantes se borra estas variables ya que no aportan ningún valor al modelo."
   ]
  },
  {
   "cell_type": "code",
   "execution_count": 10,
   "metadata": {},
   "outputs": [
    {
     "data": {
      "text/plain": [
       "BsmtCond         37\n",
       "BsmtExposure     38\n",
       "BsmtFinType1     37\n",
       "BsmtFinType2     38\n",
       "BsmtQual         37\n",
       "Electrical        1\n",
       "FireplaceQu     690\n",
       "GarageCond       81\n",
       "GarageFinish     81\n",
       "GarageQual       81\n",
       "GarageType       81\n",
       "MasVnrType        8\n",
       "dtype: int64"
      ]
     },
     "metadata": {},
     "output_type": "display_data"
    }
   ],
   "source": [
    "msk_max_fac_moda = total_no_numericas>max_factor_moda\n",
    "df_cols_max_factor = total_no_numericas[msk_max_fac_moda]\n",
    "df_var_no_numericas=df_var_no_numericas.drop(columns=df_cols_max_factor.keys(), axis=1)\n",
    "total_no_numericas = df_var_no_numericas.isna().sum()\n",
    "serie_col_nombres = total_no_numericas[total_no_numericas > 0]\n",
    "display(serie_col_nombres)"
   ]
  },
  {
   "cell_type": "markdown",
   "metadata": {},
   "source": [
    "### Reemplazar datos categóricos por la moda.\n",
    "* Debido a que las categorías tienen pocos datos faltantes y no se puede realizar el cálculo de la media se llena los datos faltantes con la moda."
   ]
  },
  {
   "cell_type": "code",
   "execution_count": 11,
   "metadata": {},
   "outputs": [
    {
     "data": {
      "text/plain": [
       "'Verificacion actualizacion datos 0'"
      ]
     },
     "metadata": {},
     "output_type": "display_data"
    }
   ],
   "source": [
    "df_cols_min_factor=total_no_numericas[~msk_max_fac_moda]\n",
    "for columna in df_cols_min_factor.keys():\n",
    "    val_mediana = df_var_no_numericas[columna].value_counts().idxmax()\n",
    "    df_var_no_numericas[columna].replace(np.nan, val_mediana, inplace=True)\n",
    "display('Verificacion actualizacion datos {0}'.format(df_var_no_numericas.isnull().sum().max()))"
   ]
  },
  {
   "cell_type": "markdown",
   "metadata": {},
   "source": [
    "### Para cada categoría se agrega un código que la identifica(variable ficticia).\n",
    "* Las variables ficticias sirven para representar información cualitativa mediante el uso de estas variables. Estas sirven tantos para modelos de regresión (ficticias aditivas y multiplicativas) y también sirven para medir niveles por categorías."
   ]
  },
  {
   "cell_type": "code",
   "execution_count": 12,
   "metadata": {},
   "outputs": [],
   "source": [
    "encoder = preprocessing.LabelEncoder()\n",
    "df_encoder=df_var_no_numericas.apply(encoder.fit_transform)\n",
    "df_encoder=df_encoder.add_suffix(\"_c\")\n",
    "df_categorias_encoder=pd.concat([df_var_no_numericas,df_encoder],axis=1)"
   ]
  },
  {
   "cell_type": "markdown",
   "metadata": {},
   "source": [
    "## 3. De las variables numéricas hallar el valor mínimo, el máximo, la mediana y la media."
   ]
  },
  {
   "cell_type": "markdown",
   "metadata": {},
   "source": [
    "* Para seleccionar los tipos de datos numéricos se escoge los tipos que los derriben en una lista, luego se utiliza el método describe(), en donde el percentil 50% equivale a la mediana de los datos."
   ]
  },
  {
   "cell_type": "code",
   "execution_count": 13,
   "metadata": {},
   "outputs": [
    {
     "data": {
      "text/html": [
       "<div>\n",
       "<style scoped>\n",
       "    .dataframe tbody tr th:only-of-type {\n",
       "        vertical-align: middle;\n",
       "    }\n",
       "\n",
       "    .dataframe tbody tr th {\n",
       "        vertical-align: top;\n",
       "    }\n",
       "\n",
       "    .dataframe thead th {\n",
       "        text-align: right;\n",
       "    }\n",
       "</style>\n",
       "<table border=\"1\" class=\"dataframe\">\n",
       "  <thead>\n",
       "    <tr style=\"text-align: right;\">\n",
       "      <th></th>\n",
       "      <th>Id</th>\n",
       "      <th>MSSubClass</th>\n",
       "      <th>LotFrontage</th>\n",
       "      <th>LotArea</th>\n",
       "      <th>OverallQual</th>\n",
       "      <th>OverallCond</th>\n",
       "      <th>YearBuilt</th>\n",
       "      <th>YearRemodAdd</th>\n",
       "      <th>MasVnrArea</th>\n",
       "      <th>BsmtFinSF1</th>\n",
       "      <th>...</th>\n",
       "      <th>WoodDeckSF</th>\n",
       "      <th>OpenPorchSF</th>\n",
       "      <th>EnclosedPorch</th>\n",
       "      <th>3SsnPorch</th>\n",
       "      <th>ScreenPorch</th>\n",
       "      <th>PoolArea</th>\n",
       "      <th>MiscVal</th>\n",
       "      <th>MoSold</th>\n",
       "      <th>YrSold</th>\n",
       "      <th>SalePrice</th>\n",
       "    </tr>\n",
       "  </thead>\n",
       "  <tbody>\n",
       "    <tr>\n",
       "      <th>count</th>\n",
       "      <td>1460.000000</td>\n",
       "      <td>1460.000000</td>\n",
       "      <td>1460.000000</td>\n",
       "      <td>1460.000000</td>\n",
       "      <td>1460.000000</td>\n",
       "      <td>1460.000000</td>\n",
       "      <td>1460.000000</td>\n",
       "      <td>1460.000000</td>\n",
       "      <td>1460.000000</td>\n",
       "      <td>1460.000000</td>\n",
       "      <td>...</td>\n",
       "      <td>1460.000000</td>\n",
       "      <td>1460.000000</td>\n",
       "      <td>1460.000000</td>\n",
       "      <td>1460.000000</td>\n",
       "      <td>1460.000000</td>\n",
       "      <td>1460.000000</td>\n",
       "      <td>1460.000000</td>\n",
       "      <td>1460.000000</td>\n",
       "      <td>1460.000000</td>\n",
       "      <td>1460.000000</td>\n",
       "    </tr>\n",
       "    <tr>\n",
       "      <th>mean</th>\n",
       "      <td>730.500000</td>\n",
       "      <td>56.897260</td>\n",
       "      <td>70.049958</td>\n",
       "      <td>10516.828082</td>\n",
       "      <td>6.099315</td>\n",
       "      <td>5.575342</td>\n",
       "      <td>1971.267808</td>\n",
       "      <td>1984.865753</td>\n",
       "      <td>103.685262</td>\n",
       "      <td>443.639726</td>\n",
       "      <td>...</td>\n",
       "      <td>94.244521</td>\n",
       "      <td>46.660274</td>\n",
       "      <td>21.954110</td>\n",
       "      <td>3.409589</td>\n",
       "      <td>15.060959</td>\n",
       "      <td>2.758904</td>\n",
       "      <td>43.489041</td>\n",
       "      <td>6.321918</td>\n",
       "      <td>2007.815753</td>\n",
       "      <td>180921.195890</td>\n",
       "    </tr>\n",
       "    <tr>\n",
       "      <th>std</th>\n",
       "      <td>421.610009</td>\n",
       "      <td>42.300571</td>\n",
       "      <td>22.024023</td>\n",
       "      <td>9981.264932</td>\n",
       "      <td>1.382997</td>\n",
       "      <td>1.112799</td>\n",
       "      <td>30.202904</td>\n",
       "      <td>20.645407</td>\n",
       "      <td>180.569112</td>\n",
       "      <td>456.098091</td>\n",
       "      <td>...</td>\n",
       "      <td>125.338794</td>\n",
       "      <td>66.256028</td>\n",
       "      <td>61.119149</td>\n",
       "      <td>29.317331</td>\n",
       "      <td>55.757415</td>\n",
       "      <td>40.177307</td>\n",
       "      <td>496.123024</td>\n",
       "      <td>2.703626</td>\n",
       "      <td>1.328095</td>\n",
       "      <td>79442.502883</td>\n",
       "    </tr>\n",
       "    <tr>\n",
       "      <th>min</th>\n",
       "      <td>1.000000</td>\n",
       "      <td>20.000000</td>\n",
       "      <td>21.000000</td>\n",
       "      <td>1300.000000</td>\n",
       "      <td>1.000000</td>\n",
       "      <td>1.000000</td>\n",
       "      <td>1872.000000</td>\n",
       "      <td>1950.000000</td>\n",
       "      <td>0.000000</td>\n",
       "      <td>0.000000</td>\n",
       "      <td>...</td>\n",
       "      <td>0.000000</td>\n",
       "      <td>0.000000</td>\n",
       "      <td>0.000000</td>\n",
       "      <td>0.000000</td>\n",
       "      <td>0.000000</td>\n",
       "      <td>0.000000</td>\n",
       "      <td>0.000000</td>\n",
       "      <td>1.000000</td>\n",
       "      <td>2006.000000</td>\n",
       "      <td>34900.000000</td>\n",
       "    </tr>\n",
       "    <tr>\n",
       "      <th>25%</th>\n",
       "      <td>365.750000</td>\n",
       "      <td>20.000000</td>\n",
       "      <td>60.000000</td>\n",
       "      <td>7553.500000</td>\n",
       "      <td>5.000000</td>\n",
       "      <td>5.000000</td>\n",
       "      <td>1954.000000</td>\n",
       "      <td>1967.000000</td>\n",
       "      <td>0.000000</td>\n",
       "      <td>0.000000</td>\n",
       "      <td>...</td>\n",
       "      <td>0.000000</td>\n",
       "      <td>0.000000</td>\n",
       "      <td>0.000000</td>\n",
       "      <td>0.000000</td>\n",
       "      <td>0.000000</td>\n",
       "      <td>0.000000</td>\n",
       "      <td>0.000000</td>\n",
       "      <td>5.000000</td>\n",
       "      <td>2007.000000</td>\n",
       "      <td>129975.000000</td>\n",
       "    </tr>\n",
       "    <tr>\n",
       "      <th>50%</th>\n",
       "      <td>730.500000</td>\n",
       "      <td>50.000000</td>\n",
       "      <td>70.049958</td>\n",
       "      <td>9478.500000</td>\n",
       "      <td>6.000000</td>\n",
       "      <td>5.000000</td>\n",
       "      <td>1973.000000</td>\n",
       "      <td>1994.000000</td>\n",
       "      <td>0.000000</td>\n",
       "      <td>383.500000</td>\n",
       "      <td>...</td>\n",
       "      <td>0.000000</td>\n",
       "      <td>25.000000</td>\n",
       "      <td>0.000000</td>\n",
       "      <td>0.000000</td>\n",
       "      <td>0.000000</td>\n",
       "      <td>0.000000</td>\n",
       "      <td>0.000000</td>\n",
       "      <td>6.000000</td>\n",
       "      <td>2008.000000</td>\n",
       "      <td>163000.000000</td>\n",
       "    </tr>\n",
       "    <tr>\n",
       "      <th>75%</th>\n",
       "      <td>1095.250000</td>\n",
       "      <td>70.000000</td>\n",
       "      <td>79.000000</td>\n",
       "      <td>11601.500000</td>\n",
       "      <td>7.000000</td>\n",
       "      <td>6.000000</td>\n",
       "      <td>2000.000000</td>\n",
       "      <td>2004.000000</td>\n",
       "      <td>164.250000</td>\n",
       "      <td>712.250000</td>\n",
       "      <td>...</td>\n",
       "      <td>168.000000</td>\n",
       "      <td>68.000000</td>\n",
       "      <td>0.000000</td>\n",
       "      <td>0.000000</td>\n",
       "      <td>0.000000</td>\n",
       "      <td>0.000000</td>\n",
       "      <td>0.000000</td>\n",
       "      <td>8.000000</td>\n",
       "      <td>2009.000000</td>\n",
       "      <td>214000.000000</td>\n",
       "    </tr>\n",
       "    <tr>\n",
       "      <th>max</th>\n",
       "      <td>1460.000000</td>\n",
       "      <td>190.000000</td>\n",
       "      <td>313.000000</td>\n",
       "      <td>215245.000000</td>\n",
       "      <td>10.000000</td>\n",
       "      <td>9.000000</td>\n",
       "      <td>2010.000000</td>\n",
       "      <td>2010.000000</td>\n",
       "      <td>1600.000000</td>\n",
       "      <td>5644.000000</td>\n",
       "      <td>...</td>\n",
       "      <td>857.000000</td>\n",
       "      <td>547.000000</td>\n",
       "      <td>552.000000</td>\n",
       "      <td>508.000000</td>\n",
       "      <td>480.000000</td>\n",
       "      <td>738.000000</td>\n",
       "      <td>15500.000000</td>\n",
       "      <td>12.000000</td>\n",
       "      <td>2010.000000</td>\n",
       "      <td>755000.000000</td>\n",
       "    </tr>\n",
       "  </tbody>\n",
       "</table>\n",
       "<p>8 rows × 38 columns</p>\n",
       "</div>"
      ],
      "text/plain": [
       "                Id   MSSubClass  LotFrontage        LotArea  OverallQual  \\\n",
       "count  1460.000000  1460.000000  1460.000000    1460.000000  1460.000000   \n",
       "mean    730.500000    56.897260    70.049958   10516.828082     6.099315   \n",
       "std     421.610009    42.300571    22.024023    9981.264932     1.382997   \n",
       "min       1.000000    20.000000    21.000000    1300.000000     1.000000   \n",
       "25%     365.750000    20.000000    60.000000    7553.500000     5.000000   \n",
       "50%     730.500000    50.000000    70.049958    9478.500000     6.000000   \n",
       "75%    1095.250000    70.000000    79.000000   11601.500000     7.000000   \n",
       "max    1460.000000   190.000000   313.000000  215245.000000    10.000000   \n",
       "\n",
       "       OverallCond    YearBuilt  YearRemodAdd   MasVnrArea   BsmtFinSF1  ...  \\\n",
       "count  1460.000000  1460.000000   1460.000000  1460.000000  1460.000000  ...   \n",
       "mean      5.575342  1971.267808   1984.865753   103.685262   443.639726  ...   \n",
       "std       1.112799    30.202904     20.645407   180.569112   456.098091  ...   \n",
       "min       1.000000  1872.000000   1950.000000     0.000000     0.000000  ...   \n",
       "25%       5.000000  1954.000000   1967.000000     0.000000     0.000000  ...   \n",
       "50%       5.000000  1973.000000   1994.000000     0.000000   383.500000  ...   \n",
       "75%       6.000000  2000.000000   2004.000000   164.250000   712.250000  ...   \n",
       "max       9.000000  2010.000000   2010.000000  1600.000000  5644.000000  ...   \n",
       "\n",
       "        WoodDeckSF  OpenPorchSF  EnclosedPorch    3SsnPorch  ScreenPorch  \\\n",
       "count  1460.000000  1460.000000    1460.000000  1460.000000  1460.000000   \n",
       "mean     94.244521    46.660274      21.954110     3.409589    15.060959   \n",
       "std     125.338794    66.256028      61.119149    29.317331    55.757415   \n",
       "min       0.000000     0.000000       0.000000     0.000000     0.000000   \n",
       "25%       0.000000     0.000000       0.000000     0.000000     0.000000   \n",
       "50%       0.000000    25.000000       0.000000     0.000000     0.000000   \n",
       "75%     168.000000    68.000000       0.000000     0.000000     0.000000   \n",
       "max     857.000000   547.000000     552.000000   508.000000   480.000000   \n",
       "\n",
       "          PoolArea       MiscVal       MoSold       YrSold      SalePrice  \n",
       "count  1460.000000   1460.000000  1460.000000  1460.000000    1460.000000  \n",
       "mean      2.758904     43.489041     6.321918  2007.815753  180921.195890  \n",
       "std      40.177307    496.123024     2.703626     1.328095   79442.502883  \n",
       "min       0.000000      0.000000     1.000000  2006.000000   34900.000000  \n",
       "25%       0.000000      0.000000     5.000000  2007.000000  129975.000000  \n",
       "50%       0.000000      0.000000     6.000000  2008.000000  163000.000000  \n",
       "75%       0.000000      0.000000     8.000000  2009.000000  214000.000000  \n",
       "max     738.000000  15500.000000    12.000000  2010.000000  755000.000000  \n",
       "\n",
       "[8 rows x 38 columns]"
      ]
     },
     "metadata": {},
     "output_type": "display_data"
    }
   ],
   "source": [
    "display(df_var_numericas.describe())"
   ]
  },
  {
   "cell_type": "markdown",
   "metadata": {},
   "source": [
    "## 4. De las variables categóricas, listar las diferentes categorías y hallar la frecuencia de cada una de ellas. "
   ]
  },
  {
   "cell_type": "markdown",
   "metadata": {},
   "source": [
    "* Para el cálculo de frecuencia se las agrupa para cada variable por cada tipo."
   ]
  },
  {
   "cell_type": "code",
   "execution_count": 14,
   "metadata": {},
   "outputs": [
    {
     "name": "stdout",
     "output_type": "stream",
     "text": [
      "BldgType\n",
      "1Fam      1220\n",
      "2fmCon      31\n",
      "Duplex      52\n",
      "Twnhs       43\n",
      "TwnhsE     114\n",
      "dtype: int64\n",
      "BsmtCond\n",
      "Fa      45\n",
      "Gd      65\n",
      "Po       2\n",
      "TA    1348\n",
      "dtype: int64\n",
      "BsmtExposure\n",
      "Av    221\n",
      "Gd    134\n",
      "Mn    114\n",
      "No    991\n",
      "dtype: int64\n",
      "BsmtFinType1\n",
      "ALQ    220\n",
      "BLQ    148\n",
      "GLQ    418\n",
      "LwQ     74\n",
      "Rec    133\n",
      "Unf    467\n",
      "dtype: int64\n",
      "BsmtFinType2\n",
      "ALQ      19\n",
      "BLQ      33\n",
      "GLQ      14\n",
      "LwQ      46\n",
      "Rec      54\n",
      "Unf    1294\n",
      "dtype: int64\n",
      "BsmtQual\n",
      "Ex    121\n",
      "Fa     35\n",
      "Gd    618\n",
      "TA    686\n",
      "dtype: int64\n",
      "CentralAir\n",
      "N      95\n",
      "Y    1365\n",
      "dtype: int64\n",
      "Condition1\n",
      "Artery      48\n",
      "Feedr       81\n",
      "Norm      1260\n",
      "PosA         8\n",
      "PosN        19\n",
      "RRAe        11\n",
      "RRAn        26\n",
      "RRNe         2\n",
      "RRNn         5\n",
      "dtype: int64\n",
      "Condition2\n",
      "Artery       2\n",
      "Feedr        6\n",
      "Norm      1445\n",
      "PosA         1\n",
      "PosN         2\n",
      "RRAe         1\n",
      "RRAn         1\n",
      "RRNn         2\n",
      "dtype: int64\n",
      "Electrical\n",
      "FuseA      94\n",
      "FuseF      27\n",
      "FuseP       3\n",
      "Mix         1\n",
      "SBrkr    1335\n",
      "dtype: int64\n",
      "ExterCond\n",
      "Ex       3\n",
      "Fa      28\n",
      "Gd     146\n",
      "Po       1\n",
      "TA    1282\n",
      "dtype: int64\n",
      "ExterQual\n",
      "Ex     52\n",
      "Fa     14\n",
      "Gd    488\n",
      "TA    906\n",
      "dtype: int64\n",
      "Exterior1st\n",
      "AsbShng     20\n",
      "AsphShn      1\n",
      "BrkComm      2\n",
      "BrkFace     50\n",
      "CBlock       1\n",
      "CemntBd     61\n",
      "HdBoard    222\n",
      "ImStucc      1\n",
      "MetalSd    220\n",
      "Plywood    108\n",
      "Stone        2\n",
      "Stucco      25\n",
      "VinylSd    515\n",
      "Wd Sdng    206\n",
      "WdShing     26\n",
      "dtype: int64\n",
      "Exterior2nd\n",
      "AsbShng     20\n",
      "AsphShn      3\n",
      "Brk Cmn      7\n",
      "BrkFace     25\n",
      "CBlock       1\n",
      "CmentBd     60\n",
      "HdBoard    207\n",
      "ImStucc     10\n",
      "MetalSd    214\n",
      "Other        1\n",
      "Plywood    142\n",
      "Stone        5\n",
      "Stucco      26\n",
      "VinylSd    504\n",
      "Wd Sdng    197\n",
      "Wd Shng     38\n",
      "dtype: int64\n",
      "FireplaceQu\n",
      "Ex      24\n",
      "Fa      33\n",
      "Gd    1070\n",
      "Po      20\n",
      "TA     313\n",
      "dtype: int64\n",
      "Foundation\n",
      "BrkTil    146\n",
      "CBlock    634\n",
      "PConc     647\n",
      "Slab       24\n",
      "Stone       6\n",
      "Wood        3\n",
      "dtype: int64\n",
      "Functional\n",
      "Maj1      14\n",
      "Maj2       5\n",
      "Min1      31\n",
      "Min2      34\n",
      "Mod       15\n",
      "Sev        1\n",
      "Typ     1360\n",
      "dtype: int64\n",
      "GarageCond\n",
      "Ex       2\n",
      "Fa      35\n",
      "Gd       9\n",
      "Po       7\n",
      "TA    1407\n",
      "dtype: int64\n",
      "GarageFinish\n",
      "Fin    352\n",
      "RFn    422\n",
      "Unf    686\n",
      "dtype: int64\n",
      "GarageQual\n",
      "Ex       3\n",
      "Fa      48\n",
      "Gd      14\n",
      "Po       3\n",
      "TA    1392\n",
      "dtype: int64\n",
      "GarageType\n",
      "2Types       6\n",
      "Attchd     951\n",
      "Basment     19\n",
      "BuiltIn     88\n",
      "CarPort      9\n",
      "Detchd     387\n",
      "dtype: int64\n",
      "Heating\n",
      "Floor       1\n",
      "GasA     1428\n",
      "GasW       18\n",
      "Grav        7\n",
      "OthW        2\n",
      "Wall        4\n",
      "dtype: int64\n",
      "HeatingQC\n",
      "Ex    741\n",
      "Fa     49\n",
      "Gd    241\n",
      "Po      1\n",
      "TA    428\n",
      "dtype: int64\n",
      "HouseStyle\n",
      "1.5Fin    154\n",
      "1.5Unf     14\n",
      "1Story    726\n",
      "2.5Fin      8\n",
      "2.5Unf     11\n",
      "2Story    445\n",
      "SFoyer     37\n",
      "SLvl       65\n",
      "dtype: int64\n",
      "KitchenQual\n",
      "Ex    100\n",
      "Fa     39\n",
      "Gd    586\n",
      "TA    735\n",
      "dtype: int64\n",
      "LandContour\n",
      "Bnk      63\n",
      "HLS      50\n",
      "Low      36\n",
      "Lvl    1311\n",
      "dtype: int64\n",
      "LandSlope\n",
      "Gtl    1382\n",
      "Mod      65\n",
      "Sev      13\n",
      "dtype: int64\n",
      "LotConfig\n",
      "Corner      263\n",
      "CulDSac      94\n",
      "FR2          47\n",
      "FR3           4\n",
      "Inside     1052\n",
      "dtype: int64\n",
      "LotShape\n",
      "IR1    484\n",
      "IR2     41\n",
      "IR3     10\n",
      "Reg    925\n",
      "dtype: int64\n",
      "MSZoning\n",
      "C (all)      10\n",
      "FV           65\n",
      "RH           16\n",
      "RL         1151\n",
      "RM          218\n",
      "dtype: int64\n",
      "MasVnrType\n",
      "BrkCmn      15\n",
      "BrkFace    445\n",
      "None       872\n",
      "Stone      128\n",
      "dtype: int64\n",
      "Neighborhood\n",
      "Blmngtn     17\n",
      "Blueste      2\n",
      "BrDale      16\n",
      "BrkSide     58\n",
      "ClearCr     28\n",
      "CollgCr    150\n",
      "Crawfor     51\n",
      "Edwards    100\n",
      "Gilbert     79\n",
      "IDOTRR      37\n",
      "MeadowV     17\n",
      "Mitchel     49\n",
      "NAmes      225\n",
      "NPkVill      9\n",
      "NWAmes      73\n",
      "NoRidge     41\n",
      "NridgHt     77\n",
      "OldTown    113\n",
      "SWISU       25\n",
      "Sawyer      74\n",
      "SawyerW     59\n",
      "Somerst     86\n",
      "StoneBr     25\n",
      "Timber      38\n",
      "Veenker     11\n",
      "dtype: int64\n",
      "PavedDrive\n",
      "N      90\n",
      "P      30\n",
      "Y    1340\n",
      "dtype: int64\n",
      "RoofMatl\n",
      "ClyTile       1\n",
      "CompShg    1434\n",
      "Membran       1\n",
      "Metal         1\n",
      "Roll          1\n",
      "Tar&Grv      11\n",
      "WdShake       5\n",
      "WdShngl       6\n",
      "dtype: int64\n",
      "RoofStyle\n",
      "Flat         13\n",
      "Gable      1141\n",
      "Gambrel      11\n",
      "Hip         286\n",
      "Mansard       7\n",
      "Shed          2\n",
      "dtype: int64\n",
      "SaleCondition\n",
      "Abnorml     101\n",
      "AdjLand       4\n",
      "Alloca       12\n",
      "Family       20\n",
      "Normal     1198\n",
      "Partial     125\n",
      "dtype: int64\n",
      "SaleType\n",
      "COD        43\n",
      "CWD         4\n",
      "Con         2\n",
      "ConLD       9\n",
      "ConLI       5\n",
      "ConLw       5\n",
      "New       122\n",
      "Oth         3\n",
      "WD       1267\n",
      "dtype: int64\n",
      "Street\n",
      "Grvl       6\n",
      "Pave    1454\n",
      "dtype: int64\n",
      "Utilities\n",
      "AllPub    1459\n",
      "NoSeWa       1\n",
      "dtype: int64\n"
     ]
    }
   ],
   "source": [
    "k=0\n",
    "for columna in df_var_no_numericas.columns:\n",
    "    df_frec_cols=df_categorias_encoder[[columna,columna+\"_c\"]]\n",
    "    df_frecuencia_cat=df_frec_cols.groupby([columna],as_index=False).size()           \n",
    "    if k<max_mostrar_frecuencias:\n",
    "        print(df_frecuencia_cat)\n",
    "    if max_mostrar_frecuencias<=0:\n",
    "        print(df_frecuencia_cat)\n",
    "    k=k+1"
   ]
  },
  {
   "cell_type": "markdown",
   "metadata": {},
   "source": [
    "##\t5. Hallar todas las correlaciones existentes entre las variables numéricas del conjunto de datos.\n",
    "* Se utiliza la función de correlación de las variables, en donde un mejor modelo debe considerar aquellas variables más correladas con la variable a estimar y aquellas variables más decorrelladas entre sí. Aclarar que esto dependerá del método de aprendizaje que utilicemos."
   ]
  },
  {
   "cell_type": "code",
   "execution_count": 15,
   "metadata": {},
   "outputs": [
    {
     "data": {
      "text/html": [
       "<div>\n",
       "<style scoped>\n",
       "    .dataframe tbody tr th:only-of-type {\n",
       "        vertical-align: middle;\n",
       "    }\n",
       "\n",
       "    .dataframe tbody tr th {\n",
       "        vertical-align: top;\n",
       "    }\n",
       "\n",
       "    .dataframe thead th {\n",
       "        text-align: right;\n",
       "    }\n",
       "</style>\n",
       "<table border=\"1\" class=\"dataframe\">\n",
       "  <thead>\n",
       "    <tr style=\"text-align: right;\">\n",
       "      <th></th>\n",
       "      <th>Id</th>\n",
       "      <th>MSSubClass</th>\n",
       "      <th>LotFrontage</th>\n",
       "      <th>LotArea</th>\n",
       "      <th>OverallQual</th>\n",
       "      <th>OverallCond</th>\n",
       "      <th>YearBuilt</th>\n",
       "      <th>YearRemodAdd</th>\n",
       "      <th>MasVnrArea</th>\n",
       "      <th>BsmtFinSF1</th>\n",
       "      <th>...</th>\n",
       "      <th>WoodDeckSF</th>\n",
       "      <th>OpenPorchSF</th>\n",
       "      <th>EnclosedPorch</th>\n",
       "      <th>3SsnPorch</th>\n",
       "      <th>ScreenPorch</th>\n",
       "      <th>PoolArea</th>\n",
       "      <th>MiscVal</th>\n",
       "      <th>MoSold</th>\n",
       "      <th>YrSold</th>\n",
       "      <th>SalePrice</th>\n",
       "    </tr>\n",
       "  </thead>\n",
       "  <tbody>\n",
       "    <tr>\n",
       "      <th>Id</th>\n",
       "      <td>1.000000</td>\n",
       "      <td>0.011156</td>\n",
       "      <td>-0.009601</td>\n",
       "      <td>-0.033226</td>\n",
       "      <td>-0.028365</td>\n",
       "      <td>0.012609</td>\n",
       "      <td>-0.012713</td>\n",
       "      <td>-0.021998</td>\n",
       "      <td>-0.050199</td>\n",
       "      <td>-0.005024</td>\n",
       "      <td>...</td>\n",
       "      <td>-0.029643</td>\n",
       "      <td>-0.000477</td>\n",
       "      <td>0.002889</td>\n",
       "      <td>-0.046635</td>\n",
       "      <td>0.001330</td>\n",
       "      <td>0.057044</td>\n",
       "      <td>-0.006242</td>\n",
       "      <td>0.021172</td>\n",
       "      <td>0.000712</td>\n",
       "      <td>-0.021917</td>\n",
       "    </tr>\n",
       "    <tr>\n",
       "      <th>MSSubClass</th>\n",
       "      <td>0.011156</td>\n",
       "      <td>1.000000</td>\n",
       "      <td>-0.357056</td>\n",
       "      <td>-0.139781</td>\n",
       "      <td>0.032628</td>\n",
       "      <td>-0.059316</td>\n",
       "      <td>0.027850</td>\n",
       "      <td>0.040581</td>\n",
       "      <td>0.022895</td>\n",
       "      <td>-0.069836</td>\n",
       "      <td>...</td>\n",
       "      <td>-0.012579</td>\n",
       "      <td>-0.006100</td>\n",
       "      <td>-0.012037</td>\n",
       "      <td>-0.043825</td>\n",
       "      <td>-0.026030</td>\n",
       "      <td>0.008283</td>\n",
       "      <td>-0.007683</td>\n",
       "      <td>-0.013585</td>\n",
       "      <td>-0.021407</td>\n",
       "      <td>-0.084284</td>\n",
       "    </tr>\n",
       "    <tr>\n",
       "      <th>LotFrontage</th>\n",
       "      <td>-0.009601</td>\n",
       "      <td>-0.357056</td>\n",
       "      <td>1.000000</td>\n",
       "      <td>0.306795</td>\n",
       "      <td>0.234196</td>\n",
       "      <td>-0.052820</td>\n",
       "      <td>0.117598</td>\n",
       "      <td>0.082746</td>\n",
       "      <td>0.179283</td>\n",
       "      <td>0.215828</td>\n",
       "      <td>...</td>\n",
       "      <td>0.077106</td>\n",
       "      <td>0.137454</td>\n",
       "      <td>0.009790</td>\n",
       "      <td>0.062335</td>\n",
       "      <td>0.037684</td>\n",
       "      <td>0.180868</td>\n",
       "      <td>0.001168</td>\n",
       "      <td>0.010158</td>\n",
       "      <td>0.006768</td>\n",
       "      <td>0.334901</td>\n",
       "    </tr>\n",
       "    <tr>\n",
       "      <th>LotArea</th>\n",
       "      <td>-0.033226</td>\n",
       "      <td>-0.139781</td>\n",
       "      <td>0.306795</td>\n",
       "      <td>1.000000</td>\n",
       "      <td>0.105806</td>\n",
       "      <td>-0.005636</td>\n",
       "      <td>0.014228</td>\n",
       "      <td>0.013788</td>\n",
       "      <td>0.103960</td>\n",
       "      <td>0.214103</td>\n",
       "      <td>...</td>\n",
       "      <td>0.171698</td>\n",
       "      <td>0.084774</td>\n",
       "      <td>-0.018340</td>\n",
       "      <td>0.020423</td>\n",
       "      <td>0.043160</td>\n",
       "      <td>0.077672</td>\n",
       "      <td>0.038068</td>\n",
       "      <td>0.001205</td>\n",
       "      <td>-0.014261</td>\n",
       "      <td>0.263843</td>\n",
       "    </tr>\n",
       "    <tr>\n",
       "      <th>OverallQual</th>\n",
       "      <td>-0.028365</td>\n",
       "      <td>0.032628</td>\n",
       "      <td>0.234196</td>\n",
       "      <td>0.105806</td>\n",
       "      <td>1.000000</td>\n",
       "      <td>-0.091932</td>\n",
       "      <td>0.572323</td>\n",
       "      <td>0.550684</td>\n",
       "      <td>0.410238</td>\n",
       "      <td>0.239666</td>\n",
       "      <td>...</td>\n",
       "      <td>0.238923</td>\n",
       "      <td>0.308819</td>\n",
       "      <td>-0.113937</td>\n",
       "      <td>0.030371</td>\n",
       "      <td>0.064886</td>\n",
       "      <td>0.065166</td>\n",
       "      <td>-0.031406</td>\n",
       "      <td>0.070815</td>\n",
       "      <td>-0.027347</td>\n",
       "      <td>0.790982</td>\n",
       "    </tr>\n",
       "    <tr>\n",
       "      <th>OverallCond</th>\n",
       "      <td>0.012609</td>\n",
       "      <td>-0.059316</td>\n",
       "      <td>-0.052820</td>\n",
       "      <td>-0.005636</td>\n",
       "      <td>-0.091932</td>\n",
       "      <td>1.000000</td>\n",
       "      <td>-0.375983</td>\n",
       "      <td>0.073741</td>\n",
       "      <td>-0.127788</td>\n",
       "      <td>-0.046231</td>\n",
       "      <td>...</td>\n",
       "      <td>-0.003334</td>\n",
       "      <td>-0.032589</td>\n",
       "      <td>0.070356</td>\n",
       "      <td>0.025504</td>\n",
       "      <td>0.054811</td>\n",
       "      <td>-0.001985</td>\n",
       "      <td>0.068777</td>\n",
       "      <td>-0.003511</td>\n",
       "      <td>0.043950</td>\n",
       "      <td>-0.077856</td>\n",
       "    </tr>\n",
       "    <tr>\n",
       "      <th>YearBuilt</th>\n",
       "      <td>-0.012713</td>\n",
       "      <td>0.027850</td>\n",
       "      <td>0.117598</td>\n",
       "      <td>0.014228</td>\n",
       "      <td>0.572323</td>\n",
       "      <td>-0.375983</td>\n",
       "      <td>1.000000</td>\n",
       "      <td>0.592855</td>\n",
       "      <td>0.314745</td>\n",
       "      <td>0.249503</td>\n",
       "      <td>...</td>\n",
       "      <td>0.224880</td>\n",
       "      <td>0.188686</td>\n",
       "      <td>-0.387268</td>\n",
       "      <td>0.031355</td>\n",
       "      <td>-0.050364</td>\n",
       "      <td>0.004950</td>\n",
       "      <td>-0.034383</td>\n",
       "      <td>0.012398</td>\n",
       "      <td>-0.013618</td>\n",
       "      <td>0.522897</td>\n",
       "    </tr>\n",
       "    <tr>\n",
       "      <th>YearRemodAdd</th>\n",
       "      <td>-0.021998</td>\n",
       "      <td>0.040581</td>\n",
       "      <td>0.082746</td>\n",
       "      <td>0.013788</td>\n",
       "      <td>0.550684</td>\n",
       "      <td>0.073741</td>\n",
       "      <td>0.592855</td>\n",
       "      <td>1.000000</td>\n",
       "      <td>0.179186</td>\n",
       "      <td>0.128451</td>\n",
       "      <td>...</td>\n",
       "      <td>0.205726</td>\n",
       "      <td>0.226298</td>\n",
       "      <td>-0.193919</td>\n",
       "      <td>0.045286</td>\n",
       "      <td>-0.038740</td>\n",
       "      <td>0.005829</td>\n",
       "      <td>-0.010286</td>\n",
       "      <td>0.021490</td>\n",
       "      <td>0.035743</td>\n",
       "      <td>0.507101</td>\n",
       "    </tr>\n",
       "    <tr>\n",
       "      <th>MasVnrArea</th>\n",
       "      <td>-0.050199</td>\n",
       "      <td>0.022895</td>\n",
       "      <td>0.179283</td>\n",
       "      <td>0.103960</td>\n",
       "      <td>0.410238</td>\n",
       "      <td>-0.127788</td>\n",
       "      <td>0.314745</td>\n",
       "      <td>0.179186</td>\n",
       "      <td>1.000000</td>\n",
       "      <td>0.263582</td>\n",
       "      <td>...</td>\n",
       "      <td>0.159349</td>\n",
       "      <td>0.124965</td>\n",
       "      <td>-0.109849</td>\n",
       "      <td>0.018795</td>\n",
       "      <td>0.061453</td>\n",
       "      <td>0.011723</td>\n",
       "      <td>-0.029815</td>\n",
       "      <td>-0.005940</td>\n",
       "      <td>-0.008184</td>\n",
       "      <td>0.475241</td>\n",
       "    </tr>\n",
       "    <tr>\n",
       "      <th>BsmtFinSF1</th>\n",
       "      <td>-0.005024</td>\n",
       "      <td>-0.069836</td>\n",
       "      <td>0.215828</td>\n",
       "      <td>0.214103</td>\n",
       "      <td>0.239666</td>\n",
       "      <td>-0.046231</td>\n",
       "      <td>0.249503</td>\n",
       "      <td>0.128451</td>\n",
       "      <td>0.263582</td>\n",
       "      <td>1.000000</td>\n",
       "      <td>...</td>\n",
       "      <td>0.204306</td>\n",
       "      <td>0.111761</td>\n",
       "      <td>-0.102303</td>\n",
       "      <td>0.026451</td>\n",
       "      <td>0.062021</td>\n",
       "      <td>0.140491</td>\n",
       "      <td>0.003571</td>\n",
       "      <td>-0.015727</td>\n",
       "      <td>0.014359</td>\n",
       "      <td>0.386420</td>\n",
       "    </tr>\n",
       "    <tr>\n",
       "      <th>BsmtFinSF2</th>\n",
       "      <td>-0.005968</td>\n",
       "      <td>-0.065649</td>\n",
       "      <td>0.043340</td>\n",
       "      <td>0.111170</td>\n",
       "      <td>-0.059119</td>\n",
       "      <td>0.040229</td>\n",
       "      <td>-0.049107</td>\n",
       "      <td>-0.067759</td>\n",
       "      <td>-0.072302</td>\n",
       "      <td>-0.050117</td>\n",
       "      <td>...</td>\n",
       "      <td>0.067898</td>\n",
       "      <td>0.003093</td>\n",
       "      <td>0.036543</td>\n",
       "      <td>-0.029993</td>\n",
       "      <td>0.088871</td>\n",
       "      <td>0.041709</td>\n",
       "      <td>0.004940</td>\n",
       "      <td>-0.015211</td>\n",
       "      <td>0.031706</td>\n",
       "      <td>-0.011378</td>\n",
       "    </tr>\n",
       "    <tr>\n",
       "      <th>BsmtUnfSF</th>\n",
       "      <td>-0.007940</td>\n",
       "      <td>-0.140759</td>\n",
       "      <td>0.122156</td>\n",
       "      <td>-0.002618</td>\n",
       "      <td>0.308159</td>\n",
       "      <td>-0.136841</td>\n",
       "      <td>0.149040</td>\n",
       "      <td>0.181133</td>\n",
       "      <td>0.114184</td>\n",
       "      <td>-0.495251</td>\n",
       "      <td>...</td>\n",
       "      <td>-0.005316</td>\n",
       "      <td>0.129005</td>\n",
       "      <td>-0.002538</td>\n",
       "      <td>0.020764</td>\n",
       "      <td>-0.012579</td>\n",
       "      <td>-0.035092</td>\n",
       "      <td>-0.023837</td>\n",
       "      <td>0.034888</td>\n",
       "      <td>-0.041258</td>\n",
       "      <td>0.214479</td>\n",
       "    </tr>\n",
       "    <tr>\n",
       "      <th>TotalBsmtSF</th>\n",
       "      <td>-0.015415</td>\n",
       "      <td>-0.238518</td>\n",
       "      <td>0.363358</td>\n",
       "      <td>0.260833</td>\n",
       "      <td>0.537808</td>\n",
       "      <td>-0.171098</td>\n",
       "      <td>0.391452</td>\n",
       "      <td>0.291066</td>\n",
       "      <td>0.362452</td>\n",
       "      <td>0.522396</td>\n",
       "      <td>...</td>\n",
       "      <td>0.232019</td>\n",
       "      <td>0.247264</td>\n",
       "      <td>-0.095478</td>\n",
       "      <td>0.037384</td>\n",
       "      <td>0.084489</td>\n",
       "      <td>0.126053</td>\n",
       "      <td>-0.018479</td>\n",
       "      <td>0.013196</td>\n",
       "      <td>-0.014969</td>\n",
       "      <td>0.613581</td>\n",
       "    </tr>\n",
       "    <tr>\n",
       "      <th>1stFlrSF</th>\n",
       "      <td>0.010496</td>\n",
       "      <td>-0.251758</td>\n",
       "      <td>0.414266</td>\n",
       "      <td>0.299475</td>\n",
       "      <td>0.476224</td>\n",
       "      <td>-0.144203</td>\n",
       "      <td>0.281986</td>\n",
       "      <td>0.240379</td>\n",
       "      <td>0.342160</td>\n",
       "      <td>0.445863</td>\n",
       "      <td>...</td>\n",
       "      <td>0.235459</td>\n",
       "      <td>0.211671</td>\n",
       "      <td>-0.065292</td>\n",
       "      <td>0.056104</td>\n",
       "      <td>0.088758</td>\n",
       "      <td>0.131525</td>\n",
       "      <td>-0.021096</td>\n",
       "      <td>0.031372</td>\n",
       "      <td>-0.013604</td>\n",
       "      <td>0.605852</td>\n",
       "    </tr>\n",
       "    <tr>\n",
       "      <th>2ndFlrSF</th>\n",
       "      <td>0.005590</td>\n",
       "      <td>0.307886</td>\n",
       "      <td>0.072483</td>\n",
       "      <td>0.050986</td>\n",
       "      <td>0.295493</td>\n",
       "      <td>0.028942</td>\n",
       "      <td>0.010308</td>\n",
       "      <td>0.140024</td>\n",
       "      <td>0.174019</td>\n",
       "      <td>-0.137079</td>\n",
       "      <td>...</td>\n",
       "      <td>0.092165</td>\n",
       "      <td>0.208026</td>\n",
       "      <td>0.061989</td>\n",
       "      <td>-0.024358</td>\n",
       "      <td>0.040606</td>\n",
       "      <td>0.081487</td>\n",
       "      <td>0.016197</td>\n",
       "      <td>0.035164</td>\n",
       "      <td>-0.028700</td>\n",
       "      <td>0.319334</td>\n",
       "    </tr>\n",
       "    <tr>\n",
       "      <th>LowQualFinSF</th>\n",
       "      <td>-0.044230</td>\n",
       "      <td>0.046474</td>\n",
       "      <td>0.036849</td>\n",
       "      <td>0.004779</td>\n",
       "      <td>-0.030429</td>\n",
       "      <td>0.025494</td>\n",
       "      <td>-0.183784</td>\n",
       "      <td>-0.062419</td>\n",
       "      <td>-0.069068</td>\n",
       "      <td>-0.064503</td>\n",
       "      <td>...</td>\n",
       "      <td>-0.025444</td>\n",
       "      <td>0.018251</td>\n",
       "      <td>0.061081</td>\n",
       "      <td>-0.004296</td>\n",
       "      <td>0.026799</td>\n",
       "      <td>0.062157</td>\n",
       "      <td>-0.003793</td>\n",
       "      <td>-0.022174</td>\n",
       "      <td>-0.028921</td>\n",
       "      <td>-0.025606</td>\n",
       "    </tr>\n",
       "    <tr>\n",
       "      <th>GrLivArea</th>\n",
       "      <td>0.008273</td>\n",
       "      <td>0.074853</td>\n",
       "      <td>0.368392</td>\n",
       "      <td>0.263116</td>\n",
       "      <td>0.593007</td>\n",
       "      <td>-0.079686</td>\n",
       "      <td>0.199010</td>\n",
       "      <td>0.287389</td>\n",
       "      <td>0.389893</td>\n",
       "      <td>0.208171</td>\n",
       "      <td>...</td>\n",
       "      <td>0.247433</td>\n",
       "      <td>0.330224</td>\n",
       "      <td>0.009113</td>\n",
       "      <td>0.020643</td>\n",
       "      <td>0.101510</td>\n",
       "      <td>0.170205</td>\n",
       "      <td>-0.002416</td>\n",
       "      <td>0.050240</td>\n",
       "      <td>-0.036526</td>\n",
       "      <td>0.708624</td>\n",
       "    </tr>\n",
       "    <tr>\n",
       "      <th>BsmtFullBath</th>\n",
       "      <td>0.002289</td>\n",
       "      <td>0.003491</td>\n",
       "      <td>0.091481</td>\n",
       "      <td>0.158155</td>\n",
       "      <td>0.111098</td>\n",
       "      <td>-0.054942</td>\n",
       "      <td>0.187599</td>\n",
       "      <td>0.119470</td>\n",
       "      <td>0.085055</td>\n",
       "      <td>0.649212</td>\n",
       "      <td>...</td>\n",
       "      <td>0.175315</td>\n",
       "      <td>0.067341</td>\n",
       "      <td>-0.049911</td>\n",
       "      <td>-0.000106</td>\n",
       "      <td>0.023148</td>\n",
       "      <td>0.067616</td>\n",
       "      <td>-0.023047</td>\n",
       "      <td>-0.025361</td>\n",
       "      <td>0.067049</td>\n",
       "      <td>0.227122</td>\n",
       "    </tr>\n",
       "    <tr>\n",
       "      <th>BsmtHalfBath</th>\n",
       "      <td>-0.020155</td>\n",
       "      <td>-0.002333</td>\n",
       "      <td>-0.006419</td>\n",
       "      <td>0.048046</td>\n",
       "      <td>-0.040150</td>\n",
       "      <td>0.117821</td>\n",
       "      <td>-0.038162</td>\n",
       "      <td>-0.012337</td>\n",
       "      <td>0.026669</td>\n",
       "      <td>0.067418</td>\n",
       "      <td>...</td>\n",
       "      <td>0.040161</td>\n",
       "      <td>-0.025324</td>\n",
       "      <td>-0.008555</td>\n",
       "      <td>0.035114</td>\n",
       "      <td>0.032121</td>\n",
       "      <td>0.020025</td>\n",
       "      <td>-0.007367</td>\n",
       "      <td>0.032873</td>\n",
       "      <td>-0.046524</td>\n",
       "      <td>-0.016844</td>\n",
       "    </tr>\n",
       "    <tr>\n",
       "      <th>FullBath</th>\n",
       "      <td>0.005587</td>\n",
       "      <td>0.131608</td>\n",
       "      <td>0.180424</td>\n",
       "      <td>0.126031</td>\n",
       "      <td>0.550600</td>\n",
       "      <td>-0.194149</td>\n",
       "      <td>0.468271</td>\n",
       "      <td>0.439046</td>\n",
       "      <td>0.275730</td>\n",
       "      <td>0.058543</td>\n",
       "      <td>...</td>\n",
       "      <td>0.187703</td>\n",
       "      <td>0.259977</td>\n",
       "      <td>-0.115093</td>\n",
       "      <td>0.035353</td>\n",
       "      <td>-0.008106</td>\n",
       "      <td>0.049604</td>\n",
       "      <td>-0.014290</td>\n",
       "      <td>0.055872</td>\n",
       "      <td>-0.019669</td>\n",
       "      <td>0.560664</td>\n",
       "    </tr>\n",
       "    <tr>\n",
       "      <th>HalfBath</th>\n",
       "      <td>0.006784</td>\n",
       "      <td>0.177354</td>\n",
       "      <td>0.048258</td>\n",
       "      <td>0.014259</td>\n",
       "      <td>0.273458</td>\n",
       "      <td>-0.060769</td>\n",
       "      <td>0.242656</td>\n",
       "      <td>0.183331</td>\n",
       "      <td>0.200802</td>\n",
       "      <td>0.004262</td>\n",
       "      <td>...</td>\n",
       "      <td>0.108080</td>\n",
       "      <td>0.199740</td>\n",
       "      <td>-0.095317</td>\n",
       "      <td>-0.004972</td>\n",
       "      <td>0.072426</td>\n",
       "      <td>0.022381</td>\n",
       "      <td>0.001290</td>\n",
       "      <td>-0.009050</td>\n",
       "      <td>-0.010269</td>\n",
       "      <td>0.284108</td>\n",
       "    </tr>\n",
       "    <tr>\n",
       "      <th>BedroomAbvGr</th>\n",
       "      <td>0.037719</td>\n",
       "      <td>-0.023438</td>\n",
       "      <td>0.237023</td>\n",
       "      <td>0.119690</td>\n",
       "      <td>0.101676</td>\n",
       "      <td>0.012980</td>\n",
       "      <td>-0.070651</td>\n",
       "      <td>-0.040581</td>\n",
       "      <td>0.102417</td>\n",
       "      <td>-0.107355</td>\n",
       "      <td>...</td>\n",
       "      <td>0.046854</td>\n",
       "      <td>0.093810</td>\n",
       "      <td>0.041570</td>\n",
       "      <td>-0.024478</td>\n",
       "      <td>0.044300</td>\n",
       "      <td>0.070703</td>\n",
       "      <td>0.007767</td>\n",
       "      <td>0.046544</td>\n",
       "      <td>-0.036014</td>\n",
       "      <td>0.168213</td>\n",
       "    </tr>\n",
       "    <tr>\n",
       "      <th>KitchenAbvGr</th>\n",
       "      <td>0.002951</td>\n",
       "      <td>0.281721</td>\n",
       "      <td>-0.005805</td>\n",
       "      <td>-0.017784</td>\n",
       "      <td>-0.183882</td>\n",
       "      <td>-0.087001</td>\n",
       "      <td>-0.174800</td>\n",
       "      <td>-0.149598</td>\n",
       "      <td>-0.037364</td>\n",
       "      <td>-0.081007</td>\n",
       "      <td>...</td>\n",
       "      <td>-0.090130</td>\n",
       "      <td>-0.070091</td>\n",
       "      <td>0.037312</td>\n",
       "      <td>-0.024600</td>\n",
       "      <td>-0.051613</td>\n",
       "      <td>-0.014525</td>\n",
       "      <td>0.062341</td>\n",
       "      <td>0.026589</td>\n",
       "      <td>0.031687</td>\n",
       "      <td>-0.135907</td>\n",
       "    </tr>\n",
       "    <tr>\n",
       "      <th>TotRmsAbvGrd</th>\n",
       "      <td>0.027239</td>\n",
       "      <td>0.040380</td>\n",
       "      <td>0.320146</td>\n",
       "      <td>0.190015</td>\n",
       "      <td>0.427452</td>\n",
       "      <td>-0.057583</td>\n",
       "      <td>0.095589</td>\n",
       "      <td>0.191740</td>\n",
       "      <td>0.280027</td>\n",
       "      <td>0.044316</td>\n",
       "      <td>...</td>\n",
       "      <td>0.165984</td>\n",
       "      <td>0.234192</td>\n",
       "      <td>0.004151</td>\n",
       "      <td>-0.006683</td>\n",
       "      <td>0.059383</td>\n",
       "      <td>0.083757</td>\n",
       "      <td>0.024763</td>\n",
       "      <td>0.036907</td>\n",
       "      <td>-0.034516</td>\n",
       "      <td>0.533723</td>\n",
       "    </tr>\n",
       "    <tr>\n",
       "      <th>Fireplaces</th>\n",
       "      <td>-0.019772</td>\n",
       "      <td>-0.045569</td>\n",
       "      <td>0.235755</td>\n",
       "      <td>0.271364</td>\n",
       "      <td>0.396765</td>\n",
       "      <td>-0.023820</td>\n",
       "      <td>0.147716</td>\n",
       "      <td>0.112581</td>\n",
       "      <td>0.247906</td>\n",
       "      <td>0.260011</td>\n",
       "      <td>...</td>\n",
       "      <td>0.200019</td>\n",
       "      <td>0.169405</td>\n",
       "      <td>-0.024822</td>\n",
       "      <td>0.011257</td>\n",
       "      <td>0.184530</td>\n",
       "      <td>0.095074</td>\n",
       "      <td>0.001409</td>\n",
       "      <td>0.046357</td>\n",
       "      <td>-0.024096</td>\n",
       "      <td>0.466929</td>\n",
       "    </tr>\n",
       "    <tr>\n",
       "      <th>GarageYrBlt</th>\n",
       "      <td>0.000070</td>\n",
       "      <td>0.080187</td>\n",
       "      <td>0.064324</td>\n",
       "      <td>-0.024812</td>\n",
       "      <td>0.518018</td>\n",
       "      <td>-0.306169</td>\n",
       "      <td>0.780555</td>\n",
       "      <td>0.618130</td>\n",
       "      <td>0.249367</td>\n",
       "      <td>0.150338</td>\n",
       "      <td>...</td>\n",
       "      <td>0.220623</td>\n",
       "      <td>0.218490</td>\n",
       "      <td>-0.285882</td>\n",
       "      <td>0.023534</td>\n",
       "      <td>-0.075256</td>\n",
       "      <td>-0.014499</td>\n",
       "      <td>-0.031853</td>\n",
       "      <td>0.005173</td>\n",
       "      <td>-0.000987</td>\n",
       "      <td>0.470177</td>\n",
       "    </tr>\n",
       "    <tr>\n",
       "      <th>GarageCars</th>\n",
       "      <td>0.016570</td>\n",
       "      <td>-0.040110</td>\n",
       "      <td>0.269729</td>\n",
       "      <td>0.154871</td>\n",
       "      <td>0.600671</td>\n",
       "      <td>-0.185758</td>\n",
       "      <td>0.537850</td>\n",
       "      <td>0.420622</td>\n",
       "      <td>0.363778</td>\n",
       "      <td>0.224054</td>\n",
       "      <td>...</td>\n",
       "      <td>0.226342</td>\n",
       "      <td>0.213569</td>\n",
       "      <td>-0.151434</td>\n",
       "      <td>0.035765</td>\n",
       "      <td>0.050494</td>\n",
       "      <td>0.020934</td>\n",
       "      <td>-0.043080</td>\n",
       "      <td>0.040522</td>\n",
       "      <td>-0.039117</td>\n",
       "      <td>0.640409</td>\n",
       "    </tr>\n",
       "    <tr>\n",
       "      <th>GarageArea</th>\n",
       "      <td>0.017634</td>\n",
       "      <td>-0.098672</td>\n",
       "      <td>0.323663</td>\n",
       "      <td>0.180403</td>\n",
       "      <td>0.562022</td>\n",
       "      <td>-0.151521</td>\n",
       "      <td>0.478954</td>\n",
       "      <td>0.371600</td>\n",
       "      <td>0.372567</td>\n",
       "      <td>0.296970</td>\n",
       "      <td>...</td>\n",
       "      <td>0.224666</td>\n",
       "      <td>0.241435</td>\n",
       "      <td>-0.121777</td>\n",
       "      <td>0.035087</td>\n",
       "      <td>0.051412</td>\n",
       "      <td>0.061047</td>\n",
       "      <td>-0.027400</td>\n",
       "      <td>0.027974</td>\n",
       "      <td>-0.027378</td>\n",
       "      <td>0.623431</td>\n",
       "    </tr>\n",
       "    <tr>\n",
       "      <th>WoodDeckSF</th>\n",
       "      <td>-0.029643</td>\n",
       "      <td>-0.012579</td>\n",
       "      <td>0.077106</td>\n",
       "      <td>0.171698</td>\n",
       "      <td>0.238923</td>\n",
       "      <td>-0.003334</td>\n",
       "      <td>0.224880</td>\n",
       "      <td>0.205726</td>\n",
       "      <td>0.159349</td>\n",
       "      <td>0.204306</td>\n",
       "      <td>...</td>\n",
       "      <td>1.000000</td>\n",
       "      <td>0.058661</td>\n",
       "      <td>-0.125989</td>\n",
       "      <td>-0.032771</td>\n",
       "      <td>-0.074181</td>\n",
       "      <td>0.073378</td>\n",
       "      <td>-0.009551</td>\n",
       "      <td>0.021011</td>\n",
       "      <td>0.022270</td>\n",
       "      <td>0.324413</td>\n",
       "    </tr>\n",
       "    <tr>\n",
       "      <th>OpenPorchSF</th>\n",
       "      <td>-0.000477</td>\n",
       "      <td>-0.006100</td>\n",
       "      <td>0.137454</td>\n",
       "      <td>0.084774</td>\n",
       "      <td>0.308819</td>\n",
       "      <td>-0.032589</td>\n",
       "      <td>0.188686</td>\n",
       "      <td>0.226298</td>\n",
       "      <td>0.124965</td>\n",
       "      <td>0.111761</td>\n",
       "      <td>...</td>\n",
       "      <td>0.058661</td>\n",
       "      <td>1.000000</td>\n",
       "      <td>-0.093079</td>\n",
       "      <td>-0.005842</td>\n",
       "      <td>0.074304</td>\n",
       "      <td>0.060762</td>\n",
       "      <td>-0.018584</td>\n",
       "      <td>0.071255</td>\n",
       "      <td>-0.057619</td>\n",
       "      <td>0.315856</td>\n",
       "    </tr>\n",
       "    <tr>\n",
       "      <th>EnclosedPorch</th>\n",
       "      <td>0.002889</td>\n",
       "      <td>-0.012037</td>\n",
       "      <td>0.009790</td>\n",
       "      <td>-0.018340</td>\n",
       "      <td>-0.113937</td>\n",
       "      <td>0.070356</td>\n",
       "      <td>-0.387268</td>\n",
       "      <td>-0.193919</td>\n",
       "      <td>-0.109849</td>\n",
       "      <td>-0.102303</td>\n",
       "      <td>...</td>\n",
       "      <td>-0.125989</td>\n",
       "      <td>-0.093079</td>\n",
       "      <td>1.000000</td>\n",
       "      <td>-0.037305</td>\n",
       "      <td>-0.082864</td>\n",
       "      <td>0.054203</td>\n",
       "      <td>0.018361</td>\n",
       "      <td>-0.028887</td>\n",
       "      <td>-0.009916</td>\n",
       "      <td>-0.128578</td>\n",
       "    </tr>\n",
       "    <tr>\n",
       "      <th>3SsnPorch</th>\n",
       "      <td>-0.046635</td>\n",
       "      <td>-0.043825</td>\n",
       "      <td>0.062335</td>\n",
       "      <td>0.020423</td>\n",
       "      <td>0.030371</td>\n",
       "      <td>0.025504</td>\n",
       "      <td>0.031355</td>\n",
       "      <td>0.045286</td>\n",
       "      <td>0.018795</td>\n",
       "      <td>0.026451</td>\n",
       "      <td>...</td>\n",
       "      <td>-0.032771</td>\n",
       "      <td>-0.005842</td>\n",
       "      <td>-0.037305</td>\n",
       "      <td>1.000000</td>\n",
       "      <td>-0.031436</td>\n",
       "      <td>-0.007992</td>\n",
       "      <td>0.000354</td>\n",
       "      <td>0.029474</td>\n",
       "      <td>0.018645</td>\n",
       "      <td>0.044584</td>\n",
       "    </tr>\n",
       "    <tr>\n",
       "      <th>ScreenPorch</th>\n",
       "      <td>0.001330</td>\n",
       "      <td>-0.026030</td>\n",
       "      <td>0.037684</td>\n",
       "      <td>0.043160</td>\n",
       "      <td>0.064886</td>\n",
       "      <td>0.054811</td>\n",
       "      <td>-0.050364</td>\n",
       "      <td>-0.038740</td>\n",
       "      <td>0.061453</td>\n",
       "      <td>0.062021</td>\n",
       "      <td>...</td>\n",
       "      <td>-0.074181</td>\n",
       "      <td>0.074304</td>\n",
       "      <td>-0.082864</td>\n",
       "      <td>-0.031436</td>\n",
       "      <td>1.000000</td>\n",
       "      <td>0.051307</td>\n",
       "      <td>0.031946</td>\n",
       "      <td>0.023217</td>\n",
       "      <td>0.010694</td>\n",
       "      <td>0.111447</td>\n",
       "    </tr>\n",
       "    <tr>\n",
       "      <th>PoolArea</th>\n",
       "      <td>0.057044</td>\n",
       "      <td>0.008283</td>\n",
       "      <td>0.180868</td>\n",
       "      <td>0.077672</td>\n",
       "      <td>0.065166</td>\n",
       "      <td>-0.001985</td>\n",
       "      <td>0.004950</td>\n",
       "      <td>0.005829</td>\n",
       "      <td>0.011723</td>\n",
       "      <td>0.140491</td>\n",
       "      <td>...</td>\n",
       "      <td>0.073378</td>\n",
       "      <td>0.060762</td>\n",
       "      <td>0.054203</td>\n",
       "      <td>-0.007992</td>\n",
       "      <td>0.051307</td>\n",
       "      <td>1.000000</td>\n",
       "      <td>0.029669</td>\n",
       "      <td>-0.033737</td>\n",
       "      <td>-0.059689</td>\n",
       "      <td>0.092404</td>\n",
       "    </tr>\n",
       "    <tr>\n",
       "      <th>MiscVal</th>\n",
       "      <td>-0.006242</td>\n",
       "      <td>-0.007683</td>\n",
       "      <td>0.001168</td>\n",
       "      <td>0.038068</td>\n",
       "      <td>-0.031406</td>\n",
       "      <td>0.068777</td>\n",
       "      <td>-0.034383</td>\n",
       "      <td>-0.010286</td>\n",
       "      <td>-0.029815</td>\n",
       "      <td>0.003571</td>\n",
       "      <td>...</td>\n",
       "      <td>-0.009551</td>\n",
       "      <td>-0.018584</td>\n",
       "      <td>0.018361</td>\n",
       "      <td>0.000354</td>\n",
       "      <td>0.031946</td>\n",
       "      <td>0.029669</td>\n",
       "      <td>1.000000</td>\n",
       "      <td>-0.006495</td>\n",
       "      <td>0.004906</td>\n",
       "      <td>-0.021190</td>\n",
       "    </tr>\n",
       "    <tr>\n",
       "      <th>MoSold</th>\n",
       "      <td>0.021172</td>\n",
       "      <td>-0.013585</td>\n",
       "      <td>0.010158</td>\n",
       "      <td>0.001205</td>\n",
       "      <td>0.070815</td>\n",
       "      <td>-0.003511</td>\n",
       "      <td>0.012398</td>\n",
       "      <td>0.021490</td>\n",
       "      <td>-0.005940</td>\n",
       "      <td>-0.015727</td>\n",
       "      <td>...</td>\n",
       "      <td>0.021011</td>\n",
       "      <td>0.071255</td>\n",
       "      <td>-0.028887</td>\n",
       "      <td>0.029474</td>\n",
       "      <td>0.023217</td>\n",
       "      <td>-0.033737</td>\n",
       "      <td>-0.006495</td>\n",
       "      <td>1.000000</td>\n",
       "      <td>-0.145721</td>\n",
       "      <td>0.046432</td>\n",
       "    </tr>\n",
       "    <tr>\n",
       "      <th>YrSold</th>\n",
       "      <td>0.000712</td>\n",
       "      <td>-0.021407</td>\n",
       "      <td>0.006768</td>\n",
       "      <td>-0.014261</td>\n",
       "      <td>-0.027347</td>\n",
       "      <td>0.043950</td>\n",
       "      <td>-0.013618</td>\n",
       "      <td>0.035743</td>\n",
       "      <td>-0.008184</td>\n",
       "      <td>0.014359</td>\n",
       "      <td>...</td>\n",
       "      <td>0.022270</td>\n",
       "      <td>-0.057619</td>\n",
       "      <td>-0.009916</td>\n",
       "      <td>0.018645</td>\n",
       "      <td>0.010694</td>\n",
       "      <td>-0.059689</td>\n",
       "      <td>0.004906</td>\n",
       "      <td>-0.145721</td>\n",
       "      <td>1.000000</td>\n",
       "      <td>-0.028923</td>\n",
       "    </tr>\n",
       "    <tr>\n",
       "      <th>SalePrice</th>\n",
       "      <td>-0.021917</td>\n",
       "      <td>-0.084284</td>\n",
       "      <td>0.334901</td>\n",
       "      <td>0.263843</td>\n",
       "      <td>0.790982</td>\n",
       "      <td>-0.077856</td>\n",
       "      <td>0.522897</td>\n",
       "      <td>0.507101</td>\n",
       "      <td>0.475241</td>\n",
       "      <td>0.386420</td>\n",
       "      <td>...</td>\n",
       "      <td>0.324413</td>\n",
       "      <td>0.315856</td>\n",
       "      <td>-0.128578</td>\n",
       "      <td>0.044584</td>\n",
       "      <td>0.111447</td>\n",
       "      <td>0.092404</td>\n",
       "      <td>-0.021190</td>\n",
       "      <td>0.046432</td>\n",
       "      <td>-0.028923</td>\n",
       "      <td>1.000000</td>\n",
       "    </tr>\n",
       "  </tbody>\n",
       "</table>\n",
       "<p>38 rows × 38 columns</p>\n",
       "</div>"
      ],
      "text/plain": [
       "                     Id  MSSubClass  LotFrontage   LotArea  OverallQual  \\\n",
       "Id             1.000000    0.011156    -0.009601 -0.033226    -0.028365   \n",
       "MSSubClass     0.011156    1.000000    -0.357056 -0.139781     0.032628   \n",
       "LotFrontage   -0.009601   -0.357056     1.000000  0.306795     0.234196   \n",
       "LotArea       -0.033226   -0.139781     0.306795  1.000000     0.105806   \n",
       "OverallQual   -0.028365    0.032628     0.234196  0.105806     1.000000   \n",
       "OverallCond    0.012609   -0.059316    -0.052820 -0.005636    -0.091932   \n",
       "YearBuilt     -0.012713    0.027850     0.117598  0.014228     0.572323   \n",
       "YearRemodAdd  -0.021998    0.040581     0.082746  0.013788     0.550684   \n",
       "MasVnrArea    -0.050199    0.022895     0.179283  0.103960     0.410238   \n",
       "BsmtFinSF1    -0.005024   -0.069836     0.215828  0.214103     0.239666   \n",
       "BsmtFinSF2    -0.005968   -0.065649     0.043340  0.111170    -0.059119   \n",
       "BsmtUnfSF     -0.007940   -0.140759     0.122156 -0.002618     0.308159   \n",
       "TotalBsmtSF   -0.015415   -0.238518     0.363358  0.260833     0.537808   \n",
       "1stFlrSF       0.010496   -0.251758     0.414266  0.299475     0.476224   \n",
       "2ndFlrSF       0.005590    0.307886     0.072483  0.050986     0.295493   \n",
       "LowQualFinSF  -0.044230    0.046474     0.036849  0.004779    -0.030429   \n",
       "GrLivArea      0.008273    0.074853     0.368392  0.263116     0.593007   \n",
       "BsmtFullBath   0.002289    0.003491     0.091481  0.158155     0.111098   \n",
       "BsmtHalfBath  -0.020155   -0.002333    -0.006419  0.048046    -0.040150   \n",
       "FullBath       0.005587    0.131608     0.180424  0.126031     0.550600   \n",
       "HalfBath       0.006784    0.177354     0.048258  0.014259     0.273458   \n",
       "BedroomAbvGr   0.037719   -0.023438     0.237023  0.119690     0.101676   \n",
       "KitchenAbvGr   0.002951    0.281721    -0.005805 -0.017784    -0.183882   \n",
       "TotRmsAbvGrd   0.027239    0.040380     0.320146  0.190015     0.427452   \n",
       "Fireplaces    -0.019772   -0.045569     0.235755  0.271364     0.396765   \n",
       "GarageYrBlt    0.000070    0.080187     0.064324 -0.024812     0.518018   \n",
       "GarageCars     0.016570   -0.040110     0.269729  0.154871     0.600671   \n",
       "GarageArea     0.017634   -0.098672     0.323663  0.180403     0.562022   \n",
       "WoodDeckSF    -0.029643   -0.012579     0.077106  0.171698     0.238923   \n",
       "OpenPorchSF   -0.000477   -0.006100     0.137454  0.084774     0.308819   \n",
       "EnclosedPorch  0.002889   -0.012037     0.009790 -0.018340    -0.113937   \n",
       "3SsnPorch     -0.046635   -0.043825     0.062335  0.020423     0.030371   \n",
       "ScreenPorch    0.001330   -0.026030     0.037684  0.043160     0.064886   \n",
       "PoolArea       0.057044    0.008283     0.180868  0.077672     0.065166   \n",
       "MiscVal       -0.006242   -0.007683     0.001168  0.038068    -0.031406   \n",
       "MoSold         0.021172   -0.013585     0.010158  0.001205     0.070815   \n",
       "YrSold         0.000712   -0.021407     0.006768 -0.014261    -0.027347   \n",
       "SalePrice     -0.021917   -0.084284     0.334901  0.263843     0.790982   \n",
       "\n",
       "               OverallCond  YearBuilt  YearRemodAdd  MasVnrArea  BsmtFinSF1  \\\n",
       "Id                0.012609  -0.012713     -0.021998   -0.050199   -0.005024   \n",
       "MSSubClass       -0.059316   0.027850      0.040581    0.022895   -0.069836   \n",
       "LotFrontage      -0.052820   0.117598      0.082746    0.179283    0.215828   \n",
       "LotArea          -0.005636   0.014228      0.013788    0.103960    0.214103   \n",
       "OverallQual      -0.091932   0.572323      0.550684    0.410238    0.239666   \n",
       "OverallCond       1.000000  -0.375983      0.073741   -0.127788   -0.046231   \n",
       "YearBuilt        -0.375983   1.000000      0.592855    0.314745    0.249503   \n",
       "YearRemodAdd      0.073741   0.592855      1.000000    0.179186    0.128451   \n",
       "MasVnrArea       -0.127788   0.314745      0.179186    1.000000    0.263582   \n",
       "BsmtFinSF1       -0.046231   0.249503      0.128451    0.263582    1.000000   \n",
       "BsmtFinSF2        0.040229  -0.049107     -0.067759   -0.072302   -0.050117   \n",
       "BsmtUnfSF        -0.136841   0.149040      0.181133    0.114184   -0.495251   \n",
       "TotalBsmtSF      -0.171098   0.391452      0.291066    0.362452    0.522396   \n",
       "1stFlrSF         -0.144203   0.281986      0.240379    0.342160    0.445863   \n",
       "2ndFlrSF          0.028942   0.010308      0.140024    0.174019   -0.137079   \n",
       "LowQualFinSF      0.025494  -0.183784     -0.062419   -0.069068   -0.064503   \n",
       "GrLivArea        -0.079686   0.199010      0.287389    0.389893    0.208171   \n",
       "BsmtFullBath     -0.054942   0.187599      0.119470    0.085055    0.649212   \n",
       "BsmtHalfBath      0.117821  -0.038162     -0.012337    0.026669    0.067418   \n",
       "FullBath         -0.194149   0.468271      0.439046    0.275730    0.058543   \n",
       "HalfBath         -0.060769   0.242656      0.183331    0.200802    0.004262   \n",
       "BedroomAbvGr      0.012980  -0.070651     -0.040581    0.102417   -0.107355   \n",
       "KitchenAbvGr     -0.087001  -0.174800     -0.149598   -0.037364   -0.081007   \n",
       "TotRmsAbvGrd     -0.057583   0.095589      0.191740    0.280027    0.044316   \n",
       "Fireplaces       -0.023820   0.147716      0.112581    0.247906    0.260011   \n",
       "GarageYrBlt      -0.306169   0.780555      0.618130    0.249367    0.150338   \n",
       "GarageCars       -0.185758   0.537850      0.420622    0.363778    0.224054   \n",
       "GarageArea       -0.151521   0.478954      0.371600    0.372567    0.296970   \n",
       "WoodDeckSF       -0.003334   0.224880      0.205726    0.159349    0.204306   \n",
       "OpenPorchSF      -0.032589   0.188686      0.226298    0.124965    0.111761   \n",
       "EnclosedPorch     0.070356  -0.387268     -0.193919   -0.109849   -0.102303   \n",
       "3SsnPorch         0.025504   0.031355      0.045286    0.018795    0.026451   \n",
       "ScreenPorch       0.054811  -0.050364     -0.038740    0.061453    0.062021   \n",
       "PoolArea         -0.001985   0.004950      0.005829    0.011723    0.140491   \n",
       "MiscVal           0.068777  -0.034383     -0.010286   -0.029815    0.003571   \n",
       "MoSold           -0.003511   0.012398      0.021490   -0.005940   -0.015727   \n",
       "YrSold            0.043950  -0.013618      0.035743   -0.008184    0.014359   \n",
       "SalePrice        -0.077856   0.522897      0.507101    0.475241    0.386420   \n",
       "\n",
       "               ...  WoodDeckSF  OpenPorchSF  EnclosedPorch  3SsnPorch  \\\n",
       "Id             ...   -0.029643    -0.000477       0.002889  -0.046635   \n",
       "MSSubClass     ...   -0.012579    -0.006100      -0.012037  -0.043825   \n",
       "LotFrontage    ...    0.077106     0.137454       0.009790   0.062335   \n",
       "LotArea        ...    0.171698     0.084774      -0.018340   0.020423   \n",
       "OverallQual    ...    0.238923     0.308819      -0.113937   0.030371   \n",
       "OverallCond    ...   -0.003334    -0.032589       0.070356   0.025504   \n",
       "YearBuilt      ...    0.224880     0.188686      -0.387268   0.031355   \n",
       "YearRemodAdd   ...    0.205726     0.226298      -0.193919   0.045286   \n",
       "MasVnrArea     ...    0.159349     0.124965      -0.109849   0.018795   \n",
       "BsmtFinSF1     ...    0.204306     0.111761      -0.102303   0.026451   \n",
       "BsmtFinSF2     ...    0.067898     0.003093       0.036543  -0.029993   \n",
       "BsmtUnfSF      ...   -0.005316     0.129005      -0.002538   0.020764   \n",
       "TotalBsmtSF    ...    0.232019     0.247264      -0.095478   0.037384   \n",
       "1stFlrSF       ...    0.235459     0.211671      -0.065292   0.056104   \n",
       "2ndFlrSF       ...    0.092165     0.208026       0.061989  -0.024358   \n",
       "LowQualFinSF   ...   -0.025444     0.018251       0.061081  -0.004296   \n",
       "GrLivArea      ...    0.247433     0.330224       0.009113   0.020643   \n",
       "BsmtFullBath   ...    0.175315     0.067341      -0.049911  -0.000106   \n",
       "BsmtHalfBath   ...    0.040161    -0.025324      -0.008555   0.035114   \n",
       "FullBath       ...    0.187703     0.259977      -0.115093   0.035353   \n",
       "HalfBath       ...    0.108080     0.199740      -0.095317  -0.004972   \n",
       "BedroomAbvGr   ...    0.046854     0.093810       0.041570  -0.024478   \n",
       "KitchenAbvGr   ...   -0.090130    -0.070091       0.037312  -0.024600   \n",
       "TotRmsAbvGrd   ...    0.165984     0.234192       0.004151  -0.006683   \n",
       "Fireplaces     ...    0.200019     0.169405      -0.024822   0.011257   \n",
       "GarageYrBlt    ...    0.220623     0.218490      -0.285882   0.023534   \n",
       "GarageCars     ...    0.226342     0.213569      -0.151434   0.035765   \n",
       "GarageArea     ...    0.224666     0.241435      -0.121777   0.035087   \n",
       "WoodDeckSF     ...    1.000000     0.058661      -0.125989  -0.032771   \n",
       "OpenPorchSF    ...    0.058661     1.000000      -0.093079  -0.005842   \n",
       "EnclosedPorch  ...   -0.125989    -0.093079       1.000000  -0.037305   \n",
       "3SsnPorch      ...   -0.032771    -0.005842      -0.037305   1.000000   \n",
       "ScreenPorch    ...   -0.074181     0.074304      -0.082864  -0.031436   \n",
       "PoolArea       ...    0.073378     0.060762       0.054203  -0.007992   \n",
       "MiscVal        ...   -0.009551    -0.018584       0.018361   0.000354   \n",
       "MoSold         ...    0.021011     0.071255      -0.028887   0.029474   \n",
       "YrSold         ...    0.022270    -0.057619      -0.009916   0.018645   \n",
       "SalePrice      ...    0.324413     0.315856      -0.128578   0.044584   \n",
       "\n",
       "               ScreenPorch  PoolArea   MiscVal    MoSold    YrSold  SalePrice  \n",
       "Id                0.001330  0.057044 -0.006242  0.021172  0.000712  -0.021917  \n",
       "MSSubClass       -0.026030  0.008283 -0.007683 -0.013585 -0.021407  -0.084284  \n",
       "LotFrontage       0.037684  0.180868  0.001168  0.010158  0.006768   0.334901  \n",
       "LotArea           0.043160  0.077672  0.038068  0.001205 -0.014261   0.263843  \n",
       "OverallQual       0.064886  0.065166 -0.031406  0.070815 -0.027347   0.790982  \n",
       "OverallCond       0.054811 -0.001985  0.068777 -0.003511  0.043950  -0.077856  \n",
       "YearBuilt        -0.050364  0.004950 -0.034383  0.012398 -0.013618   0.522897  \n",
       "YearRemodAdd     -0.038740  0.005829 -0.010286  0.021490  0.035743   0.507101  \n",
       "MasVnrArea        0.061453  0.011723 -0.029815 -0.005940 -0.008184   0.475241  \n",
       "BsmtFinSF1        0.062021  0.140491  0.003571 -0.015727  0.014359   0.386420  \n",
       "BsmtFinSF2        0.088871  0.041709  0.004940 -0.015211  0.031706  -0.011378  \n",
       "BsmtUnfSF        -0.012579 -0.035092 -0.023837  0.034888 -0.041258   0.214479  \n",
       "TotalBsmtSF       0.084489  0.126053 -0.018479  0.013196 -0.014969   0.613581  \n",
       "1stFlrSF          0.088758  0.131525 -0.021096  0.031372 -0.013604   0.605852  \n",
       "2ndFlrSF          0.040606  0.081487  0.016197  0.035164 -0.028700   0.319334  \n",
       "LowQualFinSF      0.026799  0.062157 -0.003793 -0.022174 -0.028921  -0.025606  \n",
       "GrLivArea         0.101510  0.170205 -0.002416  0.050240 -0.036526   0.708624  \n",
       "BsmtFullBath      0.023148  0.067616 -0.023047 -0.025361  0.067049   0.227122  \n",
       "BsmtHalfBath      0.032121  0.020025 -0.007367  0.032873 -0.046524  -0.016844  \n",
       "FullBath         -0.008106  0.049604 -0.014290  0.055872 -0.019669   0.560664  \n",
       "HalfBath          0.072426  0.022381  0.001290 -0.009050 -0.010269   0.284108  \n",
       "BedroomAbvGr      0.044300  0.070703  0.007767  0.046544 -0.036014   0.168213  \n",
       "KitchenAbvGr     -0.051613 -0.014525  0.062341  0.026589  0.031687  -0.135907  \n",
       "TotRmsAbvGrd      0.059383  0.083757  0.024763  0.036907 -0.034516   0.533723  \n",
       "Fireplaces        0.184530  0.095074  0.001409  0.046357 -0.024096   0.466929  \n",
       "GarageYrBlt      -0.075256 -0.014499 -0.031853  0.005173 -0.000987   0.470177  \n",
       "GarageCars        0.050494  0.020934 -0.043080  0.040522 -0.039117   0.640409  \n",
       "GarageArea        0.051412  0.061047 -0.027400  0.027974 -0.027378   0.623431  \n",
       "WoodDeckSF       -0.074181  0.073378 -0.009551  0.021011  0.022270   0.324413  \n",
       "OpenPorchSF       0.074304  0.060762 -0.018584  0.071255 -0.057619   0.315856  \n",
       "EnclosedPorch    -0.082864  0.054203  0.018361 -0.028887 -0.009916  -0.128578  \n",
       "3SsnPorch        -0.031436 -0.007992  0.000354  0.029474  0.018645   0.044584  \n",
       "ScreenPorch       1.000000  0.051307  0.031946  0.023217  0.010694   0.111447  \n",
       "PoolArea          0.051307  1.000000  0.029669 -0.033737 -0.059689   0.092404  \n",
       "MiscVal           0.031946  0.029669  1.000000 -0.006495  0.004906  -0.021190  \n",
       "MoSold            0.023217 -0.033737 -0.006495  1.000000 -0.145721   0.046432  \n",
       "YrSold            0.010694 -0.059689  0.004906 -0.145721  1.000000  -0.028923  \n",
       "SalePrice         0.111447  0.092404 -0.021190  0.046432 -0.028923   1.000000  \n",
       "\n",
       "[38 rows x 38 columns]"
      ]
     },
     "metadata": {},
     "output_type": "display_data"
    }
   ],
   "source": [
    "display(df_var_numericas.corr())"
   ]
  },
  {
   "cell_type": "markdown",
   "metadata": {},
   "source": [
    "## 6. Determinar el conjunto de modelización y el de validación\n",
    "* Para determinar el conjunto de modelización se realiza un merge entre el conjunto de variables numéricas y las variables no numéricas (para este caso se toma las variables ficticias). Adicionalmente se excluye la columna Id ya que no es útil para el modelo de estimación. Se separa las variables entre las columnas para realizar la predicción y la columna a predecir el precio de venta de un inmueble(SalePrice)."
   ]
  },
  {
   "cell_type": "code",
   "execution_count": 16,
   "metadata": {},
   "outputs": [],
   "source": [
    "df_data = pd.concat([df_var_numericas,df_encoder],axis=1)\n",
    "df_data.drop(['Id'], axis=1)\n",
    "columnas_x=df_data.columns.difference(['SalePrice'])\n",
    "X=df_data[columnas_x]\n",
    "Y=df_data['SalePrice']"
   ]
  },
  {
   "cell_type": "markdown",
   "metadata": {},
   "source": [
    "* Se segmenta los datos en dos conjuntos uno de entrenamiento con el 80% y de prueba 20% del total de datos respectivamente."
   ]
  },
  {
   "cell_type": "code",
   "execution_count": 17,
   "metadata": {},
   "outputs": [],
   "source": [
    "train_x,test_x,train_y,test_y=train_test_split(X,Y,test_size=0.2, random_state = semilla_aleatoria)"
   ]
  },
  {
   "cell_type": "markdown",
   "metadata": {},
   "source": [
    "## 7. Pasos regresión método de Árboles "
   ]
  },
  {
   "cell_type": "markdown",
   "metadata": {},
   "source": [
    "### Parametrización del algoritmo de regresión."
   ]
  },
  {
   "cell_type": "code",
   "execution_count": 18,
   "metadata": {},
   "outputs": [
    {
     "data": {
      "text/plain": [
       "DecisionTreeRegressor(ccp_alpha=0.0, criterion='mse', max_depth=15,\n",
       "                      max_features='auto', max_leaf_nodes=None,\n",
       "                      min_impurity_decrease=0.0, min_impurity_split=None,\n",
       "                      min_samples_leaf=1, min_samples_split=20,\n",
       "                      min_weight_fraction_leaf=0.0, presort='deprecated',\n",
       "                      random_state=1234, splitter='best')"
      ]
     },
     "execution_count": 18,
     "metadata": {},
     "output_type": "execute_result"
    }
   ],
   "source": [
    "reg_arboles = DecisionTreeRegressor(max_depth=15,88//\n",
    "            max_features='auto', min_samples_leaf=1, min_samples_split=20,            \n",
    "            random_state=semilla_aleatoria, splitter='best')\n",
    "reg_arboles.fit(train_x,train_y)"
   ]
  },
  {
   "cell_type": "markdown",
   "metadata": {},
   "source": [
    "### Predicción del modelo."
   ]
  },
  {
   "cell_type": "code",
   "execution_count": 19,
   "metadata": {},
   "outputs": [],
   "source": [
    "predEY_reg_arb=reg_arboles.predict(test_x)"
   ]
  },
  {
   "cell_type": "markdown",
   "metadata": {},
   "source": [
    "### Métricas."
   ]
  },
  {
   "cell_type": "code",
   "execution_count": 20,
   "metadata": {},
   "outputs": [
    {
     "name": "stdout",
     "output_type": "stream",
     "text": [
      "MAE 24159.11219788087\n",
      "MSE 1278008498.6537373\n",
      "R2 0.7673217151580184\n"
     ]
    }
   ],
   "source": [
    "print('MAE',mean_absolute_error(test_y,predEY_reg_arb))\n",
    "print('MSE',mean_squared_error(test_y,predEY_reg_arb))\n",
    "print('R2', r2_score(test_y,predEY_reg_arb))"
   ]
  },
  {
   "cell_type": "markdown",
   "metadata": {},
   "source": [
    "### Validación cruzada r2 score con mínimo 5 folds \n",
    "* En general el tratar de que una función aprenda sobre el mismo conjunto de datos sin que exista un conjunto de datos de test se considera como un error metodológico. Es decir que es óptimo para predecir los datos con los que se entrena, pero este generalmente falla al realizar predicciones sobre nuevos conjuntos de datos. Luego podemos utilizar un método de validación cruzada conocido como K-fold cross-validation en donde los datos se dividen en K subconjuntos. Cada subconjunto se utiliza como datos de prueba y el resto (K-1) como datos de entrenamiento."
   ]
  },
  {
   "cell_type": "code",
   "execution_count": 21,
   "metadata": {},
   "outputs": [],
   "source": [
    "def graficar_r2_scores(estimator, train_x, train_y,test_x,test_y,nparts=5,jobs=None):\n",
    "    kfold = KFold(n_splits=nparts,shuffle=True, random_state=semilla_aleatoria)\n",
    "    fig,axes = plt.subplots(figsize=(7, 3))\n",
    "    axes.set_title(\"R2/Nro. Fold\")\n",
    "    axes.set_xlabel(\"Nro. Fold\")\n",
    "    axes.set_ylabel(\"R2\")    \n",
    "    train_scores = cross_val_score(estimator, train_x, train_y, cv = kfold, n_jobs=jobs,scoring=\"r2\")\n",
    "    test_scores = cross_val_score(estimator, test_x, test_y, cv = kfold, n_jobs=jobs,scoring=\"r2\")        \n",
    "    train_sizes = range(1,nparts+1,1)    \n",
    "    axes.grid()    \n",
    "    axes.plot(train_sizes, train_scores, 'o-', color=\"r\",label=\"Datos Entrenamiento\")\n",
    "    axes.plot(train_sizes, test_scores, 'o-', color=\"g\",label=\"Validacion Cruzada\")\n",
    "    axes.legend(loc=\"best\")\n",
    "    return train_scores"
   ]
  },
  {
   "cell_type": "code",
   "execution_count": 22,
   "metadata": {},
   "outputs": [
    {
     "data": {
      "text/plain": [
       "array([0.84414426, 0.760588  , 0.79611255, 0.74869211, 0.78572832])"
      ]
     },
     "execution_count": 22,
     "metadata": {},
     "output_type": "execute_result"
    },
    {
     "data": {
      "image/png": "[encoded data removed]",
      "text/plain": [
       "<Figure size 504x216 with 1 Axes>"
      ]
     },
     "metadata": {
      "needs_background": "light"
     },
     "output_type": "display_data"
    }
   ],
   "source": [
    "graficar_r2_scores(reg_arboles,train_x,train_y,test_x,test_y,nparts=5,jobs=2)"
   ]
  },
  {
   "cell_type": "markdown",
   "metadata": {},
   "source": [
    "## 8. Pasos regresión método Random Forest"
   ]
  },
  {
   "cell_type": "markdown",
   "metadata": {},
   "source": [
    "### Parametrización del algoritmo de regresión."
   ]
  },
  {
   "cell_type": "code",
   "execution_count": 23,
   "metadata": {},
   "outputs": [
    {
     "data": {
      "text/plain": [
       "RandomForestRegressor(bootstrap=True, ccp_alpha=0.0, criterion='mse',\n",
       "                      max_depth=None, max_features='auto', max_leaf_nodes=None,\n",
       "                      max_samples=None, min_impurity_decrease=0.0,\n",
       "                      min_impurity_split=None, min_samples_leaf=1,\n",
       "                      min_samples_split=2, min_weight_fraction_leaf=0.0,\n",
       "                      n_estimators=100, n_jobs=None, oob_score=False,\n",
       "                      random_state=None, verbose=0, warm_start=False)"
      ]
     },
     "execution_count": 23,
     "metadata": {},
     "output_type": "execute_result"
    }
   ],
   "source": [
    "reg_rndforest = RandomForestRegressor(n_estimators=100)\n",
    "reg_rndforest.fit(train_x,train_y)"
   ]
  },
  {
   "cell_type": "markdown",
   "metadata": {},
   "source": [
    "### Predicción del modelo."
   ]
  },
  {
   "cell_type": "code",
   "execution_count": 24,
   "metadata": {},
   "outputs": [],
   "source": [
    "predEY_reg_rfor=reg_rndforest.predict(test_x)"
   ]
  },
  {
   "cell_type": "markdown",
   "metadata": {},
   "source": [
    "### Métricas."
   ]
  },
  {
   "cell_type": "code",
   "execution_count": 25,
   "metadata": {},
   "outputs": [
    {
     "name": "stdout",
     "output_type": "stream",
     "text": [
      "MAE 17339.990308219178\n",
      "MSE 721568375.0944811\n",
      "R2 0.8686289707071123\n"
     ]
    }
   ],
   "source": [
    "print('MAE',mean_absolute_error(test_y,predEY_reg_rfor))\n",
    "print('MSE',mean_squared_error(test_y,predEY_reg_rfor))\n",
    "print('R2', r2_score(test_y,predEY_reg_rfor))"
   ]
  },
  {
   "cell_type": "markdown",
   "metadata": {},
   "source": [
    "### Validación cruzada r2 score con mínimo 5 folds."
   ]
  },
  {
   "cell_type": "code",
   "execution_count": 26,
   "metadata": {},
   "outputs": [
    {
     "data": {
      "text/plain": [
       "array([0.9149403 , 0.8535804 , 0.81369685, 0.87506906, 0.83981154])"
      ]
     },
     "execution_count": 26,
     "metadata": {},
     "output_type": "execute_result"
    },
    {
     "data": {
      "image/png": "[encoded data removed]",
      "text/plain": [
       "<Figure size 504x216 with 1 Axes>"
      ]
     },
     "metadata": {
      "needs_background": "light"
     },
     "output_type": "display_data"
    }
   ],
   "source": [
    "graficar_r2_scores(reg_rndforest,train_x,train_y,test_x,test_y,nparts=5,jobs=2)"
   ]
  },
  {
   "cell_type": "markdown",
   "metadata": {},
   "source": [
    "## 9. Para los métodos de clasificación se crea los siguientes grupos: grupo1 SalePrice menor o igual a 100 000, grupo2 SalePrice entre 101 000 y 500 000 y grupo3 SalePrice mayor o igual a 501 000. "
   ]
  },
  {
   "cell_type": "markdown",
   "metadata": {},
   "source": [
    "* Se muestra el agrupamiento de datos para cada tipo."
   ]
  },
  {
   "cell_type": "code",
   "execution_count": 27,
   "metadata": {},
   "outputs": [
    {
     "data": {
      "text/plain": [
       "grupo2    1328\n",
       "grupo1     123\n",
       "grupo3       9\n",
       "Name: SalePrice_grupo, dtype: int64"
      ]
     },
     "metadata": {},
     "output_type": "display_data"
    }
   ],
   "source": [
    "df_sp=df_data[['SalePrice']].copy()\n",
    "df_sp['SalePrice_grupo'] = cons_no_asignado\n",
    "df_sp['SalePrice_grupo'] = np.where((df_sp['SalePrice'] <=100000),\n",
    "                                    'grupo1',df_sp['SalePrice_grupo'])\n",
    "df_sp['SalePrice_grupo'] = np.where((df_sp['SalePrice'] >100000)&(df_sp['SalePrice'] <=500000),\n",
    "                                    'grupo2',df_sp['SalePrice_grupo'])\n",
    "df_sp['SalePrice_grupo'] = np.where((df_sp['SalePrice'] >501000),\n",
    "                                    'grupo3',df_sp['SalePrice_grupo'])\n",
    "display(df_sp['SalePrice_grupo'].value_counts())"
   ]
  },
  {
   "cell_type": "markdown",
   "metadata": {},
   "source": [
    "## 10. Determinar el conjunto de modelización y el de validación \n",
    "* Para determinar el conjunto de modelización se realiza un merge entre el conjunto de variables numéricas y las variables agrupadas por categorías. Adicionalmente se excluye la columna Id ya que no es útil para el modelo de estimación. Se separa las variables entre las columnas para realizar la predicción y la columna a predecir el clasificador por el grupo al que pertenece la venta de un inmueble."
   ]
  },
  {
   "cell_type": "code",
   "execution_count": 28,
   "metadata": {},
   "outputs": [],
   "source": [
    "df_data = pd.concat([df_var_numericas,df_encoder],axis=1)\n",
    "df_data.drop(['Id'], axis=1)\n",
    "columnas_x=df_data.columns.difference(['SalePrice'])\n",
    "Xc=df_data[columnas_x]\n",
    "Yc=df_sp['SalePrice_grupo']"
   ]
  },
  {
   "cell_type": "code",
   "execution_count": 29,
   "metadata": {},
   "outputs": [],
   "source": [
    "train_xc,test_xc,train_yc,test_yc=train_test_split(Xc,Yc,test_size=0.2, random_state = semilla_aleatoria)"
   ]
  },
  {
   "cell_type": "markdown",
   "metadata": {},
   "source": [
    "## 11. Pasos método Clasificación método de Árboles"
   ]
  },
  {
   "cell_type": "markdown",
   "metadata": {},
   "source": [
    "### Parametrización del algoritmo de clasificación."
   ]
  },
  {
   "cell_type": "code",
   "execution_count": 30,
   "metadata": {},
   "outputs": [
    {
     "data": {
      "text/plain": [
       "DecisionTreeClassifier(ccp_alpha=0.0, class_weight=None, criterion='gini',\n",
       "                       max_depth=15, max_features='auto', max_leaf_nodes=None,\n",
       "                       min_impurity_decrease=0.0, min_impurity_split=None,\n",
       "                       min_samples_leaf=1, min_samples_split=2,\n",
       "                       min_weight_fraction_leaf=0.0, presort='deprecated',\n",
       "                       random_state=1234, splitter='best')"
      ]
     },
     "execution_count": 30,
     "metadata": {},
     "output_type": "execute_result"
    }
   ],
   "source": [
    "clas_arboles = DecisionTreeClassifier(max_depth=15,\n",
    "            max_features='auto',  min_samples_leaf=1,\n",
    "            random_state=semilla_aleatoria, splitter='best')\n",
    "clas_arboles.fit(train_xc,train_yc)"
   ]
  },
  {
   "cell_type": "markdown",
   "metadata": {},
   "source": [
    "### Predicción del modelo."
   ]
  },
  {
   "cell_type": "code",
   "execution_count": 31,
   "metadata": {},
   "outputs": [],
   "source": [
    "predEY_clas_arb=clas_arboles.predict(test_xc)"
   ]
  },
  {
   "cell_type": "markdown",
   "metadata": {},
   "source": [
    "### Métricas."
   ]
  },
  {
   "cell_type": "code",
   "execution_count": 32,
   "metadata": {},
   "outputs": [
    {
     "data": {
      "text/plain": [
       "array([[ 17,  12],\n",
       "       [ 19, 244]], dtype=int64)"
      ]
     },
     "metadata": {},
     "output_type": "display_data"
    },
    {
     "name": "stdout",
     "output_type": "stream",
     "text": [
      "              precision    recall  f1-score   support\n",
      "\n",
      "      grupo1       0.47      0.59      0.52        29\n",
      "      grupo2       0.95      0.93      0.94       263\n",
      "\n",
      "    accuracy                           0.89       292\n",
      "   macro avg       0.71      0.76      0.73       292\n",
      "weighted avg       0.91      0.89      0.90       292\n",
      "\n"
     ]
    }
   ],
   "source": [
    "display(confusion_matrix(test_yc,predEY_clas_arb))\n",
    "clas_report=classification_report(test_yc,predEY_clas_arb)\n",
    "print(clas_report)"
   ]
  },
  {
   "cell_type": "markdown",
   "metadata": {},
   "source": [
    "### Validación cruzada accuracy score con mínimo 5 folds."
   ]
  },
  {
   "cell_type": "code",
   "execution_count": 33,
   "metadata": {},
   "outputs": [],
   "source": [
    "def graficar_accuracy_scores(estimator, train_x, train_y,test_x,test_y,nparts=5,jobs=None):\n",
    "    kfold = KFold(n_splits=nparts,shuffle=True, random_state=semilla_aleatoria)\n",
    "    fig,axes = plt.subplots(figsize=(7, 3))\n",
    "    axes.set_title(\"Ratio de éxito(Accuracy)/Nro. Fold\")\n",
    "    axes.set_xlabel(\"Nro. Fold\")\n",
    "    axes.set_ylabel(\"Accuracy\")    \n",
    "    train_scores = cross_val_score(estimator, train_x,train_y, cv = kfold, n_jobs=jobs, scoring=\"accuracy\")\n",
    "    test_scores = cross_val_score(estimator, test_x, test_y, cv = kfold, n_jobs=jobs, scoring=\"accuracy\")        \n",
    "    train_sizes = range(1,nparts+1,1)    \n",
    "    axes.grid()    \n",
    "    axes.plot(train_sizes, train_scores, 'o-', color=\"r\",label=\"Datos Entrenamiento\")\n",
    "    axes.plot(train_sizes, test_scores, 'o-', color=\"g\",label=\"Validacion Cruzada\")\n",
    "    axes.legend(loc=\"best\")\n",
    "    return train_scores"
   ]
  },
  {
   "cell_type": "code",
   "execution_count": 34,
   "metadata": {},
   "outputs": [
    {
     "data": {
      "text/plain": [
       "array([0.91025641, 0.9017094 , 0.94017094, 0.87982833, 0.90128755])"
      ]
     },
     "execution_count": 34,
     "metadata": {},
     "output_type": "execute_result"
    },
    {
     "data": {
      "image/png": "[encoded data removed]",
      "text/plain": [
       "<Figure size 504x216 with 1 Axes>"
      ]
     },
     "metadata": {
      "needs_background": "light"
     },
     "output_type": "display_data"
    }
   ],
   "source": [
    "graficar_accuracy_scores(clas_arboles,train_xc,train_yc,test_xc,test_yc,nparts=5,jobs=2)"
   ]
  },
  {
   "cell_type": "markdown",
   "metadata": {},
   "source": [
    "## 12. Pasos método Clasificación Random Forest"
   ]
  },
  {
   "cell_type": "markdown",
   "metadata": {},
   "source": [
    "### Parametrización del algoritmo de clasificicación."
   ]
  },
  {
   "cell_type": "code",
   "execution_count": 35,
   "metadata": {},
   "outputs": [
    {
     "data": {
      "text/plain": [
       "RandomForestClassifier(bootstrap=True, ccp_alpha=0.0, class_weight=None,\n",
       "                       criterion='gini', max_depth=None, max_features='auto',\n",
       "                       max_leaf_nodes=None, max_samples=None,\n",
       "                       min_impurity_decrease=0.0, min_impurity_split=None,\n",
       "                       min_samples_leaf=1, min_samples_split=2,\n",
       "                       min_weight_fraction_leaf=0.0, n_estimators=100, n_jobs=2,\n",
       "                       oob_score=False, random_state=1234, verbose=0,\n",
       "                       warm_start=False)"
      ]
     },
     "execution_count": 35,
     "metadata": {},
     "output_type": "execute_result"
    }
   ],
   "source": [
    "clas_rndforest = RandomForestClassifier(n_estimators=100,n_jobs=2, random_state=semilla_aleatoria)\n",
    "clas_rndforest.fit(train_xc,train_yc)"
   ]
  },
  {
   "cell_type": "markdown",
   "metadata": {},
   "source": [
    "### Predicción del modelo."
   ]
  },
  {
   "cell_type": "code",
   "execution_count": 36,
   "metadata": {},
   "outputs": [],
   "source": [
    "predEY_clas_rnd=clas_rndforest.predict(test_xc)"
   ]
  },
  {
   "cell_type": "markdown",
   "metadata": {},
   "source": [
    "### Métricas."
   ]
  },
  {
   "cell_type": "code",
   "execution_count": 37,
   "metadata": {},
   "outputs": [
    {
     "data": {
      "text/plain": [
       "array([[ 15,  14],\n",
       "       [  3, 260]], dtype=int64)"
      ]
     },
     "metadata": {},
     "output_type": "display_data"
    },
    {
     "name": "stdout",
     "output_type": "stream",
     "text": [
      "              precision    recall  f1-score   support\n",
      "\n",
      "      grupo1       0.83      0.52      0.64        29\n",
      "      grupo2       0.95      0.99      0.97       263\n",
      "\n",
      "    accuracy                           0.94       292\n",
      "   macro avg       0.89      0.75      0.80       292\n",
      "weighted avg       0.94      0.94      0.94       292\n",
      "\n"
     ]
    }
   ],
   "source": [
    "display(confusion_matrix(test_yc,predEY_clas_rnd))\n",
    "class_report=classification_report(test_yc,predEY_clas_rnd)\n",
    "print(class_report)"
   ]
  },
  {
   "cell_type": "markdown",
   "metadata": {},
   "source": [
    "### Validación cruzada accuracy score con mínimo 5 folds."
   ]
  },
  {
   "cell_type": "code",
   "execution_count": 38,
   "metadata": {},
   "outputs": [
    {
     "data": {
      "text/plain": [
       "array([0.94444444, 0.9017094 , 0.96153846, 0.96566524, 0.93562232])"
      ]
     },
     "execution_count": 38,
     "metadata": {},
     "output_type": "execute_result"
    },
    {
     "data": {
      "image/png": "[encoded data removed]",
      "text/plain": [
       "<Figure size 504x216 with 1 Axes>"
      ]
     },
     "metadata": {
      "needs_background": "light"
     },
     "output_type": "display_data"
    }
   ],
   "source": [
    "graficar_accuracy_scores(clas_rndforest,train_xc,train_yc,test_xc,test_yc,nparts=5,jobs=2)"
   ]
  },
  {
   "cell_type": "markdown",
   "metadata": {},
   "source": [
    "## 15. Comparar mediante las medidas que parezcan adecuadas la capacidad predictiva de ambos métodos. Es decir, comparar el error cuadrático medio de los dos modelos y concluir cuál es mejor. Seguir el mismo procedimiento con la matriz de confusión de los dos modelos para el ejercicio de clasificación. "
   ]
  },
  {
   "cell_type": "markdown",
   "metadata": {},
   "source": [
    "* Para las funciones de regresión el método de random forest sus métricas error cuadrático medio es menor y R2 es mayor comparado con el método de arboles de decisión. Por tanto random forest, es el mejor método para predecir un valor en este conjunto de datos.\n",
    "* Para las funciones de clasificación la matriz de confusión, cuyos valores son métricas de las estimaciones, el método de random forest tiene el valor de ratio de éxito mayor y el valor f1. Por tanto random forest, es el mejor método para clasificar en este conjunto de datos. "
   ]
  },
  {
   "cell_type": "markdown",
   "metadata": {},
   "source": [
    "## 14. Comente las ventajas y desventajas de cada modelo. De acuerdo con los resultados, son realmente útiles los modelos creados para el conjunto de datos propuesto o es mejor investigar otros algoritmos."
   ]
  },
  {
   "cell_type": "markdown",
   "metadata": {},
   "source": [
    "<h3>Random Forest:</h3>\n",
    "<table>\n",
    "<thead>\n",
    "<tr>\n",
    "<th>Ventajas</th>\n",
    "<th>Desventajas</th>\n",
    "</tr>\n",
    "</thead>\n",
    "<tbody>\n",
    "<tr><td>* El ratio aproximado de éxito es mayor.</td><td>* Mayor tiempo de ejecución.</td></tr>\n",
    "<tr><td>* Fácil de entrenar</td><td>* Es difícil de interpretar</td></tr>\n",
    "<tr><td>* Random forest previene el overfitting al crear sub-conjuntos aleatorios.</td><td>* Los modelos resultado pueden ser muy complejos</td></tr>    \n",
    "</tbody>\n",
    "</table>"
   ]
  },
  {
   "cell_type": "markdown",
   "metadata": {},
   "source": [
    "<h3>Arboles de decisión:</h3>\n",
    "<table>\n",
    "<thead>\n",
    "<tr>\n",
    "<th>Ventajas</th>\n",
    "<th>Desventajas</th>\n",
    "</tr>\n",
    "</thead>\n",
    "<tbody>\n",
    "<tr><td>* Tienen un bajo coste computacional.</td><td>* Tiene problemas con conjuntos de datos faltantes.</td></tr>\n",
    "<tr><td>* Es fácil de interpretar y convertir en reglas.</td><td>* Tiene problemas con datos complejos.</td></tr>\n",
    "<tr><td>* •\tPuede manejar un gran número de cateréticas.</td><td>* Pueden sufrir de overfitting ya que dividen o segmentan el espacio de las variables predictoras.</td></tr>    \n",
    "</tbody>\n",
    "</table>"
   ]
  },
  {
   "cell_type": "markdown",
   "metadata": {},
   "source": [
    "<h3>Son realmente útiles los modelos:</h3>\n",
    "<p>Para el problema y el conjunto de datos para la regresión considero que debe considerarse realizar algún método adicional ya que la efectividad en menor al 92% para ambos métodos.\n",
    "Para el caso del problema de clasificación el estimador de Random Forest tiene una mejor ratio de éxito sobre los arboles de decisión incluso al excluir el grupo3 en las categorías clasificar. Finalmente sería bueno realizar un contraste contra algún método adicional.\n",
    "</p>\n",
    "<p>Por otro lado, y en particular considero que esta pregunta depende de ciertos parámetros adicionales que puedan dar una justificación a priori del si los modelos se ajustan a las necesidades del negocio, proyecto, investigación y etcétera, que consideren que estos resultados realmente pueden representar los datos que esperan o que estos modelos pueden representar una ventaja competitiva. Adicionalmente es importante considerar el ámbito de los datos y el rátio de éxito que se espera de los modelos. Por ejemplo, en aplicaciones críticas, citar el buscar estimar la potencia para un láser en una cirugía ocular. Es decir, es importante un criterio adicional basado en la experiencia de los datos y juicio de expertos que puedan sustentar si el modelo se ajusta al contexto en que se presentó como una posible solución.</p> \n",
    "<p>\n",
    "En conclusión, se sugiere realizar una contrastación contra otros algoritmos y adicionalmente validar los resultados con juicios de expertos en el contexto que el problema este definido.</p>"
   ]
  },
  {
   "cell_type": "markdown",
   "metadata": {},
   "source": [
    "## 15.Otros comentarios que parezcan adecuados."
   ]
  },
  {
   "cell_type": "markdown",
   "metadata": {},
   "source": [
    "### Presentación de las curvas de aprendizaje para cada modelo"
   ]
  },
  {
   "cell_type": "markdown",
   "metadata": {},
   "source": [
    "* La curva de aprendizaje es una gráfica del rendimiento del aprendizaje modelo sobre la experiencia o el tiempo. Y estas sirven para diagnosticar un modelo de conjunto, o realizar un ajuste adecuado."
   ]
  },
  {
   "cell_type": "code",
   "execution_count": 39,
   "metadata": {},
   "outputs": [],
   "source": [
    "import numpy as np\n",
    "import matplotlib.pyplot as plt\n",
    "from sklearn.model_selection import learning_curve\n",
    "from sklearn.model_selection import ShuffleSplit\n",
    "def plot_curva_aprendizaje(estimator, title, X, y,n_jobs=None, train_sizes=np.linspace(.1, 1.0, 5)):   \n",
    "    cv = ShuffleSplit(n_splits=10, test_size=0.2, random_state=0)\n",
    "    fig,axes = plt.subplots(figsize=(7, 3))\n",
    "    axes.set_title(title)\n",
    "    axes.set_xlabel(\"Conjuntos Entrenamiento\")\n",
    "    axes.set_ylabel(\"Score\")\n",
    "    train_sizes, train_scores, test_scores, fit_times, _ = \\\n",
    "        learning_curve(estimator, X, y, cv=cv, n_jobs=n_jobs,\n",
    "                       train_sizes=train_sizes,\n",
    "                       return_times=True, random_state=semilla_aleatoria)\n",
    "    train_scores_mean = np.mean(train_scores, axis=1)\n",
    "    train_scores_std = np.std(train_scores, axis=1)\n",
    "    test_scores_mean = np.mean(test_scores, axis=1)\n",
    "    test_scores_std = np.std(test_scores, axis=1)\n",
    "    fit_times_mean = np.mean(fit_times, axis=1)\n",
    "    fit_times_std = np.std(fit_times, axis=1)\n",
    "    axes.grid()\n",
    "    axes.fill_between(train_sizes, train_scores_mean - train_scores_std,\n",
    "                         train_scores_mean + train_scores_std, alpha=0.1,\n",
    "                         color=\"r\")\n",
    "    axes.fill_between(train_sizes, test_scores_mean - test_scores_std,\n",
    "                         test_scores_mean + test_scores_std, alpha=0.1,\n",
    "                         color=\"g\")\n",
    "    axes.plot(train_sizes, train_scores_mean, 'o-', color=\"r\",\n",
    "                label=\"Conjunto Entrenamiento\")\n",
    "    axes.plot(train_sizes, test_scores_mean, 'o-', color=\"g\",\n",
    "                 label=\"Cross-validation\")\n",
    "    axes.legend(loc=\"best\")\n",
    "    return plt"
   ]
  },
  {
   "cell_type": "markdown",
   "metadata": {},
   "source": [
    "### Curva aprendizaje regresión arboles decisión"
   ]
  },
  {
   "cell_type": "code",
   "execution_count": 40,
   "metadata": {},
   "outputs": [
    {
     "data": {
      "text/plain": [
       "<module 'matplotlib.pyplot' from 'C:\\\\ProgramData\\\\Anaconda3\\\\lib\\\\site-packages\\\\matplotlib\\\\pyplot.py'>"
      ]
     },
     "execution_count": 40,
     "metadata": {},
     "output_type": "execute_result"
    },
    {
     "data": {
      "image/png": "[encoded data removed]",
      "text/plain": [
       "<Figure size 504x216 with 1 Axes>"
      ]
     },
     "metadata": {
      "needs_background": "light"
     },
     "output_type": "display_data"
    }
   ],
   "source": [
    "titulo = \"Curva aprendizaje arboles decisión\"\n",
    "plot_curva_aprendizaje(reg_arboles, titulo , train_x, train_y, n_jobs=2)"
   ]
  },
  {
   "cell_type": "markdown",
   "metadata": {},
   "source": [
    "### Curva aprendizaje  regresión random forest"
   ]
  },
  {
   "cell_type": "code",
   "execution_count": 41,
   "metadata": {},
   "outputs": [
    {
     "data": {
      "text/plain": [
       "<module 'matplotlib.pyplot' from 'C:\\\\ProgramData\\\\Anaconda3\\\\lib\\\\site-packages\\\\matplotlib\\\\pyplot.py'>"
      ]
     },
     "execution_count": 41,
     "metadata": {},
     "output_type": "execute_result"
    },
    {
     "data": {
      "image/png": "[encoded data removed]",
      "text/plain": [
       "<Figure size 504x216 with 1 Axes>"
      ]
     },
     "metadata": {
      "needs_background": "light"
     },
     "output_type": "display_data"
    }
   ],
   "source": [
    "titulo = \"Curva aprendizaje random forest\"\n",
    "plot_curva_aprendizaje(reg_rndforest, titulo, train_x, train_y, n_jobs=2)"
   ]
  },
  {
   "cell_type": "markdown",
   "metadata": {},
   "source": [
    "### Curva aprendizaje  clasificación arboles decisión"
   ]
  },
  {
   "cell_type": "code",
   "execution_count": 42,
   "metadata": {},
   "outputs": [
    {
     "data": {
      "text/plain": [
       "<module 'matplotlib.pyplot' from 'C:\\\\ProgramData\\\\Anaconda3\\\\lib\\\\site-packages\\\\matplotlib\\\\pyplot.py'>"
      ]
     },
     "execution_count": 42,
     "metadata": {},
     "output_type": "execute_result"
    },
    {
     "data": {
      "image/png": "[encoded data removed]",
      "text/plain": [
       "<Figure size 504x216 with 1 Axes>"
      ]
     },
     "metadata": {
      "needs_background": "light"
     },
     "output_type": "display_data"
    }
   ],
   "source": [
    "titulo = \"Curva aprendizaje arboles decisión\"\n",
    "plot_curva_aprendizaje(clas_arboles, titulo , train_xc, train_yc, n_jobs=2)"
   ]
  },
  {
   "cell_type": "markdown",
   "metadata": {},
   "source": [
    "### Curva aprendizaje clasificación random forest"
   ]
  },
  {
   "cell_type": "code",
   "execution_count": 43,
   "metadata": {},
   "outputs": [
    {
     "data": {
      "text/plain": [
       "<module 'matplotlib.pyplot' from 'C:\\\\ProgramData\\\\Anaconda3\\\\lib\\\\site-packages\\\\matplotlib\\\\pyplot.py'>"
      ]
     },
     "execution_count": 43,
     "metadata": {},
     "output_type": "execute_result"
    },
    {
     "data": {
      "image/png": "[encoded data removed]",
      "text/plain": [
       "<Figure size 504x216 with 1 Axes>"
      ]
     },
     "metadata": {
      "needs_background": "light"
     },
     "output_type": "display_data"
    }
   ],
   "source": [
    "titulo = \"Curva aprendizaje random forest\"\n",
    "plot_curva_aprendizaje(clas_rndforest, titulo , train_xc, train_yc, n_jobs=2)"
   ]
  }
 ],
 "metadata": {
  "kernelspec": {
   "display_name": "Python 3",
   "language": "python",
   "name": "python3"
  },
  "language_info": {
   "codemirror_mode": {
    "name": "ipython",
    "version": 3
   },
   "file_extension": ".py",
   "mimetype": "text/x-python",
   "name": "python",
   "nbconvert_exporter": "python",
   "pygments_lexer": "ipython3",
   "version": "3.7.6"
  }
 },
 "nbformat": 4,
 "nbformat_minor": 4
}
