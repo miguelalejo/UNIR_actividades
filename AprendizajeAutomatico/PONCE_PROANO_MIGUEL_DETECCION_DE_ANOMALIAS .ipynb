{
 "cells": [
  {
   "cell_type": "markdown",
   "metadata": {},
   "source": [
    "# Actividad grupal: Detección de anomalías y técnicas de agrupamiento\n",
    "# Castro Luis, Ponce Miguel, Raul Sanchez"
   ]
  },
  {
   "cell_type": "code",
   "execution_count": 1,
   "metadata": {
    "colab": {
     "base_uri": "https://localhost:8080/",
     "height": 71
    },
    "colab_type": "code",
    "executionInfo": {
     "elapsed": 740,
     "status": "ok",
     "timestamp": 1593127495384,
     "user": {
      "displayName": "Raul Sanchez",
      "photoUrl": "",
      "userId": "04500034241875052309"
     },
     "user_tz": 300
    },
    "id": "QZah-myamEYr",
    "outputId": "c679b00a-4221-4685-e441-0f9ea79e743b"
   },
   "outputs": [
    {
     "name": "stderr",
     "output_type": "stream",
     "text": [
      "/usr/local/lib/python3.6/dist-packages/statsmodels/tools/_testing.py:19: FutureWarning: pandas.util.testing is deprecated. Use the functions in the public API at pandas.testing instead.\n",
      "  import pandas.util.testing as tm\n"
     ]
    }
   ],
   "source": [
    "import pandas as pd\n",
    "import numpy as np\n",
    "import matplotlib.pyplot as plt\n",
    "import seaborn as sns\n",
    "from sklearn import metrics\n",
    "import matplotlib.gridspec as gridspec\n",
    "from sklearn.preprocessing import OneHotEncoder,StandardScaler,LabelEncoder"
   ]
  },
  {
   "cell_type": "markdown",
   "metadata": {
    "colab_type": "text",
    "id": "_lV3HUlH1GHd"
   },
   "source": [
    "#Nota\n",
    "<p align=\"justify\">\n",
    "Para el presente trabajo no se realizará la separación de datos en conjunto de prueba y test, considerando que en la detección de anomalías generalmente se buscan los valores atípicos. Debido a que las técnicas de agrupamiento son no supervisadas, se va a formar y revisar si los clústeres resultantes coinciden con estas etiquetas Esto en función de las consultas realizadas en clase y en el foro.\n",
    "</p>"
   ]
  },
  {
   "cell_type": "markdown",
   "metadata": {
    "colab_type": "text",
    "id": "82D0lOj9mIl9"
   },
   "source": [
    "## Introducción \n",
    "<p align=\"justify\">\n",
    "Las técnicas de clustering son algoritmos no supervisados, dado que proporcionan una estructura de datos a un conjunto de datos sin etiquetar, es decir realizan agrupaciones de manera coherente dentro de un conjunto de datos sin etiquetar en subconjuntos o clusters.\n",
    "Esta agrupación de datos se la realiza mediante el concepto de proximidad entres ellos. \n",
    "\n",
    "</p>"
   ]
  },
  {
   "cell_type": "markdown",
   "metadata": {
    "colab_type": "text",
    "id": "WobSCo_S6zA9"
   },
   "source": [
    "## Funciones auxiliares"
   ]
  },
  {
   "cell_type": "code",
   "execution_count": 2,
   "metadata": {
    "colab": {},
    "colab_type": "code",
    "executionInfo": {
     "elapsed": 546,
     "status": "ok",
     "timestamp": 1593127498740,
     "user": {
      "displayName": "Raul Sanchez",
      "photoUrl": "",
      "userId": "04500034241875052309"
     },
     "user_tz": 300
    },
    "id": "Svy0fnzD606-"
   },
   "outputs": [],
   "source": [
    "# Original code: https://bit.ly/2TNHBZ5\n",
    "def plot_data(X, y):\n",
    "    plt.plot(X[:, 0][y==0], X[:, 1][y==0], 'k.', markersize=2)\n",
    "    plt.plot(X[:, 0][y==1], X[:, 1][y==1], 'r.', markersize=2)\n",
    "\n",
    "def plot_centroids(centroids, weights=None, circle_color='w', cross_color='k'):\n",
    "    if weights is not None:\n",
    "        centroids = centroids[weights > weights.max() / 10]\n",
    "    plt.scatter(centroids[:, 0], centroids[:, 1],\n",
    "                marker='o', s=30, linewidths=8,\n",
    "                color=circle_color, zorder=10, alpha=0.9)\n",
    "    plt.scatter(centroids[:, 0], centroids[:, 1],\n",
    "                marker='x', s=50, linewidths=50,\n",
    "                color=cross_color, zorder=11, alpha=1)\n",
    "\n",
    "def plot_decision_boundaries(clusterer, X, y, resolution=1000, show_centroids=True):\n",
    "    mins = X.min(axis=0) - 0.1\n",
    "    maxs = X.max(axis=0) + 0.1\n",
    "    xx, yy = np.meshgrid(np.linspace(mins[0], maxs[0], resolution),\n",
    "                         np.linspace(mins[1], maxs[1], resolution))\n",
    "    Z = clusterer.predict(np.c_[xx.ravel(), yy.ravel()])\n",
    "    Z = Z.reshape(xx.shape)\n",
    "\n",
    "    plt.contourf(Z, extent=(mins[0], maxs[0], mins[1], maxs[1]),\n",
    "                cmap=\"Pastel2\")\n",
    "    plt.contour(Z, extent=(mins[0], maxs[0], mins[1], maxs[1]),\n",
    "                linewidths=1, colors='k')\n",
    "    plot_data(X, y)\n",
    "    if show_centroids:\n",
    "        plot_centroids(clusterer.cluster_centers_)"
   ]
  },
  {
   "cell_type": "markdown",
   "metadata": {
    "colab_type": "text",
    "id": "4SDPWoKAmh4D"
   },
   "source": [
    "# Análisis descriptivo de los datos:"
   ]
  },
  {
   "cell_type": "code",
   "execution_count": 3,
   "metadata": {
    "colab": {},
    "colab_type": "code",
    "executionInfo": {
     "elapsed": 520,
     "status": "ok",
     "timestamp": 1593127500882,
     "user": {
      "displayName": "Raul Sanchez",
      "photoUrl": "",
      "userId": "04500034241875052309"
     },
     "user_tz": 300
    },
    "id": "C7SYTFOV65d0"
   },
   "outputs": [],
   "source": [
    "def purity_score(y_true, y_pred):\n",
    "    # compute contingency matrix (also called confusion matrix)\n",
    "    contingency_matrix = metrics.cluster.contingency_matrix(y_true, y_pred)\n",
    "    # return purity\n",
    "    return np.sum(np.amax(contingency_matrix, axis=0)) / np.sum(contingency_matrix)"
   ]
  },
  {
   "cell_type": "markdown",
   "metadata": {
    "colab_type": "text",
    "id": "ka_IAuvZm-wa"
   },
   "source": [
    "## Evaluación de datos faltantes"
   ]
  },
  {
   "cell_type": "code",
   "execution_count": 4,
   "metadata": {
    "colab": {},
    "colab_type": "code",
    "executionInfo": {
     "elapsed": 522,
     "status": "ok",
     "timestamp": 1593127502531,
     "user": {
      "displayName": "Raul Sanchez",
      "photoUrl": "",
      "userId": "04500034241875052309"
     },
     "user_tz": 300
    },
    "id": "Khc1kguYmaRE"
   },
   "outputs": [],
   "source": [
    "df = pd.read_csv(\"creditcardcsvpresent.csv\")"
   ]
  },
  {
   "cell_type": "code",
   "execution_count": 5,
   "metadata": {
    "colab": {
     "base_uri": "https://localhost:8080/",
     "height": 473
    },
    "colab_type": "code",
    "executionInfo": {
     "elapsed": 407,
     "status": "ok",
     "timestamp": 1593127503418,
     "user": {
      "displayName": "Raul Sanchez",
      "photoUrl": "",
      "userId": "04500034241875052309"
     },
     "user_tz": 300
    },
    "id": "5xY4xYPwmy0H",
    "outputId": "22caf044-7d65-4df7-e2ce-6c2a62cc06c5"
   },
   "outputs": [
    {
     "data": {
      "text/html": [
       "<div>\n",
       "<style scoped>\n",
       "    .dataframe tbody tr th:only-of-type {\n",
       "        vertical-align: middle;\n",
       "    }\n",
       "\n",
       "    .dataframe tbody tr th {\n",
       "        vertical-align: top;\n",
       "    }\n",
       "\n",
       "    .dataframe thead th {\n",
       "        text-align: right;\n",
       "    }\n",
       "</style>\n",
       "<table border=\"1\" class=\"dataframe\">\n",
       "  <thead>\n",
       "    <tr style=\"text-align: right;\">\n",
       "      <th></th>\n",
       "      <th>Merchant_id</th>\n",
       "      <th>Transaction date</th>\n",
       "      <th>Average Amount/transaction/day</th>\n",
       "      <th>Transaction_amount</th>\n",
       "      <th>Is declined</th>\n",
       "      <th>Total Number of declines/day</th>\n",
       "      <th>isForeignTransaction</th>\n",
       "      <th>isHighRiskCountry</th>\n",
       "      <th>Daily_chargeback_avg_amt</th>\n",
       "      <th>6_month_avg_chbk_amt</th>\n",
       "      <th>6-month_chbk_freq</th>\n",
       "      <th>isFradulent</th>\n",
       "    </tr>\n",
       "  </thead>\n",
       "  <tbody>\n",
       "    <tr>\n",
       "      <th>0</th>\n",
       "      <td>3160040998</td>\n",
       "      <td>NaN</td>\n",
       "      <td>100.0</td>\n",
       "      <td>3000.0</td>\n",
       "      <td>N</td>\n",
       "      <td>5</td>\n",
       "      <td>Y</td>\n",
       "      <td>Y</td>\n",
       "      <td>0</td>\n",
       "      <td>0.0</td>\n",
       "      <td>0</td>\n",
       "      <td>Y</td>\n",
       "    </tr>\n",
       "    <tr>\n",
       "      <th>1</th>\n",
       "      <td>3160040998</td>\n",
       "      <td>NaN</td>\n",
       "      <td>100.0</td>\n",
       "      <td>4300.0</td>\n",
       "      <td>N</td>\n",
       "      <td>5</td>\n",
       "      <td>Y</td>\n",
       "      <td>Y</td>\n",
       "      <td>0</td>\n",
       "      <td>0.0</td>\n",
       "      <td>0</td>\n",
       "      <td>Y</td>\n",
       "    </tr>\n",
       "    <tr>\n",
       "      <th>2</th>\n",
       "      <td>3160041896</td>\n",
       "      <td>NaN</td>\n",
       "      <td>185.5</td>\n",
       "      <td>4823.0</td>\n",
       "      <td>Y</td>\n",
       "      <td>5</td>\n",
       "      <td>N</td>\n",
       "      <td>N</td>\n",
       "      <td>0</td>\n",
       "      <td>0.0</td>\n",
       "      <td>0</td>\n",
       "      <td>Y</td>\n",
       "    </tr>\n",
       "    <tr>\n",
       "      <th>3</th>\n",
       "      <td>3160141996</td>\n",
       "      <td>NaN</td>\n",
       "      <td>185.5</td>\n",
       "      <td>5008.5</td>\n",
       "      <td>Y</td>\n",
       "      <td>8</td>\n",
       "      <td>N</td>\n",
       "      <td>N</td>\n",
       "      <td>0</td>\n",
       "      <td>0.0</td>\n",
       "      <td>0</td>\n",
       "      <td>Y</td>\n",
       "    </tr>\n",
       "    <tr>\n",
       "      <th>4</th>\n",
       "      <td>3160241992</td>\n",
       "      <td>NaN</td>\n",
       "      <td>500.0</td>\n",
       "      <td>26000.0</td>\n",
       "      <td>N</td>\n",
       "      <td>0</td>\n",
       "      <td>Y</td>\n",
       "      <td>Y</td>\n",
       "      <td>800</td>\n",
       "      <td>677.2</td>\n",
       "      <td>6</td>\n",
       "      <td>Y</td>\n",
       "    </tr>\n",
       "    <tr>\n",
       "      <th>...</th>\n",
       "      <td>...</td>\n",
       "      <td>...</td>\n",
       "      <td>...</td>\n",
       "      <td>...</td>\n",
       "      <td>...</td>\n",
       "      <td>...</td>\n",
       "      <td>...</td>\n",
       "      <td>...</td>\n",
       "      <td>...</td>\n",
       "      <td>...</td>\n",
       "      <td>...</td>\n",
       "      <td>...</td>\n",
       "    </tr>\n",
       "    <tr>\n",
       "      <th>3070</th>\n",
       "      <td>6661273532</td>\n",
       "      <td>NaN</td>\n",
       "      <td>500.0</td>\n",
       "      <td>11000.0</td>\n",
       "      <td>Y</td>\n",
       "      <td>0</td>\n",
       "      <td>N</td>\n",
       "      <td>N</td>\n",
       "      <td>754</td>\n",
       "      <td>585.0</td>\n",
       "      <td>7</td>\n",
       "      <td>N</td>\n",
       "    </tr>\n",
       "    <tr>\n",
       "      <th>3071</th>\n",
       "      <td>6661273532</td>\n",
       "      <td>NaN</td>\n",
       "      <td>800.0</td>\n",
       "      <td>0.0</td>\n",
       "      <td>Y</td>\n",
       "      <td>0</td>\n",
       "      <td>N</td>\n",
       "      <td>N</td>\n",
       "      <td>754</td>\n",
       "      <td>585.0</td>\n",
       "      <td>7</td>\n",
       "      <td>N</td>\n",
       "    </tr>\n",
       "    <tr>\n",
       "      <th>3072</th>\n",
       "      <td>6661273533</td>\n",
       "      <td>NaN</td>\n",
       "      <td>800.0</td>\n",
       "      <td>20800.0</td>\n",
       "      <td>Y</td>\n",
       "      <td>0</td>\n",
       "      <td>N</td>\n",
       "      <td>N</td>\n",
       "      <td>754</td>\n",
       "      <td>585.0</td>\n",
       "      <td>7</td>\n",
       "      <td>N</td>\n",
       "    </tr>\n",
       "    <tr>\n",
       "      <th>3073</th>\n",
       "      <td>6661273532</td>\n",
       "      <td>NaN</td>\n",
       "      <td>1500.0</td>\n",
       "      <td>12000.0</td>\n",
       "      <td>Y</td>\n",
       "      <td>0</td>\n",
       "      <td>Y</td>\n",
       "      <td>Y</td>\n",
       "      <td>754</td>\n",
       "      <td>585.0</td>\n",
       "      <td>7</td>\n",
       "      <td>N</td>\n",
       "    </tr>\n",
       "    <tr>\n",
       "      <th>3074</th>\n",
       "      <td>6661273533</td>\n",
       "      <td>NaN</td>\n",
       "      <td>1500.0</td>\n",
       "      <td>36000.0</td>\n",
       "      <td>Y</td>\n",
       "      <td>0</td>\n",
       "      <td>Y</td>\n",
       "      <td>Y</td>\n",
       "      <td>754</td>\n",
       "      <td>585.0</td>\n",
       "      <td>7</td>\n",
       "      <td>N</td>\n",
       "    </tr>\n",
       "  </tbody>\n",
       "</table>\n",
       "<p>3075 rows × 12 columns</p>\n",
       "</div>"
      ],
      "text/plain": [
       "      Merchant_id  Transaction date  ...  6-month_chbk_freq  isFradulent\n",
       "0      3160040998               NaN  ...                  0            Y\n",
       "1      3160040998               NaN  ...                  0            Y\n",
       "2      3160041896               NaN  ...                  0            Y\n",
       "3      3160141996               NaN  ...                  0            Y\n",
       "4      3160241992               NaN  ...                  6            Y\n",
       "...           ...               ...  ...                ...          ...\n",
       "3070   6661273532               NaN  ...                  7            N\n",
       "3071   6661273532               NaN  ...                  7            N\n",
       "3072   6661273533               NaN  ...                  7            N\n",
       "3073   6661273532               NaN  ...                  7            N\n",
       "3074   6661273533               NaN  ...                  7            N\n",
       "\n",
       "[3075 rows x 12 columns]"
      ]
     },
     "execution_count": 5,
     "metadata": {
      "tags": []
     },
     "output_type": "execute_result"
    }
   ],
   "source": [
    "df"
   ]
  },
  {
   "cell_type": "code",
   "execution_count": 6,
   "metadata": {
    "colab": {},
    "colab_type": "code",
    "executionInfo": {
     "elapsed": 526,
     "status": "ok",
     "timestamp": 1593127504561,
     "user": {
      "displayName": "Raul Sanchez",
      "photoUrl": "",
      "userId": "04500034241875052309"
     },
     "user_tz": 300
    },
    "id": "WKktl-i_nF-S"
   },
   "outputs": [],
   "source": [
    "missing_data = df.isnull()"
   ]
  },
  {
   "cell_type": "code",
   "execution_count": 7,
   "metadata": {
    "colab": {
     "base_uri": "https://localhost:8080/",
     "height": 258
    },
    "colab_type": "code",
    "executionInfo": {
     "elapsed": 487,
     "status": "ok",
     "timestamp": 1593127505521,
     "user": {
      "displayName": "Raul Sanchez",
      "photoUrl": "",
      "userId": "04500034241875052309"
     },
     "user_tz": 300
    },
    "id": "hIzaFdC-nI2q",
    "outputId": "796cf6e5-6856-4961-b711-af5c7c2e1acd"
   },
   "outputs": [
    {
     "data": {
      "text/html": [
       "<div>\n",
       "<style scoped>\n",
       "    .dataframe tbody tr th:only-of-type {\n",
       "        vertical-align: middle;\n",
       "    }\n",
       "\n",
       "    .dataframe tbody tr th {\n",
       "        vertical-align: top;\n",
       "    }\n",
       "\n",
       "    .dataframe thead th {\n",
       "        text-align: right;\n",
       "    }\n",
       "</style>\n",
       "<table border=\"1\" class=\"dataframe\">\n",
       "  <thead>\n",
       "    <tr style=\"text-align: right;\">\n",
       "      <th></th>\n",
       "      <th>Merchant_id</th>\n",
       "      <th>Transaction date</th>\n",
       "      <th>Average Amount/transaction/day</th>\n",
       "      <th>Transaction_amount</th>\n",
       "      <th>Is declined</th>\n",
       "      <th>Total Number of declines/day</th>\n",
       "      <th>isForeignTransaction</th>\n",
       "      <th>isHighRiskCountry</th>\n",
       "      <th>Daily_chargeback_avg_amt</th>\n",
       "      <th>6_month_avg_chbk_amt</th>\n",
       "      <th>6-month_chbk_freq</th>\n",
       "      <th>isFradulent</th>\n",
       "    </tr>\n",
       "  </thead>\n",
       "  <tbody>\n",
       "    <tr>\n",
       "      <th>0</th>\n",
       "      <td>False</td>\n",
       "      <td>True</td>\n",
       "      <td>False</td>\n",
       "      <td>False</td>\n",
       "      <td>False</td>\n",
       "      <td>False</td>\n",
       "      <td>False</td>\n",
       "      <td>False</td>\n",
       "      <td>False</td>\n",
       "      <td>False</td>\n",
       "      <td>False</td>\n",
       "      <td>False</td>\n",
       "    </tr>\n",
       "    <tr>\n",
       "      <th>1</th>\n",
       "      <td>False</td>\n",
       "      <td>True</td>\n",
       "      <td>False</td>\n",
       "      <td>False</td>\n",
       "      <td>False</td>\n",
       "      <td>False</td>\n",
       "      <td>False</td>\n",
       "      <td>False</td>\n",
       "      <td>False</td>\n",
       "      <td>False</td>\n",
       "      <td>False</td>\n",
       "      <td>False</td>\n",
       "    </tr>\n",
       "    <tr>\n",
       "      <th>2</th>\n",
       "      <td>False</td>\n",
       "      <td>True</td>\n",
       "      <td>False</td>\n",
       "      <td>False</td>\n",
       "      <td>False</td>\n",
       "      <td>False</td>\n",
       "      <td>False</td>\n",
       "      <td>False</td>\n",
       "      <td>False</td>\n",
       "      <td>False</td>\n",
       "      <td>False</td>\n",
       "      <td>False</td>\n",
       "    </tr>\n",
       "    <tr>\n",
       "      <th>3</th>\n",
       "      <td>False</td>\n",
       "      <td>True</td>\n",
       "      <td>False</td>\n",
       "      <td>False</td>\n",
       "      <td>False</td>\n",
       "      <td>False</td>\n",
       "      <td>False</td>\n",
       "      <td>False</td>\n",
       "      <td>False</td>\n",
       "      <td>False</td>\n",
       "      <td>False</td>\n",
       "      <td>False</td>\n",
       "    </tr>\n",
       "    <tr>\n",
       "      <th>4</th>\n",
       "      <td>False</td>\n",
       "      <td>True</td>\n",
       "      <td>False</td>\n",
       "      <td>False</td>\n",
       "      <td>False</td>\n",
       "      <td>False</td>\n",
       "      <td>False</td>\n",
       "      <td>False</td>\n",
       "      <td>False</td>\n",
       "      <td>False</td>\n",
       "      <td>False</td>\n",
       "      <td>False</td>\n",
       "    </tr>\n",
       "  </tbody>\n",
       "</table>\n",
       "</div>"
      ],
      "text/plain": [
       "   Merchant_id  Transaction date  ...  6-month_chbk_freq  isFradulent\n",
       "0        False              True  ...              False        False\n",
       "1        False              True  ...              False        False\n",
       "2        False              True  ...              False        False\n",
       "3        False              True  ...              False        False\n",
       "4        False              True  ...              False        False\n",
       "\n",
       "[5 rows x 12 columns]"
      ]
     },
     "execution_count": 7,
     "metadata": {
      "tags": []
     },
     "output_type": "execute_result"
    }
   ],
   "source": [
    "missing_data.head()"
   ]
  },
  {
   "cell_type": "code",
   "execution_count": 8,
   "metadata": {
    "colab": {
     "base_uri": "https://localhost:8080/",
     "height": 833
    },
    "colab_type": "code",
    "executionInfo": {
     "elapsed": 490,
     "status": "ok",
     "timestamp": 1593127506527,
     "user": {
      "displayName": "Raul Sanchez",
      "photoUrl": "",
      "userId": "04500034241875052309"
     },
     "user_tz": 300
    },
    "id": "IPoNqr13nbHq",
    "outputId": "17fdcbb9-adef-4224-dbfb-50db184128ec"
   },
   "outputs": [
    {
     "name": "stdout",
     "output_type": "stream",
     "text": [
      "Merchant_id\n",
      "False    3075\n",
      "Name: Merchant_id, dtype: int64\n",
      "\n",
      "Transaction date\n",
      "True    3075\n",
      "Name: Transaction date, dtype: int64\n",
      "\n",
      "Average Amount/transaction/day\n",
      "False    3075\n",
      "Name: Average Amount/transaction/day, dtype: int64\n",
      "\n",
      "Transaction_amount\n",
      "False    3075\n",
      "Name: Transaction_amount, dtype: int64\n",
      "\n",
      "Is declined\n",
      "False    3075\n",
      "Name: Is declined, dtype: int64\n",
      "\n",
      "Total Number of declines/day\n",
      "False    3075\n",
      "Name: Total Number of declines/day, dtype: int64\n",
      "\n",
      "isForeignTransaction\n",
      "False    3075\n",
      "Name: isForeignTransaction, dtype: int64\n",
      "\n",
      "isHighRiskCountry\n",
      "False    3075\n",
      "Name: isHighRiskCountry, dtype: int64\n",
      "\n",
      "Daily_chargeback_avg_amt\n",
      "False    3075\n",
      "Name: Daily_chargeback_avg_amt, dtype: int64\n",
      "\n",
      "6_month_avg_chbk_amt\n",
      "False    3075\n",
      "Name: 6_month_avg_chbk_amt, dtype: int64\n",
      "\n",
      "6-month_chbk_freq\n",
      "False    3075\n",
      "Name: 6-month_chbk_freq, dtype: int64\n",
      "\n",
      "isFradulent\n",
      "False    3075\n",
      "Name: isFradulent, dtype: int64\n",
      "\n"
     ]
    }
   ],
   "source": [
    "for column in missing_data.columns.values.tolist():\n",
    "    print(column)\n",
    "    print (missing_data[column].value_counts())\n",
    "    print(\"\")  "
   ]
  },
  {
   "cell_type": "markdown",
   "metadata": {
    "colab_type": "text",
    "id": "4I9u5ogpmoTq"
   },
   "source": [
    "<p align=\"justify\">\n",
    "Nuestro dataset contiene 3075 y 12 columnas se procederá a eliminar la columna Transaction date ya que no contiene información, todos sus valores son NULOS\n",
    "</p>"
   ]
  },
  {
   "cell_type": "code",
   "execution_count": 9,
   "metadata": {
    "colab": {},
    "colab_type": "code",
    "executionInfo": {
     "elapsed": 472,
     "status": "ok",
     "timestamp": 1593127508502,
     "user": {
      "displayName": "Raul Sanchez",
      "photoUrl": "",
      "userId": "04500034241875052309"
     },
     "user_tz": 300
    },
    "id": "zp81T2vimzfF"
   },
   "outputs": [],
   "source": [
    "df = df.drop(['Transaction date'], axis=1)"
   ]
  },
  {
   "cell_type": "markdown",
   "metadata": {
    "colab_type": "text",
    "id": "9cODdRV9p9FS"
   },
   "source": [
    "## De las variables numéricas hallar el valor mínimo, el máximo, la mediana y la media."
   ]
  },
  {
   "cell_type": "code",
   "execution_count": 10,
   "metadata": {
    "colab": {
     "base_uri": "https://localhost:8080/",
     "height": 351
    },
    "colab_type": "code",
    "executionInfo": {
     "elapsed": 505,
     "status": "ok",
     "timestamp": 1593127510334,
     "user": {
      "displayName": "Raul Sanchez",
      "photoUrl": "",
      "userId": "04500034241875052309"
     },
     "user_tz": 300
    },
    "id": "ZC3d8xHJp_LM",
    "outputId": "d08b2a2c-dcd9-4fdd-d6f0-83048ed968ea"
   },
   "outputs": [
    {
     "data": {
      "text/html": [
       "<div>\n",
       "<style scoped>\n",
       "    .dataframe tbody tr th:only-of-type {\n",
       "        vertical-align: middle;\n",
       "    }\n",
       "\n",
       "    .dataframe tbody tr th {\n",
       "        vertical-align: top;\n",
       "    }\n",
       "\n",
       "    .dataframe thead th {\n",
       "        text-align: right;\n",
       "    }\n",
       "</style>\n",
       "<table border=\"1\" class=\"dataframe\">\n",
       "  <thead>\n",
       "    <tr style=\"text-align: right;\">\n",
       "      <th></th>\n",
       "      <th>Merchant_id</th>\n",
       "      <th>Average Amount/transaction/day</th>\n",
       "      <th>Transaction_amount</th>\n",
       "      <th>Total Number of declines/day</th>\n",
       "      <th>Daily_chargeback_avg_amt</th>\n",
       "      <th>6_month_avg_chbk_amt</th>\n",
       "      <th>6-month_chbk_freq</th>\n",
       "    </tr>\n",
       "  </thead>\n",
       "  <tbody>\n",
       "    <tr>\n",
       "      <th>count</th>\n",
       "      <td>3.075000e+03</td>\n",
       "      <td>3075.000000</td>\n",
       "      <td>3075.000000</td>\n",
       "      <td>3075.000000</td>\n",
       "      <td>3075.000000</td>\n",
       "      <td>3075.000000</td>\n",
       "      <td>3075.000000</td>\n",
       "    </tr>\n",
       "    <tr>\n",
       "      <th>mean</th>\n",
       "      <td>5.026634e+09</td>\n",
       "      <td>515.026556</td>\n",
       "      <td>9876.399210</td>\n",
       "      <td>0.957398</td>\n",
       "      <td>55.737561</td>\n",
       "      <td>40.022407</td>\n",
       "      <td>0.391870</td>\n",
       "    </tr>\n",
       "    <tr>\n",
       "      <th>std</th>\n",
       "      <td>9.870778e+08</td>\n",
       "      <td>291.906978</td>\n",
       "      <td>10135.331016</td>\n",
       "      <td>2.192391</td>\n",
       "      <td>206.634779</td>\n",
       "      <td>155.968840</td>\n",
       "      <td>1.548479</td>\n",
       "    </tr>\n",
       "    <tr>\n",
       "      <th>min</th>\n",
       "      <td>3.160041e+09</td>\n",
       "      <td>4.011527</td>\n",
       "      <td>0.000000</td>\n",
       "      <td>0.000000</td>\n",
       "      <td>0.000000</td>\n",
       "      <td>0.000000</td>\n",
       "      <td>0.000000</td>\n",
       "    </tr>\n",
       "    <tr>\n",
       "      <th>25%</th>\n",
       "      <td>4.170814e+09</td>\n",
       "      <td>269.788047</td>\n",
       "      <td>2408.781147</td>\n",
       "      <td>0.000000</td>\n",
       "      <td>0.000000</td>\n",
       "      <td>0.000000</td>\n",
       "      <td>0.000000</td>\n",
       "    </tr>\n",
       "    <tr>\n",
       "      <th>50%</th>\n",
       "      <td>5.025578e+09</td>\n",
       "      <td>502.549575</td>\n",
       "      <td>6698.891856</td>\n",
       "      <td>0.000000</td>\n",
       "      <td>0.000000</td>\n",
       "      <td>0.000000</td>\n",
       "      <td>0.000000</td>\n",
       "    </tr>\n",
       "    <tr>\n",
       "      <th>75%</th>\n",
       "      <td>5.889625e+09</td>\n",
       "      <td>765.272803</td>\n",
       "      <td>14422.568935</td>\n",
       "      <td>0.000000</td>\n",
       "      <td>0.000000</td>\n",
       "      <td>0.000000</td>\n",
       "      <td>0.000000</td>\n",
       "    </tr>\n",
       "    <tr>\n",
       "      <th>max</th>\n",
       "      <td>6.665906e+09</td>\n",
       "      <td>2000.000000</td>\n",
       "      <td>108000.000000</td>\n",
       "      <td>20.000000</td>\n",
       "      <td>998.000000</td>\n",
       "      <td>998.000000</td>\n",
       "      <td>9.000000</td>\n",
       "    </tr>\n",
       "  </tbody>\n",
       "</table>\n",
       "</div>"
      ],
      "text/plain": [
       "        Merchant_id  ...  6-month_chbk_freq\n",
       "count  3.075000e+03  ...        3075.000000\n",
       "mean   5.026634e+09  ...           0.391870\n",
       "std    9.870778e+08  ...           1.548479\n",
       "min    3.160041e+09  ...           0.000000\n",
       "25%    4.170814e+09  ...           0.000000\n",
       "50%    5.025578e+09  ...           0.000000\n",
       "75%    5.889625e+09  ...           0.000000\n",
       "max    6.665906e+09  ...           9.000000\n",
       "\n",
       "[8 rows x 7 columns]"
      ]
     },
     "execution_count": 10,
     "metadata": {
      "tags": []
     },
     "output_type": "execute_result"
    }
   ],
   "source": [
    "df.describe()"
   ]
  },
  {
   "cell_type": "markdown",
   "metadata": {
    "colab_type": "text",
    "id": "0ddt-W53qpQ6"
   },
   "source": [
    "## De las variables categóricas, listar las diferentes categorías y hallar la frecuencia de cada una de ellas"
   ]
  },
  {
   "cell_type": "code",
   "execution_count": 11,
   "metadata": {
    "colab": {},
    "colab_type": "code",
    "executionInfo": {
     "elapsed": 479,
     "status": "ok",
     "timestamp": 1593127512038,
     "user": {
      "displayName": "Raul Sanchez",
      "photoUrl": "",
      "userId": "04500034241875052309"
     },
     "user_tz": 300
    },
    "id": "2iLGK5weqJgn"
   },
   "outputs": [],
   "source": [
    "var_num = df._get_numeric_data().columns.values.tolist()"
   ]
  },
  {
   "cell_type": "code",
   "execution_count": 12,
   "metadata": {
    "colab": {},
    "colab_type": "code",
    "executionInfo": {
     "elapsed": 423,
     "status": "ok",
     "timestamp": 1593127512977,
     "user": {
      "displayName": "Raul Sanchez",
      "photoUrl": "",
      "userId": "04500034241875052309"
     },
     "user_tz": 300
    },
    "id": "tuIsb3y2qvUL"
   },
   "outputs": [],
   "source": [
    "data_vars = df.columns.values.tolist()"
   ]
  },
  {
   "cell_type": "code",
   "execution_count": 13,
   "metadata": {
    "colab": {},
    "colab_type": "code",
    "executionInfo": {
     "elapsed": 418,
     "status": "ok",
     "timestamp": 1593127513909,
     "user": {
      "displayName": "Raul Sanchez",
      "photoUrl": "",
      "userId": "04500034241875052309"
     },
     "user_tz": 300
    },
    "id": "cotjfmZgqxbg"
   },
   "outputs": [],
   "source": [
    "to_keep = [v for v in data_vars if v not in var_num]"
   ]
  },
  {
   "cell_type": "code",
   "execution_count": 14,
   "metadata": {
    "colab": {
     "base_uri": "https://localhost:8080/",
     "height": 357
    },
    "colab_type": "code",
    "executionInfo": {
     "elapsed": 370,
     "status": "ok",
     "timestamp": 1593127514812,
     "user": {
      "displayName": "Raul Sanchez",
      "photoUrl": "",
      "userId": "04500034241875052309"
     },
     "user_tz": 300
    },
    "id": "Je0krGBTq00w",
    "outputId": "7ba34a80-449a-4556-ad1d-47365e072504"
   },
   "outputs": [
    {
     "name": "stdout",
     "output_type": "stream",
     "text": [
      "Is declined\n",
      "N    3018\n",
      "Y      57\n",
      "Name: Is declined, dtype: int64\n",
      "__________________________________\n",
      "isForeignTransaction\n",
      "N    2369\n",
      "Y     706\n",
      "Name: isForeignTransaction, dtype: int64\n",
      "__________________________________\n",
      "isHighRiskCountry\n",
      "N    2870\n",
      "Y     205\n",
      "Name: isHighRiskCountry, dtype: int64\n",
      "__________________________________\n",
      "isFradulent\n",
      "N    2627\n",
      "Y     448\n",
      "Name: isFradulent, dtype: int64\n",
      "__________________________________\n"
     ]
    }
   ],
   "source": [
    "for v in to_keep:\n",
    "    print(v)\n",
    "    print(df[v].value_counts())\n",
    "    print(\"__________________________________\")"
   ]
  },
  {
   "cell_type": "markdown",
   "metadata": {
    "colab_type": "text",
    "id": "mZHKdaEPrSRS"
   },
   "source": [
    "## Hallar todas las correlaciones existentes entre las variables numéricas del conjunto de datos\n"
   ]
  },
  {
   "cell_type": "code",
   "execution_count": 15,
   "metadata": {
    "colab": {},
    "colab_type": "code",
    "executionInfo": {
     "elapsed": 432,
     "status": "ok",
     "timestamp": 1593127516649,
     "user": {
      "displayName": "Raul Sanchez",
      "photoUrl": "",
      "userId": "04500034241875052309"
     },
     "user_tz": 300
    },
    "id": "-b2VbwMlq3Ja"
   },
   "outputs": [],
   "source": [
    "var_num = df._get_numeric_data().columns.values.tolist()"
   ]
  },
  {
   "cell_type": "code",
   "execution_count": 16,
   "metadata": {
    "colab": {
     "base_uri": "https://localhost:8080/",
     "height": 618
    },
    "colab_type": "code",
    "executionInfo": {
     "elapsed": 1206,
     "status": "ok",
     "timestamp": 1593127518292,
     "user": {
      "displayName": "Raul Sanchez",
      "photoUrl": "",
      "userId": "04500034241875052309"
     },
     "user_tz": 300
    },
    "id": "bdGpjGwtrXgU",
    "outputId": "91e3c885-b30c-4032-cec1-3ef004b58f25"
   },
   "outputs": [
    {
     "data": {
      "text/plain": [
       "<matplotlib.axes._subplots.AxesSubplot at 0x7f0bc42a2f28>"
      ]
     },
     "execution_count": 16,
     "metadata": {
      "tags": []
     },
     "output_type": "execute_result"
    },
    {
     "data": {
      "image/png": "[encoded data removed]",
      "text/plain": [
       "<Figure size 1440x720 with 2 Axes>"
      ]
     },
     "metadata": {
      "needs_background": "light",
      "tags": []
     },
     "output_type": "display_data"
    }
   ],
   "source": [
    "plt.figure(figsize = (20, 10))\n",
    "sns.heatmap(df[var_num].corr().abs(), annot = True)"
   ]
  },
  {
   "cell_type": "markdown",
   "metadata": {
    "colab_type": "text",
    "id": "mCGVuAJ6v84A"
   },
   "source": [
    "<p align=\"justify\">\n",
    "Como se puede observar existe una alta correlación entre las variables Daily_chargeback_avg_amt, 6_month_avg_chbk_amt y 6-month_chbk_freq; generalmente en los modelos se busca variables correladas con respecto a la variable objetivo y más decorreladas entre sí. Si luego del análisis de las métricas se observa efectos no deseados se puede presumir que la inclusión de estas variables pudo afectar el modelo.\n",
    "</p>"
   ]
  },
  {
   "cell_type": "code",
   "execution_count": 17,
   "metadata": {
    "colab": {
     "base_uri": "https://localhost:8080/",
     "height": 235
    },
    "colab_type": "code",
    "executionInfo": {
     "elapsed": 474,
     "status": "ok",
     "timestamp": 1593127519705,
     "user": {
      "displayName": "Raul Sanchez",
      "photoUrl": "",
      "userId": "04500034241875052309"
     },
     "user_tz": 300
    },
    "id": "8bPoLj6PvSU_",
    "outputId": "cac35b00-0093-42ca-9430-668d041e3eb6"
   },
   "outputs": [
    {
     "data": {
      "text/html": [
       "<div>\n",
       "<style scoped>\n",
       "    .dataframe tbody tr th:only-of-type {\n",
       "        vertical-align: middle;\n",
       "    }\n",
       "\n",
       "    .dataframe tbody tr th {\n",
       "        vertical-align: top;\n",
       "    }\n",
       "\n",
       "    .dataframe thead th {\n",
       "        text-align: right;\n",
       "    }\n",
       "</style>\n",
       "<table border=\"1\" class=\"dataframe\">\n",
       "  <thead>\n",
       "    <tr style=\"text-align: right;\">\n",
       "      <th></th>\n",
       "      <th>VariableA</th>\n",
       "      <th>VariableB</th>\n",
       "      <th>correlation</th>\n",
       "    </tr>\n",
       "  </thead>\n",
       "  <tbody>\n",
       "    <tr>\n",
       "      <th>33</th>\n",
       "      <td>Daily_chargeback_avg_amt</td>\n",
       "      <td>6_month_avg_chbk_amt</td>\n",
       "      <td>0.953663</td>\n",
       "    </tr>\n",
       "    <tr>\n",
       "      <th>34</th>\n",
       "      <td>Daily_chargeback_avg_amt</td>\n",
       "      <td>6-month_chbk_freq</td>\n",
       "      <td>0.884611</td>\n",
       "    </tr>\n",
       "    <tr>\n",
       "      <th>39</th>\n",
       "      <td>6_month_avg_chbk_amt</td>\n",
       "      <td>Daily_chargeback_avg_amt</td>\n",
       "      <td>0.953663</td>\n",
       "    </tr>\n",
       "    <tr>\n",
       "      <th>41</th>\n",
       "      <td>6_month_avg_chbk_amt</td>\n",
       "      <td>6-month_chbk_freq</td>\n",
       "      <td>0.851339</td>\n",
       "    </tr>\n",
       "    <tr>\n",
       "      <th>46</th>\n",
       "      <td>6-month_chbk_freq</td>\n",
       "      <td>Daily_chargeback_avg_amt</td>\n",
       "      <td>0.884611</td>\n",
       "    </tr>\n",
       "    <tr>\n",
       "      <th>47</th>\n",
       "      <td>6-month_chbk_freq</td>\n",
       "      <td>6_month_avg_chbk_amt</td>\n",
       "      <td>0.851339</td>\n",
       "    </tr>\n",
       "  </tbody>\n",
       "</table>\n",
       "</div>"
      ],
      "text/plain": [
       "                   VariableA                 VariableB  correlation\n",
       "33  Daily_chargeback_avg_amt      6_month_avg_chbk_amt     0.953663\n",
       "34  Daily_chargeback_avg_amt         6-month_chbk_freq     0.884611\n",
       "39      6_month_avg_chbk_amt  Daily_chargeback_avg_amt     0.953663\n",
       "41      6_month_avg_chbk_amt         6-month_chbk_freq     0.851339\n",
       "46         6-month_chbk_freq  Daily_chargeback_avg_amt     0.884611\n",
       "47         6-month_chbk_freq      6_month_avg_chbk_amt     0.851339"
      ]
     },
     "metadata": {
      "tags": []
     },
     "output_type": "display_data"
    }
   ],
   "source": [
    "df_cols = df[var_num].corr().stack().reset_index()\n",
    "df_cols.columns = ['VariableA','VariableB','correlation']\n",
    "df_corr = df_cols[(df_cols['correlation']>0.6)&(df_cols['correlation']!=1)]\n",
    "display(df_corr)"
   ]
  },
  {
   "cell_type": "markdown",
   "metadata": {
    "colab_type": "text",
    "id": "WWH9-zItxqV6"
   },
   "source": [
    "## Conversión de las variables categóricas a dummies (variables ficticias)"
   ]
  },
  {
   "cell_type": "code",
   "execution_count": 18,
   "metadata": {
    "colab": {},
    "colab_type": "code",
    "executionInfo": {
     "elapsed": 459,
     "status": "ok",
     "timestamp": 1593127521422,
     "user": {
      "displayName": "Raul Sanchez",
      "photoUrl": "",
      "userId": "04500034241875052309"
     },
     "user_tz": 300
    },
    "id": "jlNS8DZFwP8n"
   },
   "outputs": [],
   "source": [
    "var_num = df._get_numeric_data().columns.values.tolist()\n",
    "data_vars = df.columns.values.tolist()\n",
    "categories  = [v for v in data_vars if v not in var_num]"
   ]
  },
  {
   "cell_type": "code",
   "execution_count": 19,
   "metadata": {
    "colab": {},
    "colab_type": "code",
    "executionInfo": {
     "elapsed": 434,
     "status": "ok",
     "timestamp": 1593127522432,
     "user": {
      "displayName": "Raul Sanchez",
      "photoUrl": "",
      "userId": "04500034241875052309"
     },
     "user_tz": 300
    },
    "id": "mGWa8owGqWxM"
   },
   "outputs": [],
   "source": [
    "encoder = LabelEncoder()\n",
    "df_encoder= df[categories].apply(encoder.fit_transform)\n",
    "df_encoder=df_encoder.add_suffix(\"_Y\")\n"
   ]
  },
  {
   "cell_type": "code",
   "execution_count": 20,
   "metadata": {
    "colab": {
     "base_uri": "https://localhost:8080/",
     "height": 473
    },
    "colab_type": "code",
    "executionInfo": {
     "elapsed": 522,
     "status": "ok",
     "timestamp": 1593127523534,
     "user": {
      "displayName": "Raul Sanchez",
      "photoUrl": "",
      "userId": "04500034241875052309"
     },
     "user_tz": 300
    },
    "id": "pvJ76W-ArT96",
    "outputId": "f6e060d4-e9e2-4b7a-d440-852bafcc3761"
   },
   "outputs": [
    {
     "data": {
      "text/html": [
       "<div>\n",
       "<style scoped>\n",
       "    .dataframe tbody tr th:only-of-type {\n",
       "        vertical-align: middle;\n",
       "    }\n",
       "\n",
       "    .dataframe tbody tr th {\n",
       "        vertical-align: top;\n",
       "    }\n",
       "\n",
       "    .dataframe thead th {\n",
       "        text-align: right;\n",
       "    }\n",
       "</style>\n",
       "<table border=\"1\" class=\"dataframe\">\n",
       "  <thead>\n",
       "    <tr style=\"text-align: right;\">\n",
       "      <th></th>\n",
       "      <th>Average Amount/transaction/day</th>\n",
       "      <th>Transaction_amount</th>\n",
       "      <th>Total Number of declines/day</th>\n",
       "      <th>Daily_chargeback_avg_amt</th>\n",
       "      <th>6_month_avg_chbk_amt</th>\n",
       "      <th>6-month_chbk_freq</th>\n",
       "      <th>Is declined_Y</th>\n",
       "      <th>isForeignTransaction_Y</th>\n",
       "      <th>isHighRiskCountry_Y</th>\n",
       "      <th>isFradulent_Y</th>\n",
       "    </tr>\n",
       "  </thead>\n",
       "  <tbody>\n",
       "    <tr>\n",
       "      <th>0</th>\n",
       "      <td>100.0</td>\n",
       "      <td>3000.0</td>\n",
       "      <td>5</td>\n",
       "      <td>0</td>\n",
       "      <td>0.0</td>\n",
       "      <td>0</td>\n",
       "      <td>0</td>\n",
       "      <td>1</td>\n",
       "      <td>1</td>\n",
       "      <td>1</td>\n",
       "    </tr>\n",
       "    <tr>\n",
       "      <th>1</th>\n",
       "      <td>100.0</td>\n",
       "      <td>4300.0</td>\n",
       "      <td>5</td>\n",
       "      <td>0</td>\n",
       "      <td>0.0</td>\n",
       "      <td>0</td>\n",
       "      <td>0</td>\n",
       "      <td>1</td>\n",
       "      <td>1</td>\n",
       "      <td>1</td>\n",
       "    </tr>\n",
       "    <tr>\n",
       "      <th>2</th>\n",
       "      <td>185.5</td>\n",
       "      <td>4823.0</td>\n",
       "      <td>5</td>\n",
       "      <td>0</td>\n",
       "      <td>0.0</td>\n",
       "      <td>0</td>\n",
       "      <td>1</td>\n",
       "      <td>0</td>\n",
       "      <td>0</td>\n",
       "      <td>1</td>\n",
       "    </tr>\n",
       "    <tr>\n",
       "      <th>3</th>\n",
       "      <td>185.5</td>\n",
       "      <td>5008.5</td>\n",
       "      <td>8</td>\n",
       "      <td>0</td>\n",
       "      <td>0.0</td>\n",
       "      <td>0</td>\n",
       "      <td>1</td>\n",
       "      <td>0</td>\n",
       "      <td>0</td>\n",
       "      <td>1</td>\n",
       "    </tr>\n",
       "    <tr>\n",
       "      <th>4</th>\n",
       "      <td>500.0</td>\n",
       "      <td>26000.0</td>\n",
       "      <td>0</td>\n",
       "      <td>800</td>\n",
       "      <td>677.2</td>\n",
       "      <td>6</td>\n",
       "      <td>0</td>\n",
       "      <td>1</td>\n",
       "      <td>1</td>\n",
       "      <td>1</td>\n",
       "    </tr>\n",
       "    <tr>\n",
       "      <th>...</th>\n",
       "      <td>...</td>\n",
       "      <td>...</td>\n",
       "      <td>...</td>\n",
       "      <td>...</td>\n",
       "      <td>...</td>\n",
       "      <td>...</td>\n",
       "      <td>...</td>\n",
       "      <td>...</td>\n",
       "      <td>...</td>\n",
       "      <td>...</td>\n",
       "    </tr>\n",
       "    <tr>\n",
       "      <th>3070</th>\n",
       "      <td>500.0</td>\n",
       "      <td>11000.0</td>\n",
       "      <td>0</td>\n",
       "      <td>754</td>\n",
       "      <td>585.0</td>\n",
       "      <td>7</td>\n",
       "      <td>1</td>\n",
       "      <td>0</td>\n",
       "      <td>0</td>\n",
       "      <td>0</td>\n",
       "    </tr>\n",
       "    <tr>\n",
       "      <th>3071</th>\n",
       "      <td>800.0</td>\n",
       "      <td>0.0</td>\n",
       "      <td>0</td>\n",
       "      <td>754</td>\n",
       "      <td>585.0</td>\n",
       "      <td>7</td>\n",
       "      <td>1</td>\n",
       "      <td>0</td>\n",
       "      <td>0</td>\n",
       "      <td>0</td>\n",
       "    </tr>\n",
       "    <tr>\n",
       "      <th>3072</th>\n",
       "      <td>800.0</td>\n",
       "      <td>20800.0</td>\n",
       "      <td>0</td>\n",
       "      <td>754</td>\n",
       "      <td>585.0</td>\n",
       "      <td>7</td>\n",
       "      <td>1</td>\n",
       "      <td>0</td>\n",
       "      <td>0</td>\n",
       "      <td>0</td>\n",
       "    </tr>\n",
       "    <tr>\n",
       "      <th>3073</th>\n",
       "      <td>1500.0</td>\n",
       "      <td>12000.0</td>\n",
       "      <td>0</td>\n",
       "      <td>754</td>\n",
       "      <td>585.0</td>\n",
       "      <td>7</td>\n",
       "      <td>1</td>\n",
       "      <td>1</td>\n",
       "      <td>1</td>\n",
       "      <td>0</td>\n",
       "    </tr>\n",
       "    <tr>\n",
       "      <th>3074</th>\n",
       "      <td>1500.0</td>\n",
       "      <td>36000.0</td>\n",
       "      <td>0</td>\n",
       "      <td>754</td>\n",
       "      <td>585.0</td>\n",
       "      <td>7</td>\n",
       "      <td>1</td>\n",
       "      <td>1</td>\n",
       "      <td>1</td>\n",
       "      <td>0</td>\n",
       "    </tr>\n",
       "  </tbody>\n",
       "</table>\n",
       "<p>3075 rows × 10 columns</p>\n",
       "</div>"
      ],
      "text/plain": [
       "      Average Amount/transaction/day  ...  isFradulent_Y\n",
       "0                              100.0  ...              1\n",
       "1                              100.0  ...              1\n",
       "2                              185.5  ...              1\n",
       "3                              185.5  ...              1\n",
       "4                              500.0  ...              1\n",
       "...                              ...  ...            ...\n",
       "3070                           500.0  ...              0\n",
       "3071                           800.0  ...              0\n",
       "3072                           800.0  ...              0\n",
       "3073                          1500.0  ...              0\n",
       "3074                          1500.0  ...              0\n",
       "\n",
       "[3075 rows x 10 columns]"
      ]
     },
     "execution_count": 20,
     "metadata": {
      "tags": []
     },
     "output_type": "execute_result"
    }
   ],
   "source": [
    "df=pd.concat([df[var_num],df_encoder],axis=1)\n",
    "df = df.drop(['Merchant_id'], axis=1)\n",
    "df"
   ]
  },
  {
   "cell_type": "markdown",
   "metadata": {
    "colab_type": "text",
    "id": "QYDlZ2syeoAg"
   },
   "source": [
    "## Normalización de los datos "
   ]
  },
  {
   "cell_type": "code",
   "execution_count": 21,
   "metadata": {
    "colab": {
     "base_uri": "https://localhost:8080/",
     "height": 473
    },
    "colab_type": "code",
    "executionInfo": {
     "elapsed": 625,
     "status": "ok",
     "timestamp": 1593127525459,
     "user": {
      "displayName": "Raul Sanchez",
      "photoUrl": "",
      "userId": "04500034241875052309"
     },
     "user_tz": 300
    },
    "id": "rLsiA76Y1naA",
    "outputId": "e7e1b849-3249-469b-b198-cc0fdb0eaa13"
   },
   "outputs": [
    {
     "data": {
      "text/html": [
       "<div>\n",
       "<style scoped>\n",
       "    .dataframe tbody tr th:only-of-type {\n",
       "        vertical-align: middle;\n",
       "    }\n",
       "\n",
       "    .dataframe tbody tr th {\n",
       "        vertical-align: top;\n",
       "    }\n",
       "\n",
       "    .dataframe thead th {\n",
       "        text-align: right;\n",
       "    }\n",
       "</style>\n",
       "<table border=\"1\" class=\"dataframe\">\n",
       "  <thead>\n",
       "    <tr style=\"text-align: right;\">\n",
       "      <th></th>\n",
       "      <th>Average Amount/transaction/day</th>\n",
       "      <th>Transaction_amount</th>\n",
       "      <th>Total Number of declines/day</th>\n",
       "      <th>Daily_chargeback_avg_amt</th>\n",
       "      <th>6_month_avg_chbk_amt</th>\n",
       "      <th>6-month_chbk_freq</th>\n",
       "      <th>Is declined_Y</th>\n",
       "      <th>isForeignTransaction_Y</th>\n",
       "      <th>isHighRiskCountry_Y</th>\n",
       "      <th>isFradulent_Y</th>\n",
       "    </tr>\n",
       "  </thead>\n",
       "  <tbody>\n",
       "    <tr>\n",
       "      <th>0</th>\n",
       "      <td>0.048091</td>\n",
       "      <td>0.027778</td>\n",
       "      <td>0.25</td>\n",
       "      <td>0.000000</td>\n",
       "      <td>0.000000</td>\n",
       "      <td>0.000000</td>\n",
       "      <td>0.0</td>\n",
       "      <td>1.0</td>\n",
       "      <td>1.0</td>\n",
       "      <td>1.0</td>\n",
       "    </tr>\n",
       "    <tr>\n",
       "      <th>1</th>\n",
       "      <td>0.048091</td>\n",
       "      <td>0.039815</td>\n",
       "      <td>0.25</td>\n",
       "      <td>0.000000</td>\n",
       "      <td>0.000000</td>\n",
       "      <td>0.000000</td>\n",
       "      <td>0.0</td>\n",
       "      <td>1.0</td>\n",
       "      <td>1.0</td>\n",
       "      <td>1.0</td>\n",
       "    </tr>\n",
       "    <tr>\n",
       "      <th>2</th>\n",
       "      <td>0.090927</td>\n",
       "      <td>0.044657</td>\n",
       "      <td>0.25</td>\n",
       "      <td>0.000000</td>\n",
       "      <td>0.000000</td>\n",
       "      <td>0.000000</td>\n",
       "      <td>1.0</td>\n",
       "      <td>0.0</td>\n",
       "      <td>0.0</td>\n",
       "      <td>1.0</td>\n",
       "    </tr>\n",
       "    <tr>\n",
       "      <th>3</th>\n",
       "      <td>0.090927</td>\n",
       "      <td>0.046375</td>\n",
       "      <td>0.40</td>\n",
       "      <td>0.000000</td>\n",
       "      <td>0.000000</td>\n",
       "      <td>0.000000</td>\n",
       "      <td>1.0</td>\n",
       "      <td>0.0</td>\n",
       "      <td>0.0</td>\n",
       "      <td>1.0</td>\n",
       "    </tr>\n",
       "    <tr>\n",
       "      <th>4</th>\n",
       "      <td>0.248493</td>\n",
       "      <td>0.240741</td>\n",
       "      <td>0.00</td>\n",
       "      <td>0.801603</td>\n",
       "      <td>0.678557</td>\n",
       "      <td>0.666667</td>\n",
       "      <td>0.0</td>\n",
       "      <td>1.0</td>\n",
       "      <td>1.0</td>\n",
       "      <td>1.0</td>\n",
       "    </tr>\n",
       "    <tr>\n",
       "      <th>...</th>\n",
       "      <td>...</td>\n",
       "      <td>...</td>\n",
       "      <td>...</td>\n",
       "      <td>...</td>\n",
       "      <td>...</td>\n",
       "      <td>...</td>\n",
       "      <td>...</td>\n",
       "      <td>...</td>\n",
       "      <td>...</td>\n",
       "      <td>...</td>\n",
       "    </tr>\n",
       "    <tr>\n",
       "      <th>3070</th>\n",
       "      <td>0.248493</td>\n",
       "      <td>0.101852</td>\n",
       "      <td>0.00</td>\n",
       "      <td>0.755511</td>\n",
       "      <td>0.586172</td>\n",
       "      <td>0.777778</td>\n",
       "      <td>1.0</td>\n",
       "      <td>0.0</td>\n",
       "      <td>0.0</td>\n",
       "      <td>0.0</td>\n",
       "    </tr>\n",
       "    <tr>\n",
       "      <th>3071</th>\n",
       "      <td>0.398794</td>\n",
       "      <td>0.000000</td>\n",
       "      <td>0.00</td>\n",
       "      <td>0.755511</td>\n",
       "      <td>0.586172</td>\n",
       "      <td>0.777778</td>\n",
       "      <td>1.0</td>\n",
       "      <td>0.0</td>\n",
       "      <td>0.0</td>\n",
       "      <td>0.0</td>\n",
       "    </tr>\n",
       "    <tr>\n",
       "      <th>3072</th>\n",
       "      <td>0.398794</td>\n",
       "      <td>0.192593</td>\n",
       "      <td>0.00</td>\n",
       "      <td>0.755511</td>\n",
       "      <td>0.586172</td>\n",
       "      <td>0.777778</td>\n",
       "      <td>1.0</td>\n",
       "      <td>0.0</td>\n",
       "      <td>0.0</td>\n",
       "      <td>0.0</td>\n",
       "    </tr>\n",
       "    <tr>\n",
       "      <th>3073</th>\n",
       "      <td>0.749498</td>\n",
       "      <td>0.111111</td>\n",
       "      <td>0.00</td>\n",
       "      <td>0.755511</td>\n",
       "      <td>0.586172</td>\n",
       "      <td>0.777778</td>\n",
       "      <td>1.0</td>\n",
       "      <td>1.0</td>\n",
       "      <td>1.0</td>\n",
       "      <td>0.0</td>\n",
       "    </tr>\n",
       "    <tr>\n",
       "      <th>3074</th>\n",
       "      <td>0.749498</td>\n",
       "      <td>0.333333</td>\n",
       "      <td>0.00</td>\n",
       "      <td>0.755511</td>\n",
       "      <td>0.586172</td>\n",
       "      <td>0.777778</td>\n",
       "      <td>1.0</td>\n",
       "      <td>1.0</td>\n",
       "      <td>1.0</td>\n",
       "      <td>0.0</td>\n",
       "    </tr>\n",
       "  </tbody>\n",
       "</table>\n",
       "<p>3075 rows × 10 columns</p>\n",
       "</div>"
      ],
      "text/plain": [
       "      Average Amount/transaction/day  ...  isFradulent_Y\n",
       "0                           0.048091  ...            1.0\n",
       "1                           0.048091  ...            1.0\n",
       "2                           0.090927  ...            1.0\n",
       "3                           0.090927  ...            1.0\n",
       "4                           0.248493  ...            1.0\n",
       "...                              ...  ...            ...\n",
       "3070                        0.248493  ...            0.0\n",
       "3071                        0.398794  ...            0.0\n",
       "3072                        0.398794  ...            0.0\n",
       "3073                        0.749498  ...            0.0\n",
       "3074                        0.749498  ...            0.0\n",
       "\n",
       "[3075 rows x 10 columns]"
      ]
     },
     "execution_count": 21,
     "metadata": {
      "tags": []
     },
     "output_type": "execute_result"
    }
   ],
   "source": [
    "df_norm = (df-df.min())/(df.max()-df.min())\n",
    "df_norm"
   ]
  },
  {
   "cell_type": "markdown",
   "metadata": {
    "colab_type": "text",
    "id": "4lLM08ydh1Hr"
   },
   "source": [
    "## Análisis de la información "
   ]
  },
  {
   "cell_type": "code",
   "execution_count": 22,
   "metadata": {
    "colab": {
     "base_uri": "https://localhost:8080/",
     "height": 265
    },
    "colab_type": "code",
    "executionInfo": {
     "elapsed": 501,
     "status": "ok",
     "timestamp": 1593127527031,
     "user": {
      "displayName": "Raul Sanchez",
      "photoUrl": "",
      "userId": "04500034241875052309"
     },
     "user_tz": 300
    },
    "id": "NO7yM8nrdj8-",
    "outputId": "946a5667-181c-4114-8ef9-288e53f8ff30"
   },
   "outputs": [
    {
     "data": {
      "image/png": "[encoded data removed]",
      "text/plain": [
       "<Figure size 432x288 with 1 Axes>"
      ]
     },
     "metadata": {
      "needs_background": "light",
      "tags": []
     },
     "output_type": "display_data"
    }
   ],
   "source": [
    "plt.hist(df_norm['isFradulent_Y'])\n",
    "plt.show()"
   ]
  },
  {
   "cell_type": "code",
   "execution_count": 23,
   "metadata": {
    "colab": {
     "base_uri": "https://localhost:8080/",
     "height": 68
    },
    "colab_type": "code",
    "executionInfo": {
     "elapsed": 450,
     "status": "ok",
     "timestamp": 1593127528076,
     "user": {
      "displayName": "Raul Sanchez",
      "photoUrl": "",
      "userId": "04500034241875052309"
     },
     "user_tz": 300
    },
    "id": "3mr3tfvahiGJ",
    "outputId": "afea24f2-9155-4b86-e31c-cc728177fd50"
   },
   "outputs": [
    {
     "data": {
      "text/plain": [
       "0.0    2627\n",
       "1.0     448\n",
       "Name: isFradulent_Y, dtype: int64"
      ]
     },
     "execution_count": 23,
     "metadata": {
      "tags": []
     },
     "output_type": "execute_result"
    }
   ],
   "source": [
    "# 448 transacciones fraudulentas, 2627 transacciones legitimas\n",
    "# El conjunto de datos se encuntra desequilabrado\n",
    "df_norm[\"isFradulent_Y\"].value_counts()"
   ]
  },
  {
   "cell_type": "code",
   "execution_count": 24,
   "metadata": {
    "colab": {
     "base_uri": "https://localhost:8080/",
     "height": 351
    },
    "colab_type": "code",
    "executionInfo": {
     "elapsed": 498,
     "status": "ok",
     "timestamp": 1593127529099,
     "user": {
      "displayName": "Raul Sanchez",
      "photoUrl": "",
      "userId": "04500034241875052309"
     },
     "user_tz": 300
    },
    "id": "Ne1lbrkfm2Uk",
    "outputId": "1ceb0d25-959c-42af-a59c-b328e2165506"
   },
   "outputs": [
    {
     "data": {
      "text/html": [
       "<div>\n",
       "<style scoped>\n",
       "    .dataframe tbody tr th:only-of-type {\n",
       "        vertical-align: middle;\n",
       "    }\n",
       "\n",
       "    .dataframe tbody tr th {\n",
       "        vertical-align: top;\n",
       "    }\n",
       "\n",
       "    .dataframe thead th {\n",
       "        text-align: right;\n",
       "    }\n",
       "</style>\n",
       "<table border=\"1\" class=\"dataframe\">\n",
       "  <thead>\n",
       "    <tr style=\"text-align: right;\">\n",
       "      <th></th>\n",
       "      <th>Average Amount/transaction/day</th>\n",
       "      <th>Transaction_amount</th>\n",
       "      <th>Total Number of declines/day</th>\n",
       "      <th>Daily_chargeback_avg_amt</th>\n",
       "      <th>6_month_avg_chbk_amt</th>\n",
       "      <th>6-month_chbk_freq</th>\n",
       "      <th>Is declined_Y</th>\n",
       "      <th>isForeignTransaction_Y</th>\n",
       "      <th>isHighRiskCountry_Y</th>\n",
       "      <th>isFradulent_Y</th>\n",
       "    </tr>\n",
       "  </thead>\n",
       "  <tbody>\n",
       "    <tr>\n",
       "      <th>count</th>\n",
       "      <td>3075.000000</td>\n",
       "      <td>3075.000000</td>\n",
       "      <td>3075.00000</td>\n",
       "      <td>3075.000000</td>\n",
       "      <td>3075.000000</td>\n",
       "      <td>3075.000000</td>\n",
       "      <td>3075.000000</td>\n",
       "      <td>3075.000000</td>\n",
       "      <td>3075.000000</td>\n",
       "      <td>3075.000000</td>\n",
       "    </tr>\n",
       "    <tr>\n",
       "      <th>mean</th>\n",
       "      <td>0.256021</td>\n",
       "      <td>0.091448</td>\n",
       "      <td>0.04787</td>\n",
       "      <td>0.055849</td>\n",
       "      <td>0.040103</td>\n",
       "      <td>0.043541</td>\n",
       "      <td>0.018537</td>\n",
       "      <td>0.229593</td>\n",
       "      <td>0.066667</td>\n",
       "      <td>0.145691</td>\n",
       "    </tr>\n",
       "    <tr>\n",
       "      <th>std</th>\n",
       "      <td>0.146247</td>\n",
       "      <td>0.093846</td>\n",
       "      <td>0.10962</td>\n",
       "      <td>0.207049</td>\n",
       "      <td>0.156281</td>\n",
       "      <td>0.172053</td>\n",
       "      <td>0.134903</td>\n",
       "      <td>0.420640</td>\n",
       "      <td>0.249484</td>\n",
       "      <td>0.352854</td>\n",
       "    </tr>\n",
       "    <tr>\n",
       "      <th>min</th>\n",
       "      <td>0.000000</td>\n",
       "      <td>0.000000</td>\n",
       "      <td>0.00000</td>\n",
       "      <td>0.000000</td>\n",
       "      <td>0.000000</td>\n",
       "      <td>0.000000</td>\n",
       "      <td>0.000000</td>\n",
       "      <td>0.000000</td>\n",
       "      <td>0.000000</td>\n",
       "      <td>0.000000</td>\n",
       "    </tr>\n",
       "    <tr>\n",
       "      <th>25%</th>\n",
       "      <td>0.133155</td>\n",
       "      <td>0.022304</td>\n",
       "      <td>0.00000</td>\n",
       "      <td>0.000000</td>\n",
       "      <td>0.000000</td>\n",
       "      <td>0.000000</td>\n",
       "      <td>0.000000</td>\n",
       "      <td>0.000000</td>\n",
       "      <td>0.000000</td>\n",
       "      <td>0.000000</td>\n",
       "    </tr>\n",
       "    <tr>\n",
       "      <th>50%</th>\n",
       "      <td>0.249770</td>\n",
       "      <td>0.062027</td>\n",
       "      <td>0.00000</td>\n",
       "      <td>0.000000</td>\n",
       "      <td>0.000000</td>\n",
       "      <td>0.000000</td>\n",
       "      <td>0.000000</td>\n",
       "      <td>0.000000</td>\n",
       "      <td>0.000000</td>\n",
       "      <td>0.000000</td>\n",
       "    </tr>\n",
       "    <tr>\n",
       "      <th>75%</th>\n",
       "      <td>0.381396</td>\n",
       "      <td>0.133542</td>\n",
       "      <td>0.00000</td>\n",
       "      <td>0.000000</td>\n",
       "      <td>0.000000</td>\n",
       "      <td>0.000000</td>\n",
       "      <td>0.000000</td>\n",
       "      <td>0.000000</td>\n",
       "      <td>0.000000</td>\n",
       "      <td>0.000000</td>\n",
       "    </tr>\n",
       "    <tr>\n",
       "      <th>max</th>\n",
       "      <td>1.000000</td>\n",
       "      <td>1.000000</td>\n",
       "      <td>1.00000</td>\n",
       "      <td>1.000000</td>\n",
       "      <td>1.000000</td>\n",
       "      <td>1.000000</td>\n",
       "      <td>1.000000</td>\n",
       "      <td>1.000000</td>\n",
       "      <td>1.000000</td>\n",
       "      <td>1.000000</td>\n",
       "    </tr>\n",
       "  </tbody>\n",
       "</table>\n",
       "</div>"
      ],
      "text/plain": [
       "       Average Amount/transaction/day  ...  isFradulent_Y\n",
       "count                     3075.000000  ...    3075.000000\n",
       "mean                         0.256021  ...       0.145691\n",
       "std                          0.146247  ...       0.352854\n",
       "min                          0.000000  ...       0.000000\n",
       "25%                          0.133155  ...       0.000000\n",
       "50%                          0.249770  ...       0.000000\n",
       "75%                          0.381396  ...       0.000000\n",
       "max                          1.000000  ...       1.000000\n",
       "\n",
       "[8 rows x 10 columns]"
      ]
     },
     "execution_count": 24,
     "metadata": {
      "tags": []
     },
     "output_type": "execute_result"
    }
   ],
   "source": [
    "df_norm.describe()"
   ]
  },
  {
   "cell_type": "code",
   "execution_count": 25,
   "metadata": {
    "colab": {
     "base_uri": "https://localhost:8080/",
     "height": 1000
    },
    "colab_type": "code",
    "executionInfo": {
     "elapsed": 2634,
     "status": "ok",
     "timestamp": 1593127532448,
     "user": {
      "displayName": "Raul Sanchez",
      "photoUrl": "",
      "userId": "04500034241875052309"
     },
     "user_tz": 300
    },
    "id": "HQsWen9CnkoW",
    "outputId": "f67b79b4-3dc0-4783-db3e-14c662ca8618"
   },
   "outputs": [
    {
     "data": {
      "image/png": "[encoded data removed]",
      "text/plain": [
       "<Figure size 864x2304 with 9 Axes>"
      ]
     },
     "metadata": {
      "needs_background": "light",
      "tags": []
     },
     "output_type": "display_data"
    }
   ],
   "source": [
    "# Representamos gráficamente las características\n",
    "features = df_norm.drop(\"isFradulent_Y\", axis=1)\n",
    "\n",
    "plt.figure(figsize=(12,32))\n",
    "gs = gridspec.GridSpec(8, 2)\n",
    "gs.update(hspace=0.8)\n",
    "\n",
    "for i, f in enumerate(features):\n",
    "    ax = plt.subplot(gs[i])\n",
    "    sns.distplot(df[f][df[\"isFradulent_Y\"] == 1])\n",
    "    sns.distplot(df[f][df[\"isFradulent_Y\"] == 0])\n",
    "    ax.set_xlabel('')\n",
    "    ax.set_title('feature: ' + str(f))\n",
    "\n",
    "plt.show()"
   ]
  },
  {
   "cell_type": "code",
   "execution_count": 26,
   "metadata": {
    "colab": {
     "base_uri": "https://localhost:8080/",
     "height": 392
    },
    "colab_type": "code",
    "executionInfo": {
     "elapsed": 533,
     "status": "ok",
     "timestamp": 1593127533325,
     "user": {
      "displayName": "Raul Sanchez",
      "photoUrl": "",
      "userId": "04500034241875052309"
     },
     "user_tz": 300
    },
    "id": "v5fzscR3n3jN",
    "outputId": "e9a0afcb-a057-49ae-846b-de6ff21cd0e4"
   },
   "outputs": [
    {
     "data": {
      "image/png": "[encoded data removed]",
      "text/plain": [
       "<Figure size 864x432 with 1 Axes>"
      ]
     },
     "metadata": {
      "needs_background": "light",
      "tags": []
     },
     "output_type": "display_data"
    }
   ],
   "source": [
    "# Representación gráfica de dos características\n",
    "plt.figure(figsize=(12, 6))\n",
    "plt.scatter(df_norm[\"Transaction_amount\"][df_norm['isFradulent_Y'] == 0], df_norm[\"Average Amount/transaction/day\"][df_norm['isFradulent_Y'] == 0], c=\"g\", marker=\".\")\n",
    "plt.scatter(df_norm[\"Transaction_amount\"][df_norm['isFradulent_Y'] == 1], df_norm[\"Average Amount/transaction/day\"][df_norm['isFradulent_Y'] == 1], c=\"r\", marker=\".\")\n",
    "plt.xlabel(\"Transacciones Legitimas\", fontsize=14)\n",
    "plt.ylabel(\"Transacciones Fraudulentas\", fontsize=14)\n",
    "plt.show()"
   ]
  },
  {
   "cell_type": "markdown",
   "metadata": {
    "colab_type": "text",
    "id": "rcS56LW0mq9Z"
   },
   "source": [
    "### KMEANS\n",
    "<p align=\"justify\">\n",
    "Es uno de los algoritmos mas populares dentro del mundo del aprendizaje automático.  KMEANS utiliza como métrica para calcular la distancia entre los puntos la distancia euclídea, es un algoritmo sencillo que escala muy bien a grandes conjuntos de datos.\n",
    "</p>"
   ]
  },
  {
   "cell_type": "markdown",
   "metadata": {
    "colab_type": "text",
    "id": "-V2NM889m1zu"
   },
   "source": [
    "#### Limitaciones de algoritmos KMEANS.\n",
    "<ul>\n",
    "  <li> \n",
    "      <p align=\"justify\">\n",
    "Se debe intuir el número de clusters que genera el algoritmo, si son datos etiquetados, elegir el numero de clusters como un valor entre uno y tres el número de etiquetas existentes.\n",
    "       </p>\n",
    "  </li>\n",
    "  <li> \n",
    "      <p align=\"justify\">\n",
    "Hay que aplicar normalización al conjunto de datos.\n",
    "       </p>\n",
    "  </li>\n",
    "  <li> \n",
    "      <p align=\"justify\">\n",
    "No se debe utilizar KMEANS con datos categóricos a los que se aplican ONE-HOT ENCODING. Por el contrario, deben de tratar de codificarse estas características como múltiples.\n",
    "       </p>\n",
    "  </li>\n",
    "  <li> \n",
    "      <p align=\"justify\">\n",
    "Pierde eficiencia con un conjunto de datos con muchas dimensiones. Una practica frecuente es reducir su dimensionalidad. \n",
    "       </p>\n",
    "  </li>\n",
    "  <li> \n",
    "      <p align=\"justify\">\n",
    "Funciona mejor si sus centroides iniciales se eligen aleatoriamente.\n",
    "       </p>\n",
    "  </li>\n",
    "  <li> \n",
    "      <p align=\"justify\">\n",
    "Asume que los clustering son esféricos. No funcionan correctamente en distribuciones de datos no esféricas.\n",
    "       </p>\n",
    "  </li>\n",
    "</ul>"
   ]
  },
  {
   "cell_type": "markdown",
   "metadata": {
    "colab_type": "text",
    "id": "mmPbxa1J5eQ9"
   },
   "source": [
    "## Kmeans con un conjunto de datos de dos dimensiones"
   ]
  },
  {
   "cell_type": "markdown",
   "metadata": {
    "colab_type": "text",
    "id": "kql2PwiX5wt7"
   },
   "source": [
    "<p align=\"justify\">\n",
    "Antes de comenzar con el entrenamiento de KMEANS para todos los atributos del conjunto de datos, se realiza una prueba para dos atributos con el objetivo de comprender como construye el límite de decisión.\n",
    "</p>"
   ]
  },
  {
   "cell_type": "code",
   "execution_count": 27,
   "metadata": {
    "colab": {
     "base_uri": "https://localhost:8080/",
     "height": 419
    },
    "colab_type": "code",
    "executionInfo": {
     "elapsed": 486,
     "status": "ok",
     "timestamp": 1593127536780,
     "user": {
      "displayName": "Raul Sanchez",
      "photoUrl": "",
      "userId": "04500034241875052309"
     },
     "user_tz": 300
    },
    "id": "qXU8ohS6ePHf",
    "outputId": "f49fa567-d4b1-4897-e259-ee364b83846e"
   },
   "outputs": [
    {
     "data": {
      "text/html": [
       "<div>\n",
       "<style scoped>\n",
       "    .dataframe tbody tr th:only-of-type {\n",
       "        vertical-align: middle;\n",
       "    }\n",
       "\n",
       "    .dataframe tbody tr th {\n",
       "        vertical-align: top;\n",
       "    }\n",
       "\n",
       "    .dataframe thead th {\n",
       "        text-align: right;\n",
       "    }\n",
       "</style>\n",
       "<table border=\"1\" class=\"dataframe\">\n",
       "  <thead>\n",
       "    <tr style=\"text-align: right;\">\n",
       "      <th></th>\n",
       "      <th>Transaction_amount</th>\n",
       "      <th>Average Amount/transaction/day</th>\n",
       "    </tr>\n",
       "  </thead>\n",
       "  <tbody>\n",
       "    <tr>\n",
       "      <th>0</th>\n",
       "      <td>0.027778</td>\n",
       "      <td>0.048091</td>\n",
       "    </tr>\n",
       "    <tr>\n",
       "      <th>1</th>\n",
       "      <td>0.039815</td>\n",
       "      <td>0.048091</td>\n",
       "    </tr>\n",
       "    <tr>\n",
       "      <th>2</th>\n",
       "      <td>0.044657</td>\n",
       "      <td>0.090927</td>\n",
       "    </tr>\n",
       "    <tr>\n",
       "      <th>3</th>\n",
       "      <td>0.046375</td>\n",
       "      <td>0.090927</td>\n",
       "    </tr>\n",
       "    <tr>\n",
       "      <th>4</th>\n",
       "      <td>0.240741</td>\n",
       "      <td>0.248493</td>\n",
       "    </tr>\n",
       "    <tr>\n",
       "      <th>...</th>\n",
       "      <td>...</td>\n",
       "      <td>...</td>\n",
       "    </tr>\n",
       "    <tr>\n",
       "      <th>3070</th>\n",
       "      <td>0.101852</td>\n",
       "      <td>0.248493</td>\n",
       "    </tr>\n",
       "    <tr>\n",
       "      <th>3071</th>\n",
       "      <td>0.000000</td>\n",
       "      <td>0.398794</td>\n",
       "    </tr>\n",
       "    <tr>\n",
       "      <th>3072</th>\n",
       "      <td>0.192593</td>\n",
       "      <td>0.398794</td>\n",
       "    </tr>\n",
       "    <tr>\n",
       "      <th>3073</th>\n",
       "      <td>0.111111</td>\n",
       "      <td>0.749498</td>\n",
       "    </tr>\n",
       "    <tr>\n",
       "      <th>3074</th>\n",
       "      <td>0.333333</td>\n",
       "      <td>0.749498</td>\n",
       "    </tr>\n",
       "  </tbody>\n",
       "</table>\n",
       "<p>3075 rows × 2 columns</p>\n",
       "</div>"
      ],
      "text/plain": [
       "      Transaction_amount  Average Amount/transaction/day\n",
       "0               0.027778                        0.048091\n",
       "1               0.039815                        0.048091\n",
       "2               0.044657                        0.090927\n",
       "3               0.046375                        0.090927\n",
       "4               0.240741                        0.248493\n",
       "...                  ...                             ...\n",
       "3070            0.101852                        0.248493\n",
       "3071            0.000000                        0.398794\n",
       "3072            0.192593                        0.398794\n",
       "3073            0.111111                        0.749498\n",
       "3074            0.333333                        0.749498\n",
       "\n",
       "[3075 rows x 2 columns]"
      ]
     },
     "execution_count": 27,
     "metadata": {
      "tags": []
     },
     "output_type": "execute_result"
    }
   ],
   "source": [
    "X = df_norm[[\"Transaction_amount\", \"Average Amount/transaction/day\"]].copy()\n",
    "X"
   ]
  },
  {
   "cell_type": "code",
   "execution_count": 28,
   "metadata": {
    "colab": {},
    "colab_type": "code",
    "executionInfo": {
     "elapsed": 446,
     "status": "ok",
     "timestamp": 1593127537904,
     "user": {
      "displayName": "Raul Sanchez",
      "photoUrl": "",
      "userId": "04500034241875052309"
     },
     "user_tz": 300
    },
    "id": "O3E3YAMN6IEl"
   },
   "outputs": [],
   "source": [
    "# Generamos los clusters para nuestro conjunto de datos sin etiquetar\n",
    "from sklearn.cluster import KMeans\n",
    "\n",
    "kmeans = KMeans(n_clusters=2, random_state=42)\n",
    "clusters = kmeans.fit_predict(X)"
   ]
  },
  {
   "cell_type": "code",
   "execution_count": 29,
   "metadata": {
    "colab": {
     "base_uri": "https://localhost:8080/",
     "height": 392
    },
    "colab_type": "code",
    "executionInfo": {
     "elapsed": 1131,
     "status": "ok",
     "timestamp": 1593127539544,
     "user": {
      "displayName": "Raul Sanchez",
      "photoUrl": "",
      "userId": "04500034241875052309"
     },
     "user_tz": 300
    },
    "id": "dJhnEd5K6PiI",
    "outputId": "c030c12a-66cd-478c-d99e-8ab15afb5b9d"
   },
   "outputs": [
    {
     "data": {
      "image/png": "[encoded data removed]",
      "text/plain": [
       "<Figure size 864x432 with 1 Axes>"
      ]
     },
     "metadata": {
      "needs_background": "light",
      "tags": []
     },
     "output_type": "display_data"
    }
   ],
   "source": [
    "plt.figure(figsize=(12, 6))\n",
    "plot_decision_boundaries(kmeans, X.values, df_norm[\"isFradulent_Y\"].values)\n",
    "plt.xlabel(\"Transaction_amount\", fontsize=14)\n",
    "plt.ylabel(\"Average Amount/transaction/day\", fontsize=14)\n",
    "plt.show()"
   ]
  },
  {
   "cell_type": "code",
   "execution_count": 30,
   "metadata": {
    "colab": {},
    "colab_type": "code",
    "executionInfo": {
     "elapsed": 391,
     "status": "ok",
     "timestamp": 1593127540378,
     "user": {
      "displayName": "Raul Sanchez",
      "photoUrl": "",
      "userId": "04500034241875052309"
     },
     "user_tz": 300
    },
    "id": "vLNAARvT_B17"
   },
   "outputs": [],
   "source": [
    "from collections import Counter"
   ]
  },
  {
   "cell_type": "code",
   "execution_count": 31,
   "metadata": {
    "colab": {
     "base_uri": "https://localhost:8080/",
     "height": 51
    },
    "colab_type": "code",
    "executionInfo": {
     "elapsed": 449,
     "status": "ok",
     "timestamp": 1593127541414,
     "user": {
      "displayName": "Raul Sanchez",
      "photoUrl": "",
      "userId": "04500034241875052309"
     },
     "user_tz": 300
    },
    "id": "UvifM7Dp6nqk",
    "outputId": "5954a293-bee3-4346-9d31-24a04682e672"
   },
   "outputs": [
    {
     "name": "stdout",
     "output_type": "stream",
     "text": [
      "Cluster 0 tiene 1593 ejemplos - 189 son maliciosos\n",
      "Cluster 1 tiene 1482 ejemplos - 259 son maliciosos\n"
     ]
    }
   ],
   "source": [
    "counter = Counter(clusters.tolist())\n",
    "bad_counter = Counter(clusters[df_norm['isFradulent_Y'] == 1].tolist())\n",
    "\n",
    "for key in sorted(counter.keys()):\n",
    "    print(\"Cluster {0} tiene {1} ejemplos - {2} son maliciosos\".format(\n",
    "        key, counter[key], bad_counter[key]))"
   ]
  },
  {
   "cell_type": "markdown",
   "metadata": {
    "colab_type": "text",
    "id": "LFfdgfZ3BK1f"
   },
   "source": [
    "## Kmeans con un conjunto de datos multidimensional"
   ]
  },
  {
   "cell_type": "markdown",
   "metadata": {
    "colab_type": "text",
    "id": "HqF2ez8MBM22"
   },
   "source": [
    "<p align=\"justify\">\n",
    "Al tratarse de un algoritmo basado en aprendizaje no supervisado, no se requieren las etiquetas para entrenar o predir. Hay que tener en cuenta que en este tipo de problemas se presupone que no se dispone de las etiquetas.\n",
    "</p>"
   ]
  },
  {
   "cell_type": "code",
   "execution_count": 32,
   "metadata": {
    "colab": {},
    "colab_type": "code",
    "executionInfo": {
     "elapsed": 476,
     "status": "ok",
     "timestamp": 1593127544519,
     "user": {
      "displayName": "Raul Sanchez",
      "photoUrl": "",
      "userId": "04500034241875052309"
     },
     "user_tz": 300
    },
    "id": "cA0LzSUh_Kxe"
   },
   "outputs": [],
   "source": [
    "X = df_norm.drop(\"isFradulent_Y\", axis=1)\n",
    "y = df_norm[\"isFradulent_Y\"].copy()"
   ]
  },
  {
   "cell_type": "code",
   "execution_count": 33,
   "metadata": {
    "colab": {},
    "colab_type": "code",
    "executionInfo": {
     "elapsed": 499,
     "status": "ok",
     "timestamp": 1593127545738,
     "user": {
      "displayName": "Raul Sanchez",
      "photoUrl": "",
      "userId": "04500034241875052309"
     },
     "user_tz": 300
    },
    "id": "RRMecxf0BmRE"
   },
   "outputs": [],
   "source": [
    "from sklearn.cluster import KMeans\n",
    "\n",
    "kmeans = KMeans(n_clusters=2, random_state=42)\n",
    "clusters = kmeans.fit_predict(X)"
   ]
  },
  {
   "cell_type": "code",
   "execution_count": 34,
   "metadata": {
    "colab": {
     "base_uri": "https://localhost:8080/",
     "height": 51
    },
    "colab_type": "code",
    "executionInfo": {
     "elapsed": 507,
     "status": "ok",
     "timestamp": 1593127546993,
     "user": {
      "displayName": "Raul Sanchez",
      "photoUrl": "",
      "userId": "04500034241875052309"
     },
     "user_tz": 300
    },
    "id": "ygT3VlzpBz-O",
    "outputId": "308d1828-1692-423b-807c-69669c22fb10"
   },
   "outputs": [
    {
     "name": "stdout",
     "output_type": "stream",
     "text": [
      "Cluster 0 tiene 2369 ejemplos - 127 son maliciosos\n",
      "Cluster 1 tiene 706 ejemplos - 321 son maliciosos\n"
     ]
    }
   ],
   "source": [
    "# Evaluamos los clusters y el contenido que se han formado\n",
    "counter = Counter(clusters.tolist())\n",
    "bad_counter = Counter(clusters[y == 1].tolist())\n",
    "\n",
    "for key in sorted(counter.keys()):\n",
    "    print(\"Cluster {0} tiene {1} ejemplos - {2} son maliciosos\".format(\n",
    "        key, counter[key], bad_counter[key]))"
   ]
  },
  {
   "cell_type": "markdown",
   "metadata": {
    "colab_type": "text",
    "id": "uyi-m-bPC6n3"
   },
   "source": [
    "## Reducción del número de características"
   ]
  },
  {
   "cell_type": "markdown",
   "metadata": {
    "colab_type": "text",
    "id": "cRVvWvhVC-hM"
   },
   "source": [
    "En muchas ocasiones Kmeans funciona mejor con un número de características bajo."
   ]
  },
  {
   "cell_type": "markdown",
   "metadata": {
    "colab_type": "text",
    "id": "o9_YkzWrDDiO"
   },
   "source": [
    "## Aplicamos selección de características con Random Forest"
   ]
  },
  {
   "cell_type": "code",
   "execution_count": 35,
   "metadata": {
    "colab": {
     "base_uri": "https://localhost:8080/",
     "height": 153
    },
    "colab_type": "code",
    "executionInfo": {
     "elapsed": 805,
     "status": "ok",
     "timestamp": 1593127551072,
     "user": {
      "displayName": "Raul Sanchez",
      "photoUrl": "",
      "userId": "04500034241875052309"
     },
     "user_tz": 300
    },
    "id": "ivc3HO3uCQgg",
    "outputId": "5fcb12cc-9994-4c08-8e27-5c9a20e9248b"
   },
   "outputs": [
    {
     "data": {
      "text/plain": [
       "RandomForestClassifier(bootstrap=True, ccp_alpha=0.0, class_weight=None,\n",
       "                       criterion='gini', max_depth=None, max_features='auto',\n",
       "                       max_leaf_nodes=None, max_samples=None,\n",
       "                       min_impurity_decrease=0.0, min_impurity_split=None,\n",
       "                       min_samples_leaf=1, min_samples_split=2,\n",
       "                       min_weight_fraction_leaf=0.0, n_estimators=50, n_jobs=-1,\n",
       "                       oob_score=False, random_state=42, verbose=0,\n",
       "                       warm_start=False)"
      ]
     },
     "execution_count": 35,
     "metadata": {
      "tags": []
     },
     "output_type": "execute_result"
    }
   ],
   "source": [
    "# Utilizamos Random Forest para realizar selección de características\n",
    "from sklearn.ensemble import RandomForestClassifier\n",
    "\n",
    "clf_rnd = RandomForestClassifier(n_estimators=50, random_state=42, n_jobs=-1)\n",
    "clf_rnd.fit(X, y)"
   ]
  },
  {
   "cell_type": "code",
   "execution_count": 36,
   "metadata": {
    "colab": {},
    "colab_type": "code",
    "executionInfo": {
     "elapsed": 501,
     "status": "ok",
     "timestamp": 1593127552224,
     "user": {
      "displayName": "Raul Sanchez",
      "photoUrl": "",
      "userId": "04500034241875052309"
     },
     "user_tz": 300
    },
    "id": "NlHOYO62DPl6"
   },
   "outputs": [],
   "source": [
    "# Seleccionamos las características más importantes\n",
    "feature_importances = {name: score for name, score in zip(list(df), clf_rnd.feature_importances_)}\n",
    "feature_importances_sorted = pd.Series(feature_importances).sort_values(ascending=False)"
   ]
  },
  {
   "cell_type": "code",
   "execution_count": 37,
   "metadata": {
    "colab": {},
    "colab_type": "code",
    "executionInfo": {
     "elapsed": 627,
     "status": "ok",
     "timestamp": 1593127553396,
     "user": {
      "displayName": "Raul Sanchez",
      "photoUrl": "",
      "userId": "04500034241875052309"
     },
     "user_tz": 300
    },
    "id": "sjlMpuxcDVtr"
   },
   "outputs": [],
   "source": [
    "# Reducimos el conjunto de datos a las 4 características más importantes\n",
    "X_reduced = X[list(feature_importances_sorted.head(4).index)].copy()"
   ]
  },
  {
   "cell_type": "code",
   "execution_count": 38,
   "metadata": {
    "colab": {
     "base_uri": "https://localhost:8080/",
     "height": 419
    },
    "colab_type": "code",
    "executionInfo": {
     "elapsed": 486,
     "status": "ok",
     "timestamp": 1593127555111,
     "user": {
      "displayName": "Raul Sanchez",
      "photoUrl": "",
      "userId": "04500034241875052309"
     },
     "user_tz": 300
    },
    "id": "caRHStx-Dm-O",
    "outputId": "bdeca779-ad76-43c3-afe6-13edb8ad1f4b"
   },
   "outputs": [
    {
     "data": {
      "text/html": [
       "<div>\n",
       "<style scoped>\n",
       "    .dataframe tbody tr th:only-of-type {\n",
       "        vertical-align: middle;\n",
       "    }\n",
       "\n",
       "    .dataframe tbody tr th {\n",
       "        vertical-align: top;\n",
       "    }\n",
       "\n",
       "    .dataframe thead th {\n",
       "        text-align: right;\n",
       "    }\n",
       "</style>\n",
       "<table border=\"1\" class=\"dataframe\">\n",
       "  <thead>\n",
       "    <tr style=\"text-align: right;\">\n",
       "      <th></th>\n",
       "      <th>isHighRiskCountry_Y</th>\n",
       "      <th>Transaction_amount</th>\n",
       "      <th>Total Number of declines/day</th>\n",
       "      <th>6-month_chbk_freq</th>\n",
       "    </tr>\n",
       "  </thead>\n",
       "  <tbody>\n",
       "    <tr>\n",
       "      <th>0</th>\n",
       "      <td>1.0</td>\n",
       "      <td>0.027778</td>\n",
       "      <td>0.25</td>\n",
       "      <td>0.000000</td>\n",
       "    </tr>\n",
       "    <tr>\n",
       "      <th>1</th>\n",
       "      <td>1.0</td>\n",
       "      <td>0.039815</td>\n",
       "      <td>0.25</td>\n",
       "      <td>0.000000</td>\n",
       "    </tr>\n",
       "    <tr>\n",
       "      <th>2</th>\n",
       "      <td>0.0</td>\n",
       "      <td>0.044657</td>\n",
       "      <td>0.25</td>\n",
       "      <td>0.000000</td>\n",
       "    </tr>\n",
       "    <tr>\n",
       "      <th>3</th>\n",
       "      <td>0.0</td>\n",
       "      <td>0.046375</td>\n",
       "      <td>0.40</td>\n",
       "      <td>0.000000</td>\n",
       "    </tr>\n",
       "    <tr>\n",
       "      <th>4</th>\n",
       "      <td>1.0</td>\n",
       "      <td>0.240741</td>\n",
       "      <td>0.00</td>\n",
       "      <td>0.666667</td>\n",
       "    </tr>\n",
       "    <tr>\n",
       "      <th>...</th>\n",
       "      <td>...</td>\n",
       "      <td>...</td>\n",
       "      <td>...</td>\n",
       "      <td>...</td>\n",
       "    </tr>\n",
       "    <tr>\n",
       "      <th>3070</th>\n",
       "      <td>0.0</td>\n",
       "      <td>0.101852</td>\n",
       "      <td>0.00</td>\n",
       "      <td>0.777778</td>\n",
       "    </tr>\n",
       "    <tr>\n",
       "      <th>3071</th>\n",
       "      <td>0.0</td>\n",
       "      <td>0.000000</td>\n",
       "      <td>0.00</td>\n",
       "      <td>0.777778</td>\n",
       "    </tr>\n",
       "    <tr>\n",
       "      <th>3072</th>\n",
       "      <td>0.0</td>\n",
       "      <td>0.192593</td>\n",
       "      <td>0.00</td>\n",
       "      <td>0.777778</td>\n",
       "    </tr>\n",
       "    <tr>\n",
       "      <th>3073</th>\n",
       "      <td>1.0</td>\n",
       "      <td>0.111111</td>\n",
       "      <td>0.00</td>\n",
       "      <td>0.777778</td>\n",
       "    </tr>\n",
       "    <tr>\n",
       "      <th>3074</th>\n",
       "      <td>1.0</td>\n",
       "      <td>0.333333</td>\n",
       "      <td>0.00</td>\n",
       "      <td>0.777778</td>\n",
       "    </tr>\n",
       "  </tbody>\n",
       "</table>\n",
       "<p>3075 rows × 4 columns</p>\n",
       "</div>"
      ],
      "text/plain": [
       "      isHighRiskCountry_Y  ...  6-month_chbk_freq\n",
       "0                     1.0  ...           0.000000\n",
       "1                     1.0  ...           0.000000\n",
       "2                     0.0  ...           0.000000\n",
       "3                     0.0  ...           0.000000\n",
       "4                     1.0  ...           0.666667\n",
       "...                   ...  ...                ...\n",
       "3070                  0.0  ...           0.777778\n",
       "3071                  0.0  ...           0.777778\n",
       "3072                  0.0  ...           0.777778\n",
       "3073                  1.0  ...           0.777778\n",
       "3074                  1.0  ...           0.777778\n",
       "\n",
       "[3075 rows x 4 columns]"
      ]
     },
     "execution_count": 38,
     "metadata": {
      "tags": []
     },
     "output_type": "execute_result"
    }
   ],
   "source": [
    "X_reduced"
   ]
  },
  {
   "cell_type": "markdown",
   "metadata": {
    "colab_type": "text",
    "id": "_r1ebaLNEZqU"
   },
   "source": [
    "## Entrenamiento de KMEANS con el conjunto de datos reducido"
   ]
  },
  {
   "cell_type": "code",
   "execution_count": 39,
   "metadata": {
    "colab": {},
    "colab_type": "code",
    "executionInfo": {
     "elapsed": 449,
     "status": "ok",
     "timestamp": 1593127556763,
     "user": {
      "displayName": "Raul Sanchez",
      "photoUrl": "",
      "userId": "04500034241875052309"
     },
     "user_tz": 300
    },
    "id": "u4MkTm8aDoaX"
   },
   "outputs": [],
   "source": [
    "from sklearn.cluster import KMeans\n",
    "\n",
    "kmeans = KMeans(n_clusters=2, random_state=42)\n",
    "clusters = kmeans.fit_predict(X_reduced)"
   ]
  },
  {
   "cell_type": "code",
   "execution_count": 40,
   "metadata": {
    "colab": {
     "base_uri": "https://localhost:8080/",
     "height": 51
    },
    "colab_type": "code",
    "executionInfo": {
     "elapsed": 483,
     "status": "ok",
     "timestamp": 1593127557766,
     "user": {
      "displayName": "Raul Sanchez",
      "photoUrl": "",
      "userId": "04500034241875052309"
     },
     "user_tz": 300
    },
    "id": "bcm9Y1LFEgmt",
    "outputId": "2c9e29c2-ff12-41cf-d2f7-ac66a69bd7ce"
   },
   "outputs": [
    {
     "name": "stdout",
     "output_type": "stream",
     "text": [
      "Cluster 0 tiene 205 ejemplos - 203 son maliciosos\n",
      "Cluster 1 tiene 2870 ejemplos - 245 son maliciosos\n"
     ]
    }
   ],
   "source": [
    "# Evaluamos los clusters y el contenido que se han formado\n",
    "counter = Counter(clusters.tolist())\n",
    "bad_counter = Counter(clusters[y == 1].tolist())\n",
    "\n",
    "for key in sorted(counter.keys()):\n",
    "    print(\"Cluster {0} tiene {1} ejemplos - {2} son maliciosos\".format(\n",
    "        key, counter[key], bad_counter[key]))"
   ]
  },
  {
   "cell_type": "markdown",
   "metadata": {
    "colab_type": "text",
    "id": "lAjv2Db1IrtP"
   },
   "source": [
    "# Evaluación de los resultados"
   ]
  },
  {
   "cell_type": "markdown",
   "metadata": {
    "colab_type": "text",
    "id": "sGNAxIk9IwUl"
   },
   "source": [
    "<p align=\"justify\">\n",
    "Hay que tener cuidado con los conjuntos de datos desequilibrados cuando se utilizan métricas para medir la pureza de los clusters. Una posible solución es utilizar técnicas de equilibrado del conjunto de datos, como la generación de más ejemplos de transacciones fraudulentas o la disminución de ejemplos de transacciones legítimas.\n",
    "</p>"
   ]
  },
  {
   "cell_type": "code",
   "execution_count": 41,
   "metadata": {
    "colab": {
     "base_uri": "https://localhost:8080/",
     "height": 34
    },
    "colab_type": "code",
    "executionInfo": {
     "elapsed": 430,
     "status": "ok",
     "timestamp": 1593127560330,
     "user": {
      "displayName": "Raul Sanchez",
      "photoUrl": "",
      "userId": "04500034241875052309"
     },
     "user_tz": 300
    },
    "id": "mnrzaPDbEmyq",
    "outputId": "a9c3a3c2-8b46-4207-dc2e-7a7676a6c360"
   },
   "outputs": [
    {
     "name": "stdout",
     "output_type": "stream",
     "text": [
      "Purity Score: 0.9196747967479675\n"
     ]
    }
   ],
   "source": [
    "# Calculamos el purity score, es importante darse cuenta de que recibe las etiquetas\n",
    "print(\"Purity Score:\", purity_score(y, clusters))"
   ]
  },
  {
   "cell_type": "code",
   "execution_count": 42,
   "metadata": {
    "colab": {
     "base_uri": "https://localhost:8080/",
     "height": 34
    },
    "colab_type": "code",
    "executionInfo": {
     "elapsed": 472,
     "status": "ok",
     "timestamp": 1593127561329,
     "user": {
      "displayName": "Raul Sanchez",
      "photoUrl": "",
      "userId": "04500034241875052309"
     },
     "user_tz": 300
    },
    "id": "ysNTX8WgI3sg",
    "outputId": "dd32f9ed-7f72-4508-d745-b33f4e2c9585"
   },
   "outputs": [
    {
     "name": "stdout",
     "output_type": "stream",
     "text": [
      "Shiloutte:  0.8177993646362611\n"
     ]
    }
   ],
   "source": [
    "# Calculamos el coeficiente de Shiloutte, es importante darse cuenta de que no le pasamos las etiquetas\n",
    "print(\"Shiloutte: \", metrics.silhouette_score(X_reduced, clusters, sample_size=3075))"
   ]
  },
  {
   "cell_type": "code",
   "execution_count": 43,
   "metadata": {
    "colab": {
     "base_uri": "https://localhost:8080/",
     "height": 34
    },
    "colab_type": "code",
    "executionInfo": {
     "elapsed": 311,
     "status": "ok",
     "timestamp": 1593127562039,
     "user": {
      "displayName": "Raul Sanchez",
      "photoUrl": "",
      "userId": "04500034241875052309"
     },
     "user_tz": 300
    },
    "id": "72clOqjVJMGR",
    "outputId": "81037c38-90c4-426d-ce24-dbe1026e3586"
   },
   "outputs": [
    {
     "name": "stdout",
     "output_type": "stream",
     "text": [
      "Calinski harabasz:  4113.2026082175325\n"
     ]
    }
   ],
   "source": [
    "# Calculamos el Calinski harabasz score, es importante darse cuenta de que no le pasamos las etiquetas\n",
    "print(\"Calinski harabasz: \", metrics.calinski_harabasz_score(X_reduced, clusters))"
   ]
  },
  {
   "cell_type": "markdown",
   "metadata": {
    "colab_type": "text",
    "id": "hI-BtZ49nBig"
   },
   "source": [
    "### DBSCAN.\n",
    "<p align=\"justify\">\n",
    "Es un algoritmo de clustering basado en densidad no en distancia, infiere automáticamente el numero de clusters a partir del conjunto dado y funciona correctamente en distribuciones no esféricas. DBSCAN define un radio alrededor del conjunto de datos a partir del cual buscar ejemplos vecinos, a esto lo denomina EPSILON, siendo este el primer parámetro que recibe el algoritmo. Y un segundo parámetro llamado MINPOINTS que definen el numero de vecinos necesarios para formar un clúster. \n",
    "</p>"
   ]
  },
  {
   "cell_type": "markdown",
   "metadata": {
    "colab_type": "text",
    "id": "9mWia8kDnJcn"
   },
   "source": [
    "#### Limitaciones de algoritmos DBSCAN.\n",
    "<ul>\n",
    "  <li> \n",
    "      <p align=\"justify\">\n",
    "No funciona correctamente cuando los clusters del conjunto de datos tienen diferentes densidades.\n",
    "       </p>\n",
    "  </li>\n",
    "  <li> \n",
    "      <p align=\"justify\">\n",
    "La selección de parámetros EPSILON y MINPOINTS es muy importante para el correcto funcionamiento del algoritmo.\n",
    "       </p>\n",
    "  </li>\n",
    "  <li> \n",
    "      <p align=\"justify\">\n",
    "No se comporta adecuadamente para consunto de datos de muchas dimensiones.\n",
    "       </p>\n",
    "  </li>\n",
    "</ul>"
   ]
  },
  {
   "cell_type": "markdown",
   "metadata": {
    "colab_type": "text",
    "id": "QQ8z4aCSIWIK"
   },
   "source": [
    "## DBSCAN con un conjunto de datos de dos dimensiones"
   ]
  },
  {
   "cell_type": "code",
   "execution_count": 44,
   "metadata": {
    "colab": {},
    "colab_type": "code",
    "executionInfo": {
     "elapsed": 486,
     "status": "ok",
     "timestamp": 1593127564860,
     "user": {
      "displayName": "Raul Sanchez",
      "photoUrl": "",
      "userId": "04500034241875052309"
     },
     "user_tz": 300
    },
    "id": "BbjOn6cEJRNH"
   },
   "outputs": [],
   "source": [
    "X = df_norm[[\"Transaction_amount\", \"Average Amount/transaction/day\"]].copy()\n",
    "y = df_norm[\"isFradulent_Y\"].copy()"
   ]
  },
  {
   "cell_type": "code",
   "execution_count": 45,
   "metadata": {
    "colab": {
     "base_uri": "https://localhost:8080/",
     "height": 51
    },
    "colab_type": "code",
    "executionInfo": {
     "elapsed": 510,
     "status": "ok",
     "timestamp": 1593127565879,
     "user": {
      "displayName": "Raul Sanchez",
      "photoUrl": "",
      "userId": "04500034241875052309"
     },
     "user_tz": 300
    },
    "id": "vzTKzuGzJPWS",
    "outputId": "e6978737-46f0-461d-f423-2bcc9bc649c3"
   },
   "outputs": [
    {
     "data": {
      "text/plain": [
       "DBSCAN(algorithm='auto', eps=0.15, leaf_size=30, metric='euclidean',\n",
       "       metric_params=None, min_samples=13, n_jobs=None, p=None)"
      ]
     },
     "execution_count": 45,
     "metadata": {
      "tags": []
     },
     "output_type": "execute_result"
    }
   ],
   "source": [
    "from sklearn.cluster import DBSCAN\n",
    "\n",
    "dbscan = DBSCAN(eps=0.15, min_samples=13)\n",
    "dbscan.fit(X)"
   ]
  },
  {
   "cell_type": "code",
   "execution_count": 46,
   "metadata": {
    "colab": {},
    "colab_type": "code",
    "executionInfo": {
     "elapsed": 504,
     "status": "ok",
     "timestamp": 1593127566876,
     "user": {
      "displayName": "Raul Sanchez",
      "photoUrl": "",
      "userId": "04500034241875052309"
     },
     "user_tz": 300
    },
    "id": "mrnH4u-1JSVm"
   },
   "outputs": [],
   "source": [
    "def plot_dbscan(dbscan, X, size):\n",
    "    core_mask = np.zeros_like(dbscan.labels_, dtype=bool)\n",
    "    core_mask[dbscan.core_sample_indices_] = True\n",
    "    anomalies_mask = dbscan.labels_ == -1\n",
    "    non_core_mask = ~(core_mask | anomalies_mask)\n",
    "\n",
    "    cores = dbscan.components_\n",
    "    anomalies = X[anomalies_mask]\n",
    "    non_cores = X[non_core_mask]\n",
    "    \n",
    "    plt.scatter(cores[:, 0], cores[:, 1],\n",
    "                c=dbscan.labels_[core_mask], marker='o', s=size, cmap=\"Paired\")\n",
    "    plt.scatter(cores[:, 0], cores[:, 1], marker='*', s=20, c=dbscan.labels_[core_mask])\n",
    "    plt.scatter(anomalies[:, 0], anomalies[:, 1],\n",
    "                c=\"r\", marker=\".\", s=100)\n",
    "    plt.scatter(non_cores[:, 0], non_cores[:, 1], c=dbscan.labels_[non_core_mask], marker=\".\")\n",
    "    plt.title(\"eps={:.2f}, min_samples={}\".format(dbscan.eps, dbscan.min_samples), fontsize=14)"
   ]
  },
  {
   "cell_type": "code",
   "execution_count": 47,
   "metadata": {
    "colab": {
     "base_uri": "https://localhost:8080/",
     "height": 409
    },
    "colab_type": "code",
    "executionInfo": {
     "elapsed": 744,
     "status": "ok",
     "timestamp": 1593127568316,
     "user": {
      "displayName": "Raul Sanchez",
      "photoUrl": "",
      "userId": "04500034241875052309"
     },
     "user_tz": 300
    },
    "id": "f7OS7LD9JVV1",
    "outputId": "3fd59925-7a94-4899-a822-febf99a56f0f"
   },
   "outputs": [
    {
     "data": {
      "image/png": "[encoded data removed]",
      "text/plain": [
       "<Figure size 864x432 with 1 Axes>"
      ]
     },
     "metadata": {
      "needs_background": "light",
      "tags": []
     },
     "output_type": "display_data"
    }
   ],
   "source": [
    "plt.figure(figsize=(12, 6))\n",
    "plot_dbscan(dbscan, X.values, size=100)\n",
    "plt.xlabel(\"Transaction_amount\", fontsize=14)\n",
    "plt.ylabel(\"Average Amount/transaction/day\", fontsize=14)\n",
    "plt.show()"
   ]
  },
  {
   "cell_type": "code",
   "execution_count": 48,
   "metadata": {
    "colab": {
     "base_uri": "https://localhost:8080/",
     "height": 51
    },
    "colab_type": "code",
    "executionInfo": {
     "elapsed": 438,
     "status": "ok",
     "timestamp": 1593127569742,
     "user": {
      "displayName": "Raul Sanchez",
      "photoUrl": "",
      "userId": "04500034241875052309"
     },
     "user_tz": 300
    },
    "id": "kbYBUzz2JX5_",
    "outputId": "10de7123-e97b-4276-dc28-2c0fff48587a"
   },
   "outputs": [
    {
     "name": "stdout",
     "output_type": "stream",
     "text": [
      "Cluster -1 tiene 6 ejemplos - 4 son maliciosos\n",
      "Cluster 0 tiene 3069 ejemplos - 444 son maliciosos\n"
     ]
    }
   ],
   "source": [
    "counter = Counter(dbscan.labels_.tolist())\n",
    "bad_counter = Counter(dbscan.labels_[y == 1].tolist())\n",
    "\n",
    "for key in sorted(counter.keys()):\n",
    "    print(\"Cluster {0} tiene {1} ejemplos - {2} son maliciosos\".format(\n",
    "        key, counter[key], bad_counter[key]))"
   ]
  },
  {
   "cell_type": "markdown",
   "metadata": {
    "colab_type": "text",
    "id": "WfkjE7hT3Yl1"
   },
   "source": [
    "### DBSCAN con un conjunto de datos multidimensional"
   ]
  },
  {
   "cell_type": "code",
   "execution_count": 49,
   "metadata": {
    "colab": {},
    "colab_type": "code",
    "executionInfo": {
     "elapsed": 461,
     "status": "ok",
     "timestamp": 1593127571331,
     "user": {
      "displayName": "Raul Sanchez",
      "photoUrl": "",
      "userId": "04500034241875052309"
     },
     "user_tz": 300
    },
    "id": "FaLkiBIpJlVx"
   },
   "outputs": [],
   "source": [
    "X = df_norm.drop(\"isFradulent_Y\", axis=1)\n",
    "y = df_norm[\"isFradulent_Y\"].copy()"
   ]
  },
  {
   "cell_type": "code",
   "execution_count": 50,
   "metadata": {
    "colab": {
     "base_uri": "https://localhost:8080/",
     "height": 51
    },
    "colab_type": "code",
    "executionInfo": {
     "elapsed": 586,
     "status": "ok",
     "timestamp": 1593127572316,
     "user": {
      "displayName": "Raul Sanchez",
      "photoUrl": "",
      "userId": "04500034241875052309"
     },
     "user_tz": 300
    },
    "id": "R8jcL0bD3i5R",
    "outputId": "fffa9c9c-5c9a-43d2-ab9b-098319f4b797"
   },
   "outputs": [
    {
     "data": {
      "text/plain": [
       "DBSCAN(algorithm='auto', eps=0.15, leaf_size=30, metric='euclidean',\n",
       "       metric_params=None, min_samples=13, n_jobs=None, p=None)"
      ]
     },
     "execution_count": 50,
     "metadata": {
      "tags": []
     },
     "output_type": "execute_result"
    }
   ],
   "source": [
    "dbscan = DBSCAN(eps=0.15, min_samples=13)\n",
    "dbscan.fit(X)"
   ]
  },
  {
   "cell_type": "code",
   "execution_count": 51,
   "metadata": {
    "colab": {
     "base_uri": "https://localhost:8080/",
     "height": 102
    },
    "colab_type": "code",
    "executionInfo": {
     "elapsed": 468,
     "status": "ok",
     "timestamp": 1593127573318,
     "user": {
      "displayName": "Raul Sanchez",
      "photoUrl": "",
      "userId": "04500034241875052309"
     },
     "user_tz": 300
    },
    "id": "1Tt7w0oV4BGS",
    "outputId": "282102f5-af4f-47fa-9641-a27d20c75dc0"
   },
   "outputs": [
    {
     "name": "stdout",
     "output_type": "stream",
     "text": [
      "Cluster -1 tiene 217 ejemplos - 138 son maliciosos\n",
      "Cluster 0 tiene 175 ejemplos - 175 son maliciosos\n",
      "Cluster 1 tiene 461 ejemplos - 88 son maliciosos\n",
      "Cluster 2 tiene 2209 ejemplos - 35 son maliciosos\n",
      "Cluster 3 tiene 13 ejemplos - 12 son maliciosos\n"
     ]
    }
   ],
   "source": [
    "counter = Counter(dbscan.labels_.tolist())\n",
    "bad_counter = Counter(dbscan.labels_[y == 1].tolist())\n",
    "\n",
    "for key in sorted(counter.keys()):\n",
    "    print(\"Cluster {0} tiene {1} ejemplos - {2} son maliciosos\".format(\n",
    "        key, counter[key], bad_counter[key]))"
   ]
  },
  {
   "cell_type": "markdown",
   "metadata": {
    "colab_type": "text",
    "id": "401eTsg3J6Ej"
   },
   "source": [
    "## Reducción del número de características"
   ]
  },
  {
   "cell_type": "markdown",
   "metadata": {
    "colab_type": "text",
    "id": "0yvtzG9lJ-ZG"
   },
   "source": [
    "## Aplicamos selección de características con Random Forest"
   ]
  },
  {
   "cell_type": "code",
   "execution_count": 52,
   "metadata": {
    "colab": {
     "base_uri": "https://localhost:8080/",
     "height": 153
    },
    "colab_type": "code",
    "executionInfo": {
     "elapsed": 700,
     "status": "ok",
     "timestamp": 1593127577282,
     "user": {
      "displayName": "Raul Sanchez",
      "photoUrl": "",
      "userId": "04500034241875052309"
     },
     "user_tz": 300
    },
    "id": "mWNxClKRJ034",
    "outputId": "efb9d532-53f4-4d1d-fdef-27cd139921f4"
   },
   "outputs": [
    {
     "data": {
      "text/plain": [
       "RandomForestClassifier(bootstrap=True, ccp_alpha=0.0, class_weight=None,\n",
       "                       criterion='gini', max_depth=None, max_features='auto',\n",
       "                       max_leaf_nodes=None, max_samples=None,\n",
       "                       min_impurity_decrease=0.0, min_impurity_split=None,\n",
       "                       min_samples_leaf=1, min_samples_split=2,\n",
       "                       min_weight_fraction_leaf=0.0, n_estimators=50, n_jobs=-1,\n",
       "                       oob_score=False, random_state=42, verbose=0,\n",
       "                       warm_start=False)"
      ]
     },
     "execution_count": 52,
     "metadata": {
      "tags": []
     },
     "output_type": "execute_result"
    }
   ],
   "source": [
    "# Utilizamos Random Forest para realizar selección de características\n",
    "from sklearn.ensemble import RandomForestClassifier\n",
    "\n",
    "clf_rnd = RandomForestClassifier(n_estimators=50, random_state=42, n_jobs=-1)\n",
    "clf_rnd.fit(X, y)"
   ]
  },
  {
   "cell_type": "code",
   "execution_count": 53,
   "metadata": {
    "colab": {},
    "colab_type": "code",
    "executionInfo": {
     "elapsed": 501,
     "status": "ok",
     "timestamp": 1593127578251,
     "user": {
      "displayName": "Raul Sanchez",
      "photoUrl": "",
      "userId": "04500034241875052309"
     },
     "user_tz": 300
    },
    "id": "9RwhOeoZJ2M7"
   },
   "outputs": [],
   "source": [
    "# Seleccionamos las características más importantes\n",
    "feature_importances = {name: score for name, score in zip(list(df), clf_rnd.feature_importances_)}\n",
    "feature_importances_sorted = pd.Series(feature_importances).sort_values(ascending=False)"
   ]
  },
  {
   "cell_type": "code",
   "execution_count": 54,
   "metadata": {
    "colab": {},
    "colab_type": "code",
    "executionInfo": {
     "elapsed": 392,
     "status": "ok",
     "timestamp": 1593127579116,
     "user": {
      "displayName": "Raul Sanchez",
      "photoUrl": "",
      "userId": "04500034241875052309"
     },
     "user_tz": 300
    },
    "id": "SHu5VbKwKJT5"
   },
   "outputs": [],
   "source": [
    "# Reducimos el conjunto de datos a las 7 características más importantes\n",
    "X_reduced = X[list(feature_importances_sorted.head(4).index)].copy()"
   ]
  },
  {
   "cell_type": "code",
   "execution_count": 55,
   "metadata": {
    "colab": {
     "base_uri": "https://localhost:8080/",
     "height": 419
    },
    "colab_type": "code",
    "executionInfo": {
     "elapsed": 465,
     "status": "ok",
     "timestamp": 1593127580128,
     "user": {
      "displayName": "Raul Sanchez",
      "photoUrl": "",
      "userId": "04500034241875052309"
     },
     "user_tz": 300
    },
    "id": "nwee-3o-KMH1",
    "outputId": "b95e1cdc-6417-48ee-b10a-6cf38e99b36a"
   },
   "outputs": [
    {
     "data": {
      "text/html": [
       "<div>\n",
       "<style scoped>\n",
       "    .dataframe tbody tr th:only-of-type {\n",
       "        vertical-align: middle;\n",
       "    }\n",
       "\n",
       "    .dataframe tbody tr th {\n",
       "        vertical-align: top;\n",
       "    }\n",
       "\n",
       "    .dataframe thead th {\n",
       "        text-align: right;\n",
       "    }\n",
       "</style>\n",
       "<table border=\"1\" class=\"dataframe\">\n",
       "  <thead>\n",
       "    <tr style=\"text-align: right;\">\n",
       "      <th></th>\n",
       "      <th>isHighRiskCountry_Y</th>\n",
       "      <th>Transaction_amount</th>\n",
       "      <th>Total Number of declines/day</th>\n",
       "      <th>6-month_chbk_freq</th>\n",
       "    </tr>\n",
       "  </thead>\n",
       "  <tbody>\n",
       "    <tr>\n",
       "      <th>0</th>\n",
       "      <td>1.0</td>\n",
       "      <td>0.027778</td>\n",
       "      <td>0.25</td>\n",
       "      <td>0.000000</td>\n",
       "    </tr>\n",
       "    <tr>\n",
       "      <th>1</th>\n",
       "      <td>1.0</td>\n",
       "      <td>0.039815</td>\n",
       "      <td>0.25</td>\n",
       "      <td>0.000000</td>\n",
       "    </tr>\n",
       "    <tr>\n",
       "      <th>2</th>\n",
       "      <td>0.0</td>\n",
       "      <td>0.044657</td>\n",
       "      <td>0.25</td>\n",
       "      <td>0.000000</td>\n",
       "    </tr>\n",
       "    <tr>\n",
       "      <th>3</th>\n",
       "      <td>0.0</td>\n",
       "      <td>0.046375</td>\n",
       "      <td>0.40</td>\n",
       "      <td>0.000000</td>\n",
       "    </tr>\n",
       "    <tr>\n",
       "      <th>4</th>\n",
       "      <td>1.0</td>\n",
       "      <td>0.240741</td>\n",
       "      <td>0.00</td>\n",
       "      <td>0.666667</td>\n",
       "    </tr>\n",
       "    <tr>\n",
       "      <th>...</th>\n",
       "      <td>...</td>\n",
       "      <td>...</td>\n",
       "      <td>...</td>\n",
       "      <td>...</td>\n",
       "    </tr>\n",
       "    <tr>\n",
       "      <th>3070</th>\n",
       "      <td>0.0</td>\n",
       "      <td>0.101852</td>\n",
       "      <td>0.00</td>\n",
       "      <td>0.777778</td>\n",
       "    </tr>\n",
       "    <tr>\n",
       "      <th>3071</th>\n",
       "      <td>0.0</td>\n",
       "      <td>0.000000</td>\n",
       "      <td>0.00</td>\n",
       "      <td>0.777778</td>\n",
       "    </tr>\n",
       "    <tr>\n",
       "      <th>3072</th>\n",
       "      <td>0.0</td>\n",
       "      <td>0.192593</td>\n",
       "      <td>0.00</td>\n",
       "      <td>0.777778</td>\n",
       "    </tr>\n",
       "    <tr>\n",
       "      <th>3073</th>\n",
       "      <td>1.0</td>\n",
       "      <td>0.111111</td>\n",
       "      <td>0.00</td>\n",
       "      <td>0.777778</td>\n",
       "    </tr>\n",
       "    <tr>\n",
       "      <th>3074</th>\n",
       "      <td>1.0</td>\n",
       "      <td>0.333333</td>\n",
       "      <td>0.00</td>\n",
       "      <td>0.777778</td>\n",
       "    </tr>\n",
       "  </tbody>\n",
       "</table>\n",
       "<p>3075 rows × 4 columns</p>\n",
       "</div>"
      ],
      "text/plain": [
       "      isHighRiskCountry_Y  ...  6-month_chbk_freq\n",
       "0                     1.0  ...           0.000000\n",
       "1                     1.0  ...           0.000000\n",
       "2                     0.0  ...           0.000000\n",
       "3                     0.0  ...           0.000000\n",
       "4                     1.0  ...           0.666667\n",
       "...                   ...  ...                ...\n",
       "3070                  0.0  ...           0.777778\n",
       "3071                  0.0  ...           0.777778\n",
       "3072                  0.0  ...           0.777778\n",
       "3073                  1.0  ...           0.777778\n",
       "3074                  1.0  ...           0.777778\n",
       "\n",
       "[3075 rows x 4 columns]"
      ]
     },
     "execution_count": 55,
     "metadata": {
      "tags": []
     },
     "output_type": "execute_result"
    }
   ],
   "source": [
    "X_reduced"
   ]
  },
  {
   "cell_type": "markdown",
   "metadata": {
    "colab_type": "text",
    "id": "HeFVhheVKSfl"
   },
   "source": [
    "## Entrenamiento de DBSCAN con el conjunto de datos reducido"
   ]
  },
  {
   "cell_type": "code",
   "execution_count": 56,
   "metadata": {
    "colab": {
     "base_uri": "https://localhost:8080/",
     "height": 51
    },
    "colab_type": "code",
    "executionInfo": {
     "elapsed": 461,
     "status": "ok",
     "timestamp": 1593127581750,
     "user": {
      "displayName": "Raul Sanchez",
      "photoUrl": "",
      "userId": "04500034241875052309"
     },
     "user_tz": 300
    },
    "id": "npj3vSGgKPI9",
    "outputId": "6b7c9717-336e-44b1-cad0-862fce476ad7"
   },
   "outputs": [
    {
     "data": {
      "text/plain": [
       "DBSCAN(algorithm='auto', eps=0.7, leaf_size=30, metric='euclidean',\n",
       "       metric_params=None, min_samples=25, n_jobs=None, p=None)"
      ]
     },
     "execution_count": 56,
     "metadata": {
      "tags": []
     },
     "output_type": "execute_result"
    }
   ],
   "source": [
    "from sklearn.cluster import DBSCAN\n",
    "\n",
    "dbscan = DBSCAN(eps=0.70, min_samples=25)\n",
    "dbscan.fit(X_reduced)"
   ]
  },
  {
   "cell_type": "code",
   "execution_count": 57,
   "metadata": {
    "colab": {
     "base_uri": "https://localhost:8080/",
     "height": 51
    },
    "colab_type": "code",
    "executionInfo": {
     "elapsed": 427,
     "status": "ok",
     "timestamp": 1593127582610,
     "user": {
      "displayName": "Raul Sanchez",
      "photoUrl": "",
      "userId": "04500034241875052309"
     },
     "user_tz": 300
    },
    "id": "Uyl-zhpoKWA_",
    "outputId": "90df1074-6ea0-4269-9572-01b7a094c7f9"
   },
   "outputs": [
    {
     "name": "stdout",
     "output_type": "stream",
     "text": [
      "Cluster 0 tiene 205 ejemplos - 203 son maliciosos\n",
      "Cluster 1 tiene 2870 ejemplos - 245 son maliciosos\n"
     ]
    }
   ],
   "source": [
    "counter = Counter(dbscan.labels_.tolist())\n",
    "bad_counter = Counter(dbscan.labels_[y == 1].tolist())\n",
    "\n",
    "for key in sorted(counter.keys()):\n",
    "    print(\"Cluster {0} tiene {1} ejemplos - {2} son maliciosos\".format(\n",
    "        key, counter[key], bad_counter[key]))"
   ]
  },
  {
   "cell_type": "markdown",
   "metadata": {
    "colab_type": "text",
    "id": "xb9mEeVFKu3D"
   },
   "source": [
    "## Evaluación de los resultados"
   ]
  },
  {
   "cell_type": "markdown",
   "metadata": {
    "colab_type": "text",
    "id": "Gkfg4njtK1Q0"
   },
   "source": [
    "<p align=\"justify\">\n",
    "Hay que tener cuidado con los conjuntos de datos desequilibrados cuando se utilizan métricas para medir la pureza de los clusters. Una posible solución es utilizar técnicas de equilibrado del conjunto de datos, como la generación de más ejemplos de transacciones fraudulentas o la disminución de ejemplos de transacciones legítimas.\n",
    "</p>"
   ]
  },
  {
   "cell_type": "code",
   "execution_count": 58,
   "metadata": {
    "colab": {},
    "colab_type": "code",
    "executionInfo": {
     "elapsed": 444,
     "status": "ok",
     "timestamp": 1593127585016,
     "user": {
      "displayName": "Raul Sanchez",
      "photoUrl": "",
      "userId": "04500034241875052309"
     },
     "user_tz": 300
    },
    "id": "LAmazYGtKgs3"
   },
   "outputs": [],
   "source": [
    "# Obtenemos los clusters del objeto dbscan\n",
    "clusters = dbscan.labels_"
   ]
  },
  {
   "cell_type": "code",
   "execution_count": 59,
   "metadata": {
    "colab": {
     "base_uri": "https://localhost:8080/",
     "height": 34
    },
    "colab_type": "code",
    "executionInfo": {
     "elapsed": 468,
     "status": "ok",
     "timestamp": 1593127586189,
     "user": {
      "displayName": "Raul Sanchez",
      "photoUrl": "",
      "userId": "04500034241875052309"
     },
     "user_tz": 300
    },
    "id": "YJ0RxHd-K-Y8",
    "outputId": "2f52402f-0fd8-42cd-d5fc-dfd90a9670cb"
   },
   "outputs": [
    {
     "name": "stdout",
     "output_type": "stream",
     "text": [
      "Purity Score: 0.9196747967479675\n"
     ]
    }
   ],
   "source": [
    "# Calculamos el purity score, es importante darse cuenta de que recibe las etiquetas\n",
    "print(\"Purity Score:\", purity_score(y, clusters))"
   ]
  },
  {
   "cell_type": "code",
   "execution_count": 60,
   "metadata": {
    "colab": {
     "base_uri": "https://localhost:8080/",
     "height": 34
    },
    "colab_type": "code",
    "executionInfo": {
     "elapsed": 623,
     "status": "ok",
     "timestamp": 1593127587367,
     "user": {
      "displayName": "Raul Sanchez",
      "photoUrl": "",
      "userId": "04500034241875052309"
     },
     "user_tz": 300
    },
    "id": "vQP1tkqyLAw8",
    "outputId": "d071da2b-617a-4e07-92f7-ddfa9dfb574f"
   },
   "outputs": [
    {
     "name": "stdout",
     "output_type": "stream",
     "text": [
      "Shiloutte:  0.8177993646362611\n"
     ]
    }
   ],
   "source": [
    "# Calculamos el coeficiente de Shiloutte, es importante darse cuenta de que no le pasamos las etiquetas\n",
    "print(\"Shiloutte: \", metrics.silhouette_score(X_reduced, clusters, sample_size=3075))"
   ]
  },
  {
   "cell_type": "code",
   "execution_count": 61,
   "metadata": {
    "colab": {
     "base_uri": "https://localhost:8080/",
     "height": 34
    },
    "colab_type": "code",
    "executionInfo": {
     "elapsed": 507,
     "status": "ok",
     "timestamp": 1593127588281,
     "user": {
      "displayName": "Raul Sanchez",
      "photoUrl": "",
      "userId": "04500034241875052309"
     },
     "user_tz": 300
    },
    "id": "CAB7woS5LFRW",
    "outputId": "77a44ec2-419c-4993-967e-9b99d1f9b2af"
   },
   "outputs": [
    {
     "name": "stdout",
     "output_type": "stream",
     "text": [
      "Calinski harabasz:  4113.2026082175325\n"
     ]
    }
   ],
   "source": [
    "# Calculamos el Calinski harabasz score, es importante darse cuenta de que no le pasamos las etiquetas\n",
    "print(\"Calinski harabasz: \", metrics.calinski_harabasz_score(X_reduced, clusters))"
   ]
  },
  {
   "cell_type": "markdown",
   "metadata": {
    "colab_type": "text",
    "id": "rU4qUemnDEbu"
   },
   "source": [
    "### Clustering jerárquico\n",
    "<p align=\"justify\">\n",
    "Es una aproximación de abajo hacia arriba (bottom-up) donde se dividen los clusters en sub clusters y así sucesivamente. Iniciando asignando cada muestra simple a un clúster y en cada iteración sucesiva va aglomerando (mezclando) el par de clusters más cercanos satisfaciendo algún criterio de similaridad, hasta que todos los elementos pertenecen a un solo clúster. Los clusters generados en los primeros pasos son anidados con los clusters generados en los siguientes pasos.\n",
    "</p>"
   ]
  },
  {
   "cell_type": "markdown",
   "metadata": {
    "colab_type": "text",
    "id": "XGDIk3QQ0mQL"
   },
   "source": [
    "#### Limitaciones de algoritmos\n",
    "<p align=\"justify\">\n",
    "En los métodos de aprendizaje supervisado es necesario crear clasificadores utilizando datos de prueba y test. Para detección de anomalías es mejor considerar que la información siempre esa segada. Por tanto, debe ser mejor una mayor cantidad de datos con éxito y unas pocas anomalías; esto generalmente es un problema para algoritmo de clasificación como clúster jerárquico.\n",
    "</p>"
   ]
  },
  {
   "cell_type": "markdown",
   "metadata": {
    "colab_type": "text",
    "id": "wDDfLRLpMce4"
   },
   "source": [
    "## Clustering jerárquico con un conjunto de datos de dos dimensiones"
   ]
  },
  {
   "cell_type": "code",
   "execution_count": 62,
   "metadata": {
    "colab": {},
    "colab_type": "code",
    "executionInfo": {
     "elapsed": 441,
     "status": "ok",
     "timestamp": 1593127590352,
     "user": {
      "displayName": "Raul Sanchez",
      "photoUrl": "",
      "userId": "04500034241875052309"
     },
     "user_tz": 300
    },
    "id": "vB6WwVtOLIPP"
   },
   "outputs": [],
   "source": [
    "from sklearn.cluster import AgglomerativeClustering"
   ]
  },
  {
   "cell_type": "code",
   "execution_count": 63,
   "metadata": {
    "colab": {},
    "colab_type": "code",
    "executionInfo": {
     "elapsed": 354,
     "status": "ok",
     "timestamp": 1593127591193,
     "user": {
      "displayName": "Raul Sanchez",
      "photoUrl": "",
      "userId": "04500034241875052309"
     },
     "user_tz": 300
    },
    "id": "50O3sMxyDMVS"
   },
   "outputs": [],
   "source": [
    "X = df_norm[[\"Transaction_amount\", \"Average Amount/transaction/day\"]].copy()\n",
    "y = df_norm[\"isFradulent_Y\"].copy()"
   ]
  },
  {
   "cell_type": "code",
   "execution_count": 64,
   "metadata": {
    "colab": {},
    "colab_type": "code",
    "executionInfo": {
     "elapsed": 625,
     "status": "ok",
     "timestamp": 1593127592414,
     "user": {
      "displayName": "Raul Sanchez",
      "photoUrl": "",
      "userId": "04500034241875052309"
     },
     "user_tz": 300
    },
    "id": "yIefWsd4DcIs"
   },
   "outputs": [],
   "source": [
    "clus= AgglomerativeClustering(n_clusters=2, linkage=\"ward\").fit(X)"
   ]
  },
  {
   "cell_type": "code",
   "execution_count": 65,
   "metadata": {
    "colab": {
     "base_uri": "https://localhost:8080/",
     "height": 51
    },
    "colab_type": "code",
    "executionInfo": {
     "elapsed": 374,
     "status": "ok",
     "timestamp": 1593127593076,
     "user": {
      "displayName": "Raul Sanchez",
      "photoUrl": "",
      "userId": "04500034241875052309"
     },
     "user_tz": 300
    },
    "id": "xs9ieQ0HDgsz",
    "outputId": "ce1fd1af-2325-463e-9da7-9978b8688ce3"
   },
   "outputs": [
    {
     "name": "stdout",
     "output_type": "stream",
     "text": [
      "Cluster 0 tiene 1460 ejemplos - 263 son maliciosos\n",
      "Cluster 1 tiene 1615 ejemplos - 185 son maliciosos\n"
     ]
    }
   ],
   "source": [
    "counter = Counter(clus.labels_.tolist())\n",
    "bad_counter = Counter(clus.labels_[y == 1].tolist())\n",
    "\n",
    "for key in sorted(counter.keys()):\n",
    "    print(\"Cluster {0} tiene {1} ejemplos - {2} son maliciosos\".format(\n",
    "        key, counter[key], bad_counter[key]))"
   ]
  },
  {
   "cell_type": "code",
   "execution_count": 66,
   "metadata": {
    "colab": {
     "base_uri": "https://localhost:8080/",
     "height": 312
    },
    "colab_type": "code",
    "executionInfo": {
     "elapsed": 525,
     "status": "ok",
     "timestamp": 1593127594088,
     "user": {
      "displayName": "Raul Sanchez",
      "photoUrl": "",
      "userId": "04500034241875052309"
     },
     "user_tz": 300
    },
    "id": "2SvfeQRvGTxW",
    "outputId": "cdc8de89-6fc9-4375-c8aa-9276fc0508e7"
   },
   "outputs": [
    {
     "data": {
      "text/plain": [
       "Text(0, 0.5, 'isFradulent_Y')"
      ]
     },
     "execution_count": 66,
     "metadata": {
      "tags": []
     },
     "output_type": "execute_result"
    },
    {
     "data": {
      "image/png": "[encoded data removed]",
      "text/plain": [
       "<Figure size 432x288 with 1 Axes>"
      ]
     },
     "metadata": {
      "needs_background": "light",
      "tags": []
     },
     "output_type": "display_data"
    }
   ],
   "source": [
    "isFradulent_Y = pd.Series(clus.labels_)\n",
    "plt.hist(isFradulent_Y)\n",
    "plt.title(\"Histograma de los clusters\")\n",
    "plt.xlabel(\"Cluster\")\n",
    "plt.ylabel(\"isFradulent_Y\")"
   ]
  },
  {
   "cell_type": "markdown",
   "metadata": {
    "colab_type": "text",
    "id": "gL4GIyIcGq8e"
   },
   "source": [
    "##  Dendograma de un clustering jerárquico con un conjunto de datos de dos dimensiones"
   ]
  },
  {
   "cell_type": "markdown",
   "metadata": {
    "colab_type": "text",
    "id": "y4iUvCJYGwUy"
   },
   "source": [
    "Un dendograma es una visualización grafica en forma de árbol que muestra el orden y las distancias de las uniones que ocurren en un clustering jerárquico"
   ]
  },
  {
   "cell_type": "code",
   "execution_count": 67,
   "metadata": {
    "colab": {},
    "colab_type": "code",
    "executionInfo": {
     "elapsed": 459,
     "status": "ok",
     "timestamp": 1593127596034,
     "user": {
      "displayName": "Raul Sanchez",
      "photoUrl": "",
      "userId": "04500034241875052309"
     },
     "user_tz": 300
    },
    "id": "WcIjrl5MG47y"
   },
   "outputs": [],
   "source": [
    "from scipy.cluster.hierarchy import dendrogram, linkage"
   ]
  },
  {
   "cell_type": "code",
   "execution_count": 68,
   "metadata": {
    "colab": {},
    "colab_type": "code",
    "executionInfo": {
     "elapsed": 684,
     "status": "ok",
     "timestamp": 1593127597317,
     "user": {
      "displayName": "Raul Sanchez",
      "photoUrl": "",
      "userId": "04500034241875052309"
     },
     "user_tz": 300
    },
    "id": "3DwkijXaG91m"
   },
   "outputs": [],
   "source": [
    "Z = linkage(X, \"ward\")"
   ]
  },
  {
   "cell_type": "code",
   "execution_count": 69,
   "metadata": {
    "colab": {
     "base_uri": "https://localhost:8080/",
     "height": 427
    },
    "colab_type": "code",
    "executionInfo": {
     "elapsed": 3308,
     "status": "ok",
     "timestamp": 1593127601136,
     "user": {
      "displayName": "Raul Sanchez",
      "photoUrl": "",
      "userId": "04500034241875052309"
     },
     "user_tz": 300
    },
    "id": "Y73cpb8tHHOH",
    "outputId": "e58456db-1cc2-4ff6-e09d-d67e65a24b4a"
   },
   "outputs": [
    {
     "data": {
      "image/png": "[encoded data removed]",
      "text/plain": [
       "<Figure size 1800x720 with 1 Axes>"
      ]
     },
     "metadata": {
      "needs_background": "light",
      "tags": []
     },
     "output_type": "display_data"
    }
   ],
   "source": [
    "plt.figure(figsize=(25,10))\n",
    "plt.title(\"Dendrograma de transacciones fraudulentas\")\n",
    "plt.xlabel(\"Índices de la Muestra\")\n",
    "plt.ylabel(\"Distancia\")\n",
    "dendrogram(Z, leaf_rotation=90., leaf_font_size=12.0,\n",
    "           truncate_mode=\"lastp\", p=12, show_leaf_counts=True, show_contracted=True,)\n",
    "plt.show()"
   ]
  },
  {
   "cell_type": "markdown",
   "metadata": {
    "colab_type": "text",
    "id": "gdVPRk7tDUzC"
   },
   "source": [
    "## Clustering jerárquico con un conjunto de datos multidimensional"
   ]
  },
  {
   "cell_type": "code",
   "execution_count": 70,
   "metadata": {
    "colab": {},
    "colab_type": "code",
    "executionInfo": {
     "elapsed": 551,
     "status": "ok",
     "timestamp": 1593127603394,
     "user": {
      "displayName": "Raul Sanchez",
      "photoUrl": "",
      "userId": "04500034241875052309"
     },
     "user_tz": 300
    },
    "id": "XtwiktSoNkeF"
   },
   "outputs": [],
   "source": [
    "X = df_norm.drop(\"isFradulent_Y\", axis=1)\n",
    "y = df_norm[\"isFradulent_Y\"].copy()"
   ]
  },
  {
   "cell_type": "code",
   "execution_count": 71,
   "metadata": {
    "colab": {},
    "colab_type": "code",
    "executionInfo": {
     "elapsed": 673,
     "status": "ok",
     "timestamp": 1593127604640,
     "user": {
      "displayName": "Raul Sanchez",
      "photoUrl": "",
      "userId": "04500034241875052309"
     },
     "user_tz": 300
    },
    "id": "qK0jO92hMsHz"
   },
   "outputs": [],
   "source": [
    "clus= AgglomerativeClustering(n_clusters=2, linkage=\"ward\").fit(X)"
   ]
  },
  {
   "cell_type": "code",
   "execution_count": 72,
   "metadata": {
    "colab": {
     "base_uri": "https://localhost:8080/",
     "height": 51
    },
    "colab_type": "code",
    "executionInfo": {
     "elapsed": 398,
     "status": "ok",
     "timestamp": 1593127605294,
     "user": {
      "displayName": "Raul Sanchez",
      "photoUrl": "",
      "userId": "04500034241875052309"
     },
     "user_tz": 300
    },
    "id": "nIDSe_HC7Err",
    "outputId": "468e044b-d466-4b5c-fefa-a8f49dd743bb"
   },
   "outputs": [
    {
     "name": "stdout",
     "output_type": "stream",
     "text": [
      "Cluster 0 tiene 2438 ejemplos - 184 son maliciosos\n",
      "Cluster 1 tiene 637 ejemplos - 264 son maliciosos\n"
     ]
    }
   ],
   "source": [
    "counter = Counter(clus.labels_.tolist())\n",
    "bad_counter = Counter(clus.labels_[y == 1].tolist())\n",
    "\n",
    "for key in sorted(counter.keys()):\n",
    "    print(\"Cluster {0} tiene {1} ejemplos - {2} son maliciosos\".format(\n",
    "        key, counter[key], bad_counter[key]))"
   ]
  },
  {
   "cell_type": "code",
   "execution_count": 73,
   "metadata": {
    "colab": {
     "base_uri": "https://localhost:8080/",
     "height": 312
    },
    "colab_type": "code",
    "executionInfo": {
     "elapsed": 431,
     "status": "ok",
     "timestamp": 1593127606425,
     "user": {
      "displayName": "Raul Sanchez",
      "photoUrl": "",
      "userId": "04500034241875052309"
     },
     "user_tz": 300
    },
    "id": "OEThLuZ5MxdE",
    "outputId": "e80e93d5-ab5a-4719-95af-e1e400c66aff"
   },
   "outputs": [
    {
     "data": {
      "text/plain": [
       "Text(0, 0.5, 'isFradulent_Y')"
      ]
     },
     "execution_count": 73,
     "metadata": {
      "tags": []
     },
     "output_type": "execute_result"
    },
    {
     "data": {
      "image/png": "[encoded data removed]",
      "text/plain": [
       "<Figure size 432x288 with 1 Axes>"
      ]
     },
     "metadata": {
      "needs_background": "light",
      "tags": []
     },
     "output_type": "display_data"
    }
   ],
   "source": [
    "isFradulent_Y = pd.Series(clus.labels_)\n",
    "plt.hist(isFradulent_Y)\n",
    "plt.title(\"Histograma de los clusters\")\n",
    "plt.xlabel(\"Cluster\")\n",
    "plt.ylabel(\"isFradulent_Y\")"
   ]
  },
  {
   "cell_type": "markdown",
   "metadata": {
    "colab_type": "text",
    "id": "mqADNF2uFP2W"
   },
   "source": [
    "## Dendograma de un clustering jerárquico con un conjunto de datos multidimensional"
   ]
  },
  {
   "cell_type": "code",
   "execution_count": 74,
   "metadata": {
    "colab": {},
    "colab_type": "code",
    "executionInfo": {
     "elapsed": 630,
     "status": "ok",
     "timestamp": 1593127609186,
     "user": {
      "displayName": "Raul Sanchez",
      "photoUrl": "",
      "userId": "04500034241875052309"
     },
     "user_tz": 300
    },
    "id": "WRw6UlBOOVje"
   },
   "outputs": [],
   "source": [
    "Z = linkage(X, \"ward\")"
   ]
  },
  {
   "cell_type": "code",
   "execution_count": 75,
   "metadata": {
    "colab": {
     "base_uri": "https://localhost:8080/",
     "height": 431
    },
    "colab_type": "code",
    "executionInfo": {
     "elapsed": 3345,
     "status": "ok",
     "timestamp": 1593127613131,
     "user": {
      "displayName": "Raul Sanchez",
      "photoUrl": "",
      "userId": "04500034241875052309"
     },
     "user_tz": 300
    },
    "id": "6m_9n7Y6OYnU",
    "outputId": "dd1f4a09-3493-4741-a5d2-c6224bef2429"
   },
   "outputs": [
    {
     "data": {
      "image/png": "[encoded data removed]",
      "text/plain": [
       "<Figure size 1800x720 with 1 Axes>"
      ]
     },
     "metadata": {
      "needs_background": "light",
      "tags": []
     },
     "output_type": "display_data"
    }
   ],
   "source": [
    "plt.figure(figsize=(25,10))\n",
    "plt.title(\"Dendrograma de transacciones fraudulentas\")\n",
    "plt.xlabel(\"Índices de la Muestra\")\n",
    "plt.ylabel(\"Distancia\")\n",
    "#dendrogram(Z, leaf_rotation=90., leaf_font_size=4.)\n",
    "dendrogram(Z, leaf_rotation=90., leaf_font_size=12.0,\n",
    "           truncate_mode=\"lastp\", p=12, show_leaf_counts=True, show_contracted=True,)\n",
    "plt.show()"
   ]
  },
  {
   "cell_type": "markdown",
   "metadata": {
    "colab_type": "text",
    "id": "94NQWf_Z6RXU"
   },
   "source": [
    "## Entrenamiento del Clustering jerárquico con el conjunto de datos reducido"
   ]
  },
  {
   "cell_type": "code",
   "execution_count": 76,
   "metadata": {
    "colab": {},
    "colab_type": "code",
    "executionInfo": {
     "elapsed": 659,
     "status": "ok",
     "timestamp": 1593127614798,
     "user": {
      "displayName": "Raul Sanchez",
      "photoUrl": "",
      "userId": "04500034241875052309"
     },
     "user_tz": 300
    },
    "id": "-s3mJcttH0Ui"
   },
   "outputs": [],
   "source": [
    "clus= AgglomerativeClustering(n_clusters=2, linkage=\"ward\").fit(X_reduced)"
   ]
  },
  {
   "cell_type": "code",
   "execution_count": 77,
   "metadata": {
    "colab": {
     "base_uri": "https://localhost:8080/",
     "height": 51
    },
    "colab_type": "code",
    "executionInfo": {
     "elapsed": 436,
     "status": "ok",
     "timestamp": 1593127615847,
     "user": {
      "displayName": "Raul Sanchez",
      "photoUrl": "",
      "userId": "04500034241875052309"
     },
     "user_tz": 300
    },
    "id": "gcDnvkMZJEbY",
    "outputId": "323eee96-d911-4348-c653-215d48b6fc66"
   },
   "outputs": [
    {
     "name": "stdout",
     "output_type": "stream",
     "text": [
      "Cluster 0 tiene 2870 ejemplos - 245 son maliciosos\n",
      "Cluster 1 tiene 205 ejemplos - 203 son maliciosos\n"
     ]
    }
   ],
   "source": [
    "counter = Counter(clus.labels_.tolist())\n",
    "bad_counter = Counter(clus.labels_[y == 1].tolist())\n",
    "\n",
    "for key in sorted(counter.keys()):\n",
    "    print(\"Cluster {0} tiene {1} ejemplos - {2} son maliciosos\".format(\n",
    "        key, counter[key], bad_counter[key]))"
   ]
  },
  {
   "cell_type": "markdown",
   "metadata": {
    "colab_type": "text",
    "id": "o6BTrSJ7JZJe"
   },
   "source": [
    "## Dendograma de un clustering jerárquico con un conjunto de datos reducido"
   ]
  },
  {
   "cell_type": "code",
   "execution_count": 78,
   "metadata": {
    "colab": {},
    "colab_type": "code",
    "executionInfo": {
     "elapsed": 722,
     "status": "ok",
     "timestamp": 1593127617787,
     "user": {
      "displayName": "Raul Sanchez",
      "photoUrl": "",
      "userId": "04500034241875052309"
     },
     "user_tz": 300
    },
    "id": "H_0fKJPVJG2b"
   },
   "outputs": [],
   "source": [
    "Z = linkage(X_reduced, \"ward\")"
   ]
  },
  {
   "cell_type": "code",
   "execution_count": 79,
   "metadata": {
    "colab": {
     "base_uri": "https://localhost:8080/",
     "height": 429
    },
    "colab_type": "code",
    "executionInfo": {
     "elapsed": 3245,
     "status": "ok",
     "timestamp": 1593127621658,
     "user": {
      "displayName": "Raul Sanchez",
      "photoUrl": "",
      "userId": "04500034241875052309"
     },
     "user_tz": 300
    },
    "id": "KewxHdHnJh4J",
    "outputId": "20e2e848-399e-4f48-b56c-c1224531fa50"
   },
   "outputs": [
    {
     "data": {
      "image/png": "[encoded data removed]",
      "text/plain": [
       "<Figure size 1800x720 with 1 Axes>"
      ]
     },
     "metadata": {
      "needs_background": "light",
      "tags": []
     },
     "output_type": "display_data"
    }
   ],
   "source": [
    "plt.figure(figsize=(25,10))\n",
    "plt.title(\"Dendrograma de transacciones fraudulentas\")\n",
    "plt.xlabel(\"Índices de la Muestra\")\n",
    "plt.ylabel(\"Distancia\")\n",
    "dendrogram(Z, leaf_rotation=90., leaf_font_size=12.0,\n",
    "           truncate_mode=\"lastp\", p=12, show_leaf_counts=True, show_contracted=True,)\n",
    "plt.show()"
   ]
  },
  {
   "cell_type": "markdown",
   "metadata": {
    "colab_type": "text",
    "id": "89ekDKoVKNhd"
   },
   "source": [
    "## Evaluación de los resultados"
   ]
  },
  {
   "cell_type": "markdown",
   "metadata": {
    "colab_type": "text",
    "id": "ocOUlZLAKQ3d"
   },
   "source": [
    "<p align=\"justify\">\n",
    "Hay que tener cuidado con los conjuntos de datos desequilibrados cuando se utilizan métricas para medir la pureza de los clusters. Una posible solución es utilizar técnicas de equilibrado del conjunto de datos, como la generación de más ejemplos de transacciones fraudulentas o la disminución de ejemplos de transacciones legítimas.\n",
    "</p>"
   ]
  },
  {
   "cell_type": "code",
   "execution_count": 80,
   "metadata": {
    "colab": {},
    "colab_type": "code",
    "executionInfo": {
     "elapsed": 460,
     "status": "ok",
     "timestamp": 1593127623625,
     "user": {
      "displayName": "Raul Sanchez",
      "photoUrl": "",
      "userId": "04500034241875052309"
     },
     "user_tz": 300
    },
    "id": "KwY-vuP4Jk0H"
   },
   "outputs": [],
   "source": [
    "# Obtenemos los clusters del objeto dbscan\n",
    "clusters = clus.labels_"
   ]
  },
  {
   "cell_type": "code",
   "execution_count": 81,
   "metadata": {
    "colab": {
     "base_uri": "https://localhost:8080/",
     "height": 34
    },
    "colab_type": "code",
    "executionInfo": {
     "elapsed": 382,
     "status": "ok",
     "timestamp": 1593127624519,
     "user": {
      "displayName": "Raul Sanchez",
      "photoUrl": "",
      "userId": "04500034241875052309"
     },
     "user_tz": 300
    },
    "id": "q0n7toC-KYpX",
    "outputId": "b24999f1-a115-4055-b112-a12c4cc6c9b0"
   },
   "outputs": [
    {
     "name": "stdout",
     "output_type": "stream",
     "text": [
      "Purity Score: 0.9196747967479675\n"
     ]
    }
   ],
   "source": [
    "# Calculamos el purity score, es importante darse cuenta de que recibe las etiquetas\n",
    "print(\"Purity Score:\", purity_score(y, clusters))\n"
   ]
  },
  {
   "cell_type": "code",
   "execution_count": 82,
   "metadata": {
    "colab": {
     "base_uri": "https://localhost:8080/",
     "height": 34
    },
    "colab_type": "code",
    "executionInfo": {
     "elapsed": 464,
     "status": "ok",
     "timestamp": 1593127625593,
     "user": {
      "displayName": "Raul Sanchez",
      "photoUrl": "",
      "userId": "04500034241875052309"
     },
     "user_tz": 300
    },
    "id": "NyJme08uKco3",
    "outputId": "73f8a5c9-43b3-465d-b883-05606d4d1b1a"
   },
   "outputs": [
    {
     "name": "stdout",
     "output_type": "stream",
     "text": [
      "Shiloutte:  0.8177993646362612\n"
     ]
    }
   ],
   "source": [
    "# Calculamos el coeficiente de Shiloutte, es importante darse cuenta de que no le pasamos las etiquetas\n",
    "print(\"Shiloutte: \", metrics.silhouette_score(X_reduced, clusters, sample_size=3075))"
   ]
  },
  {
   "cell_type": "code",
   "execution_count": 83,
   "metadata": {
    "colab": {
     "base_uri": "https://localhost:8080/",
     "height": 34
    },
    "colab_type": "code",
    "executionInfo": {
     "elapsed": 352,
     "status": "ok",
     "timestamp": 1593127626456,
     "user": {
      "displayName": "Raul Sanchez",
      "photoUrl": "",
      "userId": "04500034241875052309"
     },
     "user_tz": 300
    },
    "id": "Oai7D13VKfcS",
    "outputId": "2351df01-c8de-492c-a09a-636d0206c965"
   },
   "outputs": [
    {
     "name": "stdout",
     "output_type": "stream",
     "text": [
      "Calinski harabasz:  4113.2026082175325\n"
     ]
    }
   ],
   "source": [
    "# Calculamos el Calinski harabasz score, es importante darse cuenta de que no le pasamos las etiquetas\n",
    "print(\"Calinski harabasz: \", metrics.calinski_harabasz_score(X_reduced, clusters))"
   ]
  },
  {
   "cell_type": "markdown",
   "metadata": {
    "colab_type": "text",
    "id": "fJQR5F3OjFHX"
   },
   "source": [
    "## Conclusiones\n",
    "<p align=\"justify\">\n",
    "\n",
    "\n",
    "</p>"
   ]
  },
  {
   "cell_type": "markdown",
   "metadata": {
    "colab_type": "text",
    "id": "cAMpG34914pJ"
   },
   "source": [
    "<p align=\"justify\">\n",
    "Después de a ver realizado diferentes experimentos, reduciendo el número de características atreves de bosques aleatorios seleccionando los cuatros variables más significativas dado que las técnicas de clustering funcionan mejor cuando se reducen su dimensionalidad obtuvimos los siguientes resultados.\n",
    "</p>"
   ]
  },
  {
   "cell_type": "markdown",
   "metadata": {
    "colab_type": "text",
    "id": "vy0Y5a392WxZ"
   },
   "source": [
    "KMEANS\n",
    "<ul>\n",
    "  <li>Cluster 0 tiene 205 ejemplos - 203 son maliciosos\n",
    "  </li>\n",
    "  <li>Cluster 1 tiene 2870 ejemplos - 245 son maliciosos\n",
    "  </li>\n",
    "</ul>"
   ]
  },
  {
   "cell_type": "markdown",
   "metadata": {
    "colab_type": "text",
    "id": "Jaf1QNiD2oiZ"
   },
   "source": [
    "DBSCAN\n",
    "<ul>\n",
    "  <li>Cluster 0 tiene 205 ejemplos - 203 son maliciosos\n",
    "  </li>\n",
    "  <li>Cluster 1 tiene 2870 ejemplos - 245 son maliciosos\n",
    "  </li>\n",
    "</ul>"
   ]
  },
  {
   "cell_type": "markdown",
   "metadata": {
    "colab_type": "text",
    "id": "Q4gNI64Z24yb"
   },
   "source": [
    "CLUSTERING JERÁRQUICO\n",
    "<ul>\n",
    "  <li>Cluster 0 tiene 2870 samples - 245 son maliciosos\n",
    "  </li>\n",
    "  <li>Cluster 1 tiene 205 samples - 203 son maliciosos\n",
    "  </li>\n",
    "</ul>"
   ]
  },
  {
   "cell_type": "markdown",
   "metadata": {
    "colab_type": "text",
    "id": "XTM9uA4P3Dlx"
   },
   "source": [
    "<p align=\"justify\">\n",
    "Se puede observar que en cada una de las técnicas tenesmos un clúster con 205 ejemplos teniendo 203 transacciones fraudulentas. Y un segundo clúster de 2870 ejemplos con 245 transacciones fraudulentas, es decir tenemos un clúster casi puro de transacciones fraudulentas casi un 40% del total de las transacciones ilegitimas. \n",
    "AL calcular su pureza (Técnica de evaluación de resultado en un algoritmo no supervisado cuando en el data set lo tenemos etiquetado) nos da un resultado de 0.92 un resultado muy cercano a 1 al parecer seria muy bueno, pero me queda la duda ya que el conjunto de datos esta muy desequilibrado, tenemos 448 transacciones fraudulentas y 2627 que no lo están, por su lado el índice de SHILOUTTE (nos da un numero entre -1 y 1 indicando si nuestros ejemplos están bien agrupados entres clusters, cuando el índice es muy cercano a 1 nos indica que es una buena agrupación y los clusters están muy bien separados) nos da un 0.81.\n",
    "Para finalizar el índice de CALINSKI HARABASZ (técnica que permite evaluar que algoritmo funciona mejor) en los tres casos nos da el mismo resulta 4113.202\n",
    "</p>"
   ]
  },
  {
   "cell_type": "markdown",
   "metadata": {
    "colab_type": "text",
    "id": "d5EV7tHl3i9h"
   },
   "source": [
    "#Detección De Anomalías"
   ]
  },
  {
   "cell_type": "markdown",
   "metadata": {
    "colab_type": "text",
    "id": "A52K0097mEJr"
   },
   "source": [
    "## Isolation Forest\n",
    "<p align=\"justify\">\n",
    "Es un algoritmo de detención de anomalías basados en el aprendizaje no supervisado, no perfila los datos normales (datos distribuidos en forma de campana de GAUSS), se basa en mediadas de distancias o densidad para identificar anomalías y funciona adecuadamente para conjunto de datos grandes. \n",
    "</p>\n",
    "<p align=\"justify\">\n",
    "ISOLATION FOREST es un algoritmo robusto en relaciona los parámetros que recibe.\n",
    "</p>\n",
    "Parámetros relevantes:"
   ]
  },
  {
   "cell_type": "markdown",
   "metadata": {
    "colab_type": "text",
    "id": "yYewInbMqRbI"
   },
   "source": [
    "<ul>\n",
    "  <li>\n",
    "  <p align=\"justify\">\n",
    "  N_ESTOMATORS: Son el número de estimadores bases en el conjunto. Es decir, el número de árboles que se construye.\n",
    "  </p>\n",
    "  </li>\n",
    "   <li>\n",
    "   <p align=\"justify\">\n",
    " MAX_SAMPLES: El subconjunto de muestras que se extrae de X para entrenar cada estimador base. Es decir, el subconjunto de ejemplos dentro de datos que se utilizan para construir cada árbol.\n",
    " </p>\n",
    "  </li>\n",
    "  <li>\n",
    "   <p align=\"justify\">\n",
    " CONTAMINATION: Controla el THRESHOLD si un ejemplo es anómalo o normal. No influye en la construcción del modelo. Debe encontrarse dentro del rango [0, 0.5]\n",
    " </p>\n",
    "  </li>\n",
    "</ul>"
   ]
  },
  {
   "cell_type": "markdown",
   "metadata": {
    "colab_type": "text",
    "id": "KeBd46oYjBow"
   },
   "source": [
    "## Isolation Forest con un conjunto de datos multidimensional"
   ]
  },
  {
   "cell_type": "code",
   "execution_count": 84,
   "metadata": {
    "colab": {},
    "colab_type": "code",
    "executionInfo": {
     "elapsed": 480,
     "status": "ok",
     "timestamp": 1593127634284,
     "user": {
      "displayName": "Raul Sanchez",
      "photoUrl": "",
      "userId": "04500034241875052309"
     },
     "user_tz": 300
    },
    "id": "dVLMFho8jOqg"
   },
   "outputs": [],
   "source": [
    "from sklearn.ensemble import IsolationForest"
   ]
  },
  {
   "cell_type": "code",
   "execution_count": 85,
   "metadata": {
    "colab": {},
    "colab_type": "code",
    "executionInfo": {
     "elapsed": 488,
     "status": "ok",
     "timestamp": 1593127636989,
     "user": {
      "displayName": "Raul Sanchez",
      "photoUrl": "",
      "userId": "04500034241875052309"
     },
     "user_tz": 300
    },
    "id": "LUNn-bGPjuzT"
   },
   "outputs": [],
   "source": [
    "X = df_norm.drop(\"isFradulent_Y\", axis=1)\n",
    "y = df_norm[\"isFradulent_Y\"].copy()"
   ]
  },
  {
   "cell_type": "code",
   "execution_count": 86,
   "metadata": {
    "colab": {
     "base_uri": "https://localhost:8080/",
     "height": 68
    },
    "colab_type": "code",
    "executionInfo": {
     "elapsed": 715,
     "status": "ok",
     "timestamp": 1593127638330,
     "user": {
      "displayName": "Raul Sanchez",
      "photoUrl": "",
      "userId": "04500034241875052309"
     },
     "user_tz": 300
    },
    "id": "bwiYQKjNi1tD",
    "outputId": "a7c96220-e7ac-47af-e7e9-585776a3af7b"
   },
   "outputs": [
    {
     "data": {
      "text/plain": [
       "IsolationForest(behaviour='deprecated', bootstrap=False, contamination=0.1,\n",
       "                max_features=1.0, max_samples=300, n_estimators=100,\n",
       "                n_jobs=None, random_state=None, verbose=0, warm_start=False)"
      ]
     },
     "execution_count": 86,
     "metadata": {
      "tags": []
     },
     "output_type": "execute_result"
    }
   ],
   "source": [
    "# Entrenamiento del modelo\n",
    "ift_clf = IsolationForest(max_samples=300, contamination=0.1)\n",
    "ift_clf.fit(X)"
   ]
  },
  {
   "cell_type": "code",
   "execution_count": 87,
   "metadata": {
    "colab": {},
    "colab_type": "code",
    "executionInfo": {
     "elapsed": 496,
     "status": "ok",
     "timestamp": 1593127639565,
     "user": {
      "displayName": "Raul Sanchez",
      "photoUrl": "",
      "userId": "04500034241875052309"
     },
     "user_tz": 300
    },
    "id": "244wzXunjIXr"
   },
   "outputs": [],
   "source": [
    "# Identificación de anomalías\n",
    "anomalies = ift_clf.predict(X)"
   ]
  },
  {
   "cell_type": "code",
   "execution_count": 88,
   "metadata": {
    "colab": {
     "base_uri": "https://localhost:8080/",
     "height": 34
    },
    "colab_type": "code",
    "executionInfo": {
     "elapsed": 469,
     "status": "ok",
     "timestamp": 1593127640650,
     "user": {
      "displayName": "Raul Sanchez",
      "photoUrl": "",
      "userId": "04500034241875052309"
     },
     "user_tz": 300
    },
    "id": "r4k4-NH8jYBb",
    "outputId": "1fcee35b-c3cd-4104-ecb0-1cb72e2eecc6"
   },
   "outputs": [
    {
     "name": "stdout",
     "output_type": "stream",
     "text": [
      "Total de anomalías identificadas: 308\n"
     ]
    }
   ],
   "source": [
    "print(\"Total de anomalías identificadas:\", len(y[anomalies==-1]))"
   ]
  },
  {
   "cell_type": "code",
   "execution_count": 89,
   "metadata": {
    "colab": {
     "base_uri": "https://localhost:8080/",
     "height": 68
    },
    "colab_type": "code",
    "executionInfo": {
     "elapsed": 500,
     "status": "ok",
     "timestamp": 1593127641894,
     "user": {
      "displayName": "Raul Sanchez",
      "photoUrl": "",
      "userId": "04500034241875052309"
     },
     "user_tz": 300
    },
    "id": "kQVp53OmjaZe",
    "outputId": "2d2317d8-bfce-4fc0-9666-bc3bd3cfb101"
   },
   "outputs": [
    {
     "data": {
      "text/plain": [
       "1.0    239\n",
       "0.0     69\n",
       "Name: isFradulent_Y, dtype: int64"
      ]
     },
     "execution_count": 89,
     "metadata": {
      "tags": []
     },
     "output_type": "execute_result"
    }
   ],
   "source": [
    "# Verdaderos y falsos positivos de casos fraudulentos\n",
    "y[anomalies==-1].value_counts()"
   ]
  },
  {
   "cell_type": "markdown",
   "metadata": {
    "colab_type": "text",
    "id": "Zqw2rxasjzo0"
   },
   "source": [
    "## Isolation Forest con un conjunto de datos reducidos\n",
    "<p align=\"justify\">\n",
    "Separa las anomalías cerca de rama principal del nodo, y esta característica permite construir modelos parciales y efectivos incluso utilizando una poca cantidad de datos para entrenar los datos.\n",
    "</p>\n",
    "<p align=\"justify\">\n",
    "Este método tiene una complejidad lineal por tanto existe poco crecimiento de memoria lo cual es ideal para grandes volúmenes de conjuntos de tasos. Es por esto que, es muy utilizado generalmente en grandes bases de datos.\n",
    "</p>\n",
    "<p align=\"justify\">\n",
    "Las predicciones realizadas por este método pueden converger a un conjunto muy pequeño lo cual permite detectar anomalías de forma eficiente.\n",
    "</p>\n",
    "<p align=\"justify\">\n",
    "Para problemas con muchas variables, e incluso con variables irrelevantes para el modelo; puede crear funciones efectivas para la detección de anomalías incluso con estos atributos adicionales. Incluso trabaja bien si no existen anomalías presentes en el conjunto de datos.\n",
    "</p>"
   ]
  },
  {
   "cell_type": "code",
   "execution_count": 90,
   "metadata": {
    "colab": {
     "base_uri": "https://localhost:8080/",
     "height": 68
    },
    "colab_type": "code",
    "executionInfo": {
     "elapsed": 692,
     "status": "ok",
     "timestamp": 1593127644279,
     "user": {
      "displayName": "Raul Sanchez",
      "photoUrl": "",
      "userId": "04500034241875052309"
     },
     "user_tz": 300
    },
    "id": "-Yc0IM86jesJ",
    "outputId": "6f7aa15d-891d-4838-c923-136db4849e05"
   },
   "outputs": [
    {
     "data": {
      "text/plain": [
       "IsolationForest(behaviour='deprecated', bootstrap=False, contamination=0.1,\n",
       "                max_features=1.0, max_samples=300, n_estimators=100,\n",
       "                n_jobs=None, random_state=None, verbose=0, warm_start=False)"
      ]
     },
     "execution_count": 90,
     "metadata": {
      "tags": []
     },
     "output_type": "execute_result"
    }
   ],
   "source": [
    "# Entrenamiento del modelo\n",
    "ift_clf = IsolationForest(max_samples=300, contamination=0.1)\n",
    "ift_clf.fit(X_reduced)"
   ]
  },
  {
   "cell_type": "code",
   "execution_count": 91,
   "metadata": {
    "colab": {
     "base_uri": "https://localhost:8080/",
     "height": 34
    },
    "colab_type": "code",
    "executionInfo": {
     "elapsed": 492,
     "status": "ok",
     "timestamp": 1593127645389,
     "user": {
      "displayName": "Raul Sanchez",
      "photoUrl": "",
      "userId": "04500034241875052309"
     },
     "user_tz": 300
    },
    "id": "4eT6QwmWkBCk",
    "outputId": "d03ac231-248e-4a52-adc2-2df10a86db1c"
   },
   "outputs": [
    {
     "name": "stdout",
     "output_type": "stream",
     "text": [
      "Total de anomalías identificadas: 308\n"
     ]
    }
   ],
   "source": [
    "print(\"Total de anomalías identificadas:\", len(y[anomalies==-1]))"
   ]
  },
  {
   "cell_type": "code",
   "execution_count": 92,
   "metadata": {
    "colab": {
     "base_uri": "https://localhost:8080/",
     "height": 68
    },
    "colab_type": "code",
    "executionInfo": {
     "elapsed": 485,
     "status": "ok",
     "timestamp": 1593127646363,
     "user": {
      "displayName": "Raul Sanchez",
      "photoUrl": "",
      "userId": "04500034241875052309"
     },
     "user_tz": 300
    },
    "id": "mJDnszbXrJ8C",
    "outputId": "768f301c-b440-4c04-8868-a69a7d1bf823"
   },
   "outputs": [
    {
     "data": {
      "text/plain": [
       "0.0    2627\n",
       "1.0     448\n",
       "Name: isFradulent_Y, dtype: int64"
      ]
     },
     "execution_count": 92,
     "metadata": {
      "tags": []
     },
     "output_type": "execute_result"
    }
   ],
   "source": [
    "y.value_counts()"
   ]
  },
  {
   "cell_type": "code",
   "execution_count": 93,
   "metadata": {
    "colab": {
     "base_uri": "https://localhost:8080/",
     "height": 68
    },
    "colab_type": "code",
    "executionInfo": {
     "elapsed": 292,
     "status": "ok",
     "timestamp": 1593127647186,
     "user": {
      "displayName": "Raul Sanchez",
      "photoUrl": "",
      "userId": "04500034241875052309"
     },
     "user_tz": 300
    },
    "id": "NGeN-mnIkD0q",
    "outputId": "bafe80ed-7d9d-453a-b865-7c96715c7fae"
   },
   "outputs": [
    {
     "data": {
      "text/plain": [
       "1.0    239\n",
       "0.0     69\n",
       "Name: isFradulent_Y, dtype: int64"
      ]
     },
     "execution_count": 93,
     "metadata": {
      "tags": []
     },
     "output_type": "execute_result"
    }
   ],
   "source": [
    "# Verdaderos y falsos positivos de casos fraudulentos\n",
    "y[anomalies==-1].value_counts()"
   ]
  },
  {
   "cell_type": "markdown",
   "metadata": {
    "colab_type": "text",
    "id": "UHqP_syTkTqk"
   },
   "source": [
    "## Búsqueda del mejor parámetro contaminación\n",
    "<p align=\"justify\">\n",
    "Para utilizar de manera sencilla las técnicas estándar de búsqueda de hiperparámteros de sklearn, el estimador debe devolver un valor entre 0 y 1, sin embargo, la predicción de IsolationForest se encuentra comprendida entre -1 (ejemplo anómalo) y 1 (ejemplo normal). Construimos un estimador personalizado para que devuelva este resultado.\n",
    "</p>"
   ]
  },
  {
   "cell_type": "code",
   "execution_count": 94,
   "metadata": {
    "colab": {},
    "colab_type": "code",
    "executionInfo": {
     "elapsed": 469,
     "status": "ok",
     "timestamp": 1593127648927,
     "user": {
      "displayName": "Raul Sanchez",
      "photoUrl": "",
      "userId": "04500034241875052309"
     },
     "user_tz": 300
    },
    "id": "xpaJt2RbkWMD"
   },
   "outputs": [],
   "source": [
    "# Creamos nuestro propio estimador para que la salida del algoritmo este comprendida entre 0 y 1\n",
    "from sklearn.base import BaseEstimator\n",
    "\n",
    "class IsolationForestCustom(BaseEstimator):\n",
    "    def __init__(self, max_samples=100, contamination=0.1):\n",
    "        self.contamination = contamination\n",
    "        self.max_samples = max_samples\n",
    "        self._ift_clf = None\n",
    "        \n",
    "    def fit(self, X, y=None):\n",
    "        self._ift_clf = IsolationForest(max_samples=self.max_samples, \n",
    "                                        contamination=self.contamination)\n",
    "        self._ift_clf.fit(X) \n",
    "        return self\n",
    "    \n",
    "    def predict(self, X, y=None):\n",
    "        preds = self._ift_clf.predict(X)\n",
    "        preds[preds==1] = 0\n",
    "        preds[preds==-1] = 1\n",
    "        return preds\n",
    "    \n",
    "    def get_params(self, deep=True):\n",
    "        return {\"contamination\": self.contamination,\n",
    "               \"max_samples\": self.max_samples}\n",
    "\n",
    "    def set_params(self, **parameters):\n",
    "        for parameter, value in parameters.items():\n",
    "            setattr(self, parameter, value)\n",
    "        return self"
   ]
  },
  {
   "cell_type": "code",
   "execution_count": 95,
   "metadata": {
    "colab": {
     "base_uri": "https://localhost:8080/",
     "height": 377
    },
    "colab_type": "code",
    "executionInfo": {
     "elapsed": 7499,
     "status": "ok",
     "timestamp": 1593127657206,
     "user": {
      "displayName": "Raul Sanchez",
      "photoUrl": "",
      "userId": "04500034241875052309"
     },
     "user_tz": 300
    },
    "id": "Qo-TSRyEkHB8",
    "outputId": "d65a3752-ea41-4211-c0e8-9ced1749ee37"
   },
   "outputs": [
    {
     "name": "stderr",
     "output_type": "stream",
     "text": [
      "/usr/local/lib/python3.6/dist-packages/sklearn/metrics/_classification.py:1515: UndefinedMetricWarning: F-score is ill-defined and being set to 0.0 due to no true nor predicted samples. Use `zero_division` parameter to control this behavior.\n",
      "  average, \"true nor predicted\", 'F-score is', len(true_sum)\n",
      "/usr/local/lib/python3.6/dist-packages/sklearn/metrics/_classification.py:1515: UndefinedMetricWarning: F-score is ill-defined and being set to 0.0 due to no true nor predicted samples. Use `zero_division` parameter to control this behavior.\n",
      "  average, \"true nor predicted\", 'F-score is', len(true_sum)\n",
      "/usr/local/lib/python3.6/dist-packages/sklearn/metrics/_classification.py:1515: UndefinedMetricWarning: F-score is ill-defined and being set to 0.0 due to no true nor predicted samples. Use `zero_division` parameter to control this behavior.\n",
      "  average, \"true nor predicted\", 'F-score is', len(true_sum)\n",
      "/usr/local/lib/python3.6/dist-packages/sklearn/metrics/_classification.py:1515: UndefinedMetricWarning: F-score is ill-defined and being set to 0.0 due to no true nor predicted samples. Use `zero_division` parameter to control this behavior.\n",
      "  average, \"true nor predicted\", 'F-score is', len(true_sum)\n",
      "/usr/local/lib/python3.6/dist-packages/sklearn/metrics/_classification.py:1515: UndefinedMetricWarning: F-score is ill-defined and being set to 0.0 due to no true nor predicted samples. Use `zero_division` parameter to control this behavior.\n",
      "  average, \"true nor predicted\", 'F-score is', len(true_sum)\n",
      "/usr/local/lib/python3.6/dist-packages/sklearn/metrics/_classification.py:1515: UndefinedMetricWarning: F-score is ill-defined and being set to 0.0 due to no true nor predicted samples. Use `zero_division` parameter to control this behavior.\n",
      "  average, \"true nor predicted\", 'F-score is', len(true_sum)\n"
     ]
    },
    {
     "data": {
      "text/plain": [
       "GridSearchCV(cv=2, error_score=nan,\n",
       "             estimator=IsolationForestCustom(contamination=0.1,\n",
       "                                             max_samples=100),\n",
       "             iid='deprecated', n_jobs=None,\n",
       "             param_grid={'contamination': [0.001, 0.01, 0.1],\n",
       "                         'max_samples': [100, 200, 300]},\n",
       "             pre_dispatch='2*n_jobs', refit=True, return_train_score=True,\n",
       "             scoring='f1', verbose=0)"
      ]
     },
     "execution_count": 95,
     "metadata": {
      "tags": []
     },
     "output_type": "execute_result"
    }
   ],
   "source": [
    "from sklearn.model_selection import GridSearchCV\n",
    "\n",
    "param_grid = {'max_samples': [100, 200, 300], 'contamination': [0.001, 0.01, 0.1]}\n",
    "\n",
    "ift_clf = IsolationForestCustom()\n",
    "\n",
    "# train across 5 folds, that's a total of 6*2=12 rounds of training \n",
    "grid_search = GridSearchCV(ift_clf, param_grid, cv=2,\n",
    "                           scoring='f1', return_train_score=True)\n",
    "\n",
    "grid_search.fit(X_reduced, y)"
   ]
  },
  {
   "cell_type": "code",
   "execution_count": 96,
   "metadata": {
    "colab": {
     "base_uri": "https://localhost:8080/",
     "height": 170
    },
    "colab_type": "code",
    "executionInfo": {
     "elapsed": 474,
     "status": "ok",
     "timestamp": 1593127659031,
     "user": {
      "displayName": "Raul Sanchez",
      "photoUrl": "",
      "userId": "04500034241875052309"
     },
     "user_tz": 300
    },
    "id": "MB5x0T9Uk2nI",
    "outputId": "24326eb4-10b0-43ad-e2c9-cc63f80b3901"
   },
   "outputs": [
    {
     "name": "stdout",
     "output_type": "stream",
     "text": [
      "0.13127413127413126 {'contamination': 0.001, 'max_samples': 100}\n",
      "0.11287128712871287 {'contamination': 0.001, 'max_samples': 200}\n",
      "0.11811023622047244 {'contamination': 0.001, 'max_samples': 300}\n",
      "0.34334763948497854 {'contamination': 0.01, 'max_samples': 100}\n",
      "0.31523378582202116 {'contamination': 0.01, 'max_samples': 200}\n",
      "0.34433285509325684 {'contamination': 0.01, 'max_samples': 300}\n",
      "0.404786680541103 {'contamination': 0.1, 'max_samples': 100}\n",
      "0.4069400630914827 {'contamination': 0.1, 'max_samples': 200}\n",
      "0.40966386554621853 {'contamination': 0.1, 'max_samples': 300}\n"
     ]
    }
   ],
   "source": [
    "cvres = grid_search.cv_results_\n",
    "for mean_score, params in zip(cvres[\"mean_test_score\"], cvres[\"params\"]):\n",
    "    print(mean_score, params)"
   ]
  },
  {
   "cell_type": "code",
   "execution_count": 97,
   "metadata": {
    "colab": {
     "base_uri": "https://localhost:8080/",
     "height": 34
    },
    "colab_type": "code",
    "executionInfo": {
     "elapsed": 468,
     "status": "ok",
     "timestamp": 1593127660089,
     "user": {
      "displayName": "Raul Sanchez",
      "photoUrl": "",
      "userId": "04500034241875052309"
     },
     "user_tz": 300
    },
    "id": "YhnDv0UHk9_i",
    "outputId": "83f77b84-48a8-4cd3-b036-8aceb352c11e"
   },
   "outputs": [
    {
     "data": {
      "text/plain": [
       "IsolationForestCustom(contamination=0.1, max_samples=300)"
      ]
     },
     "execution_count": 97,
     "metadata": {
      "tags": []
     },
     "output_type": "execute_result"
    }
   ],
   "source": [
    "grid_search.best_estimator_"
   ]
  },
  {
   "cell_type": "markdown",
   "metadata": {
    "colab_type": "text",
    "id": "V7O9BuEEq17d"
   },
   "source": [
    "## Conclusiones\n",
    "<p align=\"justify\">\n",
    "Nuestro set de datos contiene 3.075 files, de las cuales 448 corresponden a transacciones fraudulentas y 267 corresponden a las que no lo son. En un algoritmo de detección de anomalías (ISOLATION FOREST) entre más anomalías correspondan con ejemplos fraudulentos será mejor para la detección de anomalías. Para este caso ISOLATION FOREST nos predice un total de 308 de transacciones anómalas. De las cuales 239 corresponden a transacciones fraudulentas y 69 que no lo son.\n",
    "</p>"
   ]
  },
  {
   "cell_type": "markdown",
   "metadata": {
    "colab_type": "text",
    "id": "eKfnSB4rjGOp"
   },
   "source": [
    "![image.png](data:image/png;base64,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)"
   ]
  },
  {
   "cell_type": "markdown",
   "metadata": {
    "colab_type": "text",
    "id": "He5ugFnfuLXS"
   },
   "source": [
    "<p align=\"justify\">\n",
    "</p>"
   ]
  }
 ],
 "metadata": {
  "colab": {
   "authorship_tag": "ABX9TyPNrolHhy+sHrZFPfwqi59w",
   "collapsed_sections": [],
   "name": "SANCHEZ_CAMPOS_RAUL_DETECCION_DE_ANOMALIAS .ipynb",
   "provenance": [],
   "toc_visible": true
  },
  "kernelspec": {
   "display_name": "Python 3",
   "language": "python",
   "name": "python3"
  },
  "language_info": {
   "codemirror_mode": {
    "name": "ipython",
    "version": 3
   },
   "file_extension": ".py",
   "mimetype": "text/x-python",
   "name": "python",
   "nbconvert_exporter": "python",
   "pygments_lexer": "ipython3",
   "version": "3.7.6"
  }
 },
 "nbformat": 4,
 "nbformat_minor": 1
}
