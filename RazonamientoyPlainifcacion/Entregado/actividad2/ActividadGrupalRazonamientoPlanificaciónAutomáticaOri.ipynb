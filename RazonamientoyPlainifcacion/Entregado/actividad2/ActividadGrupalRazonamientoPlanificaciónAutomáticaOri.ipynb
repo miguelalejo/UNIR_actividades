{
 "cells": [
  {
   "cell_type": "code",
   "execution_count": 0,
   "metadata": {
    "colab": {},
    "colab_type": "code",
    "id": "stR7v3UcZuwB"
   },
   "outputs": [],
   "source": [
    "import numpy as np\n",
    "import networkx as nx"
   ]
  },
  {
   "cell_type": "code",
   "execution_count": 0,
   "metadata": {
    "colab": {},
    "colab_type": "code",
    "id": "6SrUHCreljvC"
   },
   "outputs": [],
   "source": [
    "class Nodo:\n",
    "    def __init__(self,nodo, puzzle=None,nodoshijos=None, accion=None):\n",
    "        self.nodo=nodo\n",
    "        self.nodoPadre=None\n",
    "        self.nodoshijos=nodoshijos\n",
    "        self.puzzle=puzzle\n",
    "        self.accion = accion\n",
    "    def __str__(self):\n",
    "        return self.nodo\n",
    "    def __eq__(self, obj):\n",
    "        return (self.puzzle==obj.puzzle).all()\n",
    "    def obtenerlistaordenadaheuristica(self, nodometa):\n",
    "        for i in range(len(self.nodoshijos)):\n",
    "          for j in range(len(self.nodoshijos)): \n",
    "            vi = self.calculateHeuristic(self.nodoshijos[i], nodometa)\n",
    "            vj = self.calculateHeuristic(self.nodoshijos[j], nodometa)\n",
    "            if(vj < vi):\n",
    "                nodotemp = self.nodoshijos[i]\n",
    "                self.nodoshijos[i] = self.nodoshijos[j]\n",
    "                self.nodoshijos[j] = nodotemp\n",
    "    def calculateHeuristic(self,nodei, nodom):\n",
    "      ret = np.array(nodei.puzzle) == np.array(nodom.puzzle)\n",
    "      return np.count_nonzero(ret == False)"
   ]
  },
  {
   "cell_type": "code",
   "execution_count": 0,
   "metadata": {
    "colab": {},
    "colab_type": "code",
    "id": "6JZAEbs9lmag"
   },
   "outputs": [],
   "source": [
    "class PuzzleClass:\n",
    "        \n",
    "    def buscar_espacio_vacio(self,arreglo):\n",
    "      for i in range(arreglo.shape[0]):\n",
    "        for j in range(arreglo.shape[1]):\n",
    "          if(arreglo[i,j] == 0):\n",
    "            return np.array([i,j])\n",
    "        \n",
    "    def pos_adyacente(self, i, j): \n",
    "      i_arriba = i - 1 \n",
    "      i_abajo = i + 1  \n",
    "      j_izquierda = j - 1\n",
    "      j_derecha= j + 1    \n",
    "      return np.array([[i_arriba,j, \"Arriba\"],[i_abajo,j, \"Abajo\"],[i, j_izquierda, \"Izquierda\"], [i, j_derecha, \"Derecha\"]])\n",
    "  \n",
    "    def crear_puzzle_hijos(self,i,j,pos_ayacentes,puzzle):\n",
    "        puzzle_hijos= []\n",
    "        fil,col = puzzle.shape\n",
    "        puzzle_acciones= []\n",
    "        for i_ady1,j_ady1, accion in pos_ayacentes:     \n",
    "            i_ady = int(i_ady1)\n",
    "            j_ady = int(j_ady1)\n",
    "            puzzle_hijo = puzzle.copy()\n",
    "            val_vacio = puzzle[i,j]        \n",
    "            if (0<=i_ady and i_ady<fil) and (0<=j_ady and j_ady<col):\n",
    "                val_temp = puzzle[i_ady,j_ady]\n",
    "                puzzle_hijo[i,j] = val_temp\n",
    "                puzzle_hijo[i_ady,j_ady] = val_vacio\n",
    "                puzzle_hijos.append(puzzle_hijo)    \n",
    "                puzzle_acciones.append(accion)        \n",
    "        return puzzle_hijos, puzzle_acciones   \n",
    "    \n",
    "    def crear_nodos_hijos(self,nodo):\n",
    "        (i,j) = self.buscar_espacio_vacio(nodo.puzzle)\n",
    "        pos_ayacentes = self.pos_adyacente(i, j)\n",
    "        puzzle_hijos, puzzle_accion = self.crear_puzzle_hijos(i,j,pos_ayacentes,nodo.puzzle)\n",
    "        nodos_hijos=[]\n",
    "        id_nodo = \"A_\"\n",
    "        con = 0\n",
    "        for hijo in puzzle_hijos:\n",
    "            id_nodo_hijo = id_nodo+str(con)\n",
    "            nodos_hijos.append(Nodo(id_nodo_hijo,hijo, accion=puzzle_accion[con]))\n",
    "            con = con+1\n",
    "        return nodos_hijos\n",
    "    \n",
    "    def es_nodo_meta(self,nodo,nodoMeta):\n",
    "        return (nodo.puzzle==nodoMeta.puzzle).all()\n",
    "    \n",
    "    def resolver_puzzle(self,nodoInicial,nodoMeta):\n",
    "        nodosAbiertos=[]\n",
    "        nodosVisitados=[]    \n",
    "        nodosAbiertos.append(nodoInicial)  \n",
    "        c = 0\n",
    "        while nodosAbiertos:\n",
    "            nodo=nodosAbiertos.pop(0)   \n",
    "            #calculateHeuristic(nodo)                 \n",
    "            if nodo==nodoMeta:\n",
    "                print('META')\n",
    "                print(nodo.accion)\n",
    "                return nodo,True\n",
    "            if not nodo in nodosVisitados: \n",
    "                nodosVisitados.append(nodo)            \n",
    "                print(nodo.puzzle)\n",
    "                print(nodo.accion)\n",
    "                c = c + 1\n",
    "                print(\"Nodo: \", c)\n",
    "                print(\"----------------------\")\n",
    "                nodo.nodoshijos=self.crear_nodos_hijos(nodo)    \n",
    "                nodo.obtenerlistaordenadaheuristica(nodoMeta)        \n",
    "                for nodohijo in nodo.nodoshijos:\n",
    "                    if not nodohijo in nodosVisitados:                                                         \n",
    "                        if not nodohijo.nodoPadre:\n",
    "                            nodohijo.nodoPadre = nodo                         \n",
    "                        nodosAbiertos.insert(0, nodohijo)\n",
    "        return None, False"
   ]
  },
  {
   "cell_type": "code",
   "execution_count": 72,
   "metadata": {
    "colab": {
     "base_uri": "https://localhost:8080/",
     "height": 612
    },
    "colab_type": "code",
    "executionInfo": {
     "elapsed": 598,
     "status": "ok",
     "timestamp": 1590441086109,
     "user": {
      "displayName": "Raul Sanchez",
      "photoUrl": "",
      "userId": "04500034241875052309"
     },
     "user_tz": 300
    },
    "id": "ux0hR3uGlqc8",
    "outputId": "4a4e014a-b831-40d9-fbf8-1068be732cd9"
   },
   "outputs": [
    {
     "name": "stdout",
     "output_type": "stream",
     "text": [
      "[[2 8 3]\n",
      " [1 6 4]\n",
      " [7 0 5]]\n",
      "None\n",
      "Nodo:  1\n",
      "----------------------\n",
      "[[2 8 3]\n",
      " [1 0 4]\n",
      " [7 6 5]]\n",
      "Arriba\n",
      "Nodo:  2\n",
      "----------------------\n",
      "[[2 0 3]\n",
      " [1 8 4]\n",
      " [7 6 5]]\n",
      "Arriba\n",
      "Nodo:  3\n",
      "----------------------\n",
      "[[0 2 3]\n",
      " [1 8 4]\n",
      " [7 6 5]]\n",
      "Izquierda\n",
      "Nodo:  4\n",
      "----------------------\n",
      "[[1 2 3]\n",
      " [0 8 4]\n",
      " [7 6 5]]\n",
      "Abajo\n",
      "Nodo:  5\n",
      "----------------------\n",
      "META\n",
      "Derecha\n",
      "[[1 2 3]\n",
      " [8 0 4]\n",
      " [7 6 5]]\n"
     ]
    }
   ],
   "source": [
    "PuzzleClass = PuzzleClass()\n",
    "puzzle = np.array([[2,8,3], [1,6,4],[7,0,5]])\n",
    "nodo = Nodo(\"A\",puzzle)\n",
    "puzzleM = np.array([[1,2,3], [8,0,4],[7,6,5]])\n",
    "nodoMeta = Nodo(\"G\",puzzleM)\n",
    "nodoMeta,estado = PuzzleClass.resolver_puzzle(nodo,nodoMeta)\n",
    "print(nodoMeta.puzzle)"
   ]
  },
  {
   "cell_type": "code",
   "execution_count": 0,
   "metadata": {
    "colab": {},
    "colab_type": "code",
    "id": "VD21fNvaltHc"
   },
   "outputs": [],
   "source": []
  }
 ],
 "metadata": {
  "colab": {
   "authorship_tag": "ABX9TyMvPoavR8pH+aezxn/3sv5h",
   "collapsed_sections": [],
   "name": "ActividadGrupalRazonamientoPlanificaciónAutomática.ipynb",
   "provenance": []
  },
  "kernelspec": {
   "display_name": "Python 3",
   "language": "python",
   "name": "python3"
  },
  "language_info": {
   "codemirror_mode": {
    "name": "ipython",
    "version": 3
   },
   "file_extension": ".py",
   "mimetype": "text/x-python",
   "name": "python",
   "nbconvert_exporter": "python",
   "pygments_lexer": "ipython3",
   "version": "3.7.6"
  }
 },
 "nbformat": 4,
 "nbformat_minor": 1
}
