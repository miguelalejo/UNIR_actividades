{
 "cells": [
  {
   "cell_type": "code",
   "execution_count": 1,
   "metadata": {
    "colab": {},
    "colab_type": "code",
    "id": "8vCUFce-80R1"
   },
   "outputs": [],
   "source": [
    "import numpy as np"
   ]
  },
  {
   "cell_type": "code",
   "execution_count": 49,
   "metadata": {
    "colab": {},
    "colab_type": "code",
    "id": "RsCV8WjQ-AdJ"
   },
   "outputs": [],
   "source": [
    "import networkx as nx\n",
    "class Nodo:\n",
    "    def __init__(self,nodo, puzzle=None,nodoshijos=None):\n",
    "        self.nodo=nodo\n",
    "        self.nodoPadre=None\n",
    "        self.nodoshijos=nodoshijos\n",
    "        self.puzzle=puzzle\n",
    "    def __str__(self):\n",
    "        return self.nodo\n",
    "    def __eq__(self, obj):\n",
    "        return (self.puzzle==obj.puzzle).all()"
   ]
  },
  {
   "cell_type": "code",
   "execution_count": 3,
   "metadata": {
    "colab": {},
    "colab_type": "code",
    "id": "_C5MIXID8_SY"
   },
   "outputs": [
    {
     "data": {
      "text/plain": [
       "(2, 2)"
      ]
     },
     "execution_count": 3,
     "metadata": {},
     "output_type": "execute_result"
    }
   ],
   "source": [
    "arrayI = np.array([[1,0], [3,2]])\n",
    "arrayM = np.array([[1,2], [3,0]])\n",
    "arrayI.shape"
   ]
  },
  {
   "cell_type": "code",
   "execution_count": 4,
   "metadata": {
    "colab": {},
    "colab_type": "code",
    "id": "kzL3oB0GENzA"
   },
   "outputs": [],
   "source": [
    "def buscar_espacio_vacio(arreglo):\n",
    "  for i in range(arreglo.shape[0]):\n",
    "    for j in range(arreglo.shape[1]):\n",
    "      if(arreglo[i,j] == 0):\n",
    "        return np.array([i,j])"
   ]
  },
  {
   "cell_type": "code",
   "execution_count": 5,
   "metadata": {
    "colab": {
     "base_uri": "https://localhost:8080/",
     "height": 34
    },
    "colab_type": "code",
    "id": "Cx2HtYifFoVz",
    "outputId": "880a778d-de00-4be6-d804-fcfe0fa94273"
   },
   "outputs": [],
   "source": [
    "def pos_adyacente(i, j): \n",
    "  i_arriba = i - 1 \n",
    "  i_abajo = i + 1  \n",
    "  j_izquierda = j - 1\n",
    "  j_derecha= j + 1    \n",
    "  return np.array([[i_arriba,j],[i_abajo,j],[i, j_izquierda], [i, j_derecha]])"
   ]
  },
  {
   "cell_type": "code",
   "execution_count": 6,
   "metadata": {
    "colab": {},
    "colab_type": "code",
    "id": "kLoRc_vbLJJw"
   },
   "outputs": [
    {
     "name": "stdout",
     "output_type": "stream",
     "text": [
      "0 1\n"
     ]
    }
   ],
   "source": [
    "(i,j) = buscar_espacio_vacio(arrayI)\n",
    "print(i,j)"
   ]
  },
  {
   "cell_type": "code",
   "execution_count": 7,
   "metadata": {},
   "outputs": [],
   "source": [
    "pos_ayacentes = pos_adyacente(i, j)"
   ]
  },
  {
   "cell_type": "code",
   "execution_count": 8,
   "metadata": {
    "colab": {},
    "colab_type": "code",
    "id": "PnsyPVd-NBzQ"
   },
   "outputs": [
    {
     "data": {
      "text/plain": [
       "(4, 2)"
      ]
     },
     "execution_count": 8,
     "metadata": {},
     "output_type": "execute_result"
    }
   ],
   "source": [
    "pos_ayacentes\n",
    "pos_ayacentes.shape"
   ]
  },
  {
   "cell_type": "code",
   "execution_count": 9,
   "metadata": {
    "colab": {},
    "colab_type": "code",
    "id": "ci8EGLJzOMMS"
   },
   "outputs": [],
   "source": [
    " def crear_puzzle_hijos(i,j,pos_ayacentes,puzzle):\n",
    "    puzzle_hijos= []\n",
    "    fil,col = puzzle.shape\n",
    "    for i_ady,j_ady in pos_ayacentes:        \n",
    "        puzzle_hijo = puzzle.copy()\n",
    "        val_vacio = puzzle[i,j]        \n",
    "        if (0<=i_ady and i_ady<fil) and (0<=j_ady and j_ady<col):\n",
    "            val_temp = puzzle[i_ady,j_ady]\n",
    "            puzzle_hijo[i,j] = val_temp\n",
    "            puzzle_hijo[i_ady,j_ady] = val_vacio\n",
    "            puzzle_hijos.append(puzzle_hijo)            \n",
    "    return puzzle_hijos        "
   ]
  },
  {
   "cell_type": "code",
   "execution_count": 10,
   "metadata": {
    "colab": {},
    "colab_type": "code",
    "id": "9OBztM7IOMuu"
   },
   "outputs": [
    {
     "name": "stdout",
     "output_type": "stream",
     "text": [
      "[array([[1, 2],\n",
      "       [3, 0]]), array([[0, 1],\n",
      "       [3, 2]])]\n"
     ]
    }
   ],
   "source": [
    "puzzle_hijos = crear_puzzle_hijos(i,j,pos_ayacentes,arrayI)\n",
    "print(puzzle_hijos)"
   ]
  },
  {
   "cell_type": "code",
   "execution_count": 11,
   "metadata": {
    "colab": {},
    "colab_type": "code",
    "id": "DQ67wQCoPpE4"
   },
   "outputs": [],
   "source": [
    "puzzle = np.array([[1,0], [3,2]])\n",
    "nodo = Nodo(\"A\",puzzle)\n",
    "nodo.nodoshijos=puzzle_hijos\n",
    "puzzleM = np.array([[1,2], [3,0]])\n",
    "nodoMeta = Nodo(\"G\",puzzleM)"
   ]
  },
  {
   "cell_type": "code",
   "execution_count": 16,
   "metadata": {},
   "outputs": [],
   "source": [
    "def crear_nodos_hijos(nodo):\n",
    "    (i,j) = buscar_espacio_vacio(nodo.puzzle)\n",
    "    pos_ayacentes = pos_adyacente(i, j)\n",
    "    puzzle_hijos = crear_puzzle_hijos(i,j,pos_ayacentes,nodo.puzzle)\n",
    "    nodos_hijos=[]\n",
    "    id_nodo = \"A_\"\n",
    "    con = 0\n",
    "    for hijo in puzzle_hijos:\n",
    "        id_nodo_hijo = id_nodo+str(con)\n",
    "        nodos_hijos.append(Nodo(id_nodo_hijo,hijo))\n",
    "        con = con+1\n",
    "    return nodos_hijos"
   ]
  },
  {
   "cell_type": "code",
   "execution_count": 22,
   "metadata": {},
   "outputs": [
    {
     "name": "stdout",
     "output_type": "stream",
     "text": [
      "True\n",
      "False\n"
     ]
    }
   ],
   "source": [
    "arrayM = np.array([[1,2], [3,0]])\n",
    "arrayN = np.array([[1,2], [3,1]])\n",
    "print((arrayM==arrayM).all())\n",
    "print((arrayM==arrayN).all())"
   ]
  },
  {
   "cell_type": "code",
   "execution_count": 27,
   "metadata": {},
   "outputs": [],
   "source": [
    "def es_nodo_meta(nodo,nodoMeta):\n",
    "    return (nodo.puzzle==nodoMeta.puzzle).all()"
   ]
  },
  {
   "cell_type": "code",
   "execution_count": 29,
   "metadata": {},
   "outputs": [
    {
     "name": "stdout",
     "output_type": "stream",
     "text": [
      "False\n",
      "True\n"
     ]
    }
   ],
   "source": [
    "nodo = Nodo(\"A\",puzzle)\n",
    "nodoMeta = Nodo(\"G\",puzzleM)\n",
    "print(es_nodo_meta(nodo,nodoMeta))\n",
    "print(es_nodo_meta(nodoMeta,nodoMeta))\n"
   ]
  },
  {
   "cell_type": "code",
   "execution_count": 19,
   "metadata": {},
   "outputs": [
    {
     "name": "stdout",
     "output_type": "stream",
     "text": [
      "A_0 [[1 2]\n",
      " [3 0]]\n",
      "A_1 [[0 1]\n",
      " [3 2]]\n"
     ]
    }
   ],
   "source": [
    "nodos_hijos = crear_nodos_hijos(nodo)\n",
    "for nodohijo in nodos_hijos:\n",
    "    print(nodohijo.nodo,nodohijo.puzzle)"
   ]
  },
  {
   "cell_type": "code",
   "execution_count": 62,
   "metadata": {
    "colab": {
     "base_uri": "https://localhost:8080/",
     "height": 85
    },
    "colab_type": "code",
    "id": "3ZSibCGIRxxD",
    "outputId": "63d421fa-a176-4060-eaed-7ac73b2c6b6a"
   },
   "outputs": [],
   "source": [
    "def resolver_puzzle(nodoInicial,nodoMeta):\n",
    "    nodosAbiertos=[]\n",
    "    nodosVisitados=[]    \n",
    "    nodosAbiertos.append(nodoInicial)  \n",
    "    while nodosAbiertos:\n",
    "        nodo=nodosAbiertos.pop(0)                    \n",
    "        if nodo==nodoMeta:\n",
    "            print('META')\n",
    "            return nodo,True\n",
    "        if not nodo in nodosVisitados: \n",
    "            nodosVisitados.append(nodo)            \n",
    "            print(nodo.puzzle)\n",
    "            nodo.nodoshijos=crear_nodos_hijos(nodo)            \n",
    "            for nodohijo in nodo.nodoshijos:\n",
    "                if not nodohijo in nodosVisitados:                                                         \n",
    "                    if not nodohijo.nodoPadre:\n",
    "                        nodohijo.nodoPadre = nodo                         \n",
    "                    nodosAbiertos.append(nodohijo)\n",
    "    return None, False"
   ]
  },
  {
   "cell_type": "code",
   "execution_count": 59,
   "metadata": {
    "colab": {},
    "colab_type": "code",
    "id": "AwN0CuzuRzM0"
   },
   "outputs": [
    {
     "name": "stdout",
     "output_type": "stream",
     "text": [
      "[[1 0]\n",
      " [3 2]]\n",
      "META\n",
      "[[0 1]\n",
      " [3 2]]\n"
     ]
    }
   ],
   "source": [
    "puzzle = np.array([[1,0], [3,2]])\n",
    "nodo = Nodo(\"A\",puzzle)\n",
    "puzzleM = np.array([[1,2], [3,0]])\n",
    "nodoMeta = Nodo(\"G\",puzzleM)\n",
    "nodoMeta,estado = resolver_puzzle(nodo,nodoMeta)\n",
    "print(nodoMeta.puzzle)"
   ]
  },
  {
   "cell_type": "code",
   "execution_count": 63,
   "metadata": {},
   "outputs": [
    {
     "name": "stdout",
     "output_type": "stream",
     "text": [
      "[[2 3]\n",
      " [1 0]]\n",
      "[[2 0]\n",
      " [1 3]]\n",
      "[[2 3]\n",
      " [0 1]]\n",
      "[[0 2]\n",
      " [1 3]]\n",
      "[[0 3]\n",
      " [2 1]]\n",
      "[[1 2]\n",
      " [0 3]]\n",
      "[[3 0]\n",
      " [2 1]]\n",
      "META\n",
      "[[1 2]\n",
      " [3 0]]\n"
     ]
    }
   ],
   "source": [
    "puzzle = np.array([[2,3], [1,0]])\n",
    "nodo = Nodo(\"A\",puzzle)\n",
    "puzzleM = np.array([[1,2], [3,0]])\n",
    "nodoMeta = Nodo(\"G\",puzzleM)\n",
    "nodoMeta,estado = resolver_puzzle(nodo,nodoMeta)\n",
    "print(nodoMeta.puzzle)"
   ]
  },
  {
   "cell_type": "code",
   "execution_count": 66,
   "metadata": {},
   "outputs": [
    {
     "name": "stdout",
     "output_type": "stream",
     "text": [
      "[[2 8 3]\n",
      " [1 6 4]\n",
      " [7 0 5]]\n",
      "[[2 8 3]\n",
      " [1 0 4]\n",
      " [7 6 5]]\n",
      "[[2 8 3]\n",
      " [1 6 4]\n",
      " [0 7 5]]\n",
      "[[2 8 3]\n",
      " [1 6 4]\n",
      " [7 5 0]]\n",
      "[[2 0 3]\n",
      " [1 8 4]\n",
      " [7 6 5]]\n",
      "[[2 8 3]\n",
      " [0 1 4]\n",
      " [7 6 5]]\n",
      "[[2 8 3]\n",
      " [1 4 0]\n",
      " [7 6 5]]\n",
      "[[2 8 3]\n",
      " [0 6 4]\n",
      " [1 7 5]]\n",
      "[[2 8 3]\n",
      " [1 6 0]\n",
      " [7 5 4]]\n",
      "[[0 2 3]\n",
      " [1 8 4]\n",
      " [7 6 5]]\n",
      "[[2 3 0]\n",
      " [1 8 4]\n",
      " [7 6 5]]\n",
      "[[0 8 3]\n",
      " [2 1 4]\n",
      " [7 6 5]]\n",
      "[[2 8 3]\n",
      " [7 1 4]\n",
      " [0 6 5]]\n",
      "[[2 8 0]\n",
      " [1 4 3]\n",
      " [7 6 5]]\n",
      "[[2 8 3]\n",
      " [1 4 5]\n",
      " [7 6 0]]\n",
      "[[0 8 3]\n",
      " [2 6 4]\n",
      " [1 7 5]]\n",
      "[[2 8 3]\n",
      " [6 0 4]\n",
      " [1 7 5]]\n",
      "[[2 8 0]\n",
      " [1 6 3]\n",
      " [7 5 4]]\n",
      "[[2 8 3]\n",
      " [1 0 6]\n",
      " [7 5 4]]\n",
      "[[1 2 3]\n",
      " [0 8 4]\n",
      " [7 6 5]]\n",
      "[[2 3 4]\n",
      " [1 8 0]\n",
      " [7 6 5]]\n",
      "[[8 0 3]\n",
      " [2 1 4]\n",
      " [7 6 5]]\n",
      "[[2 8 3]\n",
      " [7 1 4]\n",
      " [6 0 5]]\n",
      "[[2 0 8]\n",
      " [1 4 3]\n",
      " [7 6 5]]\n",
      "[[2 8 3]\n",
      " [1 4 5]\n",
      " [7 0 6]]\n",
      "[[8 0 3]\n",
      " [2 6 4]\n",
      " [1 7 5]]\n",
      "[[2 0 3]\n",
      " [6 8 4]\n",
      " [1 7 5]]\n",
      "[[2 8 3]\n",
      " [6 7 4]\n",
      " [1 0 5]]\n",
      "[[2 8 3]\n",
      " [6 4 0]\n",
      " [1 7 5]]\n",
      "[[2 0 8]\n",
      " [1 6 3]\n",
      " [7 5 4]]\n",
      "[[2 0 3]\n",
      " [1 8 6]\n",
      " [7 5 4]]\n",
      "[[2 8 3]\n",
      " [1 5 6]\n",
      " [7 0 4]]\n",
      "[[2 8 3]\n",
      " [0 1 6]\n",
      " [7 5 4]]\n",
      "[[1 2 3]\n",
      " [7 8 4]\n",
      " [0 6 5]]\n",
      "META\n",
      "[[1 2 3]\n",
      " [8 0 4]\n",
      " [7 6 5]]\n"
     ]
    }
   ],
   "source": [
    "puzzle = np.array([[2,8,3], [1,6,4],[7,0,5]])\n",
    "nodo = Nodo(\"A\",puzzle)\n",
    "puzzleM = np.array([[1,2,3], [8,0,4],[7,6,5]])\n",
    "nodoMeta = Nodo(\"G\",puzzleM)\n",
    "nodoMeta,estado = resolver_puzzle(nodo,nodoMeta)\n",
    "print(nodoMeta.puzzle)"
   ]
  },
  {
   "cell_type": "code",
   "execution_count": null,
   "metadata": {},
   "outputs": [],
   "source": []
  }
 ],
 "metadata": {
  "colab": {
   "name": "Deber.ipynb",
   "provenance": []
  },
  "kernelspec": {
   "display_name": "Python 3",
   "language": "python",
   "name": "python3"
  },
  "language_info": {
   "codemirror_mode": {
    "name": "ipython",
    "version": 3
   },
   "file_extension": ".py",
   "mimetype": "text/x-python",
   "name": "python",
   "nbconvert_exporter": "python",
   "pygments_lexer": "ipython3",
   "version": "3.7.6"
  }
 },
 "nbformat": 4,
 "nbformat_minor": 1
}
