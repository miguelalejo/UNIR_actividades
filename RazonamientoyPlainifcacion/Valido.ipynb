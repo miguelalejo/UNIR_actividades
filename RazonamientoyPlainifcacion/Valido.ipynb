{
 "cells": [
  {
   "cell_type": "code",
   "execution_count": 1,
   "metadata": {
    "colab": {},
    "colab_type": "code",
    "id": "jjydJcBYUmV7"
   },
   "outputs": [],
   "source": [
    "from graphviz import Digraph\n",
    "import os\n",
    "import copy\n",
    "\n",
    "counter = 1"
   ]
  },
  {
   "cell_type": "code",
   "execution_count": 2,
   "metadata": {
    "colab": {},
    "colab_type": "code",
    "id": "Q_iT4tYUUoRk"
   },
   "outputs": [],
   "source": [
    "\n",
    "class State(object):\n",
    "\n",
    "    def __init__(self, self_state, parent_id, parent_move, level):\n",
    "        global counter\n",
    "        self.self_id = counter\n",
    "        self.self_state = self_state\n",
    "        self.parent_id = parent_id\n",
    "        self.parent_move = parent_move\n",
    "        self.level = level\n",
    "        self.l_child = -1\n",
    "        self.u_child = -1\n",
    "        self.r_child = -1\n",
    "        self.d_child = -1\n",
    "        counter += 1\n",
    "\n",
    "    def set_child(self, state_id, move):\n",
    "        if move == \"left\":\n",
    "            self.l_child = state_id\n",
    "        elif move == \"right\":\n",
    "            self.r_child = state_id\n",
    "        elif move == \"up\":\n",
    "            self.u_child = state_id\n",
    "        elif move == \"down\":\n",
    "            self.d_child = state_id\n",
    "\n",
    "    def __repr__(self):\n",
    "        return str(self.self_state[0])+\"\\n\"+str(self.self_state[1])+\"\\n\"+str(self.self_state[2])\n"
   ]
  },
  {
   "cell_type": "code",
   "execution_count": 3,
   "metadata": {
    "colab": {},
    "colab_type": "code",
    "id": "7KxpWU3dUxRN"
   },
   "outputs": [],
   "source": [
    "def create_child(parent_state, move):\n",
    "    i = 0\n",
    "    j = 0\n",
    "    found = False\n",
    "    matrix = copy.deepcopy(parent_state)\n",
    "    for i in range(0, 3):\n",
    "        for j in range(0, 3):\n",
    "            if parent_state[i][j] == 0:\n",
    "                found = True\n",
    "                break\n",
    "        if found:\n",
    "            break\n",
    "    if move == \"left\":\n",
    "        if j == 0:\n",
    "            return -1\n",
    "        else:\n",
    "            matrix[i][j] = matrix[i][j - 1]\n",
    "            matrix[i][j - 1] = 0\n",
    "            return matrix\n",
    "    if move == \"right\":\n",
    "        if j == 2:\n",
    "            return -1\n",
    "        else:\n",
    "            matrix[i][j] = matrix[i][j + 1]\n",
    "            matrix[i][j + 1] = 0\n",
    "            return matrix\n",
    "    if move == \"up\":\n",
    "        if i == 0:\n",
    "            return -1\n",
    "        else:\n",
    "            matrix[i][j] = matrix[i - 1][j]\n",
    "            matrix[i - 1][j] = 0\n",
    "            return matrix\n",
    "\n",
    "    if move == \"down\":\n",
    "        if i == 2:\n",
    "            return -1\n",
    "        else:\n",
    "            matrix[i][j] = matrix[i + 1][j]\n",
    "            matrix[i + 1][j] = 0\n",
    "            return matrix"
   ]
  },
  {
   "cell_type": "code",
   "execution_count": 4,
   "metadata": {
    "colab": {},
    "colab_type": "code",
    "id": "8NKoRJSBU080"
   },
   "outputs": [],
   "source": [
    "def bfs_search():\n",
    "    global state_space_tree\n",
    "    global id_to_state\n",
    "    parent_state = id_to_state[1]\n",
    "\n",
    "    dot = Digraph(comment='BFS graph')\n",
    "    dot.node(str(parent_state.self_id), parent_state.__str__())\n",
    "\n",
    "    queue = [parent_state]\n",
    "    while(len(queue) != 0):\n",
    "        current_state = queue.pop(0)\n",
    "        if current_state.u_child != -1:\n",
    "            child_state = id_to_state[current_state.u_child]\n",
    "            queue.append(child_state)\n",
    "            # graph\n",
    "            dot.node(str(child_state.self_id), child_state.__str__())\n",
    "            dot.edge(str(current_state.self_id), str(child_state.self_id), label=\"up\")\n",
    "            if child_state.self_state == final_state:\n",
    "                break\n",
    "        if current_state.l_child != -1:\n",
    "            child_state = id_to_state[current_state.l_child]\n",
    "            queue.append(child_state)\n",
    "            # graph\n",
    "            dot.node(str(child_state.self_id), child_state.__str__())\n",
    "            dot.edge(str(current_state.self_id), str(child_state.self_id), label=\"left\")\n",
    "            if child_state.self_state == final_state:\n",
    "                break\n",
    "        if current_state.d_child != -1:\n",
    "            child_state = id_to_state[current_state.d_child]\n",
    "            queue.append(child_state)\n",
    "            # graph\n",
    "            dot.node(str(child_state.self_id), child_state.__str__())\n",
    "            dot.edge(str(current_state.self_id), str(child_state.self_id), label=\"down\")\n",
    "            if child_state.self_state == final_state:\n",
    "                break\n",
    "        if current_state.r_child != -1:\n",
    "            child_state = id_to_state[current_state.r_child]\n",
    "            queue.append(child_state)\n",
    "            # graph\n",
    "            dot.node(str(child_state.self_id), child_state.__str__())\n",
    "            dot.edge(str(current_state.self_id), str(child_state.self_id), label=\"right\")\n",
    "            if child_state.self_state == final_state:\n",
    "                break\n",
    "\n",
    "    dot.render(str('/outputs/BFS_graph.gv'), view=True)"
   ]
  },
  {
   "cell_type": "code",
   "execution_count": 5,
   "metadata": {
    "colab": {},
    "colab_type": "code",
    "id": "ph0joRU1U7x_"
   },
   "outputs": [],
   "source": [
    "initial_state = [[2, 8, 3],\n",
    "                [1, 6, 4],\n",
    "                [7, 0, 5]]"
   ]
  },
  {
   "cell_type": "code",
   "execution_count": 6,
   "metadata": {
    "colab": {},
    "colab_type": "code",
    "id": "yI5R8HHzVAWj"
   },
   "outputs": [],
   "source": [
    "final_state = [[1, 2, 3],\n",
    "                [8, 0, 4],\n",
    "                [7, 6, 5]]"
   ]
  },
  {
   "cell_type": "code",
   "execution_count": 7,
   "metadata": {
    "colab": {},
    "colab_type": "code",
    "id": "C24u73qpVElF"
   },
   "outputs": [],
   "source": [
    "visited = []"
   ]
  },
  {
   "cell_type": "code",
   "execution_count": 8,
   "metadata": {
    "colab": {},
    "colab_type": "code",
    "id": "f1nYc_u_VGk6"
   },
   "outputs": [],
   "source": [
    "goal_found = False"
   ]
  },
  {
   "cell_type": "code",
   "execution_count": 9,
   "metadata": {
    "colab": {},
    "colab_type": "code",
    "id": "XfcVUpItVOo8"
   },
   "outputs": [],
   "source": [
    "dot_dfs = Digraph(comment='DFS graph')"
   ]
  },
  {
   "cell_type": "code",
   "execution_count": 10,
   "metadata": {
    "colab": {},
    "colab_type": "code",
    "id": "WTs6qIISVQjV"
   },
   "outputs": [],
   "source": [
    "def dfs(node):\n",
    "    global visited\n",
    "    global dot_dfs\n",
    "    global goal_found\n",
    "    if goal_found:\n",
    "        return\n",
    "    if node not in visited:\n",
    "        visited.append(node)\n",
    "\n",
    "        dot_dfs.node(str(node.self_id), node.__str__())\n",
    "        dot_dfs.edge(str(node.parent_id), str(node.self_id), label=node.parent_move)\n",
    "\n",
    "        if node.self_state == final_state:\n",
    "            goal_found = True\n",
    "            return\n",
    "        if node.u_child != -1:\n",
    "            child_state = id_to_state[node.u_child]\n",
    "            dfs(child_state)\n",
    "        if node.l_child != -1:\n",
    "            child_state = id_to_state[node.l_child]\n",
    "            dfs(child_state)\n",
    "        if node.d_child != -1:\n",
    "            child_state = id_to_state[node.d_child]\n",
    "            dfs(child_state)\n",
    "        if node.r_child != -1:\n",
    "            child_state = id_to_state[node.r_child]\n",
    "            dfs(child_state)"
   ]
  },
  {
   "cell_type": "code",
   "execution_count": 11,
   "metadata": {
    "colab": {},
    "colab_type": "code",
    "id": "4tNMpyn7VT18"
   },
   "outputs": [],
   "source": [
    "state_space_tree = dict()\n",
    "id_to_state = dict()"
   ]
  },
  {
   "cell_type": "code",
   "execution_count": 12,
   "metadata": {
    "colab": {
     "base_uri": "https://localhost:8080/",
     "height": 34
    },
    "colab_type": "code",
    "executionInfo": {
     "elapsed": 898,
     "status": "ok",
     "timestamp": 1590361459228,
     "user": {
      "displayName": "Raul Sanchez",
      "photoUrl": "",
      "userId": "04500034241875052309"
     },
     "user_tz": 300
    },
    "id": "sb2WCVLTVpEz",
    "outputId": "d6e914c9-9f19-4a17-91ba-79856a4f3dee"
   },
   "outputs": [
    {
     "ename": "ExecutableNotFound",
     "evalue": "failed to execute ['dot', '-Tpdf', '-O', 'BFS_graph.gv'], make sure the Graphviz executables are on your systems' PATH",
     "output_type": "error",
     "traceback": [
      "\u001b[1;31m---------------------------------------------------------------------------\u001b[0m",
      "\u001b[1;31mFileNotFoundError\u001b[0m                         Traceback (most recent call last)",
      "\u001b[1;32mC:\\ProgramData\\Anaconda3\\lib\\site-packages\\graphviz\\backend.py\u001b[0m in \u001b[0;36mrun\u001b[1;34m(cmd, input, capture_output, check, encoding, quiet, **kwargs)\u001b[0m\n\u001b[0;32m    163\u001b[0m     \u001b[1;32mtry\u001b[0m\u001b[1;33m:\u001b[0m\u001b[1;33m\u001b[0m\u001b[1;33m\u001b[0m\u001b[0m\n\u001b[1;32m--> 164\u001b[1;33m         \u001b[0mproc\u001b[0m \u001b[1;33m=\u001b[0m \u001b[0msubprocess\u001b[0m\u001b[1;33m.\u001b[0m\u001b[0mPopen\u001b[0m\u001b[1;33m(\u001b[0m\u001b[0mcmd\u001b[0m\u001b[1;33m,\u001b[0m \u001b[0mstartupinfo\u001b[0m\u001b[1;33m=\u001b[0m\u001b[0mget_startupinfo\u001b[0m\u001b[1;33m(\u001b[0m\u001b[1;33m)\u001b[0m\u001b[1;33m,\u001b[0m \u001b[1;33m**\u001b[0m\u001b[0mkwargs\u001b[0m\u001b[1;33m)\u001b[0m\u001b[1;33m\u001b[0m\u001b[1;33m\u001b[0m\u001b[0m\n\u001b[0m\u001b[0;32m    165\u001b[0m     \u001b[1;32mexcept\u001b[0m \u001b[0mOSError\u001b[0m \u001b[1;32mas\u001b[0m \u001b[0me\u001b[0m\u001b[1;33m:\u001b[0m\u001b[1;33m\u001b[0m\u001b[1;33m\u001b[0m\u001b[0m\n",
      "\u001b[1;32mC:\\ProgramData\\Anaconda3\\lib\\subprocess.py\u001b[0m in \u001b[0;36m__init__\u001b[1;34m(self, args, bufsize, executable, stdin, stdout, stderr, preexec_fn, close_fds, shell, cwd, env, universal_newlines, startupinfo, creationflags, restore_signals, start_new_session, pass_fds, encoding, errors, text)\u001b[0m\n\u001b[0;32m    799\u001b[0m                                 \u001b[0merrread\u001b[0m\u001b[1;33m,\u001b[0m \u001b[0merrwrite\u001b[0m\u001b[1;33m,\u001b[0m\u001b[1;33m\u001b[0m\u001b[1;33m\u001b[0m\u001b[0m\n\u001b[1;32m--> 800\u001b[1;33m                                 restore_signals, start_new_session)\n\u001b[0m\u001b[0;32m    801\u001b[0m         \u001b[1;32mexcept\u001b[0m\u001b[1;33m:\u001b[0m\u001b[1;33m\u001b[0m\u001b[1;33m\u001b[0m\u001b[0m\n",
      "\u001b[1;32mC:\\ProgramData\\Anaconda3\\lib\\subprocess.py\u001b[0m in \u001b[0;36m_execute_child\u001b[1;34m(self, args, executable, preexec_fn, close_fds, pass_fds, cwd, env, startupinfo, creationflags, shell, p2cread, p2cwrite, c2pread, c2pwrite, errread, errwrite, unused_restore_signals, unused_start_new_session)\u001b[0m\n\u001b[0;32m   1206\u001b[0m                                          \u001b[0mos\u001b[0m\u001b[1;33m.\u001b[0m\u001b[0mfspath\u001b[0m\u001b[1;33m(\u001b[0m\u001b[0mcwd\u001b[0m\u001b[1;33m)\u001b[0m \u001b[1;32mif\u001b[0m \u001b[0mcwd\u001b[0m \u001b[1;32mis\u001b[0m \u001b[1;32mnot\u001b[0m \u001b[1;32mNone\u001b[0m \u001b[1;32melse\u001b[0m \u001b[1;32mNone\u001b[0m\u001b[1;33m,\u001b[0m\u001b[1;33m\u001b[0m\u001b[1;33m\u001b[0m\u001b[0m\n\u001b[1;32m-> 1207\u001b[1;33m                                          startupinfo)\n\u001b[0m\u001b[0;32m   1208\u001b[0m             \u001b[1;32mfinally\u001b[0m\u001b[1;33m:\u001b[0m\u001b[1;33m\u001b[0m\u001b[1;33m\u001b[0m\u001b[0m\n",
      "\u001b[1;31mFileNotFoundError\u001b[0m: [WinError 2] El sistema no puede encontrar el archivo especificado",
      "\nDuring handling of the above exception, another exception occurred:\n",
      "\u001b[1;31mExecutableNotFound\u001b[0m                        Traceback (most recent call last)",
      "\u001b[1;32m<ipython-input-12-9b7d997ada8d>\u001b[0m in \u001b[0;36m<module>\u001b[1;34m\u001b[0m\n\u001b[0;32m     46\u001b[0m \u001b[1;31m#dot.render(str('/outputs/state_space_tree.gv'), view=True)\u001b[0m\u001b[1;33m\u001b[0m\u001b[1;33m\u001b[0m\u001b[1;33m\u001b[0m\u001b[0m\n\u001b[0;32m     47\u001b[0m \u001b[1;33m\u001b[0m\u001b[0m\n\u001b[1;32m---> 48\u001b[1;33m \u001b[0mbfs_search\u001b[0m\u001b[1;33m(\u001b[0m\u001b[1;33m)\u001b[0m\u001b[1;33m\u001b[0m\u001b[1;33m\u001b[0m\u001b[0m\n\u001b[0m\u001b[0;32m     49\u001b[0m \u001b[1;33m\u001b[0m\u001b[0m\n\u001b[0;32m     50\u001b[0m \u001b[0mparent\u001b[0m \u001b[1;33m=\u001b[0m \u001b[0mid_to_state\u001b[0m\u001b[1;33m[\u001b[0m\u001b[1;36m1\u001b[0m\u001b[1;33m]\u001b[0m\u001b[1;33m\u001b[0m\u001b[1;33m\u001b[0m\u001b[0m\n",
      "\u001b[1;32m<ipython-input-4-c1fe247e4faa>\u001b[0m in \u001b[0;36mbfs_search\u001b[1;34m()\u001b[0m\n\u001b[0;32m     43\u001b[0m                 \u001b[1;32mbreak\u001b[0m\u001b[1;33m\u001b[0m\u001b[1;33m\u001b[0m\u001b[0m\n\u001b[0;32m     44\u001b[0m \u001b[1;33m\u001b[0m\u001b[0m\n\u001b[1;32m---> 45\u001b[1;33m     \u001b[0mdot\u001b[0m\u001b[1;33m.\u001b[0m\u001b[0mrender\u001b[0m\u001b[1;33m(\u001b[0m\u001b[0mstr\u001b[0m\u001b[1;33m(\u001b[0m\u001b[1;34m'/outputs/BFS_graph.gv'\u001b[0m\u001b[1;33m)\u001b[0m\u001b[1;33m,\u001b[0m \u001b[0mview\u001b[0m\u001b[1;33m=\u001b[0m\u001b[1;32mTrue\u001b[0m\u001b[1;33m)\u001b[0m\u001b[1;33m\u001b[0m\u001b[1;33m\u001b[0m\u001b[0m\n\u001b[0m",
      "\u001b[1;32mC:\\ProgramData\\Anaconda3\\lib\\site-packages\\graphviz\\files.py\u001b[0m in \u001b[0;36mrender\u001b[1;34m(self, filename, directory, view, cleanup, format, renderer, formatter, quiet, quiet_view)\u001b[0m\n\u001b[0;32m    207\u001b[0m         rendered = backend.render(self._engine, format, filepath,\n\u001b[0;32m    208\u001b[0m                                   \u001b[0mrenderer\u001b[0m\u001b[1;33m=\u001b[0m\u001b[0mrenderer\u001b[0m\u001b[1;33m,\u001b[0m \u001b[0mformatter\u001b[0m\u001b[1;33m=\u001b[0m\u001b[0mformatter\u001b[0m\u001b[1;33m,\u001b[0m\u001b[1;33m\u001b[0m\u001b[1;33m\u001b[0m\u001b[0m\n\u001b[1;32m--> 209\u001b[1;33m                                   quiet=quiet)\n\u001b[0m\u001b[0;32m    210\u001b[0m \u001b[1;33m\u001b[0m\u001b[0m\n\u001b[0;32m    211\u001b[0m         \u001b[1;32mif\u001b[0m \u001b[0mcleanup\u001b[0m\u001b[1;33m:\u001b[0m\u001b[1;33m\u001b[0m\u001b[1;33m\u001b[0m\u001b[0m\n",
      "\u001b[1;32mC:\\ProgramData\\Anaconda3\\lib\\site-packages\\graphviz\\backend.py\u001b[0m in \u001b[0;36mrender\u001b[1;34m(***failed resolving arguments***)\u001b[0m\n\u001b[0;32m    219\u001b[0m         \u001b[0mcwd\u001b[0m \u001b[1;33m=\u001b[0m \u001b[1;32mNone\u001b[0m\u001b[1;33m\u001b[0m\u001b[1;33m\u001b[0m\u001b[0m\n\u001b[0;32m    220\u001b[0m \u001b[1;33m\u001b[0m\u001b[0m\n\u001b[1;32m--> 221\u001b[1;33m     \u001b[0mrun\u001b[0m\u001b[1;33m(\u001b[0m\u001b[0mcmd\u001b[0m\u001b[1;33m,\u001b[0m \u001b[0mcapture_output\u001b[0m\u001b[1;33m=\u001b[0m\u001b[1;32mTrue\u001b[0m\u001b[1;33m,\u001b[0m \u001b[0mcwd\u001b[0m\u001b[1;33m=\u001b[0m\u001b[0mcwd\u001b[0m\u001b[1;33m,\u001b[0m \u001b[0mcheck\u001b[0m\u001b[1;33m=\u001b[0m\u001b[1;32mTrue\u001b[0m\u001b[1;33m,\u001b[0m \u001b[0mquiet\u001b[0m\u001b[1;33m=\u001b[0m\u001b[0mquiet\u001b[0m\u001b[1;33m)\u001b[0m\u001b[1;33m\u001b[0m\u001b[1;33m\u001b[0m\u001b[0m\n\u001b[0m\u001b[0;32m    222\u001b[0m     \u001b[1;32mreturn\u001b[0m \u001b[0mrendered\u001b[0m\u001b[1;33m\u001b[0m\u001b[1;33m\u001b[0m\u001b[0m\n\u001b[0;32m    223\u001b[0m \u001b[1;33m\u001b[0m\u001b[0m\n",
      "\u001b[1;32mC:\\ProgramData\\Anaconda3\\lib\\site-packages\\graphviz\\backend.py\u001b[0m in \u001b[0;36mrun\u001b[1;34m(cmd, input, capture_output, check, encoding, quiet, **kwargs)\u001b[0m\n\u001b[0;32m    165\u001b[0m     \u001b[1;32mexcept\u001b[0m \u001b[0mOSError\u001b[0m \u001b[1;32mas\u001b[0m \u001b[0me\u001b[0m\u001b[1;33m:\u001b[0m\u001b[1;33m\u001b[0m\u001b[1;33m\u001b[0m\u001b[0m\n\u001b[0;32m    166\u001b[0m         \u001b[1;32mif\u001b[0m \u001b[0me\u001b[0m\u001b[1;33m.\u001b[0m\u001b[0merrno\u001b[0m \u001b[1;33m==\u001b[0m \u001b[0merrno\u001b[0m\u001b[1;33m.\u001b[0m\u001b[0mENOENT\u001b[0m\u001b[1;33m:\u001b[0m\u001b[1;33m\u001b[0m\u001b[1;33m\u001b[0m\u001b[0m\n\u001b[1;32m--> 167\u001b[1;33m             \u001b[1;32mraise\u001b[0m \u001b[0mExecutableNotFound\u001b[0m\u001b[1;33m(\u001b[0m\u001b[0mcmd\u001b[0m\u001b[1;33m)\u001b[0m\u001b[1;33m\u001b[0m\u001b[1;33m\u001b[0m\u001b[0m\n\u001b[0m\u001b[0;32m    168\u001b[0m         \u001b[1;32melse\u001b[0m\u001b[1;33m:\u001b[0m\u001b[1;33m\u001b[0m\u001b[1;33m\u001b[0m\u001b[0m\n\u001b[0;32m    169\u001b[0m             \u001b[1;32mraise\u001b[0m\u001b[1;33m\u001b[0m\u001b[1;33m\u001b[0m\u001b[0m\n",
      "\u001b[1;31mExecutableNotFound\u001b[0m: failed to execute ['dot', '-Tpdf', '-O', 'BFS_graph.gv'], make sure the Graphviz executables are on your systems' PATH"
     ]
    }
   ],
   "source": [
    "# global id_to_state\n",
    "# for graph\n",
    "dot = Digraph(comment='State space graph')\n",
    "\n",
    "opposite_movements = {\"up\": \"down\", \"down\": \"up\", \"left\": \"right\", \"right\": \"left\"}\n",
    "goal_found = False\n",
    "current_state = State(initial_state, 1, \"null\", 1)\n",
    "id_to_state[1] = current_state\n",
    "explore_queue = [current_state.self_id]\n",
    "\n",
    "dot.node(str(current_state.self_id), current_state.__str__())\n",
    "\n",
    "goal_lvl = 9999\n",
    "\n",
    "while (True):\n",
    "\tcurrent_state = id_to_state[explore_queue.pop(0)]\n",
    "\n",
    "\tif current_state.level  > goal_lvl + 1:\n",
    "\t\tbreak\n",
    "\n",
    "\tparent_move = current_state.parent_move\n",
    "\tpossible_movements = [\"up\", \"left\", \"down\", \"right\"]\n",
    "\tif (parent_move != \"null\"):\n",
    "\t\tpossible_movements.remove(opposite_movements[parent_move])\n",
    "\tchilds = []\n",
    "\tfor move in possible_movements:\n",
    "\t\tmatrix = create_child(current_state.self_state, move)\n",
    "\t\tif matrix != -1:\n",
    "\t\t\tstate_obj = State(matrix, current_state.self_id, move, current_state.level+1)\n",
    "\t\t\tcurrent_state.set_child(state_obj.self_id, move)\n",
    "\t\t\t# put the child id to queue\n",
    "\t\t\texplore_queue.append(state_obj.self_id)\n",
    "\t\t\t# save the child object\n",
    "\t\t\tid_to_state[state_obj.self_id] = state_obj\n",
    "\t\t\tchilds.append(state_obj.self_id)\n",
    "\t\t\t# check if this child is the goal state\n",
    "\t\t\tif matrix == final_state and goal_lvl == 9999:\n",
    "\t\t\t\tgoal_lvl = state_obj.level - 1\n",
    "\n",
    "\t\t\tif matrix == final_state:\n",
    "\t\t\t\tdot.node(str(state_obj.self_id), state_obj.__str__(), color='green')\n",
    "\t\t\telse:\n",
    "\t\t\t\tdot.node(str(state_obj.self_id), state_obj.__str__())\n",
    "\n",
    "\t\t\tdot.edge(str(state_obj.parent_id), str(state_obj.self_id), label=move)\n",
    "#dot.render(str('/outputs/state_space_tree.gv'), view=True)\n",
    "\n",
    "bfs_search()\n",
    "\n",
    "parent = id_to_state[1]\n",
    "#dfs(parent)\n",
    "#dot_dfs.render(str('/outputs/DFS_graph.gv'), view=True)"
   ]
  },
  {
   "cell_type": "code",
   "execution_count": null,
   "metadata": {
    "colab": {
     "base_uri": "https://localhost:8080/",
     "height": 34
    },
    "colab_type": "code",
    "executionInfo": {
     "elapsed": 251,
     "status": "ok",
     "timestamp": 1590361459402,
     "user": {
      "displayName": "Raul Sanchez",
      "photoUrl": "",
      "userId": "04500034241875052309"
     },
     "user_tz": 300
    },
    "id": "2znmQSpNVpsa",
    "outputId": "c210e41c-6db4-4e85-cda5-ebe32b0a0cce"
   },
   "outputs": [],
   "source": [
    "matrix"
   ]
  },
  {
   "cell_type": "code",
   "execution_count": 3,
   "metadata": {
    "colab": {},
    "colab_type": "code",
    "id": "3aBFVRvNYHJI"
   },
   "outputs": [],
   "source": [
    "from graphviz import Digraph\n",
    "dot = Digraph(comment='The Round Table')\n",
    "dot\n",
    "dot.node('A', 'King Arthur')\n",
    "dot.node('B', 'Sir Bedevere the Wise')\n",
    "dot.node('L', 'Sir Lancelot the Brave')\n",
    "dot.edges(['AB', 'AL'])\n",
    "dot.edge('B', 'L', constraint='false')"
   ]
  },
  {
   "cell_type": "code",
   "execution_count": 4,
   "metadata": {},
   "outputs": [
    {
     "name": "stdout",
     "output_type": "stream",
     "text": [
      "// The Round Table\n",
      "digraph {\n",
      "\tA [label=\"King Arthur\"]\n",
      "\tB [label=\"Sir Bedevere the Wise\"]\n",
      "\tL [label=\"Sir Lancelot the Brave\"]\n",
      "\tA -> B\n",
      "\tA -> L\n",
      "\tB -> L [constraint=false]\n",
      "}\n"
     ]
    }
   ],
   "source": [
    "print(dot.source)"
   ]
  },
  {
   "cell_type": "code",
   "execution_count": 10,
   "metadata": {},
   "outputs": [
    {
     "data": {
      "image/svg+xml": [
       "<?xml version=\"1.0\" encoding=\"UTF-8\" standalone=\"no\"?>\r\n",
       "<!DOCTYPE svg PUBLIC \"-//W3C//DTD SVG 1.1//EN\"\r\n",
       " \"http://www.w3.org/Graphics/SVG/1.1/DTD/svg11.dtd\">\r\n",
       "<!-- Generated by graphviz version 2.38.0 (20140413.2041)\r\n",
       " -->\r\n",
       "<!-- Title: %3 Pages: 1 -->\r\n",
       "<svg width=\"390pt\" height=\"116pt\"\r\n",
       " viewBox=\"0.00 0.00 389.98 116.00\" xmlns=\"http://www.w3.org/2000/svg\" xmlns:xlink=\"http://www.w3.org/1999/xlink\">\r\n",
       "<g id=\"graph0\" class=\"graph\" transform=\"scale(1 1) rotate(0) translate(4 112)\">\r\n",
       "<title>%3</title>\r\n",
       "<polygon fill=\"white\" stroke=\"none\" points=\"-4,4 -4,-112 385.984,-112 385.984,4 -4,4\"/>\r\n",
       "<!-- A -->\r\n",
       "<g id=\"node1\" class=\"node\"><title>A</title>\r\n",
       "<ellipse fill=\"none\" stroke=\"black\" cx=\"190.992\" cy=\"-90\" rx=\"53.8905\" ry=\"18\"/>\r\n",
       "<text text-anchor=\"middle\" x=\"190.992\" y=\"-86.3\" font-family=\"Times New Roman,serif\" font-size=\"14.00\">King Arthur</text>\r\n",
       "</g>\r\n",
       "<!-- B -->\r\n",
       "<g id=\"node2\" class=\"node\"><title>B</title>\r\n",
       "<ellipse fill=\"none\" stroke=\"black\" cx=\"90.9919\" cy=\"-18\" rx=\"90.9839\" ry=\"18\"/>\r\n",
       "<text text-anchor=\"middle\" x=\"90.9919\" y=\"-14.3\" font-family=\"Times New Roman,serif\" font-size=\"14.00\">Sir Bedevere the Wise</text>\r\n",
       "</g>\r\n",
       "<!-- A&#45;&gt;B -->\r\n",
       "<g id=\"edge1\" class=\"edge\"><title>A&#45;&gt;B</title>\r\n",
       "<path fill=\"none\" stroke=\"black\" d=\"M168.799,-73.4647C155.331,-64.0371 137.916,-51.8466 122.977,-41.3897\"/>\r\n",
       "<polygon fill=\"black\" stroke=\"black\" points=\"124.716,-38.3345 114.516,-35.4672 120.702,-44.0692 124.716,-38.3345\"/>\r\n",
       "</g>\r\n",
       "<!-- L -->\r\n",
       "<g id=\"node3\" class=\"node\"><title>L</title>\r\n",
       "<ellipse fill=\"none\" stroke=\"black\" cx=\"290.992\" cy=\"-18\" rx=\"90.9839\" ry=\"18\"/>\r\n",
       "<text text-anchor=\"middle\" x=\"290.992\" y=\"-14.3\" font-family=\"Times New Roman,serif\" font-size=\"14.00\">Sir Lancelot the Brave</text>\r\n",
       "</g>\r\n",
       "<!-- A&#45;&gt;L -->\r\n",
       "<g id=\"edge2\" class=\"edge\"><title>A&#45;&gt;L</title>\r\n",
       "<path fill=\"none\" stroke=\"black\" d=\"M213.185,-73.4647C226.653,-64.0371 244.068,-51.8466 259.007,-41.3897\"/>\r\n",
       "<polygon fill=\"black\" stroke=\"black\" points=\"261.282,-44.0692 267.467,-35.4672 257.268,-38.3345 261.282,-44.0692\"/>\r\n",
       "</g>\r\n",
       "<!-- B&#45;&gt;L -->\r\n",
       "<g id=\"edge3\" class=\"edge\"><title>B&#45;&gt;L</title>\r\n",
       "<path fill=\"none\" stroke=\"black\" d=\"M182.008,-18C184.615,-18 187.223,-18 189.83,-18\"/>\r\n",
       "<polygon fill=\"black\" stroke=\"black\" points=\"189.888,-21.5001 199.888,-18 189.888,-14.5001 189.888,-21.5001\"/>\r\n",
       "</g>\r\n",
       "</g>\r\n",
       "</svg>\r\n"
      ],
      "text/plain": [
       "<graphviz.dot.Digraph at 0x234a8a82e48>"
      ]
     },
     "execution_count": 10,
     "metadata": {},
     "output_type": "execute_result"
    }
   ],
   "source": [
    "dot"
   ]
  },
  {
   "cell_type": "code",
   "execution_count": 9,
   "metadata": {},
   "outputs": [
    {
     "name": "stderr",
     "output_type": "stream",
     "text": [
      "Error: Could not open \"round-table.gv.pdf\" for writing : Permission denied\r\n"
     ]
    },
    {
     "ename": "CalledProcessError",
     "evalue": "Command '['dot.bat', '-Tpdf', '-O', 'round-table.gv']' returned non-zero exit status 1. [stderr: b'Error: Could not open \"round-table.gv.pdf\" for writing : Permission denied\\r\\n']",
     "output_type": "error",
     "traceback": [
      "\u001b[1;31m---------------------------------------------------------------------------\u001b[0m",
      "\u001b[1;31mCalledProcessError\u001b[0m                        Traceback (most recent call last)",
      "\u001b[1;32m<ipython-input-9-712f21b343ed>\u001b[0m in \u001b[0;36m<module>\u001b[1;34m\u001b[0m\n\u001b[0;32m      1\u001b[0m \u001b[1;32mfrom\u001b[0m \u001b[0mgraphviz\u001b[0m \u001b[1;32mimport\u001b[0m \u001b[0mSource\u001b[0m\u001b[1;33m\u001b[0m\u001b[1;33m\u001b[0m\u001b[0m\n\u001b[1;32m----> 2\u001b[1;33m \u001b[0mdot\u001b[0m\u001b[1;33m.\u001b[0m\u001b[0mrender\u001b[0m\u001b[1;33m(\u001b[0m\u001b[1;34m'test-output/round-table.gv'\u001b[0m\u001b[1;33m,\u001b[0m \u001b[0mview\u001b[0m\u001b[1;33m=\u001b[0m\u001b[1;32mTrue\u001b[0m\u001b[1;33m)\u001b[0m\u001b[1;33m\u001b[0m\u001b[1;33m\u001b[0m\u001b[0m\n\u001b[0m\u001b[0;32m      3\u001b[0m \u001b[1;33m\u001b[0m\u001b[0m\n\u001b[0;32m      4\u001b[0m \u001b[0mSource\u001b[0m\u001b[1;33m.\u001b[0m\u001b[0mfrom_file\u001b[0m\u001b[1;33m(\u001b[0m\u001b[1;34m'test-output/round-table.gv'\u001b[0m\u001b[1;33m)\u001b[0m\u001b[1;33m\u001b[0m\u001b[1;33m\u001b[0m\u001b[0m\n\u001b[0;32m      5\u001b[0m \u001b[1;33m\u001b[0m\u001b[0m\n",
      "\u001b[1;32mC:\\ProgramData\\Anaconda3\\lib\\site-packages\\graphviz\\files.py\u001b[0m in \u001b[0;36mrender\u001b[1;34m(self, filename, directory, view, cleanup, format, renderer, formatter, quiet, quiet_view)\u001b[0m\n\u001b[0;32m    207\u001b[0m         rendered = backend.render(self._engine, format, filepath,\n\u001b[0;32m    208\u001b[0m                                   \u001b[0mrenderer\u001b[0m\u001b[1;33m=\u001b[0m\u001b[0mrenderer\u001b[0m\u001b[1;33m,\u001b[0m \u001b[0mformatter\u001b[0m\u001b[1;33m=\u001b[0m\u001b[0mformatter\u001b[0m\u001b[1;33m,\u001b[0m\u001b[1;33m\u001b[0m\u001b[1;33m\u001b[0m\u001b[0m\n\u001b[1;32m--> 209\u001b[1;33m                                   quiet=quiet)\n\u001b[0m\u001b[0;32m    210\u001b[0m \u001b[1;33m\u001b[0m\u001b[0m\n\u001b[0;32m    211\u001b[0m         \u001b[1;32mif\u001b[0m \u001b[0mcleanup\u001b[0m\u001b[1;33m:\u001b[0m\u001b[1;33m\u001b[0m\u001b[1;33m\u001b[0m\u001b[0m\n",
      "\u001b[1;32mC:\\ProgramData\\Anaconda3\\lib\\site-packages\\graphviz\\backend.py\u001b[0m in \u001b[0;36mrender\u001b[1;34m(***failed resolving arguments***)\u001b[0m\n\u001b[0;32m    221\u001b[0m         \u001b[0mcwd\u001b[0m \u001b[1;33m=\u001b[0m \u001b[1;32mNone\u001b[0m\u001b[1;33m\u001b[0m\u001b[1;33m\u001b[0m\u001b[0m\n\u001b[0;32m    222\u001b[0m \u001b[1;33m\u001b[0m\u001b[0m\n\u001b[1;32m--> 223\u001b[1;33m     \u001b[0mrun\u001b[0m\u001b[1;33m(\u001b[0m\u001b[0mcmd\u001b[0m\u001b[1;33m,\u001b[0m \u001b[0mcapture_output\u001b[0m\u001b[1;33m=\u001b[0m\u001b[1;32mTrue\u001b[0m\u001b[1;33m,\u001b[0m \u001b[0mcwd\u001b[0m\u001b[1;33m=\u001b[0m\u001b[0mcwd\u001b[0m\u001b[1;33m,\u001b[0m \u001b[0mcheck\u001b[0m\u001b[1;33m=\u001b[0m\u001b[1;32mTrue\u001b[0m\u001b[1;33m,\u001b[0m \u001b[0mquiet\u001b[0m\u001b[1;33m=\u001b[0m\u001b[0mquiet\u001b[0m\u001b[1;33m)\u001b[0m\u001b[1;33m\u001b[0m\u001b[1;33m\u001b[0m\u001b[0m\n\u001b[0m\u001b[0;32m    224\u001b[0m     \u001b[1;32mreturn\u001b[0m \u001b[0mrendered\u001b[0m\u001b[1;33m\u001b[0m\u001b[1;33m\u001b[0m\u001b[0m\n\u001b[0;32m    225\u001b[0m \u001b[1;33m\u001b[0m\u001b[0m\n",
      "\u001b[1;32mC:\\ProgramData\\Anaconda3\\lib\\site-packages\\graphviz\\backend.py\u001b[0m in \u001b[0;36mrun\u001b[1;34m(cmd, input, capture_output, check, encoding, quiet, **kwargs)\u001b[0m\n\u001b[0;32m    184\u001b[0m     \u001b[1;32mif\u001b[0m \u001b[0mcheck\u001b[0m \u001b[1;32mand\u001b[0m \u001b[0mproc\u001b[0m\u001b[1;33m.\u001b[0m\u001b[0mreturncode\u001b[0m\u001b[1;33m:\u001b[0m\u001b[1;33m\u001b[0m\u001b[1;33m\u001b[0m\u001b[0m\n\u001b[0;32m    185\u001b[0m         raise CalledProcessError(proc.returncode, cmd,\n\u001b[1;32m--> 186\u001b[1;33m                                  output=out, stderr=err)\n\u001b[0m\u001b[0;32m    187\u001b[0m \u001b[1;33m\u001b[0m\u001b[0m\n\u001b[0;32m    188\u001b[0m     \u001b[1;32mreturn\u001b[0m \u001b[0mout\u001b[0m\u001b[1;33m,\u001b[0m \u001b[0merr\u001b[0m\u001b[1;33m\u001b[0m\u001b[1;33m\u001b[0m\u001b[0m\n",
      "\u001b[1;31mCalledProcessError\u001b[0m: Command '['dot.bat', '-Tpdf', '-O', 'round-table.gv']' returned non-zero exit status 1. [stderr: b'Error: Could not open \"round-table.gv.pdf\" for writing : Permission denied\\r\\n']"
     ]
    }
   ],
   "source": []
  }
 ],
 "metadata": {
  "colab": {
   "authorship_tag": "ABX9TyM9ycQeZqmThvBnL0v+YPp9",
   "collapsed_sections": [],
   "name": "Valido.ipynb",
   "provenance": []
  },
  "kernelspec": {
   "display_name": "Python 3",
   "language": "python",
   "name": "python3"
  },
  "language_info": {
   "codemirror_mode": {
    "name": "ipython",
    "version": 3
   },
   "file_extension": ".py",
   "mimetype": "text/x-python",
   "name": "python",
   "nbconvert_exporter": "python",
   "pygments_lexer": "ipython3",
   "version": "3.7.6"
  }
 },
 "nbformat": 4,
 "nbformat_minor": 1
}
