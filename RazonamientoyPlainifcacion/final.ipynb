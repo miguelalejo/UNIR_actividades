{
 "cells": [
  {
   "cell_type": "code",
   "execution_count": 1,
   "metadata": {
    "colab": {},
    "colab_type": "code",
    "id": "8vCUFce-80R1"
   },
   "outputs": [],
   "source": [
    "import numpy as np"
   ]
  },
  {
   "cell_type": "code",
   "execution_count": 2,
   "metadata": {
    "colab": {},
    "colab_type": "code",
    "id": "RsCV8WjQ-AdJ"
   },
   "outputs": [],
   "source": [
    "import networkx as nx\n",
    "class Nodo:\n",
    "    def __init__(self,nodo, puzzle=None,nodoshijos=None, accion=None):\n",
    "        self.nodo=nodo\n",
    "        self.nodoPadre=None\n",
    "        self.nodoshijos=nodoshijos\n",
    "        self.puzzle=puzzle\n",
    "        self.accion = accion\n",
    "    def __str__(self):\n",
    "        return self.nodo\n",
    "    def __eq__(self, obj):\n",
    "        return (self.puzzle==obj.puzzle).all()\n",
    "    def obtenerlistaordenadaheuristica(self, nodometa):\n",
    "        for i in range(len(self.nodoshijos)):\n",
    "          for j in range(len(self.nodoshijos)): \n",
    "            vi = calculateHeuristic(self.nodoshijos[i], nodometa)\n",
    "            vj = calculateHeuristic(self.nodoshijos[j], nodometa)\n",
    "            if(vj < vi):\n",
    "                nodotemp = self.nodoshijos[i]\n",
    "                self.nodoshijos[i] = self.nodoshijos[j]\n",
    "                self.nodoshijos[j] = nodotemp\n"
   ]
  },
  {
   "cell_type": "code",
   "execution_count": 3,
   "metadata": {
    "colab": {
     "base_uri": "https://localhost:8080/",
     "height": 34
    },
    "colab_type": "code",
    "executionInfo": {
     "elapsed": 467,
     "status": "ok",
     "timestamp": 1590363238670,
     "user": {
      "displayName": "Raul Sanchez",
      "photoUrl": "",
      "userId": "04500034241875052309"
     },
     "user_tz": 300
    },
    "id": "_C5MIXID8_SY",
    "outputId": "d4233370-bfb1-4a16-9b0d-564f0ed7fb31"
   },
   "outputs": [
    {
     "data": {
      "text/plain": [
       "(2, 2)"
      ]
     },
     "execution_count": 3,
     "metadata": {},
     "output_type": "execute_result"
    }
   ],
   "source": [
    "arrayI = np.array([[1,0], [3,2]])\n",
    "arrayM = np.array([[1,2], [3,0]])\n",
    "arrayI.shape"
   ]
  },
  {
   "cell_type": "code",
   "execution_count": 4,
   "metadata": {
    "colab": {},
    "colab_type": "code",
    "id": "kzL3oB0GENzA"
   },
   "outputs": [],
   "source": [
    "def buscar_espacio_vacio(arreglo):\n",
    "  for i in range(arreglo.shape[0]):\n",
    "    for j in range(arreglo.shape[1]):\n",
    "      if(arreglo[i,j] == 0):\n",
    "        return np.array([i,j])"
   ]
  },
  {
   "cell_type": "code",
   "execution_count": 5,
   "metadata": {
    "colab": {},
    "colab_type": "code",
    "id": "Cx2HtYifFoVz"
   },
   "outputs": [],
   "source": [
    "def pos_adyacente(i, j): \n",
    "  i_arriba = i - 1 \n",
    "  i_abajo = i + 1  \n",
    "  j_izquierda = j - 1\n",
    "  j_derecha= j + 1    \n",
    "  return np.array([[i_arriba,j, \"Arriba\"],[i_abajo,j, \"Abajo\"],[i, j_izquierda, \"Izquierda\"], [i, j_derecha, \"Derecha\"]])"
   ]
  },
  {
   "cell_type": "code",
   "execution_count": 6,
   "metadata": {
    "colab": {
     "base_uri": "https://localhost:8080/",
     "height": 34
    },
    "colab_type": "code",
    "executionInfo": {
     "elapsed": 448,
     "status": "ok",
     "timestamp": 1590363241408,
     "user": {
      "displayName": "Raul Sanchez",
      "photoUrl": "",
      "userId": "04500034241875052309"
     },
     "user_tz": 300
    },
    "id": "kLoRc_vbLJJw",
    "outputId": "2d65a9ce-9f21-4ec8-ff52-989b13772ac6"
   },
   "outputs": [
    {
     "name": "stdout",
     "output_type": "stream",
     "text": [
      "0 1\n"
     ]
    }
   ],
   "source": [
    "(i,j) = buscar_espacio_vacio(arrayI)\n",
    "print(i,j)"
   ]
  },
  {
   "cell_type": "code",
   "execution_count": 7,
   "metadata": {
    "colab": {},
    "colab_type": "code",
    "id": "vJY9BFrjxBdX"
   },
   "outputs": [],
   "source": [
    "pos_ayacentes = pos_adyacente(i, j)"
   ]
  },
  {
   "cell_type": "code",
   "execution_count": 8,
   "metadata": {
    "colab": {
     "base_uri": "https://localhost:8080/",
     "height": 34
    },
    "colab_type": "code",
    "executionInfo": {
     "elapsed": 230,
     "status": "ok",
     "timestamp": 1590363242980,
     "user": {
      "displayName": "Raul Sanchez",
      "photoUrl": "",
      "userId": "04500034241875052309"
     },
     "user_tz": 300
    },
    "id": "PnsyPVd-NBzQ",
    "outputId": "584856ec-623e-4b84-f444-a476fb3b196e"
   },
   "outputs": [
    {
     "data": {
      "text/plain": [
       "(4, 3)"
      ]
     },
     "execution_count": 8,
     "metadata": {},
     "output_type": "execute_result"
    }
   ],
   "source": [
    "pos_ayacentes\n",
    "pos_ayacentes.shape"
   ]
  },
  {
   "cell_type": "code",
   "execution_count": 9,
   "metadata": {
    "colab": {},
    "colab_type": "code",
    "id": "ci8EGLJzOMMS"
   },
   "outputs": [],
   "source": [
    " def crear_puzzle_hijos(i,j,pos_ayacentes,puzzle):\n",
    "    puzzle_hijos= []\n",
    "    fil,col = puzzle.shape\n",
    "    puzzle_acciones= []\n",
    "    for i_ady1,j_ady1, accion in pos_ayacentes:     \n",
    "        i_ady = int(i_ady1)\n",
    "        j_ady = int(j_ady1)\n",
    "        puzzle_hijo = puzzle.copy()\n",
    "        val_vacio = puzzle[i,j]        \n",
    "        if (0<=i_ady and i_ady<fil) and (0<=j_ady and j_ady<col):\n",
    "            val_temp = puzzle[i_ady,j_ady]\n",
    "            puzzle_hijo[i,j] = val_temp\n",
    "            puzzle_hijo[i_ady,j_ady] = val_vacio\n",
    "            puzzle_hijos.append(puzzle_hijo)    \n",
    "            puzzle_acciones.append(accion)        \n",
    "    return puzzle_hijos, puzzle_acciones   "
   ]
  },
  {
   "cell_type": "code",
   "execution_count": 10,
   "metadata": {
    "colab": {
     "base_uri": "https://localhost:8080/",
     "height": 68
    },
    "colab_type": "code",
    "executionInfo": {
     "elapsed": 412,
     "status": "ok",
     "timestamp": 1590363422040,
     "user": {
      "displayName": "Raul Sanchez",
      "photoUrl": "",
      "userId": "04500034241875052309"
     },
     "user_tz": 300
    },
    "id": "9OBztM7IOMuu",
    "outputId": "fad9af52-1790-42c5-ba19-4a8a03ac1409"
   },
   "outputs": [
    {
     "name": "stdout",
     "output_type": "stream",
     "text": [
      "([array([[1, 2],\n",
      "       [3, 0]]), array([[0, 1],\n",
      "       [3, 2]])], ['Abajo', 'Izquierda'])\n"
     ]
    }
   ],
   "source": [
    "puzzle_hijos = crear_puzzle_hijos(i,j,pos_ayacentes,arrayI)\n",
    "print(puzzle_hijos)"
   ]
  },
  {
   "cell_type": "code",
   "execution_count": 11,
   "metadata": {
    "colab": {},
    "colab_type": "code",
    "id": "DQ67wQCoPpE4"
   },
   "outputs": [],
   "source": [
    "puzzle = np.array([[1,0], [3,2]])\n",
    "nodo = Nodo(\"A\",puzzle)\n",
    "nodo.nodoshijos=puzzle_hijos\n",
    "puzzleM = np.array([[1,2], [3,0]])\n",
    "nodoMeta = Nodo(\"G\",puzzleM)"
   ]
  },
  {
   "cell_type": "code",
   "execution_count": 255,
   "metadata": {
    "colab": {},
    "colab_type": "code",
    "id": "FZWUJnLzxBdp"
   },
   "outputs": [],
   "source": [
    "def crear_nodos_hijos(nodo):\n",
    "    (i,j) = buscar_espacio_vacio(nodo.puzzle)\n",
    "    pos_ayacentes = pos_adyacente(i, j)\n",
    "    puzzle_hijos, puzzle_accion = crear_puzzle_hijos(i,j,pos_ayacentes,nodo.puzzle)\n",
    "    nodos_hijos=[]\n",
    "    id_nodo = \"A_\"+str(random.random())\n",
    "    con = 0\n",
    "    for hijo in puzzle_hijos:\n",
    "        id_nodo_hijo = id_nodo+str(con)\n",
    "        nodos_hijos.append(Nodo(id_nodo_hijo,hijo, accion=puzzle_accion[con]))\n",
    "        con = con+1\n",
    "    return nodos_hijos"
   ]
  },
  {
   "cell_type": "code",
   "execution_count": 13,
   "metadata": {
    "colab": {
     "base_uri": "https://localhost:8080/",
     "height": 51
    },
    "colab_type": "code",
    "executionInfo": {
     "elapsed": 435,
     "status": "ok",
     "timestamp": 1590363428233,
     "user": {
      "displayName": "Raul Sanchez",
      "photoUrl": "",
      "userId": "04500034241875052309"
     },
     "user_tz": 300
    },
    "id": "XBz5Pz9sxBdy",
    "outputId": "0b4cfe07-9219-4682-865a-4af9ad404de5"
   },
   "outputs": [
    {
     "name": "stdout",
     "output_type": "stream",
     "text": [
      "True\n",
      "False\n"
     ]
    }
   ],
   "source": [
    "arrayM = np.array([[1,2], [3,0]])\n",
    "arrayN = np.array([[1,2], [3,1]])\n",
    "print((arrayM==arrayM).all())\n",
    "print((arrayM==arrayN).all())"
   ]
  },
  {
   "cell_type": "code",
   "execution_count": 14,
   "metadata": {
    "colab": {},
    "colab_type": "code",
    "id": "pN-cUJnWxBd4"
   },
   "outputs": [],
   "source": [
    "def es_nodo_meta(nodo,nodoMeta):\n",
    "    return (nodo.puzzle==nodoMeta.puzzle).all()"
   ]
  },
  {
   "cell_type": "code",
   "execution_count": 15,
   "metadata": {
    "colab": {
     "base_uri": "https://localhost:8080/",
     "height": 51
    },
    "colab_type": "code",
    "executionInfo": {
     "elapsed": 414,
     "status": "ok",
     "timestamp": 1590363430459,
     "user": {
      "displayName": "Raul Sanchez",
      "photoUrl": "",
      "userId": "04500034241875052309"
     },
     "user_tz": 300
    },
    "id": "4W2VpEsLxBd7",
    "outputId": "82dc79c3-d293-419f-eda0-48d5784e9ead"
   },
   "outputs": [
    {
     "name": "stdout",
     "output_type": "stream",
     "text": [
      "False\n",
      "True\n"
     ]
    }
   ],
   "source": [
    "nodo = Nodo(\"A\",puzzle)\n",
    "nodoMeta = Nodo(\"G\",puzzleM)\n",
    "print(es_nodo_meta(nodo,nodoMeta))\n",
    "print(es_nodo_meta(nodoMeta,nodoMeta))\n"
   ]
  },
  {
   "cell_type": "code",
   "execution_count": 16,
   "metadata": {
    "colab": {
     "base_uri": "https://localhost:8080/",
     "height": 85
    },
    "colab_type": "code",
    "executionInfo": {
     "elapsed": 404,
     "status": "ok",
     "timestamp": 1590363431408,
     "user": {
      "displayName": "Raul Sanchez",
      "photoUrl": "",
      "userId": "04500034241875052309"
     },
     "user_tz": 300
    },
    "id": "1gK3o39yxBd-",
    "outputId": "c7056e1c-dc9c-4c24-a276-1c8ab34a0701"
   },
   "outputs": [
    {
     "name": "stdout",
     "output_type": "stream",
     "text": [
      "A_0 [[1 2]\n",
      " [3 0]]\n",
      "A_1 [[0 1]\n",
      " [3 2]]\n"
     ]
    }
   ],
   "source": [
    "nodos_hijos = crear_nodos_hijos(nodo)\n",
    "for nodohijo in nodos_hijos:\n",
    "    print(nodohijo.nodo,nodohijo.puzzle)"
   ]
  },
  {
   "cell_type": "code",
   "execution_count": 17,
   "metadata": {
    "colab": {},
    "colab_type": "code",
    "id": "3ZSibCGIRxxD"
   },
   "outputs": [],
   "source": [
    "def resolver_puzzle(nodoInicial,nodoMeta):\n",
    "    nodosAbiertos=[]\n",
    "    nodosVisitados=[]    \n",
    "    nodosAbiertos.append(nodoInicial)  \n",
    "    c = 0\n",
    "    while nodosAbiertos:\n",
    "        nodo=nodosAbiertos.pop(0)   \n",
    "        #calculateHeuristic(nodo)                 \n",
    "        if nodo==nodoMeta:\n",
    "            print('META')\n",
    "            print(nodo.accion)\n",
    "            return nodo,True\n",
    "        if not nodo in nodosVisitados: \n",
    "            nodosVisitados.append(nodo)            \n",
    "            print(nodo.puzzle)\n",
    "            print(nodo.accion)\n",
    "            c = c + 1\n",
    "            print(\"Nodo: \", c)\n",
    "            print(\"----------------------\")\n",
    "            nodo.nodoshijos=crear_nodos_hijos(nodo)    \n",
    "            nodo.obtenerlistaordenadaheuristica(nodoMeta)        \n",
    "            for nodohijo in nodo.nodoshijos:\n",
    "                if not nodohijo in nodosVisitados:                                                         \n",
    "                    if not nodohijo.nodoPadre:\n",
    "                        nodohijo.nodoPadre = nodo                         \n",
    "                    nodosAbiertos.insert(0, nodohijo)\n",
    "    return None, False"
   ]
  },
  {
   "cell_type": "code",
   "execution_count": 18,
   "metadata": {
    "colab": {},
    "colab_type": "code",
    "id": "8D11SP3Xyz4r"
   },
   "outputs": [],
   "source": [
    "def calculateHeuristic(nodei, nodom):\n",
    "  ret = np.array(nodei.puzzle) == np.array(nodom.puzzle)\n",
    "  return np.count_nonzero(ret == False)"
   ]
  },
  {
   "cell_type": "code",
   "execution_count": 19,
   "metadata": {
    "colab": {
     "base_uri": "https://localhost:8080/",
     "height": 153
    },
    "colab_type": "code",
    "executionInfo": {
     "elapsed": 372,
     "status": "ok",
     "timestamp": 1590363434888,
     "user": {
      "displayName": "Raul Sanchez",
      "photoUrl": "",
      "userId": "04500034241875052309"
     },
     "user_tz": 300
    },
    "id": "AwN0CuzuRzM0",
    "outputId": "b691e797-a9c7-40fb-e6e1-1439cd260da4"
   },
   "outputs": [
    {
     "name": "stdout",
     "output_type": "stream",
     "text": [
      "[[1 0]\n",
      " [3 2]]\n",
      "None\n",
      "Nodo:  1\n",
      "----------------------\n",
      "META\n",
      "Abajo\n",
      "[[1 2]\n",
      " [3 0]]\n"
     ]
    }
   ],
   "source": [
    "puzzle = np.array([[1,0], [3,2]])\n",
    "nodo = Nodo(\"A\",puzzle)\n",
    "puzzleM = np.array([[1,2], [3,0]])\n",
    "nodoMeta = Nodo(\"G\",puzzleM)\n",
    "nodoMeta,estado = resolver_puzzle(nodo,nodoMeta)\n",
    "print(nodoMeta.puzzle)"
   ]
  },
  {
   "cell_type": "code",
   "execution_count": 20,
   "metadata": {
    "colab": {
     "base_uri": "https://localhost:8080/",
     "height": 748
    },
    "colab_type": "code",
    "executionInfo": {
     "elapsed": 371,
     "status": "ok",
     "timestamp": 1590363436742,
     "user": {
      "displayName": "Raul Sanchez",
      "photoUrl": "",
      "userId": "04500034241875052309"
     },
     "user_tz": 300
    },
    "id": "SFJFoZVVxBeL",
    "outputId": "6532339b-3599-4f88-f318-a7ce05f0a7b3"
   },
   "outputs": [
    {
     "name": "stdout",
     "output_type": "stream",
     "text": [
      "[[2 3]\n",
      " [1 0]]\n",
      "None\n",
      "Nodo:  1\n",
      "----------------------\n",
      "[[2 3]\n",
      " [0 1]]\n",
      "Izquierda\n",
      "Nodo:  2\n",
      "----------------------\n",
      "[[0 3]\n",
      " [2 1]]\n",
      "Arriba\n",
      "Nodo:  3\n",
      "----------------------\n",
      "[[3 0]\n",
      " [2 1]]\n",
      "Derecha\n",
      "Nodo:  4\n",
      "----------------------\n",
      "[[3 1]\n",
      " [2 0]]\n",
      "Abajo\n",
      "Nodo:  5\n",
      "----------------------\n",
      "[[3 1]\n",
      " [0 2]]\n",
      "Izquierda\n",
      "Nodo:  6\n",
      "----------------------\n",
      "[[0 1]\n",
      " [3 2]]\n",
      "Arriba\n",
      "Nodo:  7\n",
      "----------------------\n",
      "[[1 0]\n",
      " [3 2]]\n",
      "Derecha\n",
      "Nodo:  8\n",
      "----------------------\n",
      "META\n",
      "Abajo\n",
      "[[1 2]\n",
      " [3 0]]\n"
     ]
    }
   ],
   "source": [
    "puzzle = np.array([[2,3], [1,0]])\n",
    "nodo = Nodo(\"A\",puzzle)\n",
    "puzzleM = np.array([[1,2], [3,0]])\n",
    "nodoMeta = Nodo(\"G\",puzzleM)\n",
    "nodoMeta,estado = resolver_puzzle(nodo,nodoMeta)\n",
    "print(nodoMeta.puzzle)"
   ]
  },
  {
   "cell_type": "code",
   "execution_count": 30,
   "metadata": {
    "colab": {
     "base_uri": "https://localhost:8080/",
     "height": 612
    },
    "colab_type": "code",
    "executionInfo": {
     "elapsed": 406,
     "status": "ok",
     "timestamp": 1590363526167,
     "user": {
      "displayName": "Raul Sanchez",
      "photoUrl": "",
      "userId": "04500034241875052309"
     },
     "user_tz": 300
    },
    "id": "fI3YM96KxBeN",
    "outputId": "55c4b85d-c64b-4703-8c09-505f3ba6e8f6"
   },
   "outputs": [
    {
     "name": "stdout",
     "output_type": "stream",
     "text": [
      "[[2 8 3]\n",
      " [1 6 4]\n",
      " [7 0 5]]\n",
      "None\n",
      "Nodo:  1\n",
      "----------------------\n",
      "[[2 8 3]\n",
      " [1 0 4]\n",
      " [7 6 5]]\n",
      "Arriba\n",
      "Nodo:  2\n",
      "----------------------\n",
      "[[2 0 3]\n",
      " [1 8 4]\n",
      " [7 6 5]]\n",
      "Arriba\n",
      "Nodo:  3\n",
      "----------------------\n",
      "[[0 2 3]\n",
      " [1 8 4]\n",
      " [7 6 5]]\n",
      "Izquierda\n",
      "Nodo:  4\n",
      "----------------------\n",
      "[[1 2 3]\n",
      " [0 8 4]\n",
      " [7 6 5]]\n",
      "Abajo\n",
      "Nodo:  5\n",
      "----------------------\n",
      "META\n",
      "Derecha\n",
      "[[1 2 3]\n",
      " [8 0 4]\n",
      " [7 6 5]]\n"
     ]
    }
   ],
   "source": [
    "puzzle = np.array([[2,8,3], [1,6,4],[7,0,5]])\n",
    "nodo = Nodo(\"A\",puzzle)\n",
    "puzzleM = np.array([[1,2,3], [8,0,4],[7,6,5]])\n",
    "nodoMeta = Nodo(\"G\",puzzleM)\n",
    "nodoResultado,estado = resolver_puzzle(nodo,nodoMeta)\n",
    "print(nodoResultado.puzzle)"
   ]
  },
  {
   "cell_type": "code",
   "execution_count": 119,
   "metadata": {
    "colab": {},
    "colab_type": "code",
    "id": "jQZ25WWe6hGs"
   },
   "outputs": [],
   "source": [
    "def crear_ruta_nodos(nodo):\n",
    "    nodoTemp =nodo\n",
    "    listaNodos=[]\n",
    "    while(nodoTemp):\n",
    "        listaNodos.insert(0,nodoTemp)\n",
    "        nodoTemp = nodoTemp.nodoPadre\n",
    "    return listaNodos       \n",
    "def crear_diccionario_padre(nodo,figura):\n",
    "    if not nodo.nodoPadre:\n",
    "        return -1\n",
    "    else:\n",
    "        figura[str(nodo.nodoPadre.puzzle)]=[str(nodo.puzzle)]\n",
    "        print(nodo.puzzle)\n",
    "        crear_diccionario_padre(nodo.nodoPadre,figura)"
   ]
  },
  {
   "cell_type": "code",
   "execution_count": 120,
   "metadata": {},
   "outputs": [
    {
     "data": {
      "text/plain": [
       "array([[1, 2, 3],\n",
       "       [8, 0, 4],\n",
       "       [7, 6, 5]])"
      ]
     },
     "metadata": {},
     "output_type": "display_data"
    },
    {
     "data": {
      "text/plain": [
       "array([[1, 2, 3],\n",
       "       [8, 0, 4],\n",
       "       [7, 6, 5]])"
      ]
     },
     "metadata": {},
     "output_type": "display_data"
    },
    {
     "data": {
      "text/plain": [
       "array([[2, 8, 3],\n",
       "       [1, 6, 4],\n",
       "       [7, 0, 5]])"
      ]
     },
     "metadata": {},
     "output_type": "display_data"
    },
    {
     "data": {
      "text/plain": [
       "array([[1, 2, 3],\n",
       "       [8, 0, 4],\n",
       "       [7, 6, 5]])"
      ]
     },
     "metadata": {},
     "output_type": "display_data"
    }
   ],
   "source": [
    "display(nodoResultado.puzzle)\n",
    "rutaNodos = crear_ruta_nodos(nodoResultado)\n",
    "display(nodoResultado.puzzle)\n",
    "display(rutaNodos[0].puzzle)\n",
    "display(rutaNodos[-1].puzzle)"
   ]
  },
  {
   "cell_type": "code",
   "execution_count": 128,
   "metadata": {},
   "outputs": [
    {
     "data": {
      "image/png": "[encoded data removed]",
      "text/plain": [
       "<Figure size 432x288 with 1 Axes>"
      ]
     },
     "metadata": {},
     "output_type": "display_data"
    }
   ],
   "source": [
    "graficar_ruta_nodos(rutaNodos)"
   ]
  },
  {
   "cell_type": "code",
   "execution_count": 253,
   "metadata": {},
   "outputs": [],
   "source": [
    "import networkx as nx\n",
    "import numpy as np\n",
    "import matplotlib.pyplot as plt\n",
    "import pylab\n",
    "def graficar_ruta_nodos(lista_nodos):\n",
    "    grap = nx.DiGraph()        \n",
    "    for i in range(len(lista_nodos)-1):\n",
    "        j = i+1\n",
    "        nodoA = lista_nodos[i]           \n",
    "        nodoB = lista_nodos[j]        \n",
    "        grap.add_edges_from([(str(nodoA.puzzle), str(nodoB.puzzle))],weight=j)        \n",
    "        print(\"Acción: Paso {0} - mover {1} ficha vacia\".format(j,nodoB.accion))\n",
    "    edge_labels=dict([((u,v,),d['weight'])\n",
    "                     for u,v,d in grap.edges(data=True)])\n",
    "    pos_labels=nx.circular_layout(grap)\n",
    "    plt.figure(figsize=(10,8)) \n",
    "    grap.size(weight='weight')\n",
    "    nx.draw_networkx_edge_labels(grap,pos_labels,edge_labels=edge_labels)\n",
    "    nx.draw(grap,pos_labels, node_size=4000,with_labels=True, font_weight='bold')        \n",
    "    plt.show()"
   ]
  },
  {
   "cell_type": "code",
   "execution_count": 254,
   "metadata": {},
   "outputs": [
    {
     "name": "stdout",
     "output_type": "stream",
     "text": [
      "Acción: Paso 1 - mover Arriba ficha vacia\n",
      "Acción: Paso 2 - mover Arriba ficha vacia\n",
      "Acción: Paso 3 - mover Izquierda ficha vacia\n",
      "Acción: Paso 4 - mover Abajo ficha vacia\n",
      "Acción: Paso 5 - mover Derecha ficha vacia\n"
     ]
    },
    {
     "data": {
      "image/png": "[encoded data removed]",
      "text/plain": [
       "<Figure size 720x576 with 1 Axes>"
      ]
     },
     "metadata": {},
     "output_type": "display_data"
    }
   ],
   "source": [
    "graficar_ruta_nodos(rutaNodos)"
   ]
  }
 ],
 "metadata": {
  "colab": {
   "collapsed_sections": [],
   "name": "Deber (3).ipynb",
   "provenance": []
  },
  "kernelspec": {
   "display_name": "Python 3",
   "language": "python",
   "name": "python3"
  },
  "language_info": {
   "codemirror_mode": {
    "name": "ipython",
    "version": 3
   },
   "file_extension": ".py",
   "mimetype": "text/x-python",
   "name": "python",
   "nbconvert_exporter": "python",
   "pygments_lexer": "ipython3",
   "version": "3.7.6"
  }
 },
 "nbformat": 4,
 "nbformat_minor": 1
}
