{
 "cells": [
  {
   "cell_type": "code",
   "execution_count": 15,
   "metadata": {
    "collapsed": true
   },
   "outputs": [],
   "source": [
    "# Cargar las librerías necesarias\n",
    "import numpy as np\n",
    "import matplotlib.pyplot as plt\n",
    "\n",
    "from skimage.color import rgb2gray, label2rgb\n",
    "from skimage import data\n",
    "from skimage.filters import gaussian\n",
    "from skimage.segmentation import (active_contour, felzenszwalb, quickshift, \n",
    "                                 mark_boundaries, slic, clear_border)\n",
    "\n",
    "from skimage.future.graph import rag_mean_color, cut_normalized\n",
    "import io\n",
    "\n",
    "from itertools import product"
   ]
  },
  {
   "cell_type": "code",
   "execution_count": 2,
   "metadata": {
    "collapsed": true
   },
   "outputs": [],
   "source": [
    "# Defino una función para mostrar una imagen por pantalla con el criterio que considero más acertado\n",
    "def imshow(img):\n",
    "    fig, ax = plt.subplots(figsize=(7, 7))\n",
    "    # El comando que realmente muestra la imagen\n",
    "    ax.imshow(img,cmap=plt.cm.gray)\n",
    "    # Para evitar que aparezcan los números en los ejes\n",
    "    ax.set_xticks([]), ax.set_yticks([])\n",
    "    plt.show()"
   ]
  },
  {
   "cell_type": "code",
   "execution_count": null,
   "metadata": {
    "collapsed": true
   },
   "outputs": [],
   "source": [
    "# Función para comparar cómo de buena es una determinada segmentación en comparación con el ground truth\n",
    "# Ambas imagenes deben contener valores True/False\n",
    "def factor_f_evaluation(binary_image, ground_truth):\n",
    "    TP = np.sum(np.logical_and(binary_image, ground_truth))\n",
    "    TN = np.sum(np.logical_and(np.logical_not(binary_image), np.logical_not(ground_truth)))\n",
    "    FP = np.sum(np.logical_and(np.logical_not(binary_image), ground_truth))\n",
    "    FN = np.sum(np.logical_and(binary_image, np.logical_not(ground_truth)))\n",
    "    P = TP/np.float(TP+FP)\n",
    "    R = TP/np.float(TP+FN)\n",
    "    if P+R == 0:\n",
    "        F = 0\n",
    "    else:\n",
    "        F = 2*P*R/(P+R)\n",
    "    return F"
   ]
  },
  {
   "cell_type": "code",
   "execution_count": 182,
   "metadata": {
    "collapsed": true
   },
   "outputs": [],
   "source": [
    "# https://lmb.informatik.uni-freiburg.de/resources/datasets/moseg.en.html\n",
    "patos = data.imread('img/ducks01_0100.jpg')\n",
    "gt_patos = rgb2gray(data.imread('img/ducks01_0100_gt.ppm'))<1"
   ]
  },
  {
   "cell_type": "markdown",
   "metadata": {},
   "source": [
    "# Escribir aquí el código"
   ]
  },
  {
   "cell_type": "code",
   "execution_count": null,
   "metadata": {
    "collapsed": true
   },
   "outputs": [],
   "source": []
  },
  {
   "cell_type": "code",
   "execution_count": null,
   "metadata": {
    "collapsed": true
   },
   "outputs": [],
   "source": []
  },
  {
   "cell_type": "code",
   "execution_count": null,
   "metadata": {
    "collapsed": true
   },
   "outputs": [],
   "source": []
  },
  {
   "cell_type": "markdown",
   "metadata": {},
   "source": [
    "# Resultado esperado"
   ]
  },
  {
   "cell_type": "code",
   "execution_count": 490,
   "metadata": {},
   "outputs": [
    {
     "data": {
      "image/png": "[encoded data removed]",
      "text/plain": [
       "<Figure size 504x504 with 1 Axes>"
      ]
     },
     "metadata": {},
     "output_type": "display_data"
    }
   ],
   "source": [
    "Resultado de la segmentacion"
   ]
  },
  {
   "cell_type": "code",
   "execution_count": 474,
   "metadata": {},
   "outputs": [
    {
     "data": {
      "image/png": "[encoded data removed]",
      "text/plain": [
       "<Figure size 504x504 with 1 Axes>"
      ]
     },
     "metadata": {},
     "output_type": "display_data"
    }
   ],
   "source": [
    "Resultado final"
   ]
  }
 ],
 "metadata": {
  "kernelspec": {
   "display_name": "Python 2",
   "language": "python",
   "name": "python2"
  },
  "language_info": {
   "codemirror_mode": {
    "name": "ipython",
    "version": 2
   },
   "file_extension": ".py",
   "mimetype": "text/x-python",
   "name": "python",
   "nbconvert_exporter": "python",
   "pygments_lexer": "ipython2",
   "version": "2.7.15"
  }
 },
 "nbformat": 4,
 "nbformat_minor": 2
}
